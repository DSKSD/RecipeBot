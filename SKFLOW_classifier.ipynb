{
 "cells": [
  {
   "cell_type": "code",
   "execution_count": 2,
   "metadata": {
    "collapsed": false
   },
   "outputs": [
    {
     "name": "stderr",
     "output_type": "stream",
     "text": [
      "/usr/local/lib/python2.7/dist-packages/sklearn/cross_validation.py:44: DeprecationWarning: This module was deprecated in version 0.18 in favor of the model_selection module into which all the refactored classes and functions are moved. Also note that the interface of the new CV iterators are different from that of this module. This module will be removed in 0.20.\n",
      "  \"This module will be removed in 0.20.\", DeprecationWarning)\n"
     ]
    }
   ],
   "source": [
    "import random\n",
    "import pandas\n",
    "import numpy as np\n",
    "from sklearn import metrics, cross_validation\n",
    "\n",
    "import tensorflow as tf\n",
    "from tensorflow.contrib import layers\n",
    "from tensorflow.contrib import learn"
   ]
  },
  {
   "cell_type": "code",
   "execution_count": 4,
   "metadata": {
    "collapsed": false
   },
   "outputs": [],
   "source": [
    "random.seed(42)\n",
    "\n",
    "data = pandas.read_csv('data/titanic_train.csv')\n",
    "X = data[[\"Embarked\"]]\n",
    "y = data[\"Survived\"]\n",
    "X_train, X_test, y_train, y_test = cross_validation.train_test_split(X, y, test_size=0.2, random_state=42)"
   ]
  },
  {
   "cell_type": "code",
   "execution_count": 5,
   "metadata": {
    "collapsed": false
   },
   "outputs": [
    {
     "name": "stdout",
     "output_type": "stream",
     "text": [
      "Embarked has next classes:  ['S' 'C' 'Q' nan]\n"
     ]
    }
   ],
   "source": [
    "embarked_classes = X_train[\"Embarked\"].unique()\n",
    "n_classes = len(embarked_classes)\n",
    "print 'Embarked has next classes: ', embarked_classes"
   ]
  },
  {
   "cell_type": "code",
   "execution_count": 6,
   "metadata": {
    "collapsed": true
   },
   "outputs": [],
   "source": [
    "cat_processor = learn.preprocessing.CategoricalProcessor()\n",
    "X_train = np.array(list(cat_processor.fit_transform(X_train)))\n",
    "X_test = np.array(list(cat_processor.transform(X_test)))"
   ]
  },
  {
   "cell_type": "code",
   "execution_count": 7,
   "metadata": {
    "collapsed": false
   },
   "outputs": [
    {
     "name": "stderr",
     "output_type": "stream",
     "text": [
      "WARNING:tensorflow:Using temporary folder as model directory: /tmp/tmp0Aoz70\n",
      "WARNING:tensorflow:Using temporary folder as model directory: /tmp/tmp0Aoz70\n",
      "WARNING:tensorflow:Using default config.\n",
      "WARNING:tensorflow:Using default config.\n",
      "WARNING:tensorflow:Setting feature info to TensorSignature(dtype=tf.int64, shape=TensorShape([Dimension(None), Dimension(1)]), is_sparse=False)\n",
      "WARNING:tensorflow:Setting feature info to TensorSignature(dtype=tf.int64, shape=TensorShape([Dimension(None), Dimension(1)]), is_sparse=False)\n",
      "WARNING:tensorflow:Setting targets info to TensorSignature(dtype=tf.int64, shape=TensorShape([Dimension(None)]), is_sparse=False)\n",
      "WARNING:tensorflow:Setting targets info to TensorSignature(dtype=tf.int64, shape=TensorShape([Dimension(None)]), is_sparse=False)\n"
     ]
    },
    {
     "name": "stdout",
     "output_type": "stream",
     "text": [
      "Accuracy: 0.625698324022\n",
      "ROC: 0.610550615595\n"
     ]
    }
   ],
   "source": [
    "### Embeddings\n",
    "\n",
    "EMBEDDING_SIZE = 3\n",
    "\n",
    "def categorical_model(features, target):\n",
    "    target = tf.one_hot(target, 2, 1.0, 0.0)\n",
    "    features = learn.ops.categorical_variable(\n",
    "        features, n_classes, embedding_size=EMBEDDING_SIZE, name='embarked')\n",
    "    prediction, loss = learn.models.logistic_regression(tf.squeeze(features, [1]), target)\n",
    "    train_op = layers.optimize_loss(loss,\n",
    "        tf.contrib.framework.get_global_step(), optimizer='SGD', learning_rate=0.05)\n",
    "    return tf.argmax(prediction, dimension=1), loss, train_op\n",
    "\n",
    "classifier = learn.Estimator(model_fn=categorical_model)\n",
    "classifier.fit(X_train, y_train, steps=1000)\n",
    "\n",
    "print \"Accuracy: {0}\".format(metrics.accuracy_score(classifier.predict(X_test), y_test))\n",
    "print \"ROC: {0}\".format(metrics.roc_auc_score(classifier.predict(X_test), y_test))"
   ]
  },
  {
   "cell_type": "code",
   "execution_count": 8,
   "metadata": {
    "collapsed": false
   },
   "outputs": [
    {
     "name": "stderr",
     "output_type": "stream",
     "text": [
      "WARNING:tensorflow:Using temporary folder as model directory: /tmp/tmp5uEvEx\n",
      "WARNING:tensorflow:Using temporary folder as model directory: /tmp/tmp5uEvEx\n",
      "WARNING:tensorflow:Using default config.\n",
      "WARNING:tensorflow:Using default config.\n",
      "WARNING:tensorflow:Setting feature info to TensorSignature(dtype=tf.int64, shape=TensorShape([Dimension(None), Dimension(1)]), is_sparse=False)\n",
      "WARNING:tensorflow:Setting feature info to TensorSignature(dtype=tf.int64, shape=TensorShape([Dimension(None), Dimension(1)]), is_sparse=False)\n",
      "WARNING:tensorflow:Setting targets info to TensorSignature(dtype=tf.int64, shape=TensorShape([Dimension(None)]), is_sparse=False)\n",
      "WARNING:tensorflow:Setting targets info to TensorSignature(dtype=tf.int64, shape=TensorShape([Dimension(None)]), is_sparse=False)\n"
     ]
    },
    {
     "name": "stdout",
     "output_type": "stream",
     "text": [
      "Accuracy: 0.625698324022\n",
      "ROC: 0.610550615595\n"
     ]
    }
   ],
   "source": [
    "### One Hot\n",
    "\n",
    "def one_hot_categorical_model(features, target):\n",
    "    target = tf.one_hot(target, 2, 1.0, 0.0)\n",
    "    features = tf.one_hot(features, n_classes, 1.0, 0.0)\n",
    "    prediction, loss = learn.models.logistic_regression(\n",
    "      tf.squeeze(features, [1]), target)\n",
    "    train_op = layers.optimize_loss(loss,\n",
    "        tf.contrib.framework.get_global_step(), optimizer='SGD',\n",
    "        learning_rate=0.01)\n",
    "    return tf.argmax(prediction, dimension=1), loss, train_op\n",
    "\n",
    "classifier = learn.Estimator(model_fn=one_hot_categorical_model)\n",
    "classifier.fit(X_train, y_train, steps=1000)\n",
    "\n",
    "print \"Accuracy: {0}\".format(metrics.accuracy_score(classifier.predict(X_test), y_test))\n",
    "print \"ROC: {0}\".format(metrics.roc_auc_score(classifier.predict(X_test), y_test))"
   ]
  },
  {
   "cell_type": "code",
   "execution_count": null,
   "metadata": {
    "collapsed": true
   },
   "outputs": [],
   "source": []
  }
 ],
 "metadata": {
  "kernelspec": {
   "display_name": "Python 2",
   "language": "python",
   "name": "python2"
  },
  "language_info": {
   "codemirror_mode": {
    "name": "ipython",
    "version": 2
   },
   "file_extension": ".py",
   "mimetype": "text/x-python",
   "name": "python",
   "nbconvert_exporter": "python",
   "pygments_lexer": "ipython2",
   "version": "2.7.6"
  }
 },
 "nbformat": 4,
 "nbformat_minor": 0
}
