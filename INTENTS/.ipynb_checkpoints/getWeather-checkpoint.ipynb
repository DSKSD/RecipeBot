{
 "cells": [
  {
   "cell_type": "markdown",
   "metadata": {},
   "source": [
    "# 날씨 알려주는 함수"
   ]
  },
  {
   "cell_type": "markdown",
   "metadata": {},
   "source": [
    "필요한 Entities\n",
    "\n",
    "* 대화 상대 @User(이건 모든 intent의 기본?)\n",
    "\n",
    "* time(default=today)\n",
    "\n",
    "* location(default = user의 위치)"
   ]
  },
  {
   "cell_type": "code",
   "execution_count": 1,
   "metadata": {
    "collapsed": false
   },
   "outputs": [],
   "source": [
    "from __future__ import unicode_literals\n",
    "import os\n",
    "import pickle\n",
    "import time\n",
    "import datetime\n",
    "from entities import disintegrate, ent_date"
   ]
  },
  {
   "cell_type": "code",
   "execution_count": 2,
   "metadata": {
    "collapsed": true
   },
   "outputs": [],
   "source": [
    "from konlpy.utils import pprint"
   ]
  },
  {
   "cell_type": "code",
   "execution_count": 3,
   "metadata": {
    "collapsed": true
   },
   "outputs": [],
   "source": [
    "import random\n",
    "import sys"
   ]
  },
  {
   "cell_type": "code",
   "execution_count": 4,
   "metadata": {
    "collapsed": false
   },
   "outputs": [],
   "source": [
    "def prompt(entType):\n",
    "    \"\"\"필요한 entities를 물어보기 위한 프롬프트 질문\"\"\"\n",
    "    if entType == 'LOCATION':\n",
    "        templates = ['어디요?', '위치를 말씀해주세요!', '위치는요?']\n",
    "        promptMessage = random.choice(templates)\n",
    "        pprint(promptMessage)\n",
    "        # 이 result를 보내고 답이 올 때까지 대기한다?\n",
    "        # 그렇다면 이 대답을 기다릴 때는 IntentClassifier 안거치고 일로 바로 오도록 해야하네?\n",
    "        result = raw_input().decode('utf-8')   # 임시\n",
    "        \n",
    "    else: # 엔티티 객체가 아니라면 대답인걸로 간주! (stack 메모리 뒤져서 일로 답을 보낸다)\n",
    "        result = entType\n",
    "        \n",
    "    \n",
    "    return result"
   ]
  },
  {
   "cell_type": "code",
   "execution_count": 5,
   "metadata": {
    "collapsed": false
   },
   "outputs": [],
   "source": [
    "def getWeather(entities,location='',_date=datetime.datetime.now()+ datetime.timedelta(hours=9)):\n",
    "    \"\"\"필요 ENTITIES : Location, DATE\"\"\"\n",
    "    if 'DATE' in entities.keys():\n",
    "        temp_date = entities['DATE']\n",
    "    \n",
    "    if 'LOCATION' in entities.keys():\n",
    "        location = entities['LOCATION']\n",
    "    else:\n",
    "        location = prompt('LOCATION') # 쓰레드의 조인 기능? 그런거 이용해야 하나... 어떻게 하지\n",
    "    \n",
    "        try: \n",
    "            int(temp_date)\n",
    "            if temp_date > 0: _date+=datetime.timedelta(days=temp_date)\n",
    "            else: _date-=datetime.timedelta(days=abs(temp_date))\n",
    "        except:\n",
    "            \"아직 구현 안됌.. 특정 기간동안의 날씨\"\n",
    "        \n",
    "    templates=[\"%s의 %s 날씨는 맑아요!\", \"%s의 %s 날씨는 비가 오네요..\"] # 이것도 구현 필요(날씨 api)\n",
    "        \n",
    "    result = random.choice(templates)\n",
    "        \n",
    "    return result % (location, _date.strftime('%Y-%m-%d'))"
   ]
  },
  {
   "cell_type": "code",
   "execution_count": 6,
   "metadata": {
    "collapsed": false
   },
   "outputs": [
    {
     "name": "stdout",
     "output_type": "stream",
     "text": [
      "위치를 말씀해주세요!\n",
      "suji\n",
      "suji의 2016-10-19 날씨는 비가 오네요..\n"
     ]
    }
   ],
   "source": [
    "sentence, ent = disintegrate('내일 날씨 좀 알려줘',['DATE']) # DAY 단위로만,,,,\n",
    "pprint(getWeather(ent))"
   ]
  },
  {
   "cell_type": "code",
   "execution_count": null,
   "metadata": {
    "collapsed": true
   },
   "outputs": [],
   "source": []
  }
 ],
 "metadata": {
  "kernelspec": {
   "display_name": "Python 2",
   "language": "python",
   "name": "python2"
  },
  "language_info": {
   "codemirror_mode": {
    "name": "ipython",
    "version": 2
   },
   "file_extension": ".py",
   "mimetype": "text/x-python",
   "name": "python",
   "nbconvert_exporter": "python",
   "pygments_lexer": "ipython2",
   "version": "2.7.6"
  }
 },
 "nbformat": 4,
 "nbformat_minor": 0
}
