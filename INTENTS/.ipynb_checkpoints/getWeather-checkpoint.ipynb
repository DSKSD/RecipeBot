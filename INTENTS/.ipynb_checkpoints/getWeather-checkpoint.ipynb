{
 "cells": [
  {
   "cell_type": "markdown",
   "metadata": {},
   "source": [
    "# 날씨 알려주는 함수"
   ]
  },
  {
   "cell_type": "markdown",
   "metadata": {},
   "source": [
    "필요한 Entities\n",
    "\n",
    "* 대화 상대 @User(이건 모든 intent의 기본?)\n",
    "\n",
    "* time(default=today)\n",
    "\n",
    "* location(default = user의 위치)"
   ]
  },
  {
   "cell_type": "markdown",
   "metadata": {},
   "source": [
    "날씨 api 상 오늘, 내일, 내일모레 3일 날씨만 가능"
   ]
  },
  {
   "cell_type": "code",
   "execution_count": 1,
   "metadata": {
    "collapsed": false
   },
   "outputs": [],
   "source": [
    "from __future__ import unicode_literals\n",
    "import os\n",
    "import pickle\n",
    "import time\n",
    "import datetime\n",
    "from entities import disintegrate, ent_date"
   ]
  },
  {
   "cell_type": "code",
   "execution_count": 2,
   "metadata": {
    "collapsed": true
   },
   "outputs": [],
   "source": [
    "from konlpy.utils import pprint"
   ]
  },
  {
   "cell_type": "code",
   "execution_count": 3,
   "metadata": {
    "collapsed": true
   },
   "outputs": [],
   "source": [
    "import random\n",
    "import sys"
   ]
  },
  {
   "cell_type": "code",
   "execution_count": 4,
   "metadata": {
    "collapsed": true
   },
   "outputs": [],
   "source": [
    "import math"
   ]
  },
  {
   "cell_type": "code",
   "execution_count": 5,
   "metadata": {
    "collapsed": true
   },
   "outputs": [],
   "source": [
    "from xml.dom import minidom\n",
    "import urllib\n",
    "import json\n",
    "import urllib2"
   ]
  },
  {
   "cell_type": "code",
   "execution_count": 6,
   "metadata": {
    "collapsed": false
   },
   "outputs": [],
   "source": [
    "def prompt(entType):\n",
    "    \"\"\"필요한 entities를 물어보기 위한 프롬프트 질문\"\"\"\n",
    "    if entType == 'LOCATION':\n",
    "        templates = ['어디요?', '위치를 말씀해주세요!', '위치는요?']\n",
    "        promptMessage = random.choice(templates)\n",
    "        pprint(promptMessage)\n",
    "        # 이 result를 보내고 답이 올 때까지 대기한다?\n",
    "        # 그렇다면 이 대답을 기다릴 때는 IntentClassifier 안거치고 일로 바로 오도록 해야하네?\n",
    "        result = raw_input().decode('utf-8')   # 임시\n",
    "        \n",
    "    else: # 엔티티 객체가 아니라면 대답인걸로 간주! (stack 메모리 뒤져서 일로 답을 보낸다)\n",
    "        result = entType\n",
    "        \n",
    "    \n",
    "    return result"
   ]
  },
  {
   "cell_type": "code",
   "execution_count": 7,
   "metadata": {
    "collapsed": true
   },
   "outputs": [],
   "source": [
    "def gridxy(location):\n",
    "    location = urllib.pathname2url(location.encode('utf8'))\n",
    "\n",
    "    url =  \"http://maps.googleapis.com/maps/api/geocode/json?sensor=false&language=ko&address=\" + location\n",
    "\n",
    "    data = urllib2.urlopen(url)\n",
    "    jsonx = json.loads(data.read())\n",
    "    \n",
    "    try:\n",
    "        latitude = jsonx[\"results\"][0][\"geometry\"][\"location\"][\"lat\"]\n",
    "        longitude = jsonx[\"results\"][0][\"geometry\"][\"location\"][\"lng\"]\n",
    "    except:\n",
    "        latitude = 'ERROR'\n",
    "        longitude = 'ERROR'\n",
    "    \n",
    "    return latitude, longitude"
   ]
  },
  {
   "cell_type": "code",
   "execution_count": 11,
   "metadata": {
    "collapsed": false
   },
   "outputs": [],
   "source": [
    "RE = 6371.00877 # 지구 반경(km)\n",
    "GRID = 5.0 # 격자 간격(km)\n",
    "SLAT1 = 30.0 # 투영 위도1(degree)\n",
    "SLAT2 = 60.0 # 투영 위도2(degree)\n",
    "OLON = 126.0 # 기준점 경도(degree)\n",
    "OLAT = 38.0 # 기준점 위도(degree)\n",
    "XO = 43 # 기준점 X좌표(GRID)\n",
    "YO = 136 # 기준점 Y좌표(GRID)\n",
    "DEGRAD = math.pi / 180.0\n",
    "RADDEG = 180.0 / math.pi\n",
    "re = RE / GRID\n",
    "slat1 = SLAT1 * DEGRAD\n",
    "slat2 = SLAT2 * DEGRAD\n",
    "olon = OLON * DEGRAD\n",
    "olat = OLAT * DEGRAD\n",
    "sn = math.tan(math.pi * 0.25 + slat2 * 0.5) / math.tan(math.pi * 0.25 + slat1 * 0.5)\n",
    "sn = math.log(math.cos(slat1) / math.cos(slat2)) / math.log(sn)\n",
    "sf = math.tan(math.pi * 0.25 + slat1 * 0.5)\n",
    "sf = math.pow(sf, sn) * math.cos(slat1) / sn\n",
    "ro = math.tan(math.pi * 0.25 + olat * 0.5)\n",
    "ro = re * sf / math.pow(ro, sn)\n",
    "rs = {}\n",
    "\n",
    "def dfs_xy2ll(x, y):\n",
    "    rs['x'] = x\n",
    "    rs['y'] = y\n",
    "    xn = x - XO\n",
    "    yn = ro - y + YO\n",
    "    ra = math.sqrt(xn * xn + yn * yn)\n",
    "    if (sn < 0.0): ra = -ra\n",
    "    alat = math.pow((re * sf / ra), (1.0 / sn))\n",
    "    alat = 2.0 * math.atan(alat) - math.pi * 0.5\n",
    "     \n",
    "    if (math.abs(xn) <= 0.0):\n",
    "        theta = 0.0;\n",
    "    else:\n",
    "        if (math.abs(yn) <= 0.0):\n",
    "            theta = math.pi * 0.5\n",
    "            if (xn < 0.0): theta =  -theta\n",
    "        else:\n",
    "            theta = math.atan2(xn, yn)\n",
    "\n",
    "    alon = theta / sn + olon\n",
    "    rs['lat'] = alat * RADDEG\n",
    "    rs['lng'] = alon * RADDEG\n",
    "    return rs\n",
    "\n",
    "def dfs_ll2xy(lat, lon):\n",
    "    rs['lat'] = lat\n",
    "    rs['lng'] = lon\n",
    "    ra = math.tan(math.pi * 0.25 + lat * DEGRAD * 0.5)\n",
    "    ra = re * sf / math.pow(ra, sn)\n",
    "    theta = lon * DEGRAD - olon\n",
    "    if (theta > math.pi): theta -= 2.0 * math.pi\n",
    "    if (theta < -math.pi): theta += 2.0 * math.pi\n",
    "    theta *= sn\n",
    "    rs['x'] = int(math.floor(ra * math.sin(theta) + XO + 0.5))\n",
    "    rs['y'] = int(math.floor(ro - ra * math.cos(theta) + YO + 0.5))\n",
    "    return rs\n",
    "\n",
    "def parseWeather(lat, lon):\n",
    "    base_url = \"http://www.kma.go.kr/wid/queryDFS.jsp\"\n",
    "    rsd = dfs_ll2xy(lat, lon)\n",
    "    url = base_url + '?gridx=' + str(rsd['x']) + '&gridy=' + str(rsd['y'])\n",
    "    u = urllib2.urlopen(url)\n",
    "    wdata = []\n",
    "    try:\n",
    "        data = u.read()\n",
    "        dom = minidom.parseString(data)\n",
    "        items = dom.getElementsByTagName(\"data\")\n",
    "        for item in items:\n",
    "            hour = item.getElementsByTagName(\"hour\")[0]   # 시간 3시간 단위\n",
    "            day = item.getElementsByTagName(\"day\")[0]     # 번째날\n",
    "            temp = item.getElementsByTagName(\"temp\")[0]   # 온도\n",
    "            sky = item.getElementsByTagName(\"sky\")[0]     # 하늘상태코드\n",
    "            pty = item.getElementsByTagName(\"pty\")[0]     # 강수상태코드\n",
    "            wfKor = item.getElementsByTagName(\"wfKor\")[0] # 날씨\n",
    "            pop = item.getElementsByTagName(\"pop\")[0]     # 강수확률%\n",
    "\n",
    "            wdata.append([ hour.firstChild.data.strip(), \\\n",
    "                day.firstChild.data.strip(), \\\n",
    "                temp.firstChild.data.strip(), \\\n",
    "                sky.firstChild.data.strip(), \\\n",
    "                pty.firstChild.data.strip(), \\\n",
    "                wfKor.firstChild.data.strip(), \\\n",
    "                pop.firstChild.data.strip() ])\n",
    "    except urllib2.HTTPError, e:\n",
    "        print \"HTTP error: %d\" % e.code\n",
    "    except urllib2.URLError, e:\n",
    "        print \"Network error: %s\" % e.reason.args[1]\n",
    "\n",
    "    return wdata"
   ]
  },
  {
   "cell_type": "code",
   "execution_count": 12,
   "metadata": {
    "collapsed": false
   },
   "outputs": [],
   "source": [
    "def getWeather(entities,location='',_date=datetime.datetime.now()):\n",
    "    \"\"\"필요 ENTITIES : Location, DATE\"\"\"\n",
    "    if 'DATE' in entities.keys():\n",
    "        temp_date = entities['DATE']\n",
    "    \n",
    "    if 'LOCATION' in entities.keys():\n",
    "        location = entities['LOCATION']\n",
    "    else:\n",
    "        location = prompt('LOCATION') # 쓰레드의 조인 기능? 그런거 이용해야 하나... 어떻게 하지\n",
    "        # 로케를 입력받아 정확히 입력받았는지 확인하는 과정 필요\n",
    "        # 만약 로케가 아니라면 다시 되 물어야 할듯,,,? prompt 함수에 되묻기 옵션으로!\n",
    "        # 계속 엉뚱한 대답해대면 예를 들어 3번동안, 모르겠다고 출력하고 종료\n",
    "        \n",
    "    gridX, gridY = gridxy(location)\n",
    "    if gridX =='ERROR': return '그곳이 어디죠..?'\n",
    "    else: \n",
    "        weather = parseWeather(gridX,gridY)\n",
    "\n",
    "    try: \n",
    "        int(temp_date)\n",
    "        if temp_date > 0: \n",
    "            _date+=datetime.timedelta(days=temp_date)\n",
    "            if temp_date == 1:\n",
    "                weather = [x for x in weather[0] if x[1]==1]\n",
    "            elif temp_date >= 2:\n",
    "                weather = [x for x in weather[0] if x[1]==2]\n",
    "                \n",
    "        else: \n",
    "            _date-=datetime.timedelta(days=abs(temp_date))\n",
    "             #   weather = weather[0]\n",
    "    except:\n",
    "        \"아직 구현 안됌.. 특정 기간동안의 날씨\"\n",
    "        \n",
    "    templates=[\"%s의 %s 날씨는 %s이고 기온은 %s, 강수확률은 %s 퍼센트 입니다.\"] # 이것도 구현 필요(날씨 api)\n",
    "        \n",
    "    result = random.choice(templates)\n",
    "\n",
    "    return result % (location, _date.strftime('%Y-%m-%d'),weather[0][5], weather[0][2], weather[0][6])"
   ]
  },
  {
   "cell_type": "code",
   "execution_count": 16,
   "metadata": {
    "collapsed": false
   },
   "outputs": [
    {
     "name": "stdout",
     "output_type": "stream",
     "text": [
      "위치는요?\n",
      "스벅스벅\n",
      "스벅스벅의 2016-11-05 날씨는 구름 많음이고 기온은 20.8, 강수확률은 0 퍼센트 입니다.\n"
     ]
    }
   ],
   "source": [
    "sentence, ent = disintegrate('오늘 날씨 좀 알려줘',['DATE']) # DAY 단위로만,,,,\n",
    "pprint(getWeather(ent))"
   ]
  },
  {
   "cell_type": "code",
   "execution_count": null,
   "metadata": {
    "collapsed": true
   },
   "outputs": [],
   "source": []
  }
 ],
 "metadata": {
  "kernelspec": {
   "display_name": "Python 2",
   "language": "python",
   "name": "python2"
  },
  "language_info": {
   "codemirror_mode": {
    "name": "ipython",
    "version": 2
   },
   "file_extension": ".py",
   "mimetype": "text/x-python",
   "name": "python",
   "nbconvert_exporter": "python",
   "pygments_lexer": "ipython2",
   "version": "2.7.6"
  }
 },
 "nbformat": 4,
 "nbformat_minor": 0
}
