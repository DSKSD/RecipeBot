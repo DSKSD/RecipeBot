{
 "cells": [
  {
   "cell_type": "markdown",
   "metadata": {},
   "source": [
    "# 날짜(DATE) "
   ]
  },
  {
   "cell_type": "code",
   "execution_count": 1,
   "metadata": {
    "collapsed": true
   },
   "outputs": [],
   "source": [
    "from __future__ import unicode_literals\n",
    "import pickle\n",
    "import datetime\n",
    "import random"
   ]
  },
  {
   "cell_type": "code",
   "execution_count": 2,
   "metadata": {
    "collapsed": true
   },
   "outputs": [],
   "source": [
    "import konlpy\n",
    "from konlpy.utils import pprint"
   ]
  },
  {
   "cell_type": "code",
   "execution_count": 3,
   "metadata": {
    "collapsed": true
   },
   "outputs": [],
   "source": [
    "import re"
   ]
  },
  {
   "cell_type": "code",
   "execution_count": 4,
   "metadata": {
    "collapsed": true
   },
   "outputs": [],
   "source": [
    "TIME = {}"
   ]
  },
  {
   "cell_type": "markdown",
   "metadata": {},
   "source": [
    "시간은 지금 or 오늘을 기준 0으로 잡고 offset을 저장하는 방식으로"
   ]
  },
  {
   "cell_type": "markdown",
   "metadata": {},
   "source": [
    "### 지금(now) "
   ]
  },
  {
   "cell_type": "code",
   "execution_count": 5,
   "metadata": {
    "collapsed": false
   },
   "outputs": [],
   "source": [
    "if '지금' in TIME.keys():\n",
    "    offset = TIME['지금']\n",
    "     # 시차 교정\n",
    "    now = datetime.datetime.now()+ datetime.timedelta(hours=9)\n",
    "    if offset == 0:        \n",
    "        print(now)\n",
    "        print(type(now.strftime('%Y-%m-%d')))"
   ]
  },
  {
   "cell_type": "code",
   "execution_count": 6,
   "metadata": {
    "collapsed": false
   },
   "outputs": [],
   "source": [
    "def ent_date(w,t,numflag,entities,sentence):\n",
    "\n",
    "    nday = re.compile('[가-힣\\s\\d]+일')\n",
    "    nweek = re.compile('[가-힣\\s\\d]+주')\n",
    "    nmonth = re.compile('[가-힣\\s\\d]+달')\n",
    "    ndate = re.compile('[가-힣\\s\\d]+월 [가-힣\\s\\d]+일')\n",
    "    TIME={'지금':0, '오늘':0, '어제':-1,'내일':1,'내일모레':2,'모레':2,'그저께':-2}\n",
    "    \n",
    "    if (t == 'Noun') & (w in TIME.keys()):\n",
    "            entities['DATE'] = TIME[w]\n",
    "        \n",
    "    if (t == 'Number'):\n",
    "        if(ndate.match(sentence)!= None):\n",
    "            findMonth = re.compile('[\\d]+월')\n",
    "            findDay = re.compile('[\\d]일')\n",
    "            month = findMonth.findall(sentence)[0][:-1]\n",
    "            day = findDay.findall(sentence)[0][:-1]\n",
    "            timevalue = datetime.date.today()-datetime.date.today().replace(month=int(month),day=int(day))\n",
    "            if datetime.date.today() > datetime.date.today().replace(month=int(month),day=int(day)):\n",
    "                entities['DATE'] = timevalue.days*-1\n",
    "            else: entities['DATE'] = timevalue.days\n",
    "        elif(nday.match(sentence) != None): \n",
    "            numflag = 1\n",
    "            findDay = re.compile('[\\d]+일')\n",
    "            day = findDay.findall(sentence)[0][:-1]\n",
    "            entities['DATE'] = numflag*int(day)\n",
    "        elif(nweek.match(sentence) != None): \n",
    "            numflag = 7\n",
    "            findWeek = re.compile('[\\d]+주')\n",
    "            week = findWeek.findall(sentence)[0][:-1]\n",
    "            entities['DATE'] = numflag*int(week)\n",
    "        elif(nmonth.match(sentence) != None): \n",
    "            numflag = 30\n",
    "            findMonth = re.compile('[\\d]+달')\n",
    "            month = findMonth.findall(sentence)[0][:-1]\n",
    "            entities['DATE'] = numflag*int(month)\n",
    "        else: entities['DATE'] = 0\n",
    "    \n",
    "    if w =='저번':\n",
    "        if (re.compile('저번주').match(sentence) != None) | (re.compile('저번 주').match(sentence) != None): entities['DATE'] = -7\n",
    "        elif (re.compile('저번달').match(sentence) != None) | (re.compile('저번 달').match(sentence) != None): entities['DATE'] = -30\n",
    "    \n",
    "    if (w=='다음주'): entities['DATE'] = 7\n",
    "    \n",
    "    if (w =='다음') | (w=='담다'):\n",
    "        # special token \n",
    "        if  (re.compile('다음 주').match(sentence) != None): entities['DATE'] = 7\n",
    "        elif (re.compile('담주').match(sentence) != None): entities['DATE'] = 7\n",
    "        elif (re.compile('담달').match(sentence) != None): entities['DATE'] = 30\n",
    "        elif (re.compile('다음달').match(sentence) != None) | (re.compile('다음 달').match(sentence) != None): entities['DATE'] = 30\n",
    "    \n",
    "    if w =='이번':\n",
    "        # special token \n",
    "        if (re.compile('이번주').match(sentence) != None) | (re.compile('이번 주').match(sentence) != None): entities['DATE'] = 'WEEK'\n",
    "        elif (re.compile('저번달').match(sentence) != None) | (re.compile('저번 달').match(sentence) != None): entities['DATE'] = 'MONTH'\n",
    "    \n",
    "    \n",
    "    if (numflag>0) & (w == '전'): \n",
    "        entities['DATE'] = entities['DATE']*-1\n",
    "        \n",
    "    return numflag, entities"
   ]
  },
  {
   "cell_type": "markdown",
   "metadata": {},
   "source": [
    "## 테스트 "
   ]
  },
  {
   "cell_type": "code",
   "execution_count": 11,
   "metadata": {
    "collapsed": false
   },
   "outputs": [],
   "source": [
    "def disintegrate(sentence, needThese): \n",
    "    \"\"\"sentence는 input문장, needThese 그 Intent에서 필요하는 ENTITIES 리스트\"\"\"\n",
    "    disintegrated_sentence = konlpy.tag.Twitter().pos(sentence, norm=True, stem=True)    \n",
    "    result = []\n",
    "    entities = {}\n",
    "    numflag = 0 # 1 7 30\n",
    "    # needThese에 명시된 엔터티 딕셔너리 불러오기\n",
    "    # entities 검사기는 needThese에 따라 on/off 하듯이?\n",
    "    for w, t in disintegrated_sentence: \n",
    "        numflag, entities = ent_date(w,t,numflag,entities,sentence)\n",
    "    \n",
    "        \n",
    "        if t not in ['Eomi', 'Josa', 'Number', 'KoreanParticle', 'Punctuation']:            \n",
    "            result.append(w) \n",
    "    \n",
    "    return ' '.join(result), entities"
   ]
  },
  {
   "cell_type": "code",
   "execution_count": 12,
   "metadata": {
    "collapsed": false
   },
   "outputs": [],
   "source": [
    "sentence, ent = disintegrate('오후에 날씨 알려줘!',['DATE']) # DAY 단위로만,,,,"
   ]
  },
  {
   "cell_type": "code",
   "execution_count": 13,
   "metadata": {
    "collapsed": false
   },
   "outputs": [
    {
     "name": "stdout",
     "output_type": "stream",
     "text": [
      "{}\n"
     ]
    }
   ],
   "source": [
    "pprint(ent)"
   ]
  },
  {
   "cell_type": "code",
   "execution_count": 14,
   "metadata": {
    "collapsed": false
   },
   "outputs": [],
   "source": [
    "def getWeather(entities,location,_date=datetime.datetime.now()+ datetime.timedelta(hours=9)):\n",
    "    if 'DATE' in entities.keys():\n",
    "        temp_date = entities['DATE']\n",
    "            \n",
    "        try: \n",
    "            int(temp_date)\n",
    "            if temp_date > 0: _date+=datetime.timedelta(days=temp_date)\n",
    "            else: _date-=datetime.timedelta(days=abs(temp_date))\n",
    "        except:\n",
    "            \"아직 구현 안됌.. 특정 기간동안의 날씨\"\n",
    "        \n",
    "    templates=[\"%s의 %s 날씨는 맑아요!\", \"%s의 %s 날씨는 비가 오네요..\"] # 이것도 구현 필요(날씨 api)\n",
    "        \n",
    "    result = random.choice(templates)\n",
    "        \n",
    "    return result % (location, _date.strftime('%Y-%m-%d'))"
   ]
  },
  {
   "cell_type": "code",
   "execution_count": 15,
   "metadata": {
    "collapsed": false
   },
   "outputs": [
    {
     "name": "stdout",
     "output_type": "stream",
     "text": [
      "수지의 2016-10-29 날씨는 비가 오네요..\n"
     ]
    }
   ],
   "source": [
    "pprint(getWeather(ent,'수지'))"
   ]
  },
  {
   "cell_type": "markdown",
   "metadata": {},
   "source": [
    "## 최종 테스트"
   ]
  },
  {
   "cell_type": "code",
   "execution_count": 16,
   "metadata": {
    "collapsed": false
   },
   "outputs": [
    {
     "name": "stdout",
     "output_type": "stream",
     "text": [
      "수지의 2016-10-30 날씨는 비가 오네요..\n"
     ]
    }
   ],
   "source": [
    "sentence, ent = disintegrate('내일 날씨 좀 알려줘',['DATE']) # DAY 단위로만,,,,\n",
    "pprint(getWeather(ent,'수지'))"
   ]
  }
 ],
 "metadata": {
  "kernelspec": {
   "display_name": "Python 2",
   "language": "python",
   "name": "python2"
  },
  "language_info": {
   "codemirror_mode": {
    "name": "ipython",
    "version": 2
   },
   "file_extension": ".py",
   "mimetype": "text/x-python",
   "name": "python",
   "nbconvert_exporter": "python",
   "pygments_lexer": "ipython2",
   "version": "2.7.6"
  }
 },
 "nbformat": 4,
 "nbformat_minor": 0
}
