{
 "cells": [
  {
   "cell_type": "markdown",
   "metadata": {},
   "source": [
    "# LOCTATION "
   ]
  },
  {
   "cell_type": "markdown",
   "metadata": {},
   "source": [
    "어떻게 수많은 경우의 수와 변형을 전부 검사하지 않고도 그 명사가 LOCATION이라는 것을 알아낼 수 있을까? 전부 리스트 or 딕트로 저장해놓고 search하는 방법도 있겠지만 너무 비효율적이지 않은가?,,, \n",
    "LOCATION 개체는 정규표현식의 패턴으로 꺼내봐야겠다."
   ]
  },
  {
   "cell_type": "code",
   "execution_count": 26,
   "metadata": {
    "collapsed": true
   },
   "outputs": [],
   "source": [
    "#-*- coding: utf-8 -*-\n",
    "from __future__ import unicode_literals\n",
    "import pickle\n",
    "import datetime\n",
    "import random\n",
    "import konlpy\n",
    "from konlpy.utils import pprint\n",
    "import re"
   ]
  },
  {
   "cell_type": "code",
   "execution_count": 43,
   "metadata": {
    "collapsed": true
   },
   "outputs": [],
   "source": [
    "from entities import disintegrate, ent_date"
   ]
  },
  {
   "cell_type": "markdown",
   "metadata": {},
   "source": [
    "# 우선 대한민국 한정(행정 구역 별) "
   ]
  },
  {
   "cell_type": "markdown",
   "metadata": {},
   "source": [
    "2\t행정 구역 현황\n",
    "2.1\t서울특별시\n",
    "2.2\t부산광역시\n",
    "2.3\t대구광역시\n",
    "2.4\t인천광역시\n",
    "2.5\t광주광역시\n",
    "2.6\t대전광역시\n",
    "2.7\t울산광역시\n",
    "2.8\t세종특별자치시\n",
    "2.9\t경기도\n",
    "2.9.1\t경기남부\n",
    "2.9.2\t경기북부\n",
    "2.10\t강원도\n",
    "2.11\t충청북도\n",
    "2.12\t충청남도\n",
    "2.13\t전라북도\n",
    "2.14\t전라남도\n",
    "2.15\t경상북도\n",
    "2.16\t경상남도\n",
    "2.17\t제주특별자치도"
   ]
  },
  {
   "cell_type": "code",
   "execution_count": 54,
   "metadata": {
    "collapsed": false
   },
   "outputs": [],
   "source": [
    "test, _ = disintegrate(\"제주도 가고싶다.\",[])"
   ]
  },
  {
   "cell_type": "code",
   "execution_count": 55,
   "metadata": {
    "collapsed": false
   },
   "outputs": [
    {
     "name": "stdout",
     "output_type": "stream",
     "text": [
      "제주도 가다\n"
     ]
    }
   ],
   "source": [
    "pprint(test)"
   ]
  },
  {
   "cell_type": "markdown",
   "metadata": {},
   "source": [
    "## 특별,광역시, 도"
   ]
  },
  {
   "cell_type": "code",
   "execution_count": 10,
   "metadata": {
    "collapsed": false
   },
   "outputs": [],
   "source": [
    "L0 = [['서울특별시','서울시', '서울'], #0\n",
    "         ['부산광역시','부산시', '부산'], #1\n",
    "         ['대구광역시','대구시', '대구'], #2\n",
    "         ['인천광역시','인천시', '인천'], #3\n",
    "         ['대전광역시','대전시','대전'],  #4\n",
    "         ['울산광역시','울산시','울산'],  #5 \n",
    "         ['세종특별자치시','세종시','세종'], #6\n",
    "         ['경기도','경기'], #7\n",
    "         ['강원도','강원'], #8\n",
    "         ['충청북도','충북'], #9\n",
    "         ['충청남도','충남'], #10\n",
    "         ['전라북도','전북'], #11\n",
    "         ['전라남도','전남'], #12\n",
    "         ['경상북도','경북'], #13\n",
    "         ['경상남도','경남'], #14\n",
    "         ['경상도','경상'], #15\n",
    "         ['전라도','전라'], #16\n",
    "         ['충청도','충청'], #17\n",
    "        ['제주특별자치도', '제주도','제주'] #18\n",
    "        ]"
   ]
  },
  {
   "cell_type": "code",
   "execution_count": 11,
   "metadata": {
    "collapsed": false
   },
   "outputs": [],
   "source": [
    "L1L0 =  [['종로구','종로'],\n",
    "        ['중구'],\n",
    "        ['용산구','용산'],\n",
    "        ['성동구','성동'],\n",
    "        ['광진구','광진'],\n",
    "        ['동대문구','동대문'],\n",
    "        ['중랑구','중랑'],\n",
    "        ['성북구','성북'],\n",
    "        ['강북구','강북'],\n",
    "        ['도봉구','도봉'],\n",
    "        ['노원구','노원'],\n",
    "        ['은평구','은평'],\n",
    "        ['서대문구','서대문'],\n",
    "        ['마포구','마포'],\n",
    "        ['양천구','양천'],\n",
    "        ['강서구','강서'],\n",
    "        ['구로구','구로'],\n",
    "         ['금천구','금천'],\n",
    "        ['영등포구','영등포'],\n",
    "        ['동작구','동작'],\n",
    "        ['관악구','관악'],\n",
    "         ['서초구','서초'],\n",
    "         ['강남구','강남'],\n",
    "         ['송파구','송파'],\n",
    "         ['강동구','강동'],\n",
    "        ]"
   ]
  }
 ],
 "metadata": {
  "kernelspec": {
   "display_name": "Python 2",
   "language": "python",
   "name": "python2"
  },
  "language_info": {
   "codemirror_mode": {
    "name": "ipython",
    "version": 2
   },
   "file_extension": ".py",
   "mimetype": "text/x-python",
   "name": "python",
   "nbconvert_exporter": "python",
   "pygments_lexer": "ipython2",
   "version": "2.7.6"
  }
 },
 "nbformat": 4,
 "nbformat_minor": 1
}
