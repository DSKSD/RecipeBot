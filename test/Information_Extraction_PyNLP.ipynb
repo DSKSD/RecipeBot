{
 "cells": [
  {
   "cell_type": "markdown",
   "metadata": {},
   "source": [
    "# Goal"
   ]
  },
  {
   "cell_type": "markdown",
   "metadata": {},
   "source": [
    "1. How can we build a system that extracts structured data from unstructured text?\n",
    "2. What are some robust methods for identifying the entities and relationships described in a text?\n",
    "3. Which corpora are appropriate for this work, and how do we use them for training and evaluating our models?"
   ]
  },
  {
   "cell_type": "markdown",
   "metadata": {},
   "source": [
    "# Information Extraction "
   ]
  },
  {
   "cell_type": "markdown",
   "metadata": {},
   "source": [
    "도시 안에 있는 단체에 관한 location data는 list of tuples 구조를 통해 저장될 수 있고, Which organizations operate in Atlanta? 물음에 다음과 같이 답할 수 있다."
   ]
  },
  {
   "cell_type": "code",
   "execution_count": 9,
   "metadata": {
    "collapsed": true
   },
   "outputs": [],
   "source": [
    "from __future__ import unicode_literals\n",
    "from konlpy.utils import pprint"
   ]
  },
  {
   "cell_type": "markdown",
   "metadata": {},
   "source": [
    "(entity, relation, entity)"
   ]
  },
  {
   "cell_type": "code",
   "execution_count": 10,
   "metadata": {
    "collapsed": true
   },
   "outputs": [],
   "source": [
    "test = [('스타벅스','IN','서울'), ('빈스빈스','IN','용인')]"
   ]
  },
  {
   "cell_type": "code",
   "execution_count": 12,
   "metadata": {
    "collapsed": false
   },
   "outputs": [
    {
     "name": "stdout",
     "output_type": "stream",
     "text": [
      "[빈스빈스]\n"
     ]
    }
   ],
   "source": [
    "pprint([e1 for (e1,rel,e2) in test if rel=='IN' and e2=='용인' ])"
   ]
  },
  {
   "cell_type": "markdown",
   "metadata": {},
   "source": [
    "# Named Entity Recognition "
   ]
  },
  {
   "cell_type": "markdown",
   "metadata": {},
   "source": [
    "NE type      Examples <br>\n",
    "ORGANIZATION Georgia-Pacific Corp., WHO <br>\n",
    "PERSON       Eddy Bonte, President Obama<br>\n",
    "LOCATION     Murray River, Mount Everest<br>\n",
    "DATE         June, 2008-06-29<br>\n",
    "TIME         two fifty a m, 1:30 p.m.<br>\n",
    "MONEY        175 million Canadian Dollars, GBP 10.40<br>\n",
    "PERCENT      twenty pct, 18.75 %<br> \n",
    "FACILITY     Washington Monument, Stonehenge<br>\n",
    "GPE          South East Asia, Midlothian"
   ]
  },
  {
   "cell_type": "markdown",
   "metadata": {},
   "source": [
    "QA 시스템에서 주로 쓰이지만, 이게 어려운 이유는 ENTITY의 모호함 때문이다. 예를들어 May와 North는 각각 DATE와 LOCATION이 될 수도 있지만 PERSON이 될 수도 있다..! 또한 Christian Dior은 PERSON 같지만 실은 ORGANIZATION이다.\n",
    "\n",
    "또한 2개 이상의 토큰으로 만들어지는 단어들은 더욱 어렵다. 예를 들면, Stanford University, Cecil H.Green Library, Escondido Vilage .."
   ]
  },
  {
   "cell_type": "code",
   "execution_count": null,
   "metadata": {
    "collapsed": true
   },
   "outputs": [],
   "source": []
  }
 ],
 "metadata": {
  "kernelspec": {
   "display_name": "Python 2",
   "language": "python",
   "name": "python2"
  },
  "language_info": {
   "codemirror_mode": {
    "name": "ipython",
    "version": 2
   },
   "file_extension": ".py",
   "mimetype": "text/x-python",
   "name": "python",
   "nbconvert_exporter": "python",
   "pygments_lexer": "ipython2",
   "version": "2.7.6"
  }
 },
 "nbformat": 4,
 "nbformat_minor": 1
}
