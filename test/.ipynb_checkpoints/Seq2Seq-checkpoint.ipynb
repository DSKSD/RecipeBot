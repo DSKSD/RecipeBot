{
 "cells": [
  {
   "cell_type": "markdown",
   "metadata": {},
   "source": [
    "# Chatbots with Seq2Seq"
   ]
  },
  {
   "cell_type": "markdown",
   "metadata": {},
   "source": [
    "작년, 텔레그램이 bot API를 출시했고 이는 개발자들이 쉽게 챗봇을 개발할 수 있도록 했다. (Bot Father와 상호작용하며) \n",
    "\n",
    "... 중략...\n",
    "\n",
    "일반적으로 당신은 PATTERN과 TEMPLATE을 작성하게 될 것인데 이는 봇이 유저의 어떤 문장 패턴을 마주했을 때, 어떤 하나의 templates을 이용하여 답변하는 방식이고 이는 <strong>Rule based model</strong>이라고 부른다.\n",
    "\n",
    "Rule based models을 가진 봇은 비교적 만들기 쉽지만 복잡한 질문에 대응하기 매우 어렵다. 따라서 머신러닝 기법을 사용한 모델이 등장했으며 이를 <strong>Intelligent models</strong>이라 부른다.\n",
    "<hr>\n",
    "이러한 Intelligent models에는 두 가지로 분류할 수 있는데\n",
    "\n",
    "1. Retrieval-based models\n",
    "2. Generative models\n",
    "\n",
    "..."
   ]
  },
  {
   "cell_type": "markdown",
   "metadata": {},
   "source": [
    "# Seq2Seq "
   ]
  },
  {
   "cell_type": "code",
   "execution_count": 1,
   "metadata": {
    "collapsed": true
   },
   "outputs": [],
   "source": [
    "from IPython.display import Image"
   ]
  },
  {
   "cell_type": "markdown",
   "metadata": {},
   "source": [
    "Sequence To Sequence model은 <a href=\"https://arxiv.org/abs/1406.1078\">Learning Phrase Representations using RNN Encoder-Decoder for Statistical Machine Translation</a>에 의해 소개됐는데, 이후 다이얼로그 시스템과 기계번역에 가장 스탠다드한 모델이 되었다. \n",
    "<hr>\n",
    "이는 두 개의 RNN으로 구성되어있다. (인코더와 디코더). 인코더는 문장을 인풋으로 받아(time step 별로) fixed size feature vector로 만든다.(이 벡터는 필요 없는 정보는 잃어버리고 중요한 정보만을 가지고 있다.) 즉 최종 hidden state는 sequence를 요약한 Context 혹은 thought vector로 볼 수 있다.\n",
    "<hr>\n",
    "context로부터 decoder는 또 다른 sequence를 생성해낸다. \n"
   ]
  },
  {
   "cell_type": "code",
   "execution_count": 2,
   "metadata": {
    "collapsed": false
   },
   "outputs": [
    {
     "data": {
      "image/jpeg": "[encoded data removed]",
      "text/plain": [
       "<IPython.core.display.Image object>"
      ]
     },
     "execution_count": 2,
     "metadata": {},
     "output_type": "execute_result"
    }
   ],
   "source": [
    "Image(\"image/seq1.jpg\")"
   ]
  },
  {
   "cell_type": "code",
   "execution_count": 3,
   "metadata": {
    "collapsed": false
   },
   "outputs": [
    {
     "data": {
      "image/jpeg": "[encoded data removed]",
      "text/plain": [
       "<IPython.core.display.Image object>"
      ]
     },
     "execution_count": 3,
     "metadata": {},
     "output_type": "execute_result"
    }
   ],
   "source": [
    "Image(\"image/seq2.jpg\")"
   ]
  },
  {
   "cell_type": "markdown",
   "metadata": {},
   "source": [
    "하지만 이러한 모델을 사용하는데 몇 가지 문제 점이 있다.\n",
    "\n",
    "1. 문장 길의 변동을 잘 다루지 못한다.\n",
    "2. Vocabulary size가 커지면 training process가 느려진다.\n",
    "\n",
    "one-hot vector를 사용하게 되면 너무 비효율적..! 어떻게 할까?"
   ]
  },
  {
   "cell_type": "markdown",
   "metadata": {},
   "source": [
    "## Padding "
   ]
  },
  {
   "cell_type": "markdown",
   "metadata": {},
   "source": [
    "다양한 문장길이를 커버하기 위해 단어 벡터 길이 맞춰주기?\n",
    "1. EOS : End of sentence\n",
    "2. PAD : Filler\n",
    "3. GO : Start decoding\n",
    "4. UNK : Unknown; word not in vocabulary\n",
    "<hr>\n",
    "Q: How are you?\n",
    " A: I am fine.\n",
    " \n",
    "=>\n",
    "Q : [ PAD, PAD, PAD, PAD, PAD, PAD, “?”, “you”, “are”, “How” ] \n",
    "\n",
    "A : [ GO, “I”, “am”, “fine”, “.”, EOS, PAD, PAD, PAD, PAD ]"
   ]
  },
  {
   "cell_type": "markdown",
   "metadata": {},
   "source": [
    "## Bucketing "
   ]
  },
  {
   "cell_type": "markdown",
   "metadata": {},
   "source": [
    "다양한 문장 길이에 대처하기 위한 패딩을 소개했지만 아주 큰 문장의 경우를 고려해보자. 예를 들어 100개의 단어로 이루어진 문장이 있을 때,, 이 문장 때문에 \"How are you?\"라고 하는 문장은 97개의 PAD 심볼을 사용해야 할 것이다...\n",
    "<hr>\n",
    "Bucketing은 이러한 문제를 해결한다. 다른 사이즈를 가진 문장들을 서로 다른 buckets에 집어 넣는다. \n",
    "\n",
    "=> Batch Padding"
   ]
  },
  {
   "cell_type": "markdown",
   "metadata": {},
   "source": [
    "## Word Embedding "
   ]
  },
  {
   "cell_type": "markdown",
   "metadata": {},
   "source": [
    "word Embedding은 보통 네트워크의 첫 번째 레이어(임베딩 레이어)에서 행해진다. 단어를 dense vector로 매핑한다. \n",
    "\n",
    "In the seq2seq model, the weights of the embedding layer are jointly trained with the other parameters of the model. "
   ]
  },
  {
   "cell_type": "markdown",
   "metadata": {},
   "source": [
    "# 코드 "
   ]
  },
  {
   "cell_type": "code",
   "execution_count": 1,
   "metadata": {
    "collapsed": false
   },
   "outputs": [],
   "source": [
    "from __future__ import absolute_import\n",
    "from __future__ import division\n",
    "from __future__ import print_function\n",
    "\n",
    "import itertools\n",
    "import math\n",
    "import numpy as np\n",
    "import codecs\n",
    "import pickle\n",
    "\n",
    "import tensorflow as tf\n",
    "from tensorflow.contrib import learn"
   ]
  },
  {
   "cell_type": "code",
   "execution_count": 2,
   "metadata": {
    "collapsed": false
   },
   "outputs": [
    {
     "data": {
      "text/plain": [
       "'0.11.0'"
      ]
     },
     "execution_count": 2,
     "metadata": {},
     "output_type": "execute_result"
    }
   ],
   "source": [
    "tf.__version__"
   ]
  },
  {
   "cell_type": "code",
   "execution_count": 3,
   "metadata": {
    "collapsed": true
   },
   "outputs": [],
   "source": [
    "import konlpy\n",
    "from konlpy.utils import pprint"
   ]
  },
  {
   "cell_type": "code",
   "execution_count": 4,
   "metadata": {
    "collapsed": true
   },
   "outputs": [],
   "source": [
    "import cPickle"
   ]
  },
  {
   "cell_type": "code",
   "execution_count": 5,
   "metadata": {
    "collapsed": false
   },
   "outputs": [
    {
     "ename": "OSError",
     "evalue": "[Errno 2] No such file or directory: '/root/nlp/RecipeBot/data'",
     "output_type": "error",
     "traceback": [
      "\u001b[0;31m---------------------------------------------------------------------------\u001b[0m",
      "\u001b[0;31mOSError\u001b[0m                                   Traceback (most recent call last)",
      "\u001b[0;32m<ipython-input-5-3afedf9a14ec>\u001b[0m in \u001b[0;36m<module>\u001b[0;34m()\u001b[0m\n\u001b[1;32m      1\u001b[0m \u001b[0;32mimport\u001b[0m \u001b[0mos\u001b[0m\u001b[0;34m\u001b[0m\u001b[0m\n\u001b[0;32m----> 2\u001b[0;31m \u001b[0mos\u001b[0m\u001b[0;34m.\u001b[0m\u001b[0mchdir\u001b[0m\u001b[0;34m(\u001b[0m\u001b[0;34m'/root/nlp/RecipeBot/data'\u001b[0m\u001b[0;34m)\u001b[0m\u001b[0;34m\u001b[0m\u001b[0m\n\u001b[0m",
      "\u001b[0;31mOSError\u001b[0m: [Errno 2] No such file or directory: '/root/nlp/RecipeBot/data'"
     ]
    }
   ],
   "source": [
    "import os\n",
    "os.chdir('/root/nlp/RecipeBot/data')"
   ]
  },
  {
   "cell_type": "code",
   "execution_count": 6,
   "metadata": {
    "collapsed": false
   },
   "outputs": [
    {
     "data": {
      "text/plain": [
       "'/home/dsksd/dsksd/RecipeBot/test'"
      ]
     },
     "execution_count": 6,
     "metadata": {},
     "output_type": "execute_result"
    }
   ],
   "source": [
    "os.getcwd()"
   ]
  },
  {
   "cell_type": "code",
   "execution_count": 7,
   "metadata": {
    "collapsed": false
   },
   "outputs": [],
   "source": [
    "f = codecs.open(\"training_x.txt\", encoding='utf-8')\n",
    "fr = []\n",
    "for line in f:\n",
    "    fr.append(line.strip())"
   ]
  },
  {
   "cell_type": "code",
   "execution_count": 8,
   "metadata": {
    "collapsed": false
   },
   "outputs": [
    {
     "name": "stdout",
     "output_type": "stream",
     "text": [
      "정말 가다 거구\n"
     ]
    }
   ],
   "source": [
    "pprint(fr[3])"
   ]
  },
  {
   "cell_type": "code",
   "execution_count": 9,
   "metadata": {
    "collapsed": false
   },
   "outputs": [
    {
     "data": {
      "text/plain": [
       "13418"
      ]
     },
     "execution_count": 9,
     "metadata": {},
     "output_type": "execute_result"
    }
   ],
   "source": [
    "len(fr)"
   ]
  },
  {
   "cell_type": "code",
   "execution_count": 6,
   "metadata": {
    "collapsed": false
   },
   "outputs": [
    {
     "name": "stdout",
     "output_type": "stream",
     "text": [
      "Fitting dictionary for Before...\n",
      "Fitting dictionary for After...\n",
      "Transforming...\n",
      "Total words, 교정 전: 1049, 교정 후: 1199\n"
     ]
    }
   ],
   "source": [
    "def read_iterator(filename, reporting=True):\n",
    "  f = codecs.open(filename, encoding='utf-8')\n",
    "  line_count = 0\n",
    "  for line in f:\n",
    "    line_count += 1\n",
    "    if reporting and line_count % 100000 == 0:\n",
    "      print(\"%d lines read from %s\" % (line_count, filename))\n",
    "    yield line.strip()\n",
    "\n",
    "\n",
    "def repeated_read_iterator(filename):\n",
    "  while True:\n",
    "    f = codecs.open(filename,encoding='utf-8')\n",
    "    for line in f:\n",
    "      yield line.strip()\n",
    "\n",
    "\n",
    "def split_train_test(data, partition=0.2, random_seed=42):\n",
    "  rnd = np.random.RandomState(random_seed)\n",
    "  for item in data:\n",
    "    if rnd.uniform() > partition:\n",
    "      yield (0, item)\n",
    "    else:\n",
    "      yield (1, item)\n",
    "\n",
    "\n",
    "def save_partitions(data, filenames):\n",
    "  files = [codecs.open(filename, 'w', encoding='utf-8') for filename in filenames]\n",
    "  for partition, item in data:\n",
    "    files[partition].write(item + '\\n')\n",
    "\n",
    "\n",
    "def loop_iterator(data):\n",
    "  while True:\n",
    "    for item in data:\n",
    "      yield item\n",
    "\n",
    "\n",
    "if not (os.path.exists('train.data') and os.path.exists('test.data')):\n",
    "  english_data = read_iterator('training_x.txt')\n",
    "  french_data = read_iterator('training_y.txt')\n",
    "  parallel_data = ('%s;;;%s' % (eng, fr) for eng, fr in itertools.izip(\n",
    "      english_data, french_data))\n",
    "  save_partitions(split_train_test(parallel_data), ['train.data', 'test.data'])\n",
    "\n",
    "def Xy(data):\n",
    "  def split_lines(data):\n",
    "    for item in data:\n",
    "      yield item.split(';;;')\n",
    "  X, y = itertools.tee(split_lines(data))\n",
    "  return (item[0] for item in X), (item[1] for item in y)\n",
    "\n",
    "X_train, y_train = Xy(repeated_read_iterator('train.data'))\n",
    "X_test, y_test = Xy(read_iterator('test.data'))\n",
    "\n",
    "# Preprocessing\n",
    "\n",
    "MAX_DOCUMENT_LENGTH = 10\n",
    "\n",
    "if not (os.path.exists('before.vocab') and os.path.exists('after.vocab')):\n",
    "  X_vocab_processor = learn.preprocessing.VocabularyProcessor(\n",
    "      MAX_DOCUMENT_LENGTH, min_frequency=5)\n",
    "  y_vocab_processor = learn.preprocessing.VocabularyProcessor(\n",
    "      MAX_DOCUMENT_LENGTH, min_frequency=5)\n",
    "  Xtrainff, ytrainff = Xy(read_iterator('train.data'))\n",
    "  print('Fitting dictionary for Before...')\n",
    "  X_vocab_processor.fit(Xtrainff)\n",
    "  print('Fitting dictionary for After...')\n",
    "  y_vocab_processor.fit(ytrainff)\n",
    "  open('before.vocab', 'w').write(cPickle.dumps(X_vocab_processor))\n",
    "  open('after.vocab', 'w').write(cPickle.dumps(y_vocab_processor))\n",
    "else:\n",
    "  X_vocab_processor = cPickle.loads(open('before.vocab').read())\n",
    "  y_vocab_processor = cPickle.loads(open('after.vocab').read())\n",
    "print('Transforming...')\n",
    "X_train = X_vocab_processor.transform(X_train)\n",
    "y_train = y_vocab_processor.transform(y_train)\n",
    "X_test = X_vocab_processor.transform(X_test)\n",
    "\n",
    "# TODO: Expand this to use the whole test set.\n",
    "#X_test = np.array([X_test.next() for _ in range(517)])\n",
    "#y_test = [y_test.next() for _ in range(517)]\n",
    "\n",
    "n_bf_words = len(X_vocab_processor.vocabulary_)\n",
    "n_af_words = len(y_vocab_processor.vocabulary_)\n",
    "print('Total words, 교정 전: %d, 교정 후: %d' % (n_bf_words, n_af_words))\n"
   ]
  },
  {
   "cell_type": "code",
   "execution_count": 7,
   "metadata": {
    "collapsed": false
   },
   "outputs": [],
   "source": [
    "X_test = np.array([X_test.next() for _ in range(1000)])\n",
    "y_test = [y_test.next() for _ in range(1000)]"
   ]
  },
  {
   "cell_type": "code",
   "execution_count": 8,
   "metadata": {
    "collapsed": false
   },
   "outputs": [],
   "source": [
    "# grammar model\n",
    "\n",
    "HIDDEN_SIZE = 25\n",
    "EMBEDDING_SIZE = 25\n",
    "\n",
    "def grammar_model(X, y):\n",
    "  word_vectors = learn.ops.categorical_variable(X, \n",
    "                                                n_classes=n_bf_words,\n",
    "                                                embedding_size=EMBEDDING_SIZE, \n",
    "                                                name='words')\n",
    "  in_X, in_y, out_y = learn.ops.seq2seq_inputs(\n",
    "      word_vectors, y, MAX_DOCUMENT_LENGTH, MAX_DOCUMENT_LENGTH)\n",
    "  encoder_cell = tf.nn.rnn_cell.GRUCell(HIDDEN_SIZE)\n",
    "  decoder_cell = tf.nn.rnn_cell.OutputProjectionWrapper(\n",
    "      tf.nn.rnn_cell.GRUCell(HIDDEN_SIZE), n_af_words)\n",
    "  decoding, _, sampling_decoding, _ = learn.ops.rnn_seq2seq(in_X, in_y,\n",
    "      encoder_cell, decoder_cell=decoder_cell)\n",
    "  return learn.ops.sequence_classifier(decoding, out_y, sampling_decoding)"
   ]
  },
  {
   "cell_type": "code",
   "execution_count": 9,
   "metadata": {
    "collapsed": true
   },
   "outputs": [],
   "source": [
    "PATH = '/root/nlp/RecipeBot/data/model'"
   ]
  },
  {
   "cell_type": "code",
   "execution_count": 16,
   "metadata": {
    "collapsed": false
   },
   "outputs": [
    {
     "name": "stderr",
     "output_type": "stream",
     "text": [
      "WARNING:tensorflow:Using temporary folder as model directory: /tmp/tmpolpGS6\n",
      "WARNING:tensorflow:Using temporary folder as model directory: /tmp/tmpolpGS6\n",
      "WARNING:tensorflow:Using default config.\n",
      "WARNING:tensorflow:Using default config.\n"
     ]
    }
   ],
   "source": [
    "translator = learn.TensorFlowEstimator(model_fn=grammar_model,\n",
    "      n_classes=n_af_words,\n",
    "      optimizer='Adam', learning_rate=0.001, batch_size=128,\n",
    "      continue_training=True, steps=100)"
   ]
  },
  {
   "cell_type": "code",
   "execution_count": 17,
   "metadata": {
    "collapsed": false,
    "scrolled": true
   },
   "outputs": [],
   "source": [
    "translator.fit(X_train, y_train, logdir=PATH)\n",
    "translator.save(PATH)"
   ]
  },
  {
   "cell_type": "code",
   "execution_count": 18,
   "metadata": {
    "collapsed": false
   },
   "outputs": [
    {
     "name": "stderr",
     "output_type": "stream",
     "text": [
      "WARNING:tensorflow:Using temporary folder as model directory: /tmp/tmp7_7043\n",
      "WARNING:tensorflow:Using temporary folder as model directory: /tmp/tmp7_7043\n",
      "WARNING:tensorflow:Using default config.\n",
      "WARNING:tensorflow:Using default config.\n"
     ]
    },
    {
     "name": "stdout",
     "output_type": "stream",
     "text": [
      "ok\n"
     ]
    },
    {
     "ename": "NotImplementedError",
     "evalue": "",
     "output_type": "error",
     "traceback": [
      "\u001b[1;31m---------------------------------------------------------------------------\u001b[0m",
      "\u001b[1;31mNotImplementedError\u001b[0m                       Traceback (most recent call last)",
      "\u001b[1;32m<ipython-input-18-eeadda2b19f8>\u001b[0m in \u001b[0;36m<module>\u001b[1;34m()\u001b[0m\n\u001b[0;32m      1\u001b[0m \u001b[1;32mif\u001b[0m \u001b[0mos\u001b[0m\u001b[1;33m.\u001b[0m\u001b[0mpath\u001b[0m\u001b[1;33m.\u001b[0m\u001b[0mexists\u001b[0m\u001b[1;33m(\u001b[0m\u001b[0mos\u001b[0m\u001b[1;33m.\u001b[0m\u001b[0mpath\u001b[0m\u001b[1;33m.\u001b[0m\u001b[0mjoin\u001b[0m\u001b[1;33m(\u001b[0m\u001b[0mPATH\u001b[0m\u001b[1;33m,\u001b[0m \u001b[1;34m'graph.pbtxt'\u001b[0m\u001b[1;33m)\u001b[0m\u001b[1;33m)\u001b[0m\u001b[1;33m:\u001b[0m\u001b[1;33m\u001b[0m\u001b[0m\n\u001b[0;32m      2\u001b[0m     \u001b[1;32mprint\u001b[0m\u001b[1;33m(\u001b[0m\u001b[1;34m\"ok\"\u001b[0m\u001b[1;33m)\u001b[0m\u001b[1;33m\u001b[0m\u001b[0m\n\u001b[1;32m----> 3\u001b[1;33m     \u001b[0mtranslator\u001b[0m \u001b[1;33m=\u001b[0m \u001b[0mlearn\u001b[0m\u001b[1;33m.\u001b[0m\u001b[0mTensorFlowEstimator\u001b[0m\u001b[1;33m.\u001b[0m\u001b[0mrestore\u001b[0m\u001b[1;33m(\u001b[0m\u001b[0mpath\u001b[0m\u001b[1;33m=\u001b[0m\u001b[0mPATH\u001b[0m\u001b[1;33m)\u001b[0m\u001b[1;33m\u001b[0m\u001b[0m\n\u001b[0m",
      "\u001b[1;32m/usr/local/lib/python2.7/dist-packages/tensorflow/contrib/learn/python/learn/estimators/base.pyc\u001b[0m in \u001b[0;36mrestore\u001b[1;34m(cls, path, config)\u001b[0m\n\u001b[0;32m    459\u001b[0m       \u001b[0mcustom_estimator\u001b[0m \u001b[1;33m=\u001b[0m \u001b[0mTensorFlowEstimator\u001b[0m\u001b[1;33m(\u001b[0m\u001b[0mmodel_fn\u001b[0m\u001b[1;33m=\u001b[0m\u001b[0mNone\u001b[0m\u001b[1;33m,\u001b[0m \u001b[1;33m**\u001b[0m\u001b[0mmodel_def\u001b[0m\u001b[1;33m)\u001b[0m\u001b[1;33m\u001b[0m\u001b[0m\n\u001b[0;32m    460\u001b[0m       \u001b[1;31m# pylint: disable=protected-access\u001b[0m\u001b[1;33m\u001b[0m\u001b[1;33m\u001b[0m\u001b[0m\n\u001b[1;32m--> 461\u001b[1;33m       \u001b[0mcustom_estimator\u001b[0m\u001b[1;33m.\u001b[0m\u001b[0m_restore\u001b[0m\u001b[1;33m(\u001b[0m\u001b[0mpath\u001b[0m\u001b[1;33m)\u001b[0m\u001b[1;33m\u001b[0m\u001b[0m\n\u001b[0m\u001b[0;32m    462\u001b[0m       \u001b[1;32mreturn\u001b[0m \u001b[0mcustom_estimator\u001b[0m\u001b[1;33m\u001b[0m\u001b[0m\n\u001b[0;32m    463\u001b[0m \u001b[1;33m\u001b[0m\u001b[0m\n",
      "\u001b[1;32m/usr/local/lib/python2.7/dist-packages/tensorflow/contrib/learn/python/learn/estimators/base.pyc\u001b[0m in \u001b[0;36m_restore\u001b[1;34m(self, path)\u001b[0m\n\u001b[0;32m    418\u001b[0m       \u001b[0mpath\u001b[0m\u001b[1;33m:\u001b[0m \u001b[0mPath\u001b[0m \u001b[0mto\u001b[0m \u001b[0mcheckpoints\u001b[0m \u001b[1;32mand\u001b[0m \u001b[0mother\u001b[0m \u001b[0minformation\u001b[0m\u001b[1;33m.\u001b[0m\u001b[1;33m\u001b[0m\u001b[0m\n\u001b[0;32m    419\u001b[0m     \"\"\"\n\u001b[1;32m--> 420\u001b[1;33m     \u001b[1;32mraise\u001b[0m \u001b[0mNotImplementedError\u001b[0m\u001b[1;33m\u001b[0m\u001b[0m\n\u001b[0m\u001b[0;32m    421\u001b[0m \u001b[1;33m\u001b[0m\u001b[0m\n\u001b[0;32m    422\u001b[0m   \u001b[1;33m@\u001b[0m\u001b[0mclassmethod\u001b[0m\u001b[1;33m\u001b[0m\u001b[0m\n",
      "\u001b[1;31mNotImplementedError\u001b[0m: "
     ]
    }
   ],
   "source": [
    "if os.path.exists(os.path.join(PATH, 'graph.pbtxt')): \n",
    "    print(\"ok\")\n",
    "    translator = learn.TensorFlowEstimator.restore(path=PATH)"
   ]
  },
  {
   "cell_type": "code",
   "execution_count": 11,
   "metadata": {
    "collapsed": true
   },
   "outputs": [],
   "source": [
    "import random"
   ]
  },
  {
   "cell_type": "code",
   "execution_count": 28,
   "metadata": {
    "collapsed": false
   },
   "outputs": [
    {
     "name": "stdout",
     "output_type": "stream",
     "text": [
      " Q: <UNK> 존재 하다 <UNK> <UNK> <UNK> <UNK> <UNK> <UNK> <UNK>. \n",
      " A (pred): <UNK> 뭐라고 거야 습니다 습니다 습니다 습니다 습니다 습니다 습니다 습니다,\n",
      " A (gold): 끝없이 존재하는 황야\n",
      "\n",
      "\n",
      " Q: 제 사용 하다 것 <UNK> <UNK> <UNK> <UNK> <UNK> <UNK>. \n",
      " A (pred): 이 물론 거야 서도 습니다 거든요 어도 거든요 어도 거든요 어도,\n",
      " A (gold): 제 가 사용할 것 은\n",
      "\n",
      "\n",
      " Q: 우리 <UNK> 식당 <UNK> <UNK> <UNK> <UNK> <UNK> <UNK> <UNK>. \n",
      " A (pred): 이 어제 거야 서도 습니다 거든요 어도 거든요 어도 거든요 어도,\n",
      " A (gold): 우리 집도 식당 이야\n",
      "\n",
      "\n",
      " Q: <UNK> 요리사 질 수 없다 <UNK> <UNK> <UNK> <UNK> <UNK>. \n",
      " A (pred): <UNK> 어제 거야 놀면 습니다 어도 습니다 어도 습니다 어도 습니다,\n",
      " A (gold): 동년배 요리사 에게 질 수 는 없어\n",
      "\n",
      "\n",
      " Q: <UNK> <UNK> <UNK> <UNK> <UNK> <UNK> <UNK> <UNK> <UNK> <UNK>. \n",
      " A (pred): <UNK> 닥쳐 습니다 방법 습니다 방법 습니다 방법 습니다 방법 습니다,\n",
      " A (gold): 산채 다듬 기\n",
      "\n",
      "\n"
     ]
    }
   ],
   "source": [
    "xpred, ygold = [], []\n",
    "for _ in range(5):\n",
    "    idx = random.randint(0, len(X_test) - 1)\n",
    "    xpred.append(X_test[idx])\n",
    "    ygold.append(y_test[idx])\n",
    "xpred = np.array(xpred)\n",
    "predictions = translator.predict(xpred, axis=2)\n",
    "xpred_inp = X_vocab_processor.reverse(xpred)\n",
    "text_outputs = y_vocab_processor.reverse(predictions)\n",
    "for inp_data, input_text, pred, output_text, gold in zip(xpred, xpred_inp,\n",
    "      predictions, text_outputs, ygold):\n",
    "    print(' Q: %s. \\n A (pred): %s,\\n A (gold): %s' %\n",
    "        (input_text, output_text, gold))\n",
    "    print('\\n')\n",
    "    #print(inp_data, pred)"
   ]
  },
  {
   "cell_type": "code",
   "execution_count": 35,
   "metadata": {
    "collapsed": false
   },
   "outputs": [
    {
     "name": "stderr",
     "output_type": "stream",
     "text": [
      "WARNING:tensorflow:Using temporary folder as model directory: /tmp/tmpeUswKK\n",
      "WARNING:tensorflow:Using temporary folder as model directory: /tmp/tmpeUswKK\n",
      "WARNING:tensorflow:Using default config.\n",
      "WARNING:tensorflow:Using default config.\n"
     ]
    },
    {
     "ename": "NotImplementedError",
     "evalue": "",
     "output_type": "error",
     "traceback": [
      "\u001b[1;31m---------------------------------------------------------------------------\u001b[0m",
      "\u001b[1;31mNotImplementedError\u001b[0m                       Traceback (most recent call last)",
      "\u001b[1;32m<ipython-input-35-abacccd628b3>\u001b[0m in \u001b[0;36m<module>\u001b[1;34m()\u001b[0m\n\u001b[0;32m      1\u001b[0m \u001b[1;32mif\u001b[0m \u001b[0mos\u001b[0m\u001b[1;33m.\u001b[0m\u001b[0mpath\u001b[0m\u001b[1;33m.\u001b[0m\u001b[0mexists\u001b[0m\u001b[1;33m(\u001b[0m\u001b[0mos\u001b[0m\u001b[1;33m.\u001b[0m\u001b[0mpath\u001b[0m\u001b[1;33m.\u001b[0m\u001b[0mjoin\u001b[0m\u001b[1;33m(\u001b[0m\u001b[0mPATH\u001b[0m\u001b[1;33m,\u001b[0m \u001b[1;34m'graph.pbtxt'\u001b[0m\u001b[1;33m)\u001b[0m\u001b[1;33m)\u001b[0m\u001b[1;33m:\u001b[0m\u001b[1;33m\u001b[0m\u001b[0m\n\u001b[1;32m----> 2\u001b[1;33m   \u001b[0mtranslator\u001b[0m \u001b[1;33m=\u001b[0m \u001b[0mlearn\u001b[0m\u001b[1;33m.\u001b[0m\u001b[0mTensorFlowEstimator\u001b[0m\u001b[1;33m.\u001b[0m\u001b[0mrestore\u001b[0m\u001b[1;33m(\u001b[0m\u001b[0mPATH\u001b[0m\u001b[1;33m)\u001b[0m\u001b[1;33m\u001b[0m\u001b[0m\n\u001b[0m\u001b[0;32m      3\u001b[0m \u001b[1;32melse\u001b[0m\u001b[1;33m:\u001b[0m\u001b[1;33m\u001b[0m\u001b[0m\n\u001b[0;32m      4\u001b[0m   translator = learn.TensorFlowEstimator(model_fn=translate_model,\n\u001b[0;32m      5\u001b[0m       \u001b[0mn_classes\u001b[0m\u001b[1;33m=\u001b[0m\u001b[0mn_fr_words\u001b[0m\u001b[1;33m,\u001b[0m\u001b[1;33m\u001b[0m\u001b[0m\n",
      "\u001b[1;32m/usr/local/lib/python2.7/dist-packages/tensorflow/contrib/learn/python/learn/estimators/base.pyc\u001b[0m in \u001b[0;36mrestore\u001b[1;34m(cls, path, config)\u001b[0m\n\u001b[0;32m    459\u001b[0m       \u001b[0mcustom_estimator\u001b[0m \u001b[1;33m=\u001b[0m \u001b[0mTensorFlowEstimator\u001b[0m\u001b[1;33m(\u001b[0m\u001b[0mmodel_fn\u001b[0m\u001b[1;33m=\u001b[0m\u001b[0mNone\u001b[0m\u001b[1;33m,\u001b[0m \u001b[1;33m**\u001b[0m\u001b[0mmodel_def\u001b[0m\u001b[1;33m)\u001b[0m\u001b[1;33m\u001b[0m\u001b[0m\n\u001b[0;32m    460\u001b[0m       \u001b[1;31m# pylint: disable=protected-access\u001b[0m\u001b[1;33m\u001b[0m\u001b[1;33m\u001b[0m\u001b[0m\n\u001b[1;32m--> 461\u001b[1;33m       \u001b[0mcustom_estimator\u001b[0m\u001b[1;33m.\u001b[0m\u001b[0m_restore\u001b[0m\u001b[1;33m(\u001b[0m\u001b[0mpath\u001b[0m\u001b[1;33m)\u001b[0m\u001b[1;33m\u001b[0m\u001b[0m\n\u001b[0m\u001b[0;32m    462\u001b[0m       \u001b[1;32mreturn\u001b[0m \u001b[0mcustom_estimator\u001b[0m\u001b[1;33m\u001b[0m\u001b[0m\n\u001b[0;32m    463\u001b[0m \u001b[1;33m\u001b[0m\u001b[0m\n",
      "\u001b[1;32m/usr/local/lib/python2.7/dist-packages/tensorflow/contrib/learn/python/learn/estimators/base.pyc\u001b[0m in \u001b[0;36m_restore\u001b[1;34m(self, path)\u001b[0m\n\u001b[0;32m    418\u001b[0m       \u001b[0mpath\u001b[0m\u001b[1;33m:\u001b[0m \u001b[0mPath\u001b[0m \u001b[0mto\u001b[0m \u001b[0mcheckpoints\u001b[0m \u001b[1;32mand\u001b[0m \u001b[0mother\u001b[0m \u001b[0minformation\u001b[0m\u001b[1;33m.\u001b[0m\u001b[1;33m\u001b[0m\u001b[0m\n\u001b[0;32m    419\u001b[0m     \"\"\"\n\u001b[1;32m--> 420\u001b[1;33m     \u001b[1;32mraise\u001b[0m \u001b[0mNotImplementedError\u001b[0m\u001b[1;33m\u001b[0m\u001b[0m\n\u001b[0m\u001b[0;32m    421\u001b[0m \u001b[1;33m\u001b[0m\u001b[0m\n\u001b[0;32m    422\u001b[0m   \u001b[1;33m@\u001b[0m\u001b[0mclassmethod\u001b[0m\u001b[1;33m\u001b[0m\u001b[0m\n",
      "\u001b[1;31mNotImplementedError\u001b[0m: "
     ]
    }
   ],
   "source": [
    "if os.path.exists(os.path.join(PATH, 'graph.pbtxt')):\n",
    "  translator = learn.TensorFlowEstimator.restore(PATH)\n",
    "else:\n",
    "  translator = learn.TensorFlowEstimator(model_fn=translate_model,\n",
    "      n_classes=n_fr_words,\n",
    "      optimizer='Adam', learning_rate=0.01, batch_size=128,\n",
    "      continue_training=True, steps=10)"
   ]
  },
  {
   "cell_type": "code",
   "execution_count": 12,
   "metadata": {
    "collapsed": true
   },
   "outputs": [],
   "source": [
    "import warnings"
   ]
  },
  {
   "cell_type": "code",
   "execution_count": 13,
   "metadata": {
    "collapsed": true
   },
   "outputs": [],
   "source": [
    "warnings.filterwarnings(\"ignore\")"
   ]
  },
  {
   "cell_type": "code",
   "execution_count": 19,
   "metadata": {
    "collapsed": false
   },
   "outputs": [
    {
     "name": "stderr",
     "output_type": "stream",
     "text": [
      "WARNING:tensorflow:Given features: Tensor(\"input:0\", shape=(?, 10), dtype=int64), required signatures: TensorSignature(dtype=tf.int64, shape=TensorShape([Dimension(None), Dimension(10)]), is_sparse=False).\n",
      "WARNING:tensorflow:Given features: Tensor(\"input:0\", shape=(?, 10), dtype=int64), required signatures: TensorSignature(dtype=tf.int64, shape=TensorShape([Dimension(None), Dimension(10)]), is_sparse=False).\n",
      "WARNING:tensorflow:Given targets: Tensor(\"output:0\", shape=(?, 10, 1199), dtype=float32), required signatures: TensorSignature(dtype=tf.float32, shape=TensorShape([Dimension(None), Dimension(10), Dimension(1199)]), is_sparse=False).\n",
      "WARNING:tensorflow:Given targets: Tensor(\"output:0\", shape=(?, 10, 1199), dtype=float32), required signatures: TensorSignature(dtype=tf.float32, shape=TensorShape([Dimension(None), Dimension(10), Dimension(1199)]), is_sparse=False).\n",
      "WARNING:tensorflow:Given features: Tensor(\"input:0\", shape=(?, 10), dtype=int64), required signatures: TensorSignature(dtype=tf.int64, shape=TensorShape([Dimension(None), Dimension(10)]), is_sparse=False).\n",
      "WARNING:tensorflow:Given features: Tensor(\"input:0\", shape=(?, 10), dtype=int64), required signatures: TensorSignature(dtype=tf.int64, shape=TensorShape([Dimension(None), Dimension(10)]), is_sparse=False).\n",
      "WARNING:tensorflow:Given targets: Tensor(\"output:0\", shape=(?, 10, 1199), dtype=float32), required signatures: TensorSignature(dtype=tf.float32, shape=TensorShape([Dimension(None), Dimension(10), Dimension(1199)]), is_sparse=False).\n",
      "WARNING:tensorflow:Given targets: Tensor(\"output:0\", shape=(?, 10, 1199), dtype=float32), required signatures: TensorSignature(dtype=tf.float32, shape=TensorShape([Dimension(None), Dimension(10), Dimension(1199)]), is_sparse=False).\n"
     ]
    },
    {
     "name": "stdout",
     "output_type": "stream",
     "text": [
      " before: 자 <UNK> <UNK> <UNK> <UNK> <UNK> <UNK> <UNK> <UNK> <UNK>. \n",
      " A (pred): <UNK> 임팩트 움 움 움 움 움 움 움 움 움,\n",
      " A (gold): 자\n",
      "\n",
      "\n",
      " before: 보이다 <UNK> <UNK> <UNK> <UNK> <UNK> <UNK> <UNK> <UNK> <UNK>. \n",
      " A (pred): <UNK> 임팩트 움 움 움 움 움 움 움 움 움,\n",
      " A (gold): 보여 다오\n",
      "\n",
      "\n",
      " before: <UNK> 력 <UNK> <UNK> <UNK> <UNK> <UNK> <UNK> <UNK> <UNK>. \n",
      " A (pred): <UNK> 임팩트 움 움 움 움 움 움 움 움 움,\n",
      " A (gold): 설비 력\n",
      "\n",
      "\n",
      " before: 다시 자기 소개 하다 <UNK> <UNK> <UNK> <UNK> <UNK> <UNK>. \n",
      " A (pred): <UNK> 갈색 갈색 갈색 갈색 갈색 갈색 갈색 갈색 갈색 갈색,\n",
      " A (gold): 다시 자기 소개 하지"
     ]
    },
    {
     "name": "stderr",
     "output_type": "stream",
     "text": [
      "WARNING:tensorflow:Given features: Tensor(\"input:0\", shape=(?, 10), dtype=int64), required signatures: TensorSignature(dtype=tf.int64, shape=TensorShape([Dimension(None), Dimension(10)]), is_sparse=False).\n",
      "WARNING:tensorflow:Given features: Tensor(\"input:0\", shape=(?, 10), dtype=int64), required signatures: TensorSignature(dtype=tf.int64, shape=TensorShape([Dimension(None), Dimension(10)]), is_sparse=False).\n",
      "WARNING:tensorflow:Given targets: Tensor(\"output:0\", shape=(?, 10, 1199), dtype=float32), required signatures: TensorSignature(dtype=tf.float32, shape=TensorShape([Dimension(None), Dimension(10), Dimension(1199)]), is_sparse=False).\n",
      "WARNING:tensorflow:Given targets: Tensor(\"output:0\", shape=(?, 10, 1199), dtype=float32), required signatures: TensorSignature(dtype=tf.float32, shape=TensorShape([Dimension(None), Dimension(10), Dimension(1199)]), is_sparse=False).\n"
     ]
    },
    {
     "name": "stdout",
     "output_type": "stream",
     "text": [
      "\n",
      "\n",
      "\n",
      " before: 멈추다 않다 <UNK> <UNK> <UNK> <UNK> <UNK> <UNK> <UNK> <UNK>. \n",
      " A (pred): <UNK> 갈색 갈색 갈색 갈색 갈색 갈색 갈색 갈색 갈색 갈색,\n",
      " A (gold): 멈추지 않아\n",
      "\n",
      "\n",
      " before: 좋다 <UNK> <UNK> <UNK> <UNK> <UNK> <UNK> <UNK> <UNK> <UNK>. \n",
      " A (pred): <UNK> 갈색 갈색 갈색 갈색 갈색 갈색 갈색 갈색 갈색 갈색,\n",
      " A (gold): 좋 아\n",
      "\n",
      "\n",
      " before: 그건 마치 <UNK> <UNK> <UNK> <UNK> <UNK> <UNK> <UNK> <UNK>. \n",
      " A (pred): <UNK> 나이프 부탁드립니 부탁드립니 부탁드립니 부탁드립니 부탁드립니 부탁드립니 부탁드립니 부탁드립니 부탁드립니,\n",
      " A (gold): 그건 마치"
     ]
    },
    {
     "name": "stderr",
     "output_type": "stream",
     "text": [
      "WARNING:tensorflow:Given features: Tensor(\"input:0\", shape=(?, 10), dtype=int64), required signatures: TensorSignature(dtype=tf.int64, shape=TensorShape([Dimension(None), Dimension(10)]), is_sparse=False).\n",
      "WARNING:tensorflow:Given features: Tensor(\"input:0\", shape=(?, 10), dtype=int64), required signatures: TensorSignature(dtype=tf.int64, shape=TensorShape([Dimension(None), Dimension(10)]), is_sparse=False).\n",
      "WARNING:tensorflow:Given targets: Tensor(\"output:0\", shape=(?, 10, 1199), dtype=float32), required signatures: TensorSignature(dtype=tf.float32, shape=TensorShape([Dimension(None), Dimension(10), Dimension(1199)]), is_sparse=False).\n",
      "WARNING:tensorflow:Given targets: Tensor(\"output:0\", shape=(?, 10, 1199), dtype=float32), required signatures: TensorSignature(dtype=tf.float32, shape=TensorShape([Dimension(None), Dimension(10), Dimension(1199)]), is_sparse=False).\n"
     ]
    },
    {
     "name": "stdout",
     "output_type": "stream",
     "text": [
      "\n",
      "\n",
      "\n",
      " before: 그것 바로 이 곳 <UNK> <UNK> <UNK> <UNK> <UNK> <UNK>. \n",
      " A (pred): <UNK> 나이프 부탁드립니 부탁드립니 부탁드립니 부탁드립니 부탁드립니 부탁드립니 부탁드립니 부탁드립니 부탁드립니,\n",
      " A (gold): 그것 이 바로 이 곳\n",
      "\n",
      "\n",
      " before: 요리 하나 만들다 보다 <UNK> <UNK> <UNK> <UNK> <UNK> <UNK>. \n",
      " A (pred): 이 갈색 부탁드립니 부탁드립니 부탁드립니 부탁드립니 부탁드립니 부탁드립니 부탁드립니 부탁드립니 부탁드립니,\n",
      " A (gold): 요리 하나 를 만들어 보세 요\n",
      "\n",
      "\n",
      " before: 뭐 <UNK> <UNK> <UNK> <UNK> <UNK> <UNK> <UNK> <UNK> <UNK>. \n",
      " A (pred): <UNK> 맛보기 로서 듯 을래 을래 부탁드립니 블록 을래 을래 어차피,\n",
      " A (gold): 뭐"
     ]
    },
    {
     "name": "stderr",
     "output_type": "stream",
     "text": [
      "WARNING:tensorflow:Given features: Tensor(\"input:0\", shape=(?, 10), dtype=int64), required signatures: TensorSignature(dtype=tf.int64, shape=TensorShape([Dimension(None), Dimension(10)]), is_sparse=False).\n",
      "WARNING:tensorflow:Given features: Tensor(\"input:0\", shape=(?, 10), dtype=int64), required signatures: TensorSignature(dtype=tf.int64, shape=TensorShape([Dimension(None), Dimension(10)]), is_sparse=False).\n",
      "WARNING:tensorflow:Given targets: Tensor(\"output:0\", shape=(?, 10, 1199), dtype=float32), required signatures: TensorSignature(dtype=tf.float32, shape=TensorShape([Dimension(None), Dimension(10), Dimension(1199)]), is_sparse=False).\n",
      "WARNING:tensorflow:Given targets: Tensor(\"output:0\", shape=(?, 10, 1199), dtype=float32), required signatures: TensorSignature(dtype=tf.float32, shape=TensorShape([Dimension(None), Dimension(10), Dimension(1199)]), is_sparse=False).\n"
     ]
    },
    {
     "name": "stdout",
     "output_type": "stream",
     "text": [
      "\n",
      "\n",
      "\n",
      " before: 이렇다 걸 내놓다 <UNK> <UNK> <UNK> <UNK> <UNK> <UNK> <UNK>. \n",
      " A (pred): 이 예정 을래 을래 을래 딱 보면 을래 을래 부탁드립니 블록,\n",
      " A (gold): 이런 걸 내놓 다니\n",
      "\n",
      "\n",
      " before: 거기 이 요리 떠올리다 <UNK> <UNK> <UNK> <UNK> <UNK> <UNK>. \n",
      " A (pred): 이 예정 을래 을래 을래 딱 보면 을래 을래 딱 이라,\n",
      " A (gold): 거기 서 이 요리 를 떠올렸 다\n",
      "\n",
      "\n",
      " before: <UNK> <UNK> 호텔 <UNK> <UNK> <UNK> <UNK> <UNK> <UNK> <UNK>. \n",
      " A (pred): <UNK> 돌아왔 듯 <UNK> 듯 듯 <UNK> 듯 듯 <UNK> 데요,\n",
      " A (gold): 맨허튼 로열 호텔"
     ]
    },
    {
     "name": "stderr",
     "output_type": "stream",
     "text": [
      "WARNING:tensorflow:Given features: Tensor(\"input:0\", shape=(?, 10), dtype=int64), required signatures: TensorSignature(dtype=tf.int64, shape=TensorShape([Dimension(None), Dimension(10)]), is_sparse=False).\n",
      "WARNING:tensorflow:Given features: Tensor(\"input:0\", shape=(?, 10), dtype=int64), required signatures: TensorSignature(dtype=tf.int64, shape=TensorShape([Dimension(None), Dimension(10)]), is_sparse=False).\n",
      "WARNING:tensorflow:Given targets: Tensor(\"output:0\", shape=(?, 10, 1199), dtype=float32), required signatures: TensorSignature(dtype=tf.float32, shape=TensorShape([Dimension(None), Dimension(10), Dimension(1199)]), is_sparse=False).\n",
      "WARNING:tensorflow:Given targets: Tensor(\"output:0\", shape=(?, 10, 1199), dtype=float32), required signatures: TensorSignature(dtype=tf.float32, shape=TensorShape([Dimension(None), Dimension(10), Dimension(1199)]), is_sparse=False).\n"
     ]
    },
    {
     "name": "stdout",
     "output_type": "stream",
     "text": [
      "\n",
      "\n",
      "\n",
      " before: 오늘 <UNK> 더 <UNK> <UNK> <UNK> <UNK> <UNK> <UNK> <UNK>. \n",
      " A (pred): <UNK> 예정 듯 <UNK> 듯 듯 <UNK> 듯 을래 돌아왔 을래,\n",
      " A (gold): 오늘 은 평소 보다 더\n",
      "\n",
      "\n",
      " before: <UNK> 만 <UNK> <UNK> <UNK> <UNK> <UNK> <UNK> <UNK> <UNK>. \n",
      " A (pred): <UNK> 응축 듯 <UNK> 듯 듯 <UNK> 듯 듯 <UNK> 듯,\n",
      " A (gold): 박 에 만 엔 부터 니까\n",
      "\n",
      "\n",
      " before: 무섭다 만들다 미안하다 <UNK> <UNK> <UNK> <UNK> <UNK> <UNK> <UNK>. \n",
      " A (pred): <UNK> 예정 듯 <UNK> 듯 을래 듯 을래 응축 듯 <UNK>,\n",
      " A (gold): 무섭 게 만들어 서 미안해 요"
     ]
    },
    {
     "name": "stderr",
     "output_type": "stream",
     "text": [
      "WARNING:tensorflow:Given features: Tensor(\"input:0\", shape=(?, 10), dtype=int64), required signatures: TensorSignature(dtype=tf.int64, shape=TensorShape([Dimension(None), Dimension(10)]), is_sparse=False).\n",
      "WARNING:tensorflow:Given features: Tensor(\"input:0\", shape=(?, 10), dtype=int64), required signatures: TensorSignature(dtype=tf.int64, shape=TensorShape([Dimension(None), Dimension(10)]), is_sparse=False).\n",
      "WARNING:tensorflow:Given targets: Tensor(\"output:0\", shape=(?, 10, 1199), dtype=float32), required signatures: TensorSignature(dtype=tf.float32, shape=TensorShape([Dimension(None), Dimension(10), Dimension(1199)]), is_sparse=False).\n",
      "WARNING:tensorflow:Given targets: Tensor(\"output:0\", shape=(?, 10, 1199), dtype=float32), required signatures: TensorSignature(dtype=tf.float32, shape=TensorShape([Dimension(None), Dimension(10), Dimension(1199)]), is_sparse=False).\n"
     ]
    },
    {
     "name": "stdout",
     "output_type": "stream",
     "text": [
      "\n",
      "\n",
      "\n",
      " before: NAME <UNK> <UNK> <UNK> <UNK> <UNK> <UNK> <UNK> <UNK> <UNK>. \n",
      " A (pred): <UNK> 예정 듯 <UNK> 듯 을래 듯 을래 응축 듯 <UNK>,\n",
      " A (gold): NAME\n",
      "\n",
      "\n",
      " before: <UNK> 접시 째 <UNK> <UNK> <UNK> <UNK> <UNK> <UNK> <UNK>. \n",
      " A (pred): <UNK> 블록 듯 <UNK> 듯 을래 듯 을래 응축 듯 <UNK>,\n",
      " A (gold): 다섯 접시 째 다\n",
      "\n",
      "\n",
      " before: <UNK> 자다 굽다 내다 <UNK> <UNK> <UNK> <UNK> <UNK> <UNK>. \n",
      " A (pred): <UNK> 블록 듯 <UNK> 듯 듯 듯 <UNK> 듯 <UNK> 듯,\n",
      " A (gold): 오븐 에서 잘 구워 낸 다"
     ]
    },
    {
     "name": "stderr",
     "output_type": "stream",
     "text": [
      "WARNING:tensorflow:Given features: Tensor(\"input:0\", shape=(?, 10), dtype=int64), required signatures: TensorSignature(dtype=tf.int64, shape=TensorShape([Dimension(None), Dimension(10)]), is_sparse=False).\n",
      "WARNING:tensorflow:Given features: Tensor(\"input:0\", shape=(?, 10), dtype=int64), required signatures: TensorSignature(dtype=tf.int64, shape=TensorShape([Dimension(None), Dimension(10)]), is_sparse=False).\n",
      "WARNING:tensorflow:Given targets: Tensor(\"output:0\", shape=(?, 10, 1199), dtype=float32), required signatures: TensorSignature(dtype=tf.float32, shape=TensorShape([Dimension(None), Dimension(10), Dimension(1199)]), is_sparse=False).\n",
      "WARNING:tensorflow:Given targets: Tensor(\"output:0\", shape=(?, 10, 1199), dtype=float32), required signatures: TensorSignature(dtype=tf.float32, shape=TensorShape([Dimension(None), Dimension(10), Dimension(1199)]), is_sparse=False).\n"
     ]
    },
    {
     "name": "stdout",
     "output_type": "stream",
     "text": [
      "\n",
      "\n",
      "\n",
      " before: <UNK> 군 <UNK> <UNK> <UNK> <UNK> <UNK> <UNK> <UNK> <UNK>. \n",
      " A (pred): <UNK> 볼까 듯 <UNK> 듯 <UNK> 듯 <UNK> 듯 <UNK> 듯,\n",
      " A (gold): 요시노 군\n",
      "\n",
      "\n",
      " before: 니쿠미 <UNK> <UNK> <UNK> <UNK> <UNK> <UNK> <UNK> <UNK> <UNK>. \n",
      " A (pred): <UNK> 볼까 을래 지는 을래 응축 듯 <UNK> 데요 <UNK> 듯,\n",
      " A (gold): 니쿠미 가 …\n",
      "\n",
      "\n",
      " before: 네 방 주변 <UNK> <UNK> <UNK> <UNK> <UNK> <UNK> <UNK>. \n",
      " A (pred): 유키 이만 <UNK> 데요 들 데요 <UNK> 을래 지는 듯 듯,\n",
      " A (gold): 네 방 주변"
     ]
    },
    {
     "name": "stderr",
     "output_type": "stream",
     "text": [
      "WARNING:tensorflow:Given features: Tensor(\"input:0\", shape=(?, 10), dtype=int64), required signatures: TensorSignature(dtype=tf.int64, shape=TensorShape([Dimension(None), Dimension(10)]), is_sparse=False).\n",
      "WARNING:tensorflow:Given features: Tensor(\"input:0\", shape=(?, 10), dtype=int64), required signatures: TensorSignature(dtype=tf.int64, shape=TensorShape([Dimension(None), Dimension(10)]), is_sparse=False).\n",
      "WARNING:tensorflow:Given targets: Tensor(\"output:0\", shape=(?, 10, 1199), dtype=float32), required signatures: TensorSignature(dtype=tf.float32, shape=TensorShape([Dimension(None), Dimension(10), Dimension(1199)]), is_sparse=False).\n",
      "WARNING:tensorflow:Given targets: Tensor(\"output:0\", shape=(?, 10, 1199), dtype=float32), required signatures: TensorSignature(dtype=tf.float32, shape=TensorShape([Dimension(None), Dimension(10), Dimension(1199)]), is_sparse=False).\n"
     ]
    },
    {
     "name": "stdout",
     "output_type": "stream",
     "text": [
      "\n",
      "\n",
      "\n",
      " before: 이탈리아 요리 <UNK> 요 <UNK> <UNK> <UNK> <UNK> <UNK> <UNK>. \n",
      " A (pred): 이 이만 듯 데요 <UNK> 을래 들 하기 을래 <UNK> 듯,\n",
      " A (gold): 이탈리아 요리 의 매력 이니까 요\n",
      "\n",
      "\n",
      " before: <UNK> <UNK> 이 사람과 하다 <UNK> 되다 <UNK> <UNK> <UNK>. \n",
      " A (pred): <UNK> 돌아왔 데요 듯 하기 살 인데 데요 살 인데 데요,\n",
      " A (gold): 하필 이면 이 사람과 한 조가 되 다니 …\n",
      "\n",
      "\n",
      " before: 최고 요리 뭐 <UNK> <UNK> <UNK> <UNK> <UNK> <UNK> <UNK>. \n",
      " A (pred): 유키 이만 <UNK> 하기 살 인데 하기 살 인데 하기 살,\n",
      " A (gold): 최고 의 요리 는 뭐 지"
     ]
    },
    {
     "name": "stderr",
     "output_type": "stream",
     "text": [
      "WARNING:tensorflow:Given features: Tensor(\"input:0\", shape=(?, 10), dtype=int64), required signatures: TensorSignature(dtype=tf.int64, shape=TensorShape([Dimension(None), Dimension(10)]), is_sparse=False).\n",
      "WARNING:tensorflow:Given features: Tensor(\"input:0\", shape=(?, 10), dtype=int64), required signatures: TensorSignature(dtype=tf.int64, shape=TensorShape([Dimension(None), Dimension(10)]), is_sparse=False).\n",
      "WARNING:tensorflow:Given targets: Tensor(\"output:0\", shape=(?, 10, 1199), dtype=float32), required signatures: TensorSignature(dtype=tf.float32, shape=TensorShape([Dimension(None), Dimension(10), Dimension(1199)]), is_sparse=False).\n",
      "WARNING:tensorflow:Given targets: Tensor(\"output:0\", shape=(?, 10, 1199), dtype=float32), required signatures: TensorSignature(dtype=tf.float32, shape=TensorShape([Dimension(None), Dimension(10), Dimension(1199)]), is_sparse=False).\n"
     ]
    },
    {
     "name": "stdout",
     "output_type": "stream",
     "text": [
      "\n",
      "\n",
      "\n",
      " before: <UNK> <UNK> <UNK> <UNK> <UNK> <UNK> <UNK> <UNK> <UNK> <UNK>. \n",
      " A (pred): <UNK> 널 을지 듯 듯 들 살 살 살 듯 듯,\n",
      " A (gold): 잔인 …\n",
      "\n",
      "\n",
      " before: NAME 필요 없다 <UNK> <UNK> <UNK> <UNK> <UNK> <UNK> <UNK>. \n",
      " A (pred): 이 이만 <UNK> 하기 살 인데 하기 살 인데 하기 살,\n",
      " A (gold): NAME 에 필요 없어 요\n",
      "\n",
      "\n",
      " before: 이 것 좀 <UNK> <UNK> <UNK> <UNK> <UNK> <UNK> <UNK>. \n",
      " A (pred): 이 이만 <UNK> 잖아 듯 듯 듯 듯 듯 듯 듯,\n",
      " A (gold): 이건 좀 …"
     ]
    },
    {
     "name": "stderr",
     "output_type": "stream",
     "text": [
      "WARNING:tensorflow:Given features: Tensor(\"input:0\", shape=(?, 10), dtype=int64), required signatures: TensorSignature(dtype=tf.int64, shape=TensorShape([Dimension(None), Dimension(10)]), is_sparse=False).\n",
      "WARNING:tensorflow:Given features: Tensor(\"input:0\", shape=(?, 10), dtype=int64), required signatures: TensorSignature(dtype=tf.int64, shape=TensorShape([Dimension(None), Dimension(10)]), is_sparse=False).\n",
      "WARNING:tensorflow:Given targets: Tensor(\"output:0\", shape=(?, 10, 1199), dtype=float32), required signatures: TensorSignature(dtype=tf.float32, shape=TensorShape([Dimension(None), Dimension(10), Dimension(1199)]), is_sparse=False).\n",
      "WARNING:tensorflow:Given targets: Tensor(\"output:0\", shape=(?, 10, 1199), dtype=float32), required signatures: TensorSignature(dtype=tf.float32, shape=TensorShape([Dimension(None), Dimension(10), Dimension(1199)]), is_sparse=False).\n"
     ]
    },
    {
     "name": "stdout",
     "output_type": "stream",
     "text": [
      "\n",
      "\n",
      "\n",
      " before: <UNK> 아직 분 더 <UNK> 하다 <UNK> <UNK> <UNK> <UNK>. \n",
      " A (pred): <UNK> 돌아왔 데요 은 살 살 <UNK> 하기 데요 예정 <UNK>,\n",
      " A (gold): 그야 아직 분 은 더 끓여 야 하니 까\n",
      "\n",
      "\n",
      " before: 재료 <UNK> 만족 하다 <UNK> <UNK> <UNK> <UNK> <UNK> <UNK>. \n",
      " A (pred): <UNK> 널 <UNK> 잖아 듯 듯 듯 듯 듯 듯 예정,\n",
      " A (gold): 재료 의 가격 만으로 만족해서 야\n",
      "\n",
      "\n",
      " before: 학교 최고 <UNK> 결정 <UNK> <UNK> <UNK> <UNK> <UNK> <UNK>. \n",
      " A (pred): 이 이만 <UNK> 잖아 잖아 잖아 잖아 잖아 잖아 잖아 잖아,\n",
      " A (gold): 학교 최고 의사 결정 기관"
     ]
    },
    {
     "name": "stderr",
     "output_type": "stream",
     "text": [
      "WARNING:tensorflow:Given features: Tensor(\"input:0\", shape=(?, 10), dtype=int64), required signatures: TensorSignature(dtype=tf.int64, shape=TensorShape([Dimension(None), Dimension(10)]), is_sparse=False).\n",
      "WARNING:tensorflow:Given features: Tensor(\"input:0\", shape=(?, 10), dtype=int64), required signatures: TensorSignature(dtype=tf.int64, shape=TensorShape([Dimension(None), Dimension(10)]), is_sparse=False).\n",
      "WARNING:tensorflow:Given targets: Tensor(\"output:0\", shape=(?, 10, 1199), dtype=float32), required signatures: TensorSignature(dtype=tf.float32, shape=TensorShape([Dimension(None), Dimension(10), Dimension(1199)]), is_sparse=False).\n",
      "WARNING:tensorflow:Given targets: Tensor(\"output:0\", shape=(?, 10, 1199), dtype=float32), required signatures: TensorSignature(dtype=tf.float32, shape=TensorShape([Dimension(None), Dimension(10), Dimension(1199)]), is_sparse=False).\n"
     ]
    },
    {
     "name": "stdout",
     "output_type": "stream",
     "text": [
      "\n",
      "\n",
      "\n",
      " before: 포기 하다 좋다 <UNK> <UNK> <UNK> <UNK> <UNK> <UNK> <UNK>. \n",
      " A (pred): 그럼 늘 <UNK> 잖아 잖아 잖아 잖아 잖아 잖아 잖아 잖아,\n",
      " A (gold): 포기하면 좋 을 텐데\n",
      "\n",
      "\n",
      " before: <UNK> <UNK> 하다 수 있다 <UNK> <UNK> <UNK> <UNK> <UNK>. \n",
      " A (pred): <UNK> 돌아왔 돌아왔 돌아왔 돌아왔 돌아왔 데요 데요 데요 데요 데요,\n",
      " A (gold): 학위 도 이수 할 수 있으 니까\n",
      "\n",
      "\n",
      " before: 아 <UNK> <UNK> <UNK> <UNK> <UNK> <UNK> <UNK> <UNK> <UNK>. \n",
      " A (pred): <UNK> 어이 <UNK> 을래 잖아 잖아 잖아 잖아 잖아 잖아 잖아,\n",
      " A (gold): 아"
     ]
    },
    {
     "name": "stderr",
     "output_type": "stream",
     "text": [
      "WARNING:tensorflow:Given features: Tensor(\"input:0\", shape=(?, 10), dtype=int64), required signatures: TensorSignature(dtype=tf.int64, shape=TensorShape([Dimension(None), Dimension(10)]), is_sparse=False).\n",
      "WARNING:tensorflow:Given features: Tensor(\"input:0\", shape=(?, 10), dtype=int64), required signatures: TensorSignature(dtype=tf.int64, shape=TensorShape([Dimension(None), Dimension(10)]), is_sparse=False).\n",
      "WARNING:tensorflow:Given targets: Tensor(\"output:0\", shape=(?, 10, 1199), dtype=float32), required signatures: TensorSignature(dtype=tf.float32, shape=TensorShape([Dimension(None), Dimension(10), Dimension(1199)]), is_sparse=False).\n",
      "WARNING:tensorflow:Given targets: Tensor(\"output:0\", shape=(?, 10, 1199), dtype=float32), required signatures: TensorSignature(dtype=tf.float32, shape=TensorShape([Dimension(None), Dimension(10), Dimension(1199)]), is_sparse=False).\n"
     ]
    },
    {
     "name": "stdout",
     "output_type": "stream",
     "text": [
      "\n",
      "\n",
      "\n",
      " before: 생각 하다 <UNK> <UNK> <UNK> <UNK> <UNK> <UNK> <UNK> <UNK>. \n",
      " A (pred): <UNK> 어이 <UNK> 없네 잖아 잖아 잖아 잖아 잖아 잖아 잖아,\n",
      " A (gold): 생각해 라\n",
      "\n",
      "\n",
      " before: 아직 몇 번 맛보다 싶다 <UNK> <UNK> <UNK> <UNK> <UNK>. \n",
      " A (pred): 이 라라 <UNK> 을래 잖아 잖아 잖아 잖아 잖아 잖아 잖아,\n",
      " A (gold): 아직 몇 번 이고 맛보고 싶다 는\n",
      "\n",
      "\n",
      " before: 전 여기 앉다 테 <UNK> <UNK> <UNK> <UNK> <UNK> <UNK>. \n",
      " A (pred): 이 첫 <UNK> 없네 없네 없네 없네 없네 없네 없네 없네,\n",
      " A (gold): 전 여기 앉아 있 을 테 니까"
     ]
    },
    {
     "name": "stderr",
     "output_type": "stream",
     "text": [
      "WARNING:tensorflow:Given features: Tensor(\"input:0\", shape=(?, 10), dtype=int64), required signatures: TensorSignature(dtype=tf.int64, shape=TensorShape([Dimension(None), Dimension(10)]), is_sparse=False).\n",
      "WARNING:tensorflow:Given features: Tensor(\"input:0\", shape=(?, 10), dtype=int64), required signatures: TensorSignature(dtype=tf.int64, shape=TensorShape([Dimension(None), Dimension(10)]), is_sparse=False).\n",
      "WARNING:tensorflow:Given targets: Tensor(\"output:0\", shape=(?, 10, 1199), dtype=float32), required signatures: TensorSignature(dtype=tf.float32, shape=TensorShape([Dimension(None), Dimension(10), Dimension(1199)]), is_sparse=False).\n",
      "WARNING:tensorflow:Given targets: Tensor(\"output:0\", shape=(?, 10, 1199), dtype=float32), required signatures: TensorSignature(dtype=tf.float32, shape=TensorShape([Dimension(None), Dimension(10), Dimension(1199)]), is_sparse=False).\n"
     ]
    },
    {
     "name": "stdout",
     "output_type": "stream",
     "text": [
      "\n",
      "\n",
      "\n",
      " before: <UNK> 요리 이다 <UNK> <UNK> <UNK> <UNK> <UNK> <UNK> <UNK>. \n",
      " A (pred): <UNK> 버렸 버렸 버렸 버렸 버렸 버렸 버렸 버렸 버렸 버렸,\n",
      " A (gold): 무난 한 요리 였 잖 아\n",
      "\n",
      "\n",
      " before: 남 보이다 선 안 되다 <UNK> <UNK> <UNK> <UNK> <UNK>. \n",
      " A (pred): 이 라라 <UNK> 없네 없네 없네 없네 없네 없네 없네 없네,\n",
      " A (gold): 남 에게 보여 선 안 된 다\n",
      "\n",
      "\n",
      " before: 유키 히 <UNK> <UNK> <UNK> <UNK> <UNK> <UNK> <UNK> <UNK>. \n",
      " A (pred): 유키 어이 <UNK> 없네 없네 없네 없네 없네 없네 없네 없네,\n",
      " A (gold): 유키 히 라는"
     ]
    },
    {
     "name": "stderr",
     "output_type": "stream",
     "text": [
      "WARNING:tensorflow:Given features: Tensor(\"input:0\", shape=(?, 10), dtype=int64), required signatures: TensorSignature(dtype=tf.int64, shape=TensorShape([Dimension(None), Dimension(10)]), is_sparse=False).\n",
      "WARNING:tensorflow:Given features: Tensor(\"input:0\", shape=(?, 10), dtype=int64), required signatures: TensorSignature(dtype=tf.int64, shape=TensorShape([Dimension(None), Dimension(10)]), is_sparse=False).\n",
      "WARNING:tensorflow:Given targets: Tensor(\"output:0\", shape=(?, 10, 1199), dtype=float32), required signatures: TensorSignature(dtype=tf.float32, shape=TensorShape([Dimension(None), Dimension(10), Dimension(1199)]), is_sparse=False).\n",
      "WARNING:tensorflow:Given targets: Tensor(\"output:0\", shape=(?, 10, 1199), dtype=float32), required signatures: TensorSignature(dtype=tf.float32, shape=TensorShape([Dimension(None), Dimension(10), Dimension(1199)]), is_sparse=False).\n"
     ]
    },
    {
     "name": "stdout",
     "output_type": "stream",
     "text": [
      "\n",
      "\n",
      "\n",
      " before: 어머 <UNK> <UNK> <UNK> <UNK> <UNK> <UNK> <UNK> <UNK> <UNK>. \n",
      " A (pred): <UNK> 어이 <UNK> 없네 없네 없네 없네 없네 없네 없네 없네,\n",
      " A (gold): 어머\n",
      "\n",
      "\n",
      " before: 우선 아들 사과 하다 <UNK> <UNK> <UNK> <UNK> <UNK> <UNK>. \n",
      " A (pred): 그 그럼 <UNK> 없네 없네 없네 없네 없네 없네 없네 없네,\n",
      " A (gold): 우선 아들 에게 사과해\n",
      "\n",
      "\n",
      " before: 다지다 고기 소 돼지 <UNK> <UNK> <UNK> <UNK> <UNK> <UNK>. \n",
      " A (pred): 이 라라 <UNK> 없네 없네 없네 없네 없네 없네 없네 없네,\n",
      " A (gold): 다진 고기 는 소 든 돼지 든"
     ]
    },
    {
     "name": "stderr",
     "output_type": "stream",
     "text": [
      "WARNING:tensorflow:Given features: Tensor(\"input:0\", shape=(?, 10), dtype=int64), required signatures: TensorSignature(dtype=tf.int64, shape=TensorShape([Dimension(None), Dimension(10)]), is_sparse=False).\n",
      "WARNING:tensorflow:Given features: Tensor(\"input:0\", shape=(?, 10), dtype=int64), required signatures: TensorSignature(dtype=tf.int64, shape=TensorShape([Dimension(None), Dimension(10)]), is_sparse=False).\n",
      "WARNING:tensorflow:Given targets: Tensor(\"output:0\", shape=(?, 10, 1199), dtype=float32), required signatures: TensorSignature(dtype=tf.float32, shape=TensorShape([Dimension(None), Dimension(10), Dimension(1199)]), is_sparse=False).\n",
      "WARNING:tensorflow:Given targets: Tensor(\"output:0\", shape=(?, 10, 1199), dtype=float32), required signatures: TensorSignature(dtype=tf.float32, shape=TensorShape([Dimension(None), Dimension(10), Dimension(1199)]), is_sparse=False).\n"
     ]
    },
    {
     "name": "stdout",
     "output_type": "stream",
     "text": [
      "\n",
      "\n",
      "\n",
      " before: 손님 원 하다 요리 <UNK> 하다 <UNK> <UNK> <UNK> <UNK>. \n",
      " A (pred): 이 속 <UNK> 없네 없네 없네 없네 없네 없네 없네 없네,\n",
      " A (gold): 손님 이 원하는 요리 를 제공합 니다\n",
      "\n",
      "\n",
      " before: 가다 <UNK> 볼 건 없다 <UNK> <UNK> <UNK> <UNK> <UNK>. \n",
      " A (pred): <UNK> 버렸 버렸 버렸 버렸 버렸 버렸 버렸 버렸 버렸 버렸,\n",
      " A (gold): 가서 손해 볼 건 없지\n",
      "\n",
      "\n",
      " before: <UNK> 돼다 <UNK> <UNK> <UNK> <UNK> <UNK> <UNK> <UNK> <UNK>. \n",
      " A (pred): <UNK> 버렸 버렸 버렸 버렸 버렸 버렸 버렸 버렸 버렸 버렸,\n",
      " A (gold): 엉망 이 됐 어"
     ]
    },
    {
     "name": "stderr",
     "output_type": "stream",
     "text": [
      "WARNING:tensorflow:Given features: Tensor(\"input:0\", shape=(?, 10), dtype=int64), required signatures: TensorSignature(dtype=tf.int64, shape=TensorShape([Dimension(None), Dimension(10)]), is_sparse=False).\n",
      "WARNING:tensorflow:Given features: Tensor(\"input:0\", shape=(?, 10), dtype=int64), required signatures: TensorSignature(dtype=tf.int64, shape=TensorShape([Dimension(None), Dimension(10)]), is_sparse=False).\n",
      "WARNING:tensorflow:Given targets: Tensor(\"output:0\", shape=(?, 10, 1199), dtype=float32), required signatures: TensorSignature(dtype=tf.float32, shape=TensorShape([Dimension(None), Dimension(10), Dimension(1199)]), is_sparse=False).\n",
      "WARNING:tensorflow:Given targets: Tensor(\"output:0\", shape=(?, 10, 1199), dtype=float32), required signatures: TensorSignature(dtype=tf.float32, shape=TensorShape([Dimension(None), Dimension(10), Dimension(1199)]), is_sparse=False).\n"
     ]
    },
    {
     "name": "stdout",
     "output_type": "stream",
     "text": [
      "\n",
      "\n",
      "\n",
      " before: 덮다 밥 연구 회 <UNK> <UNK> <UNK> <UNK> <UNK> <UNK>. \n",
      " A (pred): 이 첫 <UNK> 없네 없네 없네 없네 없네 없네 없네 없네,\n",
      " A (gold): 덮 밥 연구 회\n",
      "\n",
      "\n",
      " before: 반드시 받아들이다 <UNK> <UNK> <UNK> <UNK> <UNK> <UNK> <UNK> <UNK>. \n",
      " A (pred): <UNK> 어이 <UNK> 없네 없네 없네 없네 없네 없네 없네 없네,\n",
      " A (gold): 반드시 받아들여 라\n",
      "\n",
      "\n",
      " before: <UNK> 요리 <UNK> 하다 과제 수행 하다 <UNK> <UNK> <UNK>. \n",
      " A (pred): <UNK> 버렸 버렸 버렸 버렸 버렸 버렸 버렸 버렸 버렸 버렸,\n",
      " A (gold): 매일 요리 에 관한 과제 를 수행한 다"
     ]
    },
    {
     "name": "stderr",
     "output_type": "stream",
     "text": [
      "WARNING:tensorflow:Given features: Tensor(\"input:0\", shape=(?, 10), dtype=int64), required signatures: TensorSignature(dtype=tf.int64, shape=TensorShape([Dimension(None), Dimension(10)]), is_sparse=False).\n",
      "WARNING:tensorflow:Given features: Tensor(\"input:0\", shape=(?, 10), dtype=int64), required signatures: TensorSignature(dtype=tf.int64, shape=TensorShape([Dimension(None), Dimension(10)]), is_sparse=False).\n",
      "WARNING:tensorflow:Given targets: Tensor(\"output:0\", shape=(?, 10, 1199), dtype=float32), required signatures: TensorSignature(dtype=tf.float32, shape=TensorShape([Dimension(None), Dimension(10), Dimension(1199)]), is_sparse=False).\n",
      "WARNING:tensorflow:Given targets: Tensor(\"output:0\", shape=(?, 10, 1199), dtype=float32), required signatures: TensorSignature(dtype=tf.float32, shape=TensorShape([Dimension(None), Dimension(10), Dimension(1199)]), is_sparse=False).\n"
     ]
    },
    {
     "name": "stdout",
     "output_type": "stream",
     "text": [
      "\n",
      "\n",
      "\n",
      " before: 파 소금 양념 <UNK> 데 <UNK> <UNK> <UNK> <UNK> <UNK>. \n",
      " A (pred): 이 첫 <UNK> 없네 없네 없네 없네 없네 없네 없네 없네,\n",
      " A (gold): 파 소금 양념 을 무친 데 다가\n",
      "\n",
      "\n",
      " before: 그리고 <UNK> <UNK> <UNK> <UNK> <UNK> <UNK> <UNK> <UNK> <UNK>. \n",
      " A (pred): 네 어이 <UNK> 없네 없네 없네 없네 없네 없네 없네 없네,\n",
      " A (gold): 그리고\n",
      "\n",
      "\n",
      " before: NAME 군 같다 <UNK> <UNK> <UNK> <UNK> <UNK> <UNK> <UNK>. \n",
      " A (pred): NAME 씹 <UNK> 없네 없네 없네 없네 없네 없네 없네 없네,\n",
      " A (gold): NAME 군 같아"
     ]
    },
    {
     "name": "stderr",
     "output_type": "stream",
     "text": [
      "WARNING:tensorflow:Given features: Tensor(\"input:0\", shape=(?, 10), dtype=int64), required signatures: TensorSignature(dtype=tf.int64, shape=TensorShape([Dimension(None), Dimension(10)]), is_sparse=False).\n",
      "WARNING:tensorflow:Given features: Tensor(\"input:0\", shape=(?, 10), dtype=int64), required signatures: TensorSignature(dtype=tf.int64, shape=TensorShape([Dimension(None), Dimension(10)]), is_sparse=False).\n",
      "WARNING:tensorflow:Given targets: Tensor(\"output:0\", shape=(?, 10, 1199), dtype=float32), required signatures: TensorSignature(dtype=tf.float32, shape=TensorShape([Dimension(None), Dimension(10), Dimension(1199)]), is_sparse=False).\n",
      "WARNING:tensorflow:Given targets: Tensor(\"output:0\", shape=(?, 10, 1199), dtype=float32), required signatures: TensorSignature(dtype=tf.float32, shape=TensorShape([Dimension(None), Dimension(10), Dimension(1199)]), is_sparse=False).\n"
     ]
    },
    {
     "name": "stdout",
     "output_type": "stream",
     "text": [
      "\n",
      "\n",
      "\n",
      " before: 그야말로 봄 <UNK> 그 자체 <UNK> <UNK> <UNK> <UNK> <UNK>. \n",
      " A (pred): 이 씹 <UNK> 없네 없네 없네 없네 없네 없네 없네 없네,\n",
      " A (gold): 그야말로 봄 의 생명력 그 자체\n",
      "\n",
      "\n",
      " before: 조금 <UNK> 요리 <UNK> <UNK> <UNK> <UNK> <UNK> <UNK> <UNK>. \n",
      " A (pred): 이 어이 <UNK> 없네 없네 없네 없네 없네 없네 없네 없네,\n",
      " A (gold): 조금 전의 요리 에\n",
      "\n",
      "\n",
      " before: 나다 말 <UNK> <UNK> <UNK> <UNK> <UNK> <UNK> <UNK> <UNK>. \n",
      " A (pred): 아 어이 <UNK> 없네 없네 없네 없네 없네 없네 없네 없네,\n",
      " A (gold): 나도 말 이야"
     ]
    },
    {
     "name": "stderr",
     "output_type": "stream",
     "text": [
      "WARNING:tensorflow:Given features: Tensor(\"input:0\", shape=(?, 10), dtype=int64), required signatures: TensorSignature(dtype=tf.int64, shape=TensorShape([Dimension(None), Dimension(10)]), is_sparse=False).\n",
      "WARNING:tensorflow:Given features: Tensor(\"input:0\", shape=(?, 10), dtype=int64), required signatures: TensorSignature(dtype=tf.int64, shape=TensorShape([Dimension(None), Dimension(10)]), is_sparse=False).\n",
      "WARNING:tensorflow:Given targets: Tensor(\"output:0\", shape=(?, 10, 1199), dtype=float32), required signatures: TensorSignature(dtype=tf.float32, shape=TensorShape([Dimension(None), Dimension(10), Dimension(1199)]), is_sparse=False).\n",
      "WARNING:tensorflow:Given targets: Tensor(\"output:0\", shape=(?, 10, 1199), dtype=float32), required signatures: TensorSignature(dtype=tf.float32, shape=TensorShape([Dimension(None), Dimension(10), Dimension(1199)]), is_sparse=False).\n"
     ]
    },
    {
     "name": "stdout",
     "output_type": "stream",
     "text": [
      "\n",
      "\n",
      "\n",
      " before: NAME 많다 일이 <UNK> <UNK> <UNK> <UNK> <UNK> <UNK> <UNK>. \n",
      " A (pred): NAME 씹 <UNK> 없네 없네 없네 없네 없네 없네 없네 없네,\n",
      " A (gold): NAME 에서는 많은 일이\n",
      "\n",
      "\n",
      " before: 그 요리사 웃다 않다 <UNK> <UNK> <UNK> <UNK> <UNK> <UNK>. \n",
      " A (pred): 이 어이 <UNK> 없네 없네 없네 없네 없네 없네 없네 없네,\n",
      " A (gold): 그 요리사 는 웃지 않는 다\n",
      "\n",
      "\n",
      " before: 실력 <UNK> <UNK> <UNK> <UNK> <UNK> <UNK> <UNK> <UNK> <UNK>. \n",
      " A (pred): 네 어이 <UNK> 없네 없네 없네 없네 없네 없네 없네 없네,\n",
      " A (gold): 실력 테스트 는 필수 다"
     ]
    },
    {
     "name": "stderr",
     "output_type": "stream",
     "text": [
      "WARNING:tensorflow:Given features: Tensor(\"input:0\", shape=(?, 10), dtype=int64), required signatures: TensorSignature(dtype=tf.int64, shape=TensorShape([Dimension(None), Dimension(10)]), is_sparse=False).\n",
      "WARNING:tensorflow:Given features: Tensor(\"input:0\", shape=(?, 10), dtype=int64), required signatures: TensorSignature(dtype=tf.int64, shape=TensorShape([Dimension(None), Dimension(10)]), is_sparse=False).\n",
      "WARNING:tensorflow:Given targets: Tensor(\"output:0\", shape=(?, 10, 1199), dtype=float32), required signatures: TensorSignature(dtype=tf.float32, shape=TensorShape([Dimension(None), Dimension(10), Dimension(1199)]), is_sparse=False).\n",
      "WARNING:tensorflow:Given targets: Tensor(\"output:0\", shape=(?, 10, 1199), dtype=float32), required signatures: TensorSignature(dtype=tf.float32, shape=TensorShape([Dimension(None), Dimension(10), Dimension(1199)]), is_sparse=False).\n"
     ]
    },
    {
     "name": "stdout",
     "output_type": "stream",
     "text": [
      "\n",
      "\n",
      "\n",
      " before: <UNK> 떠나다 때 NAME <UNK> <UNK> <UNK> <UNK> <UNK> <UNK>. \n",
      " A (pred): <UNK> 버렸 버렸 버렸 버렸 버렸 버렸 버렸 버렸 버렸 버렸,\n",
      " A (gold): 여행 을 떠날 때 다 NAME\n",
      "\n",
      "\n",
      " before: 지방 <UNK> 등 <UNK> <UNK> <UNK> <UNK> <UNK> <UNK> <UNK>. \n",
      " A (pred): <UNK> 어이 <UNK> 없네 없네 없네 없네 없네 없네 없네 없네,\n",
      " A (gold): 지방 의 광택 등\n",
      "\n",
      "\n",
      " before: 뭐 내 <UNK> 내놓다 <UNK> <UNK> <UNK> <UNK> <UNK> <UNK>. \n",
      " A (pred): 그 어이 길 없네 없네 없네 없네 없네 없네 없네 없네,\n",
      " A (gold): 뭐 내 가 지난주 에 내놓 은"
     ]
    },
    {
     "name": "stderr",
     "output_type": "stream",
     "text": [
      "WARNING:tensorflow:Given features: Tensor(\"input:0\", shape=(?, 10), dtype=int64), required signatures: TensorSignature(dtype=tf.int64, shape=TensorShape([Dimension(None), Dimension(10)]), is_sparse=False).\n",
      "WARNING:tensorflow:Given features: Tensor(\"input:0\", shape=(?, 10), dtype=int64), required signatures: TensorSignature(dtype=tf.int64, shape=TensorShape([Dimension(None), Dimension(10)]), is_sparse=False).\n",
      "WARNING:tensorflow:Given targets: Tensor(\"output:0\", shape=(?, 10, 1199), dtype=float32), required signatures: TensorSignature(dtype=tf.float32, shape=TensorShape([Dimension(None), Dimension(10), Dimension(1199)]), is_sparse=False).\n",
      "WARNING:tensorflow:Given targets: Tensor(\"output:0\", shape=(?, 10, 1199), dtype=float32), required signatures: TensorSignature(dtype=tf.float32, shape=TensorShape([Dimension(None), Dimension(10), Dimension(1199)]), is_sparse=False).\n"
     ]
    },
    {
     "name": "stdout",
     "output_type": "stream",
     "text": [
      "\n",
      "\n",
      "\n",
      " before: 잠깐 <UNK> <UNK> <UNK> <UNK> <UNK> <UNK> <UNK> <UNK> <UNK>. \n",
      " A (pred): 네 어이 <UNK> 없네 없네 없네 없네 없네 없네 없네 없네,\n",
      " A (gold): 잠깐\n",
      "\n",
      "\n",
      " before: 고기 <UNK> <UNK> <UNK> <UNK> <UNK> <UNK> <UNK> <UNK> <UNK>. \n",
      " A (pred): NAME 어이 길 없네 없네 없네 없네 없네 없네 없네 없네,\n",
      " A (gold): 고기 가 …\n",
      "\n",
      "\n",
      " before: <UNK> <UNK> <UNK> <UNK> <UNK> <UNK> <UNK> <UNK> <UNK> <UNK>. \n",
      " A (pred): <UNK> 버렸 버렸 버렸 버렸 버렸 버렸 버렸 버렸 버렸 버렸,\n",
      " A (gold): 해산"
     ]
    },
    {
     "name": "stderr",
     "output_type": "stream",
     "text": [
      "WARNING:tensorflow:Given features: Tensor(\"input:0\", shape=(?, 10), dtype=int64), required signatures: TensorSignature(dtype=tf.int64, shape=TensorShape([Dimension(None), Dimension(10)]), is_sparse=False).\n",
      "WARNING:tensorflow:Given features: Tensor(\"input:0\", shape=(?, 10), dtype=int64), required signatures: TensorSignature(dtype=tf.int64, shape=TensorShape([Dimension(None), Dimension(10)]), is_sparse=False).\n",
      "WARNING:tensorflow:Given targets: Tensor(\"output:0\", shape=(?, 10, 1199), dtype=float32), required signatures: TensorSignature(dtype=tf.float32, shape=TensorShape([Dimension(None), Dimension(10), Dimension(1199)]), is_sparse=False).\n",
      "WARNING:tensorflow:Given targets: Tensor(\"output:0\", shape=(?, 10, 1199), dtype=float32), required signatures: TensorSignature(dtype=tf.float32, shape=TensorShape([Dimension(None), Dimension(10), Dimension(1199)]), is_sparse=False).\n"
     ]
    },
    {
     "name": "stdout",
     "output_type": "stream",
     "text": [
      "\n",
      "\n",
      "\n",
      " before: 제대로 되다 재료 <UNK> <UNK> <UNK> <UNK> <UNK> <UNK> <UNK>. \n",
      " A (pred): 이 씹 길 없네 없네 없네 없네 없네 없네 없네 없네,\n",
      " A (gold): 제대로 된 재료 도 없이\n",
      "\n",
      "\n",
      " before: 고기 부드럽다 거지 <UNK> <UNK> <UNK> <UNK> <UNK> <UNK> <UNK>. \n",
      " A (pred): NAME 씹 길 없네 없네 없네 없네 없네 없네 없네 없네,\n",
      " A (gold): 고기 가 부드러워 지는 거지\n",
      "\n",
      "\n",
      " before: 솜씨 좋다 <UNK> <UNK> <UNK> <UNK> <UNK> <UNK> <UNK> <UNK>. \n",
      " A (pred): 하지만 어이 길 없네 없네 없네 없네 없네 없네 없네 없네,\n",
      " A (gold): 솜씨 가 좋 기에"
     ]
    },
    {
     "name": "stderr",
     "output_type": "stream",
     "text": [
      "WARNING:tensorflow:Given features: Tensor(\"input:0\", shape=(?, 10), dtype=int64), required signatures: TensorSignature(dtype=tf.int64, shape=TensorShape([Dimension(None), Dimension(10)]), is_sparse=False).\n",
      "WARNING:tensorflow:Given features: Tensor(\"input:0\", shape=(?, 10), dtype=int64), required signatures: TensorSignature(dtype=tf.int64, shape=TensorShape([Dimension(None), Dimension(10)]), is_sparse=False).\n",
      "WARNING:tensorflow:Given targets: Tensor(\"output:0\", shape=(?, 10, 1199), dtype=float32), required signatures: TensorSignature(dtype=tf.float32, shape=TensorShape([Dimension(None), Dimension(10), Dimension(1199)]), is_sparse=False).\n",
      "WARNING:tensorflow:Given targets: Tensor(\"output:0\", shape=(?, 10, 1199), dtype=float32), required signatures: TensorSignature(dtype=tf.float32, shape=TensorShape([Dimension(None), Dimension(10), Dimension(1199)]), is_sparse=False).\n"
     ]
    },
    {
     "name": "stdout",
     "output_type": "stream",
     "text": [
      "\n",
      "\n",
      "\n",
      " before: 건 <UNK> <UNK> <UNK> <UNK> <UNK> <UNK> <UNK> <UNK> <UNK>. \n",
      " A (pred): <UNK> 어이 길 없네 없네 없네 없네 없네 없네 없네 없네,\n",
      " A (gold): 건 남짓 걷어 차고\n",
      "\n",
      "\n",
      " before: 타도 코로 NAME 양 <UNK> <UNK> <UNK> <UNK> <UNK> <UNK>. \n",
      " A (pred): 하지만 어이 <UNK> 없네 없네 없네 없네 없네 없네 없네 없네,\n",
      " A (gold): 타도 코로 NAME 양\n",
      "\n",
      "\n",
      " before: 아니다 <UNK> <UNK> <UNK> <UNK> <UNK> <UNK> <UNK> <UNK> <UNK>. \n",
      " A (pred): 네 어이 길 없네 없네 없네 없네 없네 없네 없네 없네,\n",
      " A (gold): 아니 다"
     ]
    },
    {
     "name": "stderr",
     "output_type": "stream",
     "text": [
      "WARNING:tensorflow:Given features: Tensor(\"input:0\", shape=(?, 10), dtype=int64), required signatures: TensorSignature(dtype=tf.int64, shape=TensorShape([Dimension(None), Dimension(10)]), is_sparse=False).\n",
      "WARNING:tensorflow:Given features: Tensor(\"input:0\", shape=(?, 10), dtype=int64), required signatures: TensorSignature(dtype=tf.int64, shape=TensorShape([Dimension(None), Dimension(10)]), is_sparse=False).\n",
      "WARNING:tensorflow:Given targets: Tensor(\"output:0\", shape=(?, 10, 1199), dtype=float32), required signatures: TensorSignature(dtype=tf.float32, shape=TensorShape([Dimension(None), Dimension(10), Dimension(1199)]), is_sparse=False).\n",
      "WARNING:tensorflow:Given targets: Tensor(\"output:0\", shape=(?, 10, 1199), dtype=float32), required signatures: TensorSignature(dtype=tf.float32, shape=TensorShape([Dimension(None), Dimension(10), Dimension(1199)]), is_sparse=False).\n"
     ]
    },
    {
     "name": "stdout",
     "output_type": "stream",
     "text": [
      "\n",
      "\n",
      "\n",
      " before: 예정 <UNK> 안 <UNK> <UNK> <UNK> <UNK> <UNK> <UNK> <UNK>. \n",
      " A (pred): <UNK> 어이 길 없네 없네 없네 없네 없네 없네 없네 없네,\n",
      " A (gold): 예정 대로 냉장고 안 을 …\n",
      "\n",
      "\n",
      " before: 아 <UNK> 고기 전부 건 <UNK> <UNK> <UNK> <UNK> <UNK>. \n",
      " A (pred): <UNK> 글쎄 하기 없네 없네 없네 없네 없네 없네 없네 없네,\n",
      " A (gold): 아 비싼 고기 가 전부 라는 건\n",
      "\n",
      "\n",
      " before: 분명 내 버리다 <UNK> 등 <UNK> <UNK> <UNK> <UNK> <UNK>. \n",
      " A (pred): NAME 씹 길 없네 없네 없네 없네 없네 없네 없네 없네,\n",
      " A (gold): 분명 내 가 버림 돌 등 상 이야 …"
     ]
    },
    {
     "name": "stderr",
     "output_type": "stream",
     "text": [
      "WARNING:tensorflow:Given features: Tensor(\"input:0\", shape=(?, 10), dtype=int64), required signatures: TensorSignature(dtype=tf.int64, shape=TensorShape([Dimension(None), Dimension(10)]), is_sparse=False).\n",
      "WARNING:tensorflow:Given features: Tensor(\"input:0\", shape=(?, 10), dtype=int64), required signatures: TensorSignature(dtype=tf.int64, shape=TensorShape([Dimension(None), Dimension(10)]), is_sparse=False).\n",
      "WARNING:tensorflow:Given targets: Tensor(\"output:0\", shape=(?, 10, 1199), dtype=float32), required signatures: TensorSignature(dtype=tf.float32, shape=TensorShape([Dimension(None), Dimension(10), Dimension(1199)]), is_sparse=False).\n",
      "WARNING:tensorflow:Given targets: Tensor(\"output:0\", shape=(?, 10, 1199), dtype=float32), required signatures: TensorSignature(dtype=tf.float32, shape=TensorShape([Dimension(None), Dimension(10), Dimension(1199)]), is_sparse=False).\n"
     ]
    },
    {
     "name": "stdout",
     "output_type": "stream",
     "text": [
      "\n",
      "\n",
      "\n",
      " before: 이 학교 그렇다 <UNK> <UNK> <UNK> <UNK> <UNK> <UNK> <UNK>. \n",
      " A (pred): 유키 유키 길 없네 없네 없네 없네 없네 없네 없네 없네,\n",
      " A (gold): 이 학교 에 그런 행사 도\n",
      "\n",
      "\n",
      " before: 특히 고기 요리 수업 <UNK> <UNK> <UNK> <UNK> <UNK> <UNK>. \n",
      " A (pred): 그 이누이 길 없네 없네 없네 없네 없네 없네 없네 없네,\n",
      " A (gold): 특히 고기 요리 수업 에서는\n",
      "\n",
      "\n",
      " before: 아 <UNK> <UNK> <UNK> <UNK> <UNK> <UNK> <UNK> <UNK> <UNK>. \n",
      " A (pred): 네 어이 길 길 길 길 길 길 길 길 길,\n",
      " A (gold): 아"
     ]
    },
    {
     "name": "stderr",
     "output_type": "stream",
     "text": [
      "WARNING:tensorflow:Given features: Tensor(\"input:0\", shape=(?, 10), dtype=int64), required signatures: TensorSignature(dtype=tf.int64, shape=TensorShape([Dimension(None), Dimension(10)]), is_sparse=False).\n",
      "WARNING:tensorflow:Given features: Tensor(\"input:0\", shape=(?, 10), dtype=int64), required signatures: TensorSignature(dtype=tf.int64, shape=TensorShape([Dimension(None), Dimension(10)]), is_sparse=False).\n",
      "WARNING:tensorflow:Given targets: Tensor(\"output:0\", shape=(?, 10, 1199), dtype=float32), required signatures: TensorSignature(dtype=tf.float32, shape=TensorShape([Dimension(None), Dimension(10), Dimension(1199)]), is_sparse=False).\n",
      "WARNING:tensorflow:Given targets: Tensor(\"output:0\", shape=(?, 10, 1199), dtype=float32), required signatures: TensorSignature(dtype=tf.float32, shape=TensorShape([Dimension(None), Dimension(10), Dimension(1199)]), is_sparse=False).\n"
     ]
    },
    {
     "name": "stdout",
     "output_type": "stream",
     "text": [
      "\n",
      "\n",
      "\n",
      " before: 포기 하다 좋다 <UNK> <UNK> <UNK> <UNK> <UNK> <UNK> <UNK>. \n",
      " A (pred): 아 어이 길 길 길 길 길 길 길 길 길,\n",
      " A (gold): 포기하면 좋 을 텐데\n",
      "\n",
      "\n",
      " before: 양파 <UNK> <UNK> <UNK> <UNK> <UNK> <UNK> <UNK> <UNK> <UNK>. \n",
      " A (pred): 아 어이 길 길 길 길 길 길 길 길 길,\n",
      " A (gold): 양파\n",
      "\n",
      "\n",
      " before: 여 유키 히 NAME 군 <UNK> <UNK> <UNK> <UNK> <UNK>. \n",
      " A (pred): 유키 유키 길 길 길 길 길 길 길 길 길,\n",
      " A (gold): 여 유키 히 라 NAME 군"
     ]
    },
    {
     "name": "stderr",
     "output_type": "stream",
     "text": [
      "WARNING:tensorflow:Given features: Tensor(\"input:0\", shape=(?, 10), dtype=int64), required signatures: TensorSignature(dtype=tf.int64, shape=TensorShape([Dimension(None), Dimension(10)]), is_sparse=False).\n",
      "WARNING:tensorflow:Given features: Tensor(\"input:0\", shape=(?, 10), dtype=int64), required signatures: TensorSignature(dtype=tf.int64, shape=TensorShape([Dimension(None), Dimension(10)]), is_sparse=False).\n",
      "WARNING:tensorflow:Given targets: Tensor(\"output:0\", shape=(?, 10, 1199), dtype=float32), required signatures: TensorSignature(dtype=tf.float32, shape=TensorShape([Dimension(None), Dimension(10), Dimension(1199)]), is_sparse=False).\n",
      "WARNING:tensorflow:Given targets: Tensor(\"output:0\", shape=(?, 10, 1199), dtype=float32), required signatures: TensorSignature(dtype=tf.float32, shape=TensorShape([Dimension(None), Dimension(10), Dimension(1199)]), is_sparse=False).\n"
     ]
    },
    {
     "name": "stdout",
     "output_type": "stream",
     "text": [
      "\n",
      "\n",
      "\n",
      " before: <UNK> <UNK> <UNK> <UNK> <UNK> <UNK> <UNK> <UNK> <UNK> <UNK>. \n",
      " A (pred): <UNK> 대단해 하기 하기 하기 하기 하기 하기 하기 하기 하기,\n",
      " A (gold): 잔인 …\n",
      "\n",
      "\n",
      " before: 왠지 <UNK> <UNK> <UNK> <UNK> <UNK> <UNK> <UNK> <UNK> <UNK>. \n",
      " A (pred): 네 어이 길 길 길 길 길 길 길 길 길,\n",
      " A (gold): 왠지 …\n",
      "\n",
      "\n",
      " before: 그 요리 떠올리다 때 <UNK> <UNK> <UNK> <UNK> <UNK> <UNK>. \n",
      " A (pred): 그 이누이 길 길 길 길 길 길 길 길 길,\n",
      " A (gold): 그 요리 를 떠올렸 을 때"
     ]
    },
    {
     "name": "stderr",
     "output_type": "stream",
     "text": [
      "WARNING:tensorflow:Given features: Tensor(\"input:0\", shape=(?, 10), dtype=int64), required signatures: TensorSignature(dtype=tf.int64, shape=TensorShape([Dimension(None), Dimension(10)]), is_sparse=False).\n",
      "WARNING:tensorflow:Given features: Tensor(\"input:0\", shape=(?, 10), dtype=int64), required signatures: TensorSignature(dtype=tf.int64, shape=TensorShape([Dimension(None), Dimension(10)]), is_sparse=False).\n",
      "WARNING:tensorflow:Given targets: Tensor(\"output:0\", shape=(?, 10, 1199), dtype=float32), required signatures: TensorSignature(dtype=tf.float32, shape=TensorShape([Dimension(None), Dimension(10), Dimension(1199)]), is_sparse=False).\n",
      "WARNING:tensorflow:Given targets: Tensor(\"output:0\", shape=(?, 10, 1199), dtype=float32), required signatures: TensorSignature(dtype=tf.float32, shape=TensorShape([Dimension(None), Dimension(10), Dimension(1199)]), is_sparse=False).\n"
     ]
    },
    {
     "name": "stdout",
     "output_type": "stream",
     "text": [
      "\n",
      "\n",
      "\n",
      " before: 최고 저녁 이군 <UNK> <UNK> <UNK> <UNK> <UNK> <UNK> <UNK>. \n",
      " A (pred): 이 씹 길 길 길 길 길 길 길 길 길,\n",
      " A (gold): 최고 의 저녁 이군\n",
      "\n",
      "\n",
      " before: 산 <UNK> 하다 옷 <UNK> <UNK> <UNK> <UNK> <UNK> <UNK>. \n",
      " A (pred): <UNK> 글쎄 길 길 길 길 길 길 길 길 길,\n",
      " A (gold): 산 을 단장 하는 옷\n",
      "\n",
      "\n",
      " before: 짜다 <UNK> 식욕 <UNK> 하다 <UNK> <UNK> <UNK> <UNK> <UNK>. \n",
      " A (pred): <UNK> 하기 하기 하기 하기 하기 하기 하기 하기 하기 하기,\n",
      " A (gold): 짭 짤함 이 식욕 을 자극하네"
     ]
    },
    {
     "name": "stderr",
     "output_type": "stream",
     "text": [
      "WARNING:tensorflow:Given features: Tensor(\"input:0\", shape=(?, 10), dtype=int64), required signatures: TensorSignature(dtype=tf.int64, shape=TensorShape([Dimension(None), Dimension(10)]), is_sparse=False).\n",
      "WARNING:tensorflow:Given features: Tensor(\"input:0\", shape=(?, 10), dtype=int64), required signatures: TensorSignature(dtype=tf.int64, shape=TensorShape([Dimension(None), Dimension(10)]), is_sparse=False).\n",
      "WARNING:tensorflow:Given targets: Tensor(\"output:0\", shape=(?, 10, 1199), dtype=float32), required signatures: TensorSignature(dtype=tf.float32, shape=TensorShape([Dimension(None), Dimension(10), Dimension(1199)]), is_sparse=False).\n",
      "WARNING:tensorflow:Given targets: Tensor(\"output:0\", shape=(?, 10, 1199), dtype=float32), required signatures: TensorSignature(dtype=tf.float32, shape=TensorShape([Dimension(None), Dimension(10), Dimension(1199)]), is_sparse=False).\n"
     ]
    },
    {
     "name": "stdout",
     "output_type": "stream",
     "text": [
      "\n",
      "\n",
      "\n",
      " before: <UNK> 않다 말 하다 <UNK> <UNK> <UNK> <UNK> <UNK> <UNK>. \n",
      " A (pred): <UNK> 뜨거운 뜨거운 뜨거운 뜨거운 뜨거운 뜨거운 뜨거운 뜨거운 뜨거운 뜨거운,\n",
      " A (gold): 더듬 지 않고 말했 네\n",
      "\n",
      "\n",
      " before: 요리 현장 싸우다 <UNK> <UNK> <UNK> <UNK> <UNK> <UNK> <UNK>. \n",
      " A (pred): 이 게다가 길 길 길 길 길 길 길 길 길,\n",
      " A (gold): 요리 의 현장 에서 싸우는\n",
      "\n",
      "\n",
      " before: 이 거 맡다 <UNK> <UNK> <UNK> <UNK> <UNK> <UNK> <UNK>. \n",
      " A (pred): 이 이건 길 보시 보시 보시 보시 보시 보시 보시 보시,\n",
      " A (gold): 이 거 맡아 주 겠 어"
     ]
    },
    {
     "name": "stderr",
     "output_type": "stream",
     "text": [
      "WARNING:tensorflow:Given features: Tensor(\"input:0\", shape=(?, 10), dtype=int64), required signatures: TensorSignature(dtype=tf.int64, shape=TensorShape([Dimension(None), Dimension(10)]), is_sparse=False).\n",
      "WARNING:tensorflow:Given features: Tensor(\"input:0\", shape=(?, 10), dtype=int64), required signatures: TensorSignature(dtype=tf.int64, shape=TensorShape([Dimension(None), Dimension(10)]), is_sparse=False).\n",
      "WARNING:tensorflow:Given targets: Tensor(\"output:0\", shape=(?, 10, 1199), dtype=float32), required signatures: TensorSignature(dtype=tf.float32, shape=TensorShape([Dimension(None), Dimension(10), Dimension(1199)]), is_sparse=False).\n",
      "WARNING:tensorflow:Given targets: Tensor(\"output:0\", shape=(?, 10, 1199), dtype=float32), required signatures: TensorSignature(dtype=tf.float32, shape=TensorShape([Dimension(None), Dimension(10), Dimension(1199)]), is_sparse=False).\n"
     ]
    },
    {
     "name": "stdout",
     "output_type": "stream",
     "text": [
      "\n",
      "\n",
      "\n",
      " before: 학원 <UNK> 님 전 하다 <UNK> <UNK> <UNK> <UNK> <UNK>. \n",
      " A (pred): <UNK> 글쎄 길 보시 보시 보시 보시 보시 보시 보시 보시,\n",
      " A (gold): 학원 총수 님 께 전해 주 세요\n",
      "\n",
      "\n",
      " before: 뭐 <UNK> <UNK> <UNK> <UNK> <UNK> <UNK> <UNK> <UNK> <UNK>. \n",
      " A (pred): 뭐 응 길 보시 보시 보시 보시 보시 보시 보시 보시,\n",
      " A (gold): 뭐\n",
      "\n",
      "\n",
      " before: 프로 요리사 <UNK> <UNK> <UNK> <UNK> <UNK> <UNK> <UNK> <UNK>. \n",
      " A (pred): 이 아까 길 길 길 길 길 길 길 길 길,\n",
      " A (gold): 프로 요리사 라고"
     ]
    },
    {
     "name": "stderr",
     "output_type": "stream",
     "text": [
      "WARNING:tensorflow:Given features: Tensor(\"input:0\", shape=(?, 10), dtype=int64), required signatures: TensorSignature(dtype=tf.int64, shape=TensorShape([Dimension(None), Dimension(10)]), is_sparse=False).\n",
      "WARNING:tensorflow:Given features: Tensor(\"input:0\", shape=(?, 10), dtype=int64), required signatures: TensorSignature(dtype=tf.int64, shape=TensorShape([Dimension(None), Dimension(10)]), is_sparse=False).\n",
      "WARNING:tensorflow:Given targets: Tensor(\"output:0\", shape=(?, 10, 1199), dtype=float32), required signatures: TensorSignature(dtype=tf.float32, shape=TensorShape([Dimension(None), Dimension(10), Dimension(1199)]), is_sparse=False).\n",
      "WARNING:tensorflow:Given targets: Tensor(\"output:0\", shape=(?, 10, 1199), dtype=float32), required signatures: TensorSignature(dtype=tf.float32, shape=TensorShape([Dimension(None), Dimension(10), Dimension(1199)]), is_sparse=False).\n"
     ]
    },
    {
     "name": "stdout",
     "output_type": "stream",
     "text": [
      "\n",
      "\n",
      "\n",
      " before: 뭐 <UNK> <UNK> <UNK> <UNK> <UNK> <UNK> <UNK> <UNK> <UNK>. \n",
      " A (pred): 뭐 응 길 길 길 길 길 길 길 길 길,\n",
      " A (gold): 뭐\n",
      "\n",
      "\n",
      " before: 자기 요리 만들다 하다 <UNK> <UNK> <UNK> <UNK> <UNK> <UNK>. \n",
      " A (pred): 지금 어이 길 길 길 길 길 길 길 길 길,\n",
      " A (gold): 자기 만의 요리 를 만들어 내 려 한 다\n",
      "\n",
      "\n",
      " before: 날 뛰어넘다 건 <UNK> <UNK> <UNK> <UNK> <UNK> <UNK> <UNK>. \n",
      " A (pred): 하지만 어이 길 길 길 길 길 길 길 길 길,\n",
      " A (gold): 날 뛰어넘 겠 다는 건"
     ]
    },
    {
     "name": "stderr",
     "output_type": "stream",
     "text": [
      "WARNING:tensorflow:Given features: Tensor(\"input:0\", shape=(?, 10), dtype=int64), required signatures: TensorSignature(dtype=tf.int64, shape=TensorShape([Dimension(None), Dimension(10)]), is_sparse=False).\n",
      "WARNING:tensorflow:Given features: Tensor(\"input:0\", shape=(?, 10), dtype=int64), required signatures: TensorSignature(dtype=tf.int64, shape=TensorShape([Dimension(None), Dimension(10)]), is_sparse=False).\n",
      "WARNING:tensorflow:Given targets: Tensor(\"output:0\", shape=(?, 10, 1199), dtype=float32), required signatures: TensorSignature(dtype=tf.float32, shape=TensorShape([Dimension(None), Dimension(10), Dimension(1199)]), is_sparse=False).\n",
      "WARNING:tensorflow:Given targets: Tensor(\"output:0\", shape=(?, 10, 1199), dtype=float32), required signatures: TensorSignature(dtype=tf.float32, shape=TensorShape([Dimension(None), Dimension(10), Dimension(1199)]), is_sparse=False).\n"
     ]
    },
    {
     "name": "stdout",
     "output_type": "stream",
     "text": [
      "\n",
      "\n",
      "\n",
      " before: 튀김 옷 되다 한 건 <UNK> <UNK> <UNK> <UNK> <UNK>. \n",
      " A (pred): 이 하루하루 길 길 길 길 길 길 길 길 길,\n",
      " A (gold): 튀김 옷 이 될 만 한 건\n",
      "\n",
      "\n",
      " before: 이 사미 어떻다 <UNK> <UNK> <UNK> <UNK> <UNK> <UNK> <UNK>. \n",
      " A (pred): 이 이건 길 길 길 길 길 길 길 길 길,\n",
      " A (gold): 이 사미 는 어때\n",
      "\n",
      "\n",
      " before: 긴장 하다 머리 <UNK> <UNK> <UNK> <UNK> <UNK> <UNK> <UNK>. \n",
      " A (pred): <UNK> 음 까 까 까 까 까 까 까 까 까,\n",
      " A (gold): 긴장하면 머리 가"
     ]
    },
    {
     "name": "stderr",
     "output_type": "stream",
     "text": [
      "WARNING:tensorflow:Given features: Tensor(\"input:0\", shape=(?, 10), dtype=int64), required signatures: TensorSignature(dtype=tf.int64, shape=TensorShape([Dimension(None), Dimension(10)]), is_sparse=False).\n",
      "WARNING:tensorflow:Given features: Tensor(\"input:0\", shape=(?, 10), dtype=int64), required signatures: TensorSignature(dtype=tf.int64, shape=TensorShape([Dimension(None), Dimension(10)]), is_sparse=False).\n",
      "WARNING:tensorflow:Given targets: Tensor(\"output:0\", shape=(?, 10, 1199), dtype=float32), required signatures: TensorSignature(dtype=tf.float32, shape=TensorShape([Dimension(None), Dimension(10), Dimension(1199)]), is_sparse=False).\n",
      "WARNING:tensorflow:Given targets: Tensor(\"output:0\", shape=(?, 10, 1199), dtype=float32), required signatures: TensorSignature(dtype=tf.float32, shape=TensorShape([Dimension(None), Dimension(10), Dimension(1199)]), is_sparse=False).\n"
     ]
    },
    {
     "name": "stdout",
     "output_type": "stream",
     "text": [
      "\n",
      "\n",
      "\n",
      " before: <UNK> 합숙 <UNK> <UNK> <UNK> <UNK> <UNK> <UNK> <UNK> <UNK>. \n",
      " A (pred): <UNK> 닥쳐 닥쳐 닥쳐 닥쳐 닥쳐 닥쳐 닥쳐 닥쳐 닥쳐 닥쳐,\n",
      " A (gold): 이깟 합숙 쯤 은\n",
      "\n",
      "\n",
      " before: <UNK> 정식 집 <UNK> <UNK> <UNK> <UNK> <UNK> <UNK> <UNK>. \n",
      " A (pred): <UNK> 닥쳐 닥쳐 닥쳐 닥쳐 닥쳐 닥쳐 닥쳐 닥쳐 닥쳐 닥쳐,\n",
      " A (gold): 집안 은 정식 집\n",
      "\n",
      "\n",
      " before: 퇴학 처리 되다 <UNK> <UNK> <UNK> <UNK> <UNK> <UNK> <UNK>. \n",
      " A (pred): 내 씹 길 길 길 길 길 길 길 길 길,\n",
      " A (gold): 퇴학 처리 된 다"
     ]
    },
    {
     "name": "stderr",
     "output_type": "stream",
     "text": [
      "WARNING:tensorflow:Given features: Tensor(\"input:0\", shape=(?, 10), dtype=int64), required signatures: TensorSignature(dtype=tf.int64, shape=TensorShape([Dimension(None), Dimension(10)]), is_sparse=False).\n",
      "WARNING:tensorflow:Given features: Tensor(\"input:0\", shape=(?, 10), dtype=int64), required signatures: TensorSignature(dtype=tf.int64, shape=TensorShape([Dimension(None), Dimension(10)]), is_sparse=False).\n",
      "WARNING:tensorflow:Given targets: Tensor(\"output:0\", shape=(?, 10, 1199), dtype=float32), required signatures: TensorSignature(dtype=tf.float32, shape=TensorShape([Dimension(None), Dimension(10), Dimension(1199)]), is_sparse=False).\n",
      "WARNING:tensorflow:Given targets: Tensor(\"output:0\", shape=(?, 10, 1199), dtype=float32), required signatures: TensorSignature(dtype=tf.float32, shape=TensorShape([Dimension(None), Dimension(10), Dimension(1199)]), is_sparse=False).\n"
     ]
    },
    {
     "name": "stdout",
     "output_type": "stream",
     "text": [
      "\n",
      "\n",
      "\n",
      " before: 뻔하다 <UNK> <UNK> <UNK> <UNK> <UNK> <UNK> <UNK> <UNK> <UNK>. \n",
      " A (pred): <UNK> 음 음 음 음 음 음 음 음 음 음,\n",
      " A (gold): 뻔하지\n",
      "\n",
      "\n",
      " before: 그만두다 생각 하다 서도 <UNK> <UNK> <UNK> <UNK> <UNK> <UNK>. \n",
      " A (pred): 하지만 어이 길 길 길 길 길 길 길 길 길,\n",
      " A (gold): 그만두자 고 생각하면 서도\n",
      "\n",
      "\n",
      " before: 곤들매기 감씨 튀김 <UNK> <UNK> <UNK> <UNK> <UNK> <UNK> <UNK>. \n",
      " A (pred): 그 응 길 길 길 길 길 길 길 길 길,\n",
      " A (gold): 곤들매기 감씨 튀김 이야"
     ]
    },
    {
     "name": "stderr",
     "output_type": "stream",
     "text": [
      "WARNING:tensorflow:Given features: Tensor(\"input:0\", shape=(?, 10), dtype=int64), required signatures: TensorSignature(dtype=tf.int64, shape=TensorShape([Dimension(None), Dimension(10)]), is_sparse=False).\n",
      "WARNING:tensorflow:Given features: Tensor(\"input:0\", shape=(?, 10), dtype=int64), required signatures: TensorSignature(dtype=tf.int64, shape=TensorShape([Dimension(None), Dimension(10)]), is_sparse=False).\n",
      "WARNING:tensorflow:Given targets: Tensor(\"output:0\", shape=(?, 10, 1199), dtype=float32), required signatures: TensorSignature(dtype=tf.float32, shape=TensorShape([Dimension(None), Dimension(10), Dimension(1199)]), is_sparse=False).\n",
      "WARNING:tensorflow:Given targets: Tensor(\"output:0\", shape=(?, 10, 1199), dtype=float32), required signatures: TensorSignature(dtype=tf.float32, shape=TensorShape([Dimension(None), Dimension(10), Dimension(1199)]), is_sparse=False).\n"
     ]
    },
    {
     "name": "stdout",
     "output_type": "stream",
     "text": [
      "\n",
      "\n",
      "\n",
      " before: 아직 심사 <UNK> <UNK> <UNK> <UNK> <UNK> <UNK> <UNK> <UNK>. \n",
      " A (pred): NAME 어이 길 길 길 길 길 길 길 길 길,\n",
      " A (gold): 아직 심사 도중 이야\n",
      "\n",
      "\n",
      " before: 제 조리 <UNK> 실 <UNK> <UNK> <UNK> <UNK> <UNK> <UNK>. \n",
      " A (pred): 내 씹 길 길 길 길 길 길 길 길 길,\n",
      " A (gold): 제 조리 실습 실\n",
      "\n",
      "\n",
      " before: 원 하다 <UNK> <UNK> <UNK> <UNK> <UNK> <UNK> <UNK> <UNK>. \n",
      " A (pred): <UNK> 하기 하기 하기 하기 하기 하기 하기 하기 하기 하기,\n",
      " A (gold): 원해 여"
     ]
    },
    {
     "name": "stderr",
     "output_type": "stream",
     "text": [
      "WARNING:tensorflow:Given features: Tensor(\"input:0\", shape=(?, 10), dtype=int64), required signatures: TensorSignature(dtype=tf.int64, shape=TensorShape([Dimension(None), Dimension(10)]), is_sparse=False).\n",
      "WARNING:tensorflow:Given features: Tensor(\"input:0\", shape=(?, 10), dtype=int64), required signatures: TensorSignature(dtype=tf.int64, shape=TensorShape([Dimension(None), Dimension(10)]), is_sparse=False).\n",
      "WARNING:tensorflow:Given targets: Tensor(\"output:0\", shape=(?, 10, 1199), dtype=float32), required signatures: TensorSignature(dtype=tf.float32, shape=TensorShape([Dimension(None), Dimension(10), Dimension(1199)]), is_sparse=False).\n",
      "WARNING:tensorflow:Given targets: Tensor(\"output:0\", shape=(?, 10, 1199), dtype=float32), required signatures: TensorSignature(dtype=tf.float32, shape=TensorShape([Dimension(None), Dimension(10), Dimension(1199)]), is_sparse=False).\n"
     ]
    },
    {
     "name": "stdout",
     "output_type": "stream",
     "text": [
      "\n",
      "\n",
      "\n",
      " before: 저기 아 무것 필요 없다 <UNK> <UNK> <UNK> <UNK> <UNK>. \n",
      " A (pred): 좋 어이 길 길 길 길 길 길 길 길 길,\n",
      " A (gold): 저기 아 무것 도 필요 없어\n",
      "\n",
      "\n",
      " before: <UNK> <UNK> 하다 <UNK> <UNK> <UNK> <UNK> <UNK> <UNK> <UNK>. \n",
      " A (pred): <UNK> 하기 하기 하기 하기 하기 하기 하기 하기 하기 하기,\n",
      " A (gold): 할망구 사랑해\n",
      "\n",
      "\n",
      " before: 전부 시험 버리다 <UNK> <UNK> <UNK> <UNK> <UNK> <UNK> <UNK>. \n",
      " A (pred): 도 씹 길 길 길 길 길 길 길 길 길,\n",
      " A (gold): 전부 시험 해 버렸 어"
     ]
    },
    {
     "name": "stderr",
     "output_type": "stream",
     "text": [
      "WARNING:tensorflow:Given features: Tensor(\"input:0\", shape=(?, 10), dtype=int64), required signatures: TensorSignature(dtype=tf.int64, shape=TensorShape([Dimension(None), Dimension(10)]), is_sparse=False).\n",
      "WARNING:tensorflow:Given features: Tensor(\"input:0\", shape=(?, 10), dtype=int64), required signatures: TensorSignature(dtype=tf.int64, shape=TensorShape([Dimension(None), Dimension(10)]), is_sparse=False).\n",
      "WARNING:tensorflow:Given targets: Tensor(\"output:0\", shape=(?, 10, 1199), dtype=float32), required signatures: TensorSignature(dtype=tf.float32, shape=TensorShape([Dimension(None), Dimension(10), Dimension(1199)]), is_sparse=False).\n",
      "WARNING:tensorflow:Given targets: Tensor(\"output:0\", shape=(?, 10, 1199), dtype=float32), required signatures: TensorSignature(dtype=tf.float32, shape=TensorShape([Dimension(None), Dimension(10), Dimension(1199)]), is_sparse=False).\n"
     ]
    },
    {
     "name": "stdout",
     "output_type": "stream",
     "text": [
      "\n",
      "\n",
      "\n",
      " before: 이 합숙 <UNK> <UNK> <UNK> <UNK> <UNK> <UNK> <UNK> <UNK>. \n",
      " A (pred): 이 이건 길 길 길 길 길 길 길 길 길,\n",
      " A (gold): 이 합숙 …\n",
      "\n",
      "\n",
      " before: 하다 <UNK> 밥 먹다 <UNK> <UNK> <UNK> <UNK> <UNK> <UNK>. \n",
      " A (pred): <UNK> 뜨거운 뜨거운 뜨거운 뜨거운 뜨거운 뜨거운 뜨거운 뜨거운 뜨거운 뜨거운,\n",
      " A (gold): 한 솥 밥 을 먹는 다\n",
      "\n",
      "\n",
      " before: 그렇다 우리 요리 사용 하다 <UNK> <UNK> <UNK> <UNK> <UNK>. \n",
      " A (pred): 그 응 길 길 길 길 길 길 길 길 길,\n",
      " A (gold): 그럼 우리 요리 에 사용할"
     ]
    },
    {
     "name": "stderr",
     "output_type": "stream",
     "text": [
      "WARNING:tensorflow:Given features: Tensor(\"input:0\", shape=(?, 10), dtype=int64), required signatures: TensorSignature(dtype=tf.int64, shape=TensorShape([Dimension(None), Dimension(10)]), is_sparse=False).\n",
      "WARNING:tensorflow:Given features: Tensor(\"input:0\", shape=(?, 10), dtype=int64), required signatures: TensorSignature(dtype=tf.int64, shape=TensorShape([Dimension(None), Dimension(10)]), is_sparse=False).\n",
      "WARNING:tensorflow:Given targets: Tensor(\"output:0\", shape=(?, 10, 1199), dtype=float32), required signatures: TensorSignature(dtype=tf.float32, shape=TensorShape([Dimension(None), Dimension(10), Dimension(1199)]), is_sparse=False).\n",
      "WARNING:tensorflow:Given targets: Tensor(\"output:0\", shape=(?, 10, 1199), dtype=float32), required signatures: TensorSignature(dtype=tf.float32, shape=TensorShape([Dimension(None), Dimension(10), Dimension(1199)]), is_sparse=False).\n"
     ]
    },
    {
     "name": "stdout",
     "output_type": "stream",
     "text": [
      "\n",
      "\n",
      "\n",
      " before: 응 자다 자 <UNK> <UNK> <UNK> <UNK> <UNK> <UNK> <UNK>. \n",
      " A (pred): 그럼 응 길 길 길 길 길 길 길 길 길,\n",
      " A (gold): 응 잘 자\n",
      "\n",
      "\n",
      " before: 뭐 힘내다 NAME <UNK> <UNK> <UNK> <UNK> <UNK> <UNK> <UNK>. \n",
      " A (pred): 뭐 응 길 길 길 길 길 길 길 길 길,\n",
      " A (gold): 뭐 힘내 라 NAME\n",
      "\n",
      "\n",
      " before: 요리 <UNK> 못 하다 <UNK> 하다 <UNK> <UNK> <UNK> <UNK>. \n",
      " A (pred): 이 하루하루 길 길 길 길 길 길 길 길 길,\n",
      " A (gold): 요리 를 내지 못 하면 폐업 하겠 다고"
     ]
    },
    {
     "name": "stderr",
     "output_type": "stream",
     "text": [
      "WARNING:tensorflow:Given features: Tensor(\"input:0\", shape=(?, 10), dtype=int64), required signatures: TensorSignature(dtype=tf.int64, shape=TensorShape([Dimension(None), Dimension(10)]), is_sparse=False).\n",
      "WARNING:tensorflow:Given features: Tensor(\"input:0\", shape=(?, 10), dtype=int64), required signatures: TensorSignature(dtype=tf.int64, shape=TensorShape([Dimension(None), Dimension(10)]), is_sparse=False).\n",
      "WARNING:tensorflow:Given targets: Tensor(\"output:0\", shape=(?, 10, 1199), dtype=float32), required signatures: TensorSignature(dtype=tf.float32, shape=TensorShape([Dimension(None), Dimension(10), Dimension(1199)]), is_sparse=False).\n",
      "WARNING:tensorflow:Given targets: Tensor(\"output:0\", shape=(?, 10, 1199), dtype=float32), required signatures: TensorSignature(dtype=tf.float32, shape=TensorShape([Dimension(None), Dimension(10), Dimension(1199)]), is_sparse=False).\n"
     ]
    },
    {
     "name": "stdout",
     "output_type": "stream",
     "text": [
      "\n",
      "\n",
      "\n",
      " before: 이부 사키 <UNK> 실패 <UNK> 없다 <UNK> <UNK> <UNK> <UNK>. \n",
      " A (pred): 하지만 글쎄 길 길 길 길 길 길 길 길 길,\n",
      " A (gold): 이부 사키 의 작품 에 실패 작은 없지\n",
      "\n",
      "\n",
      " before: 어머 <UNK> <UNK> <UNK> <UNK> <UNK> <UNK> <UNK> <UNK> <UNK>. \n",
      " A (pred): 그래 어이 길 길 길 길 길 길 길 길 길,\n",
      " A (gold): 어머\n",
      "\n",
      "\n",
      " before: <UNK> 치즈 궁합 맞다 <UNK> <UNK> <UNK> <UNK> <UNK> <UNK>. \n",
      " A (pred): <UNK> 닥쳐 닥쳐 닥쳐 닥쳐 닥쳐 닥쳐 닥쳐 닥쳐 닥쳐 닥쳐,\n",
      " A (gold): 의외로 치즈 랑 궁합 이 맞 거든요"
     ]
    },
    {
     "name": "stderr",
     "output_type": "stream",
     "text": [
      "WARNING:tensorflow:Given features: Tensor(\"input:0\", shape=(?, 10), dtype=int64), required signatures: TensorSignature(dtype=tf.int64, shape=TensorShape([Dimension(None), Dimension(10)]), is_sparse=False).\n",
      "WARNING:tensorflow:Given features: Tensor(\"input:0\", shape=(?, 10), dtype=int64), required signatures: TensorSignature(dtype=tf.int64, shape=TensorShape([Dimension(None), Dimension(10)]), is_sparse=False).\n",
      "WARNING:tensorflow:Given targets: Tensor(\"output:0\", shape=(?, 10, 1199), dtype=float32), required signatures: TensorSignature(dtype=tf.float32, shape=TensorShape([Dimension(None), Dimension(10), Dimension(1199)]), is_sparse=False).\n",
      "WARNING:tensorflow:Given targets: Tensor(\"output:0\", shape=(?, 10, 1199), dtype=float32), required signatures: TensorSignature(dtype=tf.float32, shape=TensorShape([Dimension(None), Dimension(10), Dimension(1199)]), is_sparse=False).\n"
     ]
    },
    {
     "name": "stdout",
     "output_type": "stream",
     "text": [
      "\n",
      "\n",
      "\n",
      " before: 좌우 간 <UNK> <UNK> <UNK> <UNK> <UNK> <UNK> <UNK> <UNK>. \n",
      " A (pred): 도 글쎄 길 길 길 길 길 길 길 길 길,\n",
      " A (gold): 좌우 지 간\n",
      "\n",
      "\n",
      " before: 적당하다 <UNK> 하다 <UNK> <UNK> <UNK> <UNK> <UNK> <UNK> <UNK>. \n",
      " A (pred): <UNK> 헤에 길 길 길 길 길 길 길 길 길,\n",
      " A (gold): 적당히 송금 할 게\n",
      "\n",
      "\n",
      " before: 마늘 <UNK> <UNK> 벌꿀 <UNK> <UNK> <UNK> <UNK> <UNK> <UNK>. \n",
      " A (pred): <UNK> 언제 길 길 길 길 길 길 길 길 길,\n",
      " A (gold): 마늘 된장 청주 와 벌꿀 을"
     ]
    },
    {
     "name": "stderr",
     "output_type": "stream",
     "text": [
      "WARNING:tensorflow:Given features: Tensor(\"input:0\", shape=(?, 10), dtype=int64), required signatures: TensorSignature(dtype=tf.int64, shape=TensorShape([Dimension(None), Dimension(10)]), is_sparse=False).\n",
      "WARNING:tensorflow:Given features: Tensor(\"input:0\", shape=(?, 10), dtype=int64), required signatures: TensorSignature(dtype=tf.int64, shape=TensorShape([Dimension(None), Dimension(10)]), is_sparse=False).\n",
      "WARNING:tensorflow:Given targets: Tensor(\"output:0\", shape=(?, 10, 1199), dtype=float32), required signatures: TensorSignature(dtype=tf.float32, shape=TensorShape([Dimension(None), Dimension(10), Dimension(1199)]), is_sparse=False).\n",
      "WARNING:tensorflow:Given targets: Tensor(\"output:0\", shape=(?, 10, 1199), dtype=float32), required signatures: TensorSignature(dtype=tf.float32, shape=TensorShape([Dimension(None), Dimension(10), Dimension(1199)]), is_sparse=False).\n"
     ]
    },
    {
     "name": "stdout",
     "output_type": "stream",
     "text": [
      "\n",
      "\n",
      "\n",
      " before: 너 이 <UNK> <UNK> <UNK> <UNK> <UNK> <UNK> <UNK> <UNK>. \n",
      " A (pred): 뭐 이만 길 길 길 길 길 길 길 길 길,\n",
      " A (gold): 너 도 이 환영 회로 당당히\n",
      "\n",
      "\n",
      " before: 에리 아가씨 <UNK> <UNK> <UNK> <UNK> <UNK> <UNK> <UNK> <UNK>. \n",
      " A (pred): 지금 어이 길 길 길 길 길 길 길 길 길,\n",
      " A (gold): 에리 나 아가씨\n",
      "\n",
      "\n",
      " before: 나 차다 <UNK> <UNK> <UNK> <UNK> <UNK> <UNK> <UNK> <UNK>. \n",
      " A (pred): 도 어이 길 길 길 길 길 길 길 길 길,\n",
      " A (gold): 나 참"
     ]
    },
    {
     "name": "stderr",
     "output_type": "stream",
     "text": [
      "WARNING:tensorflow:Given features: Tensor(\"input:0\", shape=(?, 10), dtype=int64), required signatures: TensorSignature(dtype=tf.int64, shape=TensorShape([Dimension(None), Dimension(10)]), is_sparse=False).\n",
      "WARNING:tensorflow:Given features: Tensor(\"input:0\", shape=(?, 10), dtype=int64), required signatures: TensorSignature(dtype=tf.int64, shape=TensorShape([Dimension(None), Dimension(10)]), is_sparse=False).\n",
      "WARNING:tensorflow:Given targets: Tensor(\"output:0\", shape=(?, 10, 1199), dtype=float32), required signatures: TensorSignature(dtype=tf.float32, shape=TensorShape([Dimension(None), Dimension(10), Dimension(1199)]), is_sparse=False).\n",
      "WARNING:tensorflow:Given targets: Tensor(\"output:0\", shape=(?, 10, 1199), dtype=float32), required signatures: TensorSignature(dtype=tf.float32, shape=TensorShape([Dimension(None), Dimension(10), Dimension(1199)]), is_sparse=False).\n"
     ]
    },
    {
     "name": "stdout",
     "output_type": "stream",
     "text": [
      "\n",
      "\n",
      "\n",
      " before: 이제 슬슬 <UNK> <UNK> 되다 거 아니다 <UNK> <UNK> <UNK>. \n",
      " A (pred): 그 응 길 길 길 길 길 길 길 길 길,\n",
      " A (gold): 이제 슬슬 패 쯤 되는 거 아니냐\n",
      "\n",
      "\n",
      " before: 온갖 <UNK> <UNK> <UNK> <UNK> <UNK> <UNK> <UNK> <UNK> <UNK>. \n",
      " A (pred): 어 이만 길 길 길 길 길 길 길 길 길,\n",
      " A (gold): 온갖 조건 의\n",
      "\n",
      "\n",
      " before: 가게 자체 <UNK> <UNK> <UNK> <UNK> <UNK> <UNK> <UNK> <UNK>. \n",
      " A (pred): NAME 아까 길 길 길 길 길 길 길 길 길,\n",
      " A (gold): 가게 자체 도"
     ]
    },
    {
     "name": "stderr",
     "output_type": "stream",
     "text": [
      "WARNING:tensorflow:Given features: Tensor(\"input:0\", shape=(?, 10), dtype=int64), required signatures: TensorSignature(dtype=tf.int64, shape=TensorShape([Dimension(None), Dimension(10)]), is_sparse=False).\n",
      "WARNING:tensorflow:Given features: Tensor(\"input:0\", shape=(?, 10), dtype=int64), required signatures: TensorSignature(dtype=tf.int64, shape=TensorShape([Dimension(None), Dimension(10)]), is_sparse=False).\n",
      "WARNING:tensorflow:Given targets: Tensor(\"output:0\", shape=(?, 10, 1199), dtype=float32), required signatures: TensorSignature(dtype=tf.float32, shape=TensorShape([Dimension(None), Dimension(10), Dimension(1199)]), is_sparse=False).\n",
      "WARNING:tensorflow:Given targets: Tensor(\"output:0\", shape=(?, 10, 1199), dtype=float32), required signatures: TensorSignature(dtype=tf.float32, shape=TensorShape([Dimension(None), Dimension(10), Dimension(1199)]), is_sparse=False).\n"
     ]
    },
    {
     "name": "stdout",
     "output_type": "stream",
     "text": [
      "\n",
      "\n",
      "\n",
      " before: NAME 특히 평가 <UNK> <UNK> <UNK> <UNK> <UNK> <UNK> <UNK>. \n",
      " A (pred): NAME NAME 길 길 길 길 길 길 길 길 길,\n",
      " A (gold): NAME 에서도 특히 평가 가 엄하기 로 유명해\n",
      "\n",
      "\n",
      " before: <UNK> 오리 <UNK> <UNK> <UNK> <UNK> <UNK> <UNK> <UNK> <UNK>. \n",
      " A (pred): <UNK> 닥쳐 닥쳐 닥쳐 닥쳐 닥쳐 닥쳐 닥쳐 닥쳐 닥쳐 닥쳐,\n",
      " A (gold): 식용 오리\n",
      "\n",
      "\n",
      " before: NAME 군 같다 <UNK> <UNK> <UNK> <UNK> <UNK> <UNK> <UNK>. \n",
      " A (pred): NAME NAME 길 길 길 길 길 길 길 길 길,\n",
      " A (gold): NAME 군 같아"
     ]
    },
    {
     "name": "stderr",
     "output_type": "stream",
     "text": [
      "WARNING:tensorflow:Given features: Tensor(\"input:0\", shape=(?, 10), dtype=int64), required signatures: TensorSignature(dtype=tf.int64, shape=TensorShape([Dimension(None), Dimension(10)]), is_sparse=False).\n",
      "WARNING:tensorflow:Given features: Tensor(\"input:0\", shape=(?, 10), dtype=int64), required signatures: TensorSignature(dtype=tf.int64, shape=TensorShape([Dimension(None), Dimension(10)]), is_sparse=False).\n",
      "WARNING:tensorflow:Given targets: Tensor(\"output:0\", shape=(?, 10, 1199), dtype=float32), required signatures: TensorSignature(dtype=tf.float32, shape=TensorShape([Dimension(None), Dimension(10), Dimension(1199)]), is_sparse=False).\n",
      "WARNING:tensorflow:Given targets: Tensor(\"output:0\", shape=(?, 10, 1199), dtype=float32), required signatures: TensorSignature(dtype=tf.float32, shape=TensorShape([Dimension(None), Dimension(10), Dimension(1199)]), is_sparse=False).\n"
     ]
    },
    {
     "name": "stdout",
     "output_type": "stream",
     "text": [
      "\n",
      "\n",
      "\n",
      " before: 돼지고기 대신 쇠고기 쓸다 <UNK> <UNK> <UNK> <UNK> <UNK> <UNK>. \n",
      " A (pred): 그 게다가 길 길 길 길 길 길 길 길 길,\n",
      " A (gold): 돼지고기 대신 에 쇠고기 를 쓴\n",
      "\n",
      "\n",
      " before: 역시 <UNK> 요리사 <UNK> <UNK> <UNK> <UNK> <UNK> <UNK> <UNK>. \n",
      " A (pred): 난 어이 길 길 길 길 길 길 길 길 길,\n",
      " A (gold): 역시 밑바닥 요리사 네\n",
      "\n",
      "\n",
      " before: 어 <UNK> <UNK> <UNK> <UNK> <UNK> <UNK> <UNK> <UNK> <UNK>. \n",
      " A (pred): 어 응 길 길 길 길 길 길 길 길 길,\n",
      " A (gold): 어"
     ]
    },
    {
     "name": "stderr",
     "output_type": "stream",
     "text": [
      "WARNING:tensorflow:Given features: Tensor(\"input:0\", shape=(?, 10), dtype=int64), required signatures: TensorSignature(dtype=tf.int64, shape=TensorShape([Dimension(None), Dimension(10)]), is_sparse=False).\n",
      "WARNING:tensorflow:Given features: Tensor(\"input:0\", shape=(?, 10), dtype=int64), required signatures: TensorSignature(dtype=tf.int64, shape=TensorShape([Dimension(None), Dimension(10)]), is_sparse=False).\n",
      "WARNING:tensorflow:Given targets: Tensor(\"output:0\", shape=(?, 10, 1199), dtype=float32), required signatures: TensorSignature(dtype=tf.float32, shape=TensorShape([Dimension(None), Dimension(10), Dimension(1199)]), is_sparse=False).\n",
      "WARNING:tensorflow:Given targets: Tensor(\"output:0\", shape=(?, 10, 1199), dtype=float32), required signatures: TensorSignature(dtype=tf.float32, shape=TensorShape([Dimension(None), Dimension(10), Dimension(1199)]), is_sparse=False).\n"
     ]
    },
    {
     "name": "stdout",
     "output_type": "stream",
     "text": [
      "\n",
      "\n",
      "\n",
      " before: 난 코 니시 <UNK> <UNK> <UNK> <UNK> <UNK> <UNK> <UNK>. \n",
      " A (pred): 지금 어이 길 길 길 길 길 길 길 길 길,\n",
      " A (gold): 난 코 니시\n",
      "\n",
      "\n",
      " before: 두 입 가다 <UNK> <UNK> <UNK> <UNK> <UNK> <UNK> <UNK>. \n",
      " A (pred): 이 아까 길 길 길 길 길 길 길 길 길,\n",
      " A (gold): 두 입 까지 가는 거야\n",
      "\n",
      "\n",
      " before: 그렇다 게 <UNK> <UNK> <UNK> <UNK> <UNK> <UNK> <UNK> <UNK>. \n",
      " A (pred): 그럼 응 길 길 길 길 길 길 길 길 길,\n",
      " A (gold): 그런 게 …"
     ]
    },
    {
     "name": "stderr",
     "output_type": "stream",
     "text": [
      "WARNING:tensorflow:Given features: Tensor(\"input:0\", shape=(?, 10), dtype=int64), required signatures: TensorSignature(dtype=tf.int64, shape=TensorShape([Dimension(None), Dimension(10)]), is_sparse=False).\n",
      "WARNING:tensorflow:Given features: Tensor(\"input:0\", shape=(?, 10), dtype=int64), required signatures: TensorSignature(dtype=tf.int64, shape=TensorShape([Dimension(None), Dimension(10)]), is_sparse=False).\n",
      "WARNING:tensorflow:Given targets: Tensor(\"output:0\", shape=(?, 10, 1199), dtype=float32), required signatures: TensorSignature(dtype=tf.float32, shape=TensorShape([Dimension(None), Dimension(10), Dimension(1199)]), is_sparse=False).\n",
      "WARNING:tensorflow:Given targets: Tensor(\"output:0\", shape=(?, 10, 1199), dtype=float32), required signatures: TensorSignature(dtype=tf.float32, shape=TensorShape([Dimension(None), Dimension(10), Dimension(1199)]), is_sparse=False).\n"
     ]
    },
    {
     "name": "stdout",
     "output_type": "stream",
     "text": [
      "\n",
      "\n",
      "\n",
      " before: <UNK> <UNK> 넘치다 <UNK> <UNK> <UNK> <UNK> <UNK> <UNK> <UNK>. \n",
      " A (pred): <UNK> 갓 갓 갓 갓 갓 갓 갓 갓 갓 갓,\n",
      " A (gold): 입안 에서 흘러 넘치 거든\n",
      "\n",
      "\n",
      " before: 니쿠미 <UNK> <UNK> <UNK> <UNK> <UNK> <UNK> <UNK> <UNK> <UNK>. \n",
      " A (pred): 어 제길 길 길 길 길 길 길 길 길 길,\n",
      " A (gold): 니쿠미 가 …\n",
      "\n",
      "\n",
      " before: <UNK> 가다 <UNK> <UNK> <UNK> <UNK> <UNK> <UNK> <UNK> <UNK>. \n",
      " A (pred): <UNK> 닥쳐 닥쳐 닥쳐 닥쳐 닥쳐 닥쳐 닥쳐 닥쳐 닥쳐 닥쳐,\n",
      " A (gold): 저리 가"
     ]
    },
    {
     "name": "stderr",
     "output_type": "stream",
     "text": [
      "WARNING:tensorflow:Given features: Tensor(\"input:0\", shape=(?, 10), dtype=int64), required signatures: TensorSignature(dtype=tf.int64, shape=TensorShape([Dimension(None), Dimension(10)]), is_sparse=False).\n",
      "WARNING:tensorflow:Given features: Tensor(\"input:0\", shape=(?, 10), dtype=int64), required signatures: TensorSignature(dtype=tf.int64, shape=TensorShape([Dimension(None), Dimension(10)]), is_sparse=False).\n",
      "WARNING:tensorflow:Given targets: Tensor(\"output:0\", shape=(?, 10, 1199), dtype=float32), required signatures: TensorSignature(dtype=tf.float32, shape=TensorShape([Dimension(None), Dimension(10), Dimension(1199)]), is_sparse=False).\n",
      "WARNING:tensorflow:Given targets: Tensor(\"output:0\", shape=(?, 10, 1199), dtype=float32), required signatures: TensorSignature(dtype=tf.float32, shape=TensorShape([Dimension(None), Dimension(10), Dimension(1199)]), is_sparse=False).\n"
     ]
    },
    {
     "name": "stdout",
     "output_type": "stream",
     "text": [
      "\n",
      "\n",
      "\n",
      " before: 첫 번 째 군 <UNK> <UNK> <UNK> <UNK> <UNK> <UNK>. \n",
      " A (pred): 지금 은 은 이 이 이 이 이 이 이 이,\n",
      " A (gold): 첫 번 째 군 요\n",
      "\n",
      "\n",
      " before: <UNK> <UNK> <UNK> <UNK> <UNK> <UNK> <UNK> <UNK> <UNK> <UNK>. \n",
      " A (pred): <UNK> 대단해 대단해 대단해 대단해 대단해 대단해 대단해 대단해 대단해 대단해,\n",
      " A (gold): 빌어먹을\n",
      "\n",
      "\n",
      " before: 한 <UNK> <UNK> <UNK> <UNK> <UNK> <UNK> <UNK> <UNK> <UNK>. \n",
      " A (pred): 어 시끄러워 데요 데요 데요 데요 데요 데요 데요 데요 데요,\n",
      " A (gold): 한 동안 은 동쪽 해안 도시 에서"
     ]
    },
    {
     "name": "stderr",
     "output_type": "stream",
     "text": [
      "WARNING:tensorflow:Given features: Tensor(\"input:0\", shape=(?, 10), dtype=int64), required signatures: TensorSignature(dtype=tf.int64, shape=TensorShape([Dimension(None), Dimension(10)]), is_sparse=False).\n",
      "WARNING:tensorflow:Given features: Tensor(\"input:0\", shape=(?, 10), dtype=int64), required signatures: TensorSignature(dtype=tf.int64, shape=TensorShape([Dimension(None), Dimension(10)]), is_sparse=False).\n",
      "WARNING:tensorflow:Given targets: Tensor(\"output:0\", shape=(?, 10, 1199), dtype=float32), required signatures: TensorSignature(dtype=tf.float32, shape=TensorShape([Dimension(None), Dimension(10), Dimension(1199)]), is_sparse=False).\n",
      "WARNING:tensorflow:Given targets: Tensor(\"output:0\", shape=(?, 10, 1199), dtype=float32), required signatures: TensorSignature(dtype=tf.float32, shape=TensorShape([Dimension(None), Dimension(10), Dimension(1199)]), is_sparse=False).\n"
     ]
    },
    {
     "name": "stdout",
     "output_type": "stream",
     "text": [
      "\n",
      "\n",
      "\n",
      " before: 모든 걸 걸다 <UNK> <UNK> <UNK> <UNK> <UNK> <UNK> <UNK>. \n",
      " A (pred): 지금 어이 면서 데요 데요 데요 데요 데요 데요 데요 데요,\n",
      " A (gold): 모든 걸 걸고 서\n",
      "\n",
      "\n",
      " before: 야 유키 히 <UNK> <UNK> <UNK> <UNK> <UNK> <UNK> <UNK>. \n",
      " A (pred): 유키 유키 데요 데요 데요 데요 데요 데요 데요 데요 데요,\n",
      " A (gold): 야 유키 히 라\n",
      "\n",
      "\n",
      " before: 난 이미 <UNK> <UNK> <UNK> <UNK> <UNK> <UNK> <UNK> <UNK>. \n",
      " A (pred): 그리고 어이 데요 데요 데요 데요 데요 데요 데요 데요 데요,\n",
      " A (gold): 난 이미"
     ]
    },
    {
     "name": "stderr",
     "output_type": "stream",
     "text": [
      "WARNING:tensorflow:Given features: Tensor(\"input:0\", shape=(?, 10), dtype=int64), required signatures: TensorSignature(dtype=tf.int64, shape=TensorShape([Dimension(None), Dimension(10)]), is_sparse=False).\n",
      "WARNING:tensorflow:Given features: Tensor(\"input:0\", shape=(?, 10), dtype=int64), required signatures: TensorSignature(dtype=tf.int64, shape=TensorShape([Dimension(None), Dimension(10)]), is_sparse=False).\n",
      "WARNING:tensorflow:Given targets: Tensor(\"output:0\", shape=(?, 10, 1199), dtype=float32), required signatures: TensorSignature(dtype=tf.float32, shape=TensorShape([Dimension(None), Dimension(10), Dimension(1199)]), is_sparse=False).\n",
      "WARNING:tensorflow:Given targets: Tensor(\"output:0\", shape=(?, 10, 1199), dtype=float32), required signatures: TensorSignature(dtype=tf.float32, shape=TensorShape([Dimension(None), Dimension(10), Dimension(1199)]), is_sparse=False).\n"
     ]
    },
    {
     "name": "stdout",
     "output_type": "stream",
     "text": [
      "\n",
      "\n",
      "\n",
      " before: 닭고기 감칠맛 녹다 <UNK> <UNK> <UNK> <UNK> <UNK> <UNK> <UNK>. \n",
      " A (pred): 하지만 글쎄 데요 데요 데요 데요 데요 데요 데요 데요 데요,\n",
      " A (gold): 닭고기 의 감칠맛 이 녹아 든\n",
      "\n",
      "\n",
      " before: 난 이미 <UNK> <UNK> <UNK> <UNK> <UNK> <UNK> <UNK> <UNK>. \n",
      " A (pred): 그리고 어이 데요 데요 데요 데요 데요 데요 데요 데요 데요,\n",
      " A (gold): 난 이미\n",
      "\n",
      "\n",
      " before: 닭고기 감칠맛 녹다 <UNK> <UNK> <UNK> <UNK> <UNK> <UNK> <UNK>. \n",
      " A (pred): 하지만 글쎄 면서 데요 데요 데요 데요 데요 데요 데요 데요,\n",
      " A (gold): 닭고기 의 감칠맛 이 녹아 든"
     ]
    },
    {
     "name": "stderr",
     "output_type": "stream",
     "text": [
      "WARNING:tensorflow:Given features: Tensor(\"input:0\", shape=(?, 10), dtype=int64), required signatures: TensorSignature(dtype=tf.int64, shape=TensorShape([Dimension(None), Dimension(10)]), is_sparse=False).\n",
      "WARNING:tensorflow:Given features: Tensor(\"input:0\", shape=(?, 10), dtype=int64), required signatures: TensorSignature(dtype=tf.int64, shape=TensorShape([Dimension(None), Dimension(10)]), is_sparse=False).\n",
      "WARNING:tensorflow:Given targets: Tensor(\"output:0\", shape=(?, 10, 1199), dtype=float32), required signatures: TensorSignature(dtype=tf.float32, shape=TensorShape([Dimension(None), Dimension(10), Dimension(1199)]), is_sparse=False).\n",
      "WARNING:tensorflow:Given targets: Tensor(\"output:0\", shape=(?, 10, 1199), dtype=float32), required signatures: TensorSignature(dtype=tf.float32, shape=TensorShape([Dimension(None), Dimension(10), Dimension(1199)]), is_sparse=False).\n"
     ]
    },
    {
     "name": "stdout",
     "output_type": "stream",
     "text": [
      "\n",
      "\n",
      "\n",
      " before: 그 맛 최대한 끌다 조리 <UNK> <UNK> <UNK> <UNK> <UNK>. \n",
      " A (pred): 그 먹겠 까 을지 을지 을지 을지 을지 을지 을지 을지,\n",
      " A (gold): 그 맛 을 최대한 끌어 내 는 조리 로\n",
      "\n",
      "\n",
      " before: 튀김 <UNK> <UNK> <UNK> <UNK> <UNK> <UNK> <UNK> <UNK> <UNK>. \n",
      " A (pred): 어 응 데요 데요 데요 데요 데요 데요 데요 데요 데요,\n",
      " A (gold): 튀김\n",
      "\n",
      "\n",
      " before: 미토 <UNK> 밉다 양 <UNK> <UNK> <UNK> <UNK> <UNK> <UNK>. \n",
      " A (pred): 네 글쎄 데요 데요 데요 데요 데요 데요 데요 데요 데요,\n",
      " A (gold): 미토 이쿠 미 양"
     ]
    },
    {
     "name": "stderr",
     "output_type": "stream",
     "text": [
      "WARNING:tensorflow:Given features: Tensor(\"input:0\", shape=(?, 10), dtype=int64), required signatures: TensorSignature(dtype=tf.int64, shape=TensorShape([Dimension(None), Dimension(10)]), is_sparse=False).\n",
      "WARNING:tensorflow:Given features: Tensor(\"input:0\", shape=(?, 10), dtype=int64), required signatures: TensorSignature(dtype=tf.int64, shape=TensorShape([Dimension(None), Dimension(10)]), is_sparse=False).\n",
      "WARNING:tensorflow:Given targets: Tensor(\"output:0\", shape=(?, 10, 1199), dtype=float32), required signatures: TensorSignature(dtype=tf.float32, shape=TensorShape([Dimension(None), Dimension(10), Dimension(1199)]), is_sparse=False).\n",
      "WARNING:tensorflow:Given targets: Tensor(\"output:0\", shape=(?, 10, 1199), dtype=float32), required signatures: TensorSignature(dtype=tf.float32, shape=TensorShape([Dimension(None), Dimension(10), Dimension(1199)]), is_sparse=False).\n"
     ]
    },
    {
     "name": "stdout",
     "output_type": "stream",
     "text": [
      "\n",
      "\n",
      "\n",
      " before: 이 곳 교쿠세 <UNK> <UNK> <UNK> <UNK> <UNK> <UNK> <UNK>. \n",
      " A (pred): 이 이건 데요 데요 데요 데요 데요 데요 데요 데요 데요,\n",
      " A (gold): 이 곳 은 교쿠세 이 밭\n",
      "\n",
      "\n",
      " before: 고기 <UNK> 정식 주다 <UNK> <UNK> <UNK> <UNK> <UNK> <UNK>. \n",
      " A (pred): 자 언제 데요 데요 데요 데요 데요 데요 데요 데요 데요,\n",
      " A (gold): 고기 두부 정식 주겠 나\n",
      "\n",
      "\n",
      " before: 벌꿀 고기 부드럽다 만들다 거 <UNK> <UNK> <UNK> <UNK> <UNK>. \n",
      " A (pred): 내 특별했 면서 데요 데요 데요 데요 데요 데요 데요 데요,\n",
      " A (gold): 벌꿀 로 고기 를 부드럽 게 만든 거"
     ]
    },
    {
     "name": "stderr",
     "output_type": "stream",
     "text": [
      "WARNING:tensorflow:Given features: Tensor(\"input:0\", shape=(?, 10), dtype=int64), required signatures: TensorSignature(dtype=tf.int64, shape=TensorShape([Dimension(None), Dimension(10)]), is_sparse=False).\n",
      "WARNING:tensorflow:Given features: Tensor(\"input:0\", shape=(?, 10), dtype=int64), required signatures: TensorSignature(dtype=tf.int64, shape=TensorShape([Dimension(None), Dimension(10)]), is_sparse=False).\n",
      "WARNING:tensorflow:Given targets: Tensor(\"output:0\", shape=(?, 10, 1199), dtype=float32), required signatures: TensorSignature(dtype=tf.float32, shape=TensorShape([Dimension(None), Dimension(10), Dimension(1199)]), is_sparse=False).\n",
      "WARNING:tensorflow:Given targets: Tensor(\"output:0\", shape=(?, 10, 1199), dtype=float32), required signatures: TensorSignature(dtype=tf.float32, shape=TensorShape([Dimension(None), Dimension(10), Dimension(1199)]), is_sparse=False).\n"
     ]
    },
    {
     "name": "stdout",
     "output_type": "stream",
     "text": [
      "\n",
      "\n",
      "\n",
      " before: <UNK> <UNK> <UNK> <UNK> <UNK> <UNK> <UNK> <UNK> <UNK> <UNK>. \n",
      " A (pred): <UNK> 대단해 대단해 대단해 대단해 대단해 대단해 대단해 대단해 대단해 대단해,\n",
      " A (gold): 영어\n",
      "\n",
      "\n",
      " before: 산 파 다지다 섞다 것 <UNK> <UNK> <UNK> <UNK> <UNK>. \n",
      " A (pred): 난 그럴 면서 데요 데요 데요 데요 데요 데요 데요 데요,\n",
      " A (gold): 산 파 를 다져 섞는 것 으로\n",
      "\n",
      "\n",
      " before: 보다 <UNK> <UNK> <UNK> <UNK> <UNK> <UNK> <UNK> <UNK> <UNK>. \n",
      " A (pred): <UNK> 헤에 <UNK> 을지 을지 을지 을지 을지 을지 을지 을지,\n",
      " A (gold): 보겠 어"
     ]
    },
    {
     "name": "stderr",
     "output_type": "stream",
     "text": [
      "WARNING:tensorflow:Given features: Tensor(\"input:0\", shape=(?, 10), dtype=int64), required signatures: TensorSignature(dtype=tf.int64, shape=TensorShape([Dimension(None), Dimension(10)]), is_sparse=False).\n",
      "WARNING:tensorflow:Given features: Tensor(\"input:0\", shape=(?, 10), dtype=int64), required signatures: TensorSignature(dtype=tf.int64, shape=TensorShape([Dimension(None), Dimension(10)]), is_sparse=False).\n",
      "WARNING:tensorflow:Given targets: Tensor(\"output:0\", shape=(?, 10, 1199), dtype=float32), required signatures: TensorSignature(dtype=tf.float32, shape=TensorShape([Dimension(None), Dimension(10), Dimension(1199)]), is_sparse=False).\n",
      "WARNING:tensorflow:Given targets: Tensor(\"output:0\", shape=(?, 10, 1199), dtype=float32), required signatures: TensorSignature(dtype=tf.float32, shape=TensorShape([Dimension(None), Dimension(10), Dimension(1199)]), is_sparse=False).\n"
     ]
    },
    {
     "name": "stdout",
     "output_type": "stream",
     "text": [
      "\n",
      "\n",
      "\n",
      " before: 그렇다 <UNK> <UNK> <UNK> <UNK> <UNK> <UNK> <UNK> <UNK> <UNK>. \n",
      " A (pred): 그래 응 <UNK> <UNK> <UNK> <UNK> <UNK> <UNK> <UNK> <UNK> <UNK>,\n",
      " A (gold): 그래\n",
      "\n",
      "\n",
      " before: 이다 이상 알다 <UNK> <UNK> <UNK> <UNK> <UNK> <UNK> <UNK>. \n",
      " A (pred): 이 제대로 면서 면서 면서 면서 면서 면서 면서 면서 면서,\n",
      " A (gold): 임 하 는 이상 아시 겠 죠\n",
      "\n",
      "\n",
      " before: 마치 <UNK> <UNK> <UNK> <UNK> <UNK> <UNK> <UNK> <UNK> <UNK>. \n",
      " A (pred): <UNK> 제길 <UNK> <UNK> <UNK> <UNK> <UNK> <UNK> <UNK> <UNK> <UNK>,\n",
      " A (gold): 마치 요코즈나 의 박력 에"
     ]
    },
    {
     "name": "stderr",
     "output_type": "stream",
     "text": [
      "WARNING:tensorflow:Given features: Tensor(\"input:0\", shape=(?, 10), dtype=int64), required signatures: TensorSignature(dtype=tf.int64, shape=TensorShape([Dimension(None), Dimension(10)]), is_sparse=False).\n",
      "WARNING:tensorflow:Given features: Tensor(\"input:0\", shape=(?, 10), dtype=int64), required signatures: TensorSignature(dtype=tf.int64, shape=TensorShape([Dimension(None), Dimension(10)]), is_sparse=False).\n",
      "WARNING:tensorflow:Given targets: Tensor(\"output:0\", shape=(?, 10, 1199), dtype=float32), required signatures: TensorSignature(dtype=tf.float32, shape=TensorShape([Dimension(None), Dimension(10), Dimension(1199)]), is_sparse=False).\n",
      "WARNING:tensorflow:Given targets: Tensor(\"output:0\", shape=(?, 10, 1199), dtype=float32), required signatures: TensorSignature(dtype=tf.float32, shape=TensorShape([Dimension(None), Dimension(10), Dimension(1199)]), is_sparse=False).\n"
     ]
    },
    {
     "name": "stdout",
     "output_type": "stream",
     "text": [
      "\n",
      "\n",
      "\n",
      " before: <UNK> 놀다 <UNK> <UNK> <UNK> <UNK> <UNK> <UNK> <UNK> <UNK>. \n",
      " A (pred): <UNK> 섹시 섹시 섹시 섹시 섹시 섹시 섹시 섹시 섹시 섹시,\n",
      " A (gold): 누나 랑 놀자\n",
      "\n",
      "\n",
      " before: 아 네 <UNK> <UNK> <UNK> <UNK> <UNK> <UNK> <UNK> <UNK>. \n",
      " A (pred): 네 헤에 면서 면서 면서 면서 면서 면서 면서 면서 면서,\n",
      " A (gold): 아 네\n",
      "\n",
      "\n",
      " before: 알다 <UNK> <UNK> <UNK> <UNK> <UNK> <UNK> <UNK> <UNK> <UNK>. \n",
      " A (pred): 알 어째서 <UNK> <UNK> <UNK> <UNK> <UNK> <UNK> <UNK> <UNK> <UNK>,\n",
      " A (gold): 알려 줘"
     ]
    },
    {
     "name": "stderr",
     "output_type": "stream",
     "text": [
      "WARNING:tensorflow:Given features: Tensor(\"input:0\", shape=(?, 10), dtype=int64), required signatures: TensorSignature(dtype=tf.int64, shape=TensorShape([Dimension(None), Dimension(10)]), is_sparse=False).\n",
      "WARNING:tensorflow:Given features: Tensor(\"input:0\", shape=(?, 10), dtype=int64), required signatures: TensorSignature(dtype=tf.int64, shape=TensorShape([Dimension(None), Dimension(10)]), is_sparse=False).\n",
      "WARNING:tensorflow:Given targets: Tensor(\"output:0\", shape=(?, 10, 1199), dtype=float32), required signatures: TensorSignature(dtype=tf.float32, shape=TensorShape([Dimension(None), Dimension(10), Dimension(1199)]), is_sparse=False).\n",
      "WARNING:tensorflow:Given targets: Tensor(\"output:0\", shape=(?, 10, 1199), dtype=float32), required signatures: TensorSignature(dtype=tf.float32, shape=TensorShape([Dimension(None), Dimension(10), Dimension(1199)]), is_sparse=False).\n"
     ]
    },
    {
     "name": "stdout",
     "output_type": "stream",
     "text": [
      "\n",
      "\n",
      "\n",
      " before: <UNK> <UNK> <UNK> <UNK> <UNK> <UNK> <UNK> <UNK> <UNK> <UNK>. \n",
      " A (pred): <UNK> 기다리 기다리 기다리 기다리 기다리 기다리 기다리 기다리 기다리 기다리,\n",
      " A (gold): 맑은 물이 흐르는 웅대 한 자연\n",
      "\n",
      "\n",
      " before: <UNK> 느껴지다 <UNK> <UNK> <UNK> <UNK> <UNK> <UNK> <UNK> <UNK>. \n",
      " A (pred): <UNK> 섹시 섹시 섹시 섹시 섹시 섹시 섹시 섹시 섹시 섹시,\n",
      " A (gold): 고소함 이 느껴지 네요\n",
      "\n",
      "\n",
      " before: <UNK> 식 <UNK> <UNK> <UNK> <UNK> <UNK> <UNK> <UNK> <UNK>. \n",
      " A (pred): <UNK> 섹시 섹시 섹시 섹시 섹시 섹시 섹시 섹시 섹시 섹시,\n",
      " A (gold): 주먹구구 식 이야"
     ]
    },
    {
     "name": "stderr",
     "output_type": "stream",
     "text": [
      "WARNING:tensorflow:Given features: Tensor(\"input:0\", shape=(?, 10), dtype=int64), required signatures: TensorSignature(dtype=tf.int64, shape=TensorShape([Dimension(None), Dimension(10)]), is_sparse=False).\n",
      "WARNING:tensorflow:Given features: Tensor(\"input:0\", shape=(?, 10), dtype=int64), required signatures: TensorSignature(dtype=tf.int64, shape=TensorShape([Dimension(None), Dimension(10)]), is_sparse=False).\n",
      "WARNING:tensorflow:Given targets: Tensor(\"output:0\", shape=(?, 10, 1199), dtype=float32), required signatures: TensorSignature(dtype=tf.float32, shape=TensorShape([Dimension(None), Dimension(10), Dimension(1199)]), is_sparse=False).\n",
      "WARNING:tensorflow:Given targets: Tensor(\"output:0\", shape=(?, 10, 1199), dtype=float32), required signatures: TensorSignature(dtype=tf.float32, shape=TensorShape([Dimension(None), Dimension(10), Dimension(1199)]), is_sparse=False).\n"
     ]
    },
    {
     "name": "stdout",
     "output_type": "stream",
     "text": [
      "\n",
      "\n",
      "\n",
      " before: 물 <UNK> <UNK> <UNK> <UNK> <UNK> <UNK> <UNK> <UNK> <UNK>. \n",
      " A (pred): 도 아직 <UNK> <UNK> <UNK> <UNK> <UNK> <UNK> <UNK> <UNK> <UNK>,\n",
      " A (gold): 물 고 늘어지 다니 …\n",
      "\n",
      "\n",
      " before: 봄 테마 보이다 <UNK> <UNK> <UNK> <UNK> <UNK> <UNK> <UNK>. \n",
      " A (pred): 이 아까 <UNK> <UNK> <UNK> <UNK> <UNK> <UNK> <UNK> <UNK> <UNK>,\n",
      " A (gold): 봄 을 테마 로 보여 드리 죠\n",
      "\n",
      "\n",
      " before: 제길 다시 만들다 <UNK> <UNK> <UNK> <UNK> <UNK> <UNK> <UNK>. \n",
      " A (pred): 그리고 항상 <UNK> <UNK> <UNK> <UNK> <UNK> <UNK> <UNK> <UNK> <UNK>,\n",
      " A (gold): 제길 다시 만들 자"
     ]
    },
    {
     "name": "stderr",
     "output_type": "stream",
     "text": [
      "WARNING:tensorflow:Given features: Tensor(\"input:0\", shape=(?, 10), dtype=int64), required signatures: TensorSignature(dtype=tf.int64, shape=TensorShape([Dimension(None), Dimension(10)]), is_sparse=False).\n",
      "WARNING:tensorflow:Given features: Tensor(\"input:0\", shape=(?, 10), dtype=int64), required signatures: TensorSignature(dtype=tf.int64, shape=TensorShape([Dimension(None), Dimension(10)]), is_sparse=False).\n",
      "WARNING:tensorflow:Given targets: Tensor(\"output:0\", shape=(?, 10, 1199), dtype=float32), required signatures: TensorSignature(dtype=tf.float32, shape=TensorShape([Dimension(None), Dimension(10), Dimension(1199)]), is_sparse=False).\n",
      "WARNING:tensorflow:Given targets: Tensor(\"output:0\", shape=(?, 10, 1199), dtype=float32), required signatures: TensorSignature(dtype=tf.float32, shape=TensorShape([Dimension(None), Dimension(10), Dimension(1199)]), is_sparse=False).\n"
     ]
    },
    {
     "name": "stdout",
     "output_type": "stream",
     "text": [
      "\n",
      "\n",
      "\n",
      " before: 고기 <UNK> 하나 <UNK> <UNK> <UNK> <UNK> <UNK> <UNK> <UNK>. \n",
      " A (pred): 자 아까 <UNK> <UNK> <UNK> <UNK> <UNK> <UNK> <UNK> <UNK> <UNK>,\n",
      " A (gold): 고기 두부 하나\n",
      "\n",
      "\n",
      " before: 말 해보다 <UNK> <UNK> <UNK> <UNK> <UNK> <UNK> <UNK> <UNK>. \n",
      " A (pred): 나 헤에 <UNK> <UNK> <UNK> <UNK> <UNK> <UNK> <UNK> <UNK> <UNK>,\n",
      " A (gold): 말 해봐\n",
      "\n",
      "\n",
      " before: 그렇다 <UNK> <UNK> <UNK> <UNK> <UNK> <UNK> <UNK> <UNK> <UNK>. \n",
      " A (pred): 그래 응 <UNK> <UNK> <UNK> <UNK> <UNK> <UNK> <UNK> <UNK> <UNK>,\n",
      " A (gold): 그래"
     ]
    },
    {
     "name": "stderr",
     "output_type": "stream",
     "text": [
      "WARNING:tensorflow:Given features: Tensor(\"input:0\", shape=(?, 10), dtype=int64), required signatures: TensorSignature(dtype=tf.int64, shape=TensorShape([Dimension(None), Dimension(10)]), is_sparse=False).\n",
      "WARNING:tensorflow:Given features: Tensor(\"input:0\", shape=(?, 10), dtype=int64), required signatures: TensorSignature(dtype=tf.int64, shape=TensorShape([Dimension(None), Dimension(10)]), is_sparse=False).\n",
      "WARNING:tensorflow:Given targets: Tensor(\"output:0\", shape=(?, 10, 1199), dtype=float32), required signatures: TensorSignature(dtype=tf.float32, shape=TensorShape([Dimension(None), Dimension(10), Dimension(1199)]), is_sparse=False).\n",
      "WARNING:tensorflow:Given targets: Tensor(\"output:0\", shape=(?, 10, 1199), dtype=float32), required signatures: TensorSignature(dtype=tf.float32, shape=TensorShape([Dimension(None), Dimension(10), Dimension(1199)]), is_sparse=False).\n"
     ]
    },
    {
     "name": "stdout",
     "output_type": "stream",
     "text": [
      "\n",
      "\n",
      "\n",
      " before: 못 하다 요리 만들다 <UNK> <UNK> <UNK> <UNK> <UNK> <UNK>. \n",
      " A (pred): <UNK> 씹 <UNK> <UNK> <UNK> <UNK> <UNK> <UNK> <UNK> <UNK> <UNK>,\n",
      " A (gold): 못 했 던 요리 를 만들었 다\n",
      "\n",
      "\n",
      " before: 말 하다 두다 <UNK> <UNK> <UNK> <UNK> <UNK> <UNK> <UNK>. \n",
      " A (pred): <UNK> 헤에 <UNK> <UNK> <UNK> <UNK> <UNK> <UNK> <UNK> <UNK> <UNK>,\n",
      " A (gold): 말해 두겠 지만\n",
      "\n",
      "\n",
      " before: 뭐 니 <UNK> <UNK> <UNK> <UNK> <UNK> <UNK> <UNK> <UNK>. \n",
      " A (pred): 뭐 응 <UNK> <UNK> <UNK> <UNK> <UNK> <UNK> <UNK> <UNK> <UNK>,\n",
      " A (gold): 뭐 냐 니"
     ]
    },
    {
     "name": "stderr",
     "output_type": "stream",
     "text": [
      "WARNING:tensorflow:Given features: Tensor(\"input:0\", shape=(?, 10), dtype=int64), required signatures: TensorSignature(dtype=tf.int64, shape=TensorShape([Dimension(None), Dimension(10)]), is_sparse=False).\n",
      "WARNING:tensorflow:Given features: Tensor(\"input:0\", shape=(?, 10), dtype=int64), required signatures: TensorSignature(dtype=tf.int64, shape=TensorShape([Dimension(None), Dimension(10)]), is_sparse=False).\n",
      "WARNING:tensorflow:Given targets: Tensor(\"output:0\", shape=(?, 10, 1199), dtype=float32), required signatures: TensorSignature(dtype=tf.float32, shape=TensorShape([Dimension(None), Dimension(10), Dimension(1199)]), is_sparse=False).\n",
      "WARNING:tensorflow:Given targets: Tensor(\"output:0\", shape=(?, 10, 1199), dtype=float32), required signatures: TensorSignature(dtype=tf.float32, shape=TensorShape([Dimension(None), Dimension(10), Dimension(1199)]), is_sparse=False).\n"
     ]
    },
    {
     "name": "stdout",
     "output_type": "stream",
     "text": [
      "\n",
      "\n",
      "\n",
      " before: 이렇다 걸 내놓다 <UNK> <UNK> <UNK> <UNK> <UNK> <UNK> <UNK>. \n",
      " A (pred): 이런 하지만 <UNK> <UNK> <UNK> <UNK> <UNK> <UNK> <UNK> <UNK> <UNK>,\n",
      " A (gold): 이런 걸 내놓 다니\n",
      "\n",
      "\n",
      " before: 학교 <UNK> <UNK> <UNK> <UNK> <UNK> <UNK> <UNK> <UNK> <UNK>. \n",
      " A (pred): 자 제길 <UNK> <UNK> <UNK> <UNK> <UNK> <UNK> <UNK> <UNK> <UNK>,\n",
      " A (gold): 학교 톱 클래스 래\n",
      "\n",
      "\n",
      " before: <UNK> 후추 사용 하다 <UNK> <UNK> <UNK> <UNK> <UNK> <UNK>. \n",
      " A (pred): <UNK> 닥쳐 닥쳐 닥쳐 닥쳐 닥쳐 닥쳐 닥쳐 닥쳐 닥쳐 닥쳐,\n",
      " A (gold): 유자 후추 를 사용해"
     ]
    },
    {
     "name": "stderr",
     "output_type": "stream",
     "text": [
      "WARNING:tensorflow:Given features: Tensor(\"input:0\", shape=(?, 10), dtype=int64), required signatures: TensorSignature(dtype=tf.int64, shape=TensorShape([Dimension(None), Dimension(10)]), is_sparse=False).\n",
      "WARNING:tensorflow:Given features: Tensor(\"input:0\", shape=(?, 10), dtype=int64), required signatures: TensorSignature(dtype=tf.int64, shape=TensorShape([Dimension(None), Dimension(10)]), is_sparse=False).\n",
      "WARNING:tensorflow:Given targets: Tensor(\"output:0\", shape=(?, 10, 1199), dtype=float32), required signatures: TensorSignature(dtype=tf.float32, shape=TensorShape([Dimension(None), Dimension(10), Dimension(1199)]), is_sparse=False).\n",
      "WARNING:tensorflow:Given targets: Tensor(\"output:0\", shape=(?, 10, 1199), dtype=float32), required signatures: TensorSignature(dtype=tf.float32, shape=TensorShape([Dimension(None), Dimension(10), Dimension(1199)]), is_sparse=False).\n"
     ]
    },
    {
     "name": "stdout",
     "output_type": "stream",
     "text": [
      "\n",
      "\n",
      "\n",
      " before: 그렇다 우리 쇠고기 <UNK> <UNK> <UNK> <UNK> <UNK> <UNK> <UNK>. \n",
      " A (pred): 그 응 <UNK> <UNK> <UNK> <UNK> <UNK> <UNK> <UNK> <UNK> <UNK>,\n",
      " A (gold): 그럼 우리 가 쇠고기 에\n",
      "\n",
      "\n",
      " before: 식 극 NAME <UNK> <UNK> <UNK> <UNK> <UNK> <UNK> <UNK>. \n",
      " A (pred): NAME NAME <UNK> <UNK> <UNK> <UNK> <UNK> <UNK> <UNK> <UNK> <UNK>,\n",
      " A (gold): 식 극 의 NAME\n",
      "\n",
      "\n",
      " before: 네 <UNK> <UNK> <UNK> <UNK> <UNK> <UNK> <UNK> <UNK> <UNK>. \n",
      " A (pred): 네 기다리 <UNK> <UNK> <UNK> <UNK> <UNK> <UNK> <UNK> <UNK> <UNK>,\n",
      " A (gold): 네"
     ]
    },
    {
     "name": "stderr",
     "output_type": "stream",
     "text": [
      "WARNING:tensorflow:Given features: Tensor(\"input:0\", shape=(?, 10), dtype=int64), required signatures: TensorSignature(dtype=tf.int64, shape=TensorShape([Dimension(None), Dimension(10)]), is_sparse=False).\n",
      "WARNING:tensorflow:Given features: Tensor(\"input:0\", shape=(?, 10), dtype=int64), required signatures: TensorSignature(dtype=tf.int64, shape=TensorShape([Dimension(None), Dimension(10)]), is_sparse=False).\n",
      "WARNING:tensorflow:Given targets: Tensor(\"output:0\", shape=(?, 10, 1199), dtype=float32), required signatures: TensorSignature(dtype=tf.float32, shape=TensorShape([Dimension(None), Dimension(10), Dimension(1199)]), is_sparse=False).\n",
      "WARNING:tensorflow:Given targets: Tensor(\"output:0\", shape=(?, 10, 1199), dtype=float32), required signatures: TensorSignature(dtype=tf.float32, shape=TensorShape([Dimension(None), Dimension(10), Dimension(1199)]), is_sparse=False).\n"
     ]
    },
    {
     "name": "stdout",
     "output_type": "stream",
     "text": [
      "\n",
      "\n",
      "\n",
      " before: 고기 부드럽다 거지 <UNK> <UNK> <UNK> <UNK> <UNK> <UNK> <UNK>. \n",
      " A (pred): 저 입실 <UNK> <UNK> <UNK> <UNK> <UNK> <UNK> <UNK> <UNK> <UNK>,\n",
      " A (gold): 고기 가 부드러워 지는 거지\n",
      "\n",
      "\n",
      " before: 승부 <UNK> <UNK> <UNK> <UNK> <UNK> <UNK> <UNK> <UNK> <UNK>. \n",
      " A (pred): 내 저런 <UNK> <UNK> <UNK> <UNK> <UNK> <UNK> <UNK> <UNK> <UNK>,\n",
      " A (gold): 승부 다\n",
      "\n",
      "\n",
      " before: 덮다 밥연 레시피 더 <UNK> 하다 <UNK> <UNK> <UNK> <UNK>. \n",
      " A (pred): 세 거기 <UNK> <UNK> <UNK> <UNK> <UNK> <UNK> <UNK> <UNK> <UNK>,\n",
      " A (gold): 덮 밥연 의 레시피 를 더 보완해서"
     ]
    },
    {
     "name": "stderr",
     "output_type": "stream",
     "text": [
      "WARNING:tensorflow:Given features: Tensor(\"input:0\", shape=(?, 10), dtype=int64), required signatures: TensorSignature(dtype=tf.int64, shape=TensorShape([Dimension(None), Dimension(10)]), is_sparse=False).\n",
      "WARNING:tensorflow:Given features: Tensor(\"input:0\", shape=(?, 10), dtype=int64), required signatures: TensorSignature(dtype=tf.int64, shape=TensorShape([Dimension(None), Dimension(10)]), is_sparse=False).\n",
      "WARNING:tensorflow:Given targets: Tensor(\"output:0\", shape=(?, 10, 1199), dtype=float32), required signatures: TensorSignature(dtype=tf.float32, shape=TensorShape([Dimension(None), Dimension(10), Dimension(1199)]), is_sparse=False).\n",
      "WARNING:tensorflow:Given targets: Tensor(\"output:0\", shape=(?, 10, 1199), dtype=float32), required signatures: TensorSignature(dtype=tf.float32, shape=TensorShape([Dimension(None), Dimension(10), Dimension(1199)]), is_sparse=False).\n"
     ]
    },
    {
     "name": "stdout",
     "output_type": "stream",
     "text": [
      "\n",
      "\n",
      "\n",
      " before: 그것 A <UNK> <UNK> 까지 <UNK> <UNK> <UNK> <UNK> <UNK>. \n",
      " A (pred): 그 응 <UNK> <UNK> <UNK> <UNK> <UNK> <UNK> <UNK> <UNK> <UNK>,\n",
      " A (gold): 그것 이 A 부터 C 까지 단계\n",
      "\n",
      "\n",
      " before: 우린 고향 트 <UNK> <UNK> <UNK> <UNK> <UNK> <UNK> <UNK>. \n",
      " A (pred): 다음 섹시 <UNK> <UNK> <UNK> <UNK> <UNK> <UNK> <UNK> <UNK> <UNK>,\n",
      " A (gold): 우린 고향 트 라 토리아 의\n",
      "\n",
      "\n",
      " before: 아니다 <UNK> <UNK> <UNK> <UNK> <UNK> <UNK> <UNK> <UNK> <UNK>. \n",
      " A (pred): 아니 헤에 <UNK> <UNK> <UNK> <UNK> <UNK> <UNK> <UNK> <UNK> <UNK>,\n",
      " A (gold): 아니 다"
     ]
    },
    {
     "name": "stderr",
     "output_type": "stream",
     "text": [
      "WARNING:tensorflow:Given features: Tensor(\"input:0\", shape=(?, 10), dtype=int64), required signatures: TensorSignature(dtype=tf.int64, shape=TensorShape([Dimension(None), Dimension(10)]), is_sparse=False).\n",
      "WARNING:tensorflow:Given features: Tensor(\"input:0\", shape=(?, 10), dtype=int64), required signatures: TensorSignature(dtype=tf.int64, shape=TensorShape([Dimension(None), Dimension(10)]), is_sparse=False).\n",
      "WARNING:tensorflow:Given targets: Tensor(\"output:0\", shape=(?, 10, 1199), dtype=float32), required signatures: TensorSignature(dtype=tf.float32, shape=TensorShape([Dimension(None), Dimension(10), Dimension(1199)]), is_sparse=False).\n",
      "WARNING:tensorflow:Given targets: Tensor(\"output:0\", shape=(?, 10, 1199), dtype=float32), required signatures: TensorSignature(dtype=tf.float32, shape=TensorShape([Dimension(None), Dimension(10), Dimension(1199)]), is_sparse=False).\n"
     ]
    },
    {
     "name": "stdout",
     "output_type": "stream",
     "text": [
      "\n",
      "\n",
      "\n",
      " before: 응 자다 자 <UNK> <UNK> <UNK> <UNK> <UNK> <UNK> <UNK>. \n",
      " A (pred): 그럼 응 <UNK> <UNK> <UNK> <UNK> <UNK> <UNK> <UNK> <UNK> <UNK>,\n",
      " A (gold): 응 잘 자\n",
      "\n",
      "\n",
      " before: 맛 <UNK> 달라 <UNK> <UNK> <UNK> <UNK> <UNK> <UNK> <UNK>. \n",
      " A (pred): 이 아까 <UNK> <UNK> <UNK> <UNK> <UNK> <UNK> <UNK> <UNK> <UNK>,\n",
      " A (gold): 맛 의 차원 이 달라\n",
      "\n",
      "\n",
      " before: NAME 군 내 제 석 <UNK> <UNK> <UNK> <UNK> <UNK>. \n",
      " A (pred): NAME NAME <UNK> <UNK> <UNK> <UNK> <UNK> <UNK> <UNK> <UNK> <UNK>,\n",
      " A (gold): NAME 군 이 내 제 석 을"
     ]
    },
    {
     "name": "stderr",
     "output_type": "stream",
     "text": [
      "WARNING:tensorflow:Given features: Tensor(\"input:0\", shape=(?, 10), dtype=int64), required signatures: TensorSignature(dtype=tf.int64, shape=TensorShape([Dimension(None), Dimension(10)]), is_sparse=False).\n",
      "WARNING:tensorflow:Given features: Tensor(\"input:0\", shape=(?, 10), dtype=int64), required signatures: TensorSignature(dtype=tf.int64, shape=TensorShape([Dimension(None), Dimension(10)]), is_sparse=False).\n",
      "WARNING:tensorflow:Given targets: Tensor(\"output:0\", shape=(?, 10, 1199), dtype=float32), required signatures: TensorSignature(dtype=tf.float32, shape=TensorShape([Dimension(None), Dimension(10), Dimension(1199)]), is_sparse=False).\n",
      "WARNING:tensorflow:Given targets: Tensor(\"output:0\", shape=(?, 10, 1199), dtype=float32), required signatures: TensorSignature(dtype=tf.float32, shape=TensorShape([Dimension(None), Dimension(10), Dimension(1199)]), is_sparse=False).\n"
     ]
    },
    {
     "name": "stdout",
     "output_type": "stream",
     "text": [
      "\n",
      "\n",
      "\n",
      " before: 저기 <UNK> <UNK> <UNK> <UNK> <UNK> <UNK> <UNK> <UNK> <UNK>. \n",
      " A (pred): 저기 응 <UNK> <UNK> <UNK> <UNK> <UNK> <UNK> <UNK> <UNK> <UNK>,\n",
      " A (gold): 저기 …\n",
      "\n",
      "\n",
      " before: <UNK> 식 <UNK> <UNK> <UNK> <UNK> <UNK> <UNK> <UNK> <UNK>. \n",
      " A (pred): <UNK> 닥쳐 닥쳐 닥쳐 닥쳐 닥쳐 닥쳐 닥쳐 닥쳐 닥쳐 닥쳐,\n",
      " A (gold): 환영 식 이야\n",
      "\n",
      "\n",
      " before: 네 <UNK> <UNK> <UNK> <UNK> <UNK> <UNK> <UNK> <UNK> <UNK>. \n",
      " A (pred): 네 기다리 <UNK> <UNK> <UNK> <UNK> <UNK> <UNK> <UNK> <UNK> <UNK>,\n",
      " A (gold): 네 에 …"
     ]
    },
    {
     "name": "stderr",
     "output_type": "stream",
     "text": [
      "WARNING:tensorflow:Given features: Tensor(\"input:0\", shape=(?, 10), dtype=int64), required signatures: TensorSignature(dtype=tf.int64, shape=TensorShape([Dimension(None), Dimension(10)]), is_sparse=False).\n",
      "WARNING:tensorflow:Given features: Tensor(\"input:0\", shape=(?, 10), dtype=int64), required signatures: TensorSignature(dtype=tf.int64, shape=TensorShape([Dimension(None), Dimension(10)]), is_sparse=False).\n",
      "WARNING:tensorflow:Given targets: Tensor(\"output:0\", shape=(?, 10, 1199), dtype=float32), required signatures: TensorSignature(dtype=tf.float32, shape=TensorShape([Dimension(None), Dimension(10), Dimension(1199)]), is_sparse=False).\n",
      "WARNING:tensorflow:Given targets: Tensor(\"output:0\", shape=(?, 10, 1199), dtype=float32), required signatures: TensorSignature(dtype=tf.float32, shape=TensorShape([Dimension(None), Dimension(10), Dimension(1199)]), is_sparse=False).\n"
     ]
    },
    {
     "name": "stdout",
     "output_type": "stream",
     "text": [
      "\n",
      "\n",
      "\n",
      " before: 히 나코 <UNK> <UNK> <UNK> <UNK> <UNK> <UNK> <UNK> <UNK>. \n",
      " A (pred): 알 유키 <UNK> <UNK> <UNK> <UNK> <UNK> <UNK> <UNK> <UNK> <UNK>,\n",
      " A (gold): 히 나코 …\n",
      "\n",
      "\n",
      " before: 아버지 자신 대해 <UNK> <UNK> <UNK> <UNK> <UNK> <UNK> <UNK>. \n",
      " A (pred): 그 응 <UNK> <UNK> <UNK> <UNK> <UNK> <UNK> <UNK> <UNK> <UNK>,\n",
      " A (gold): 아버지 는 자신 에 대해\n",
      "\n",
      "\n",
      " before: <UNK> 한 계란 소 <UNK> <UNK> <UNK> <UNK> <UNK> <UNK>. \n",
      " A (pred): <UNK> 뜨거운 뜨거운 뜨거운 뜨거운 뜨거운 뜨거운 뜨거운 뜨거운 뜨거운 뜨거운,\n",
      " A (gold): 보들보들 한 계란 소 보루 에"
     ]
    },
    {
     "name": "stderr",
     "output_type": "stream",
     "text": [
      "WARNING:tensorflow:Given features: Tensor(\"input:0\", shape=(?, 10), dtype=int64), required signatures: TensorSignature(dtype=tf.int64, shape=TensorShape([Dimension(None), Dimension(10)]), is_sparse=False).\n",
      "WARNING:tensorflow:Given features: Tensor(\"input:0\", shape=(?, 10), dtype=int64), required signatures: TensorSignature(dtype=tf.int64, shape=TensorShape([Dimension(None), Dimension(10)]), is_sparse=False).\n",
      "WARNING:tensorflow:Given targets: Tensor(\"output:0\", shape=(?, 10, 1199), dtype=float32), required signatures: TensorSignature(dtype=tf.float32, shape=TensorShape([Dimension(None), Dimension(10), Dimension(1199)]), is_sparse=False).\n",
      "WARNING:tensorflow:Given targets: Tensor(\"output:0\", shape=(?, 10, 1199), dtype=float32), required signatures: TensorSignature(dtype=tf.float32, shape=TensorShape([Dimension(None), Dimension(10), Dimension(1199)]), is_sparse=False).\n"
     ]
    },
    {
     "name": "stdout",
     "output_type": "stream",
     "text": [
      "\n",
      "\n",
      "\n",
      " before: 식 극 NAME <UNK> <UNK> <UNK> <UNK> <UNK> <UNK> <UNK>. \n",
      " A (pred): NAME NAME <UNK> <UNK> <UNK> <UNK> <UNK> <UNK> <UNK> <UNK> <UNK>,\n",
      " A (gold): 식 극 의 NAME\n",
      "\n",
      "\n",
      " before: <UNK> <UNK> 냄새 <UNK> <UNK> <UNK> <UNK> <UNK> <UNK> <UNK>. \n",
      " A (pred): <UNK> 더 더 더 더 더 더 더 더 더 더,\n",
      " A (gold): 무스 에 감귤류 냄새 가 섞여 있 지\n",
      "\n",
      "\n",
      " before: <UNK> 않다 몰르다 <UNK> <UNK> <UNK> <UNK> <UNK> <UNK> <UNK>. \n",
      " A (pred): <UNK> 닥쳐 닥쳐 닥쳐 닥쳐 닥쳐 닥쳐 닥쳐 닥쳐 닥쳐 닥쳐,\n",
      " A (gold): 녹록 지 않 을지도 몰라"
     ]
    },
    {
     "name": "stderr",
     "output_type": "stream",
     "text": [
      "WARNING:tensorflow:Given features: Tensor(\"input:0\", shape=(?, 10), dtype=int64), required signatures: TensorSignature(dtype=tf.int64, shape=TensorShape([Dimension(None), Dimension(10)]), is_sparse=False).\n",
      "WARNING:tensorflow:Given features: Tensor(\"input:0\", shape=(?, 10), dtype=int64), required signatures: TensorSignature(dtype=tf.int64, shape=TensorShape([Dimension(None), Dimension(10)]), is_sparse=False).\n",
      "WARNING:tensorflow:Given targets: Tensor(\"output:0\", shape=(?, 10, 1199), dtype=float32), required signatures: TensorSignature(dtype=tf.float32, shape=TensorShape([Dimension(None), Dimension(10), Dimension(1199)]), is_sparse=False).\n",
      "WARNING:tensorflow:Given targets: Tensor(\"output:0\", shape=(?, 10, 1199), dtype=float32), required signatures: TensorSignature(dtype=tf.float32, shape=TensorShape([Dimension(None), Dimension(10), Dimension(1199)]), is_sparse=False).\n"
     ]
    },
    {
     "name": "stdout",
     "output_type": "stream",
     "text": [
      "\n",
      "\n",
      "\n",
      " before: <UNK> 않다 <UNK> <UNK> <UNK> <UNK> <UNK> <UNK> <UNK> <UNK>. \n",
      " A (pred): <UNK> 닥쳐 닥쳐 닥쳐 닥쳐 닥쳐 닥쳐 닥쳐 닥쳐 닥쳐 닥쳐,\n",
      " A (gold): 두려워하지 않고\n",
      "\n",
      "\n",
      " before: 아니다 아니다 <UNK> <UNK> <UNK> <UNK> <UNK> <UNK> <UNK> <UNK>. \n",
      " A (pred): 좋 헤에 <UNK> <UNK> <UNK> <UNK> <UNK> <UNK> <UNK> <UNK> <UNK>,\n",
      " A (gold): 아니 아니\n",
      "\n",
      "\n",
      " before: 필요 없다 <UNK> <UNK> <UNK> <UNK> <UNK> <UNK> <UNK> <UNK>. \n",
      " A (pred): 도 향해 <UNK> <UNK> <UNK> <UNK> <UNK> <UNK> <UNK> <UNK> <UNK>,\n",
      " A (gold): 필요 없으 니까"
     ]
    },
    {
     "name": "stderr",
     "output_type": "stream",
     "text": [
      "WARNING:tensorflow:Given features: Tensor(\"input:0\", shape=(?, 10), dtype=int64), required signatures: TensorSignature(dtype=tf.int64, shape=TensorShape([Dimension(None), Dimension(10)]), is_sparse=False).\n",
      "WARNING:tensorflow:Given features: Tensor(\"input:0\", shape=(?, 10), dtype=int64), required signatures: TensorSignature(dtype=tf.int64, shape=TensorShape([Dimension(None), Dimension(10)]), is_sparse=False).\n",
      "WARNING:tensorflow:Given targets: Tensor(\"output:0\", shape=(?, 10, 1199), dtype=float32), required signatures: TensorSignature(dtype=tf.float32, shape=TensorShape([Dimension(None), Dimension(10), Dimension(1199)]), is_sparse=False).\n",
      "WARNING:tensorflow:Given targets: Tensor(\"output:0\", shape=(?, 10, 1199), dtype=float32), required signatures: TensorSignature(dtype=tf.float32, shape=TensorShape([Dimension(None), Dimension(10), Dimension(1199)]), is_sparse=False).\n"
     ]
    },
    {
     "name": "stdout",
     "output_type": "stream",
     "text": [
      "\n",
      "\n",
      "\n",
      " before: 건 <UNK> <UNK> <UNK> <UNK> <UNK> <UNK> <UNK> <UNK> <UNK>. \n",
      " A (pred): 도 도망칠 <UNK> <UNK> <UNK> <UNK> <UNK> <UNK> <UNK> <UNK> <UNK>,\n",
      " A (gold): 건 남짓 걷어 차고\n",
      "\n",
      "\n",
      " before: 아 <UNK> <UNK> <UNK> <UNK> <UNK> <UNK> <UNK> <UNK> <UNK>. \n",
      " A (pred): 아 헤에 <UNK> <UNK> <UNK> <UNK> <UNK> <UNK> <UNK> <UNK> <UNK>,\n",
      " A (gold): 아\n",
      "\n",
      "\n",
      " before: 그것 스파이스 <UNK> <UNK> <UNK> <UNK> <UNK> <UNK> <UNK> <UNK>. \n",
      " A (pred): 그것 응 <UNK> <UNK> <UNK> <UNK> <UNK> <UNK> <UNK> <UNK> <UNK>,\n",
      " A (gold): 그것 이 스파이스"
     ]
    },
    {
     "name": "stderr",
     "output_type": "stream",
     "text": [
      "WARNING:tensorflow:Given features: Tensor(\"input:0\", shape=(?, 10), dtype=int64), required signatures: TensorSignature(dtype=tf.int64, shape=TensorShape([Dimension(None), Dimension(10)]), is_sparse=False).\n",
      "WARNING:tensorflow:Given features: Tensor(\"input:0\", shape=(?, 10), dtype=int64), required signatures: TensorSignature(dtype=tf.int64, shape=TensorShape([Dimension(None), Dimension(10)]), is_sparse=False).\n",
      "WARNING:tensorflow:Given targets: Tensor(\"output:0\", shape=(?, 10, 1199), dtype=float32), required signatures: TensorSignature(dtype=tf.float32, shape=TensorShape([Dimension(None), Dimension(10), Dimension(1199)]), is_sparse=False).\n",
      "WARNING:tensorflow:Given targets: Tensor(\"output:0\", shape=(?, 10, 1199), dtype=float32), required signatures: TensorSignature(dtype=tf.float32, shape=TensorShape([Dimension(None), Dimension(10), Dimension(1199)]), is_sparse=False).\n"
     ]
    },
    {
     "name": "stdout",
     "output_type": "stream",
     "text": [
      "\n",
      "\n",
      "\n",
      " before: 너 정말 아 무것 모르다 <UNK> <UNK> <UNK> <UNK> <UNK>. \n",
      " A (pred): 오늘 <UNK> 에서 에서 에서 에서 에서 에서 에서 에서 에서,\n",
      " A (gold): 너 정말 아 무것 도 모르 면서\n",
      "\n",
      "\n",
      " before: 지방 <UNK> 등 <UNK> <UNK> <UNK> <UNK> <UNK> <UNK> <UNK>. \n",
      " A (pred): <UNK> 씹 <UNK> <UNK> <UNK> <UNK> <UNK> <UNK> <UNK> <UNK> <UNK>,\n",
      " A (gold): 지방 의 광택 등\n",
      "\n",
      "\n",
      " before: 왜 <UNK> <UNK> <UNK> <UNK> <UNK> <UNK> <UNK> <UNK> <UNK>. \n",
      " A (pred): 아 헤에 <UNK> <UNK> <UNK> <UNK> <UNK> <UNK> <UNK> <UNK> <UNK>,\n",
      " A (gold): 왜"
     ]
    },
    {
     "name": "stderr",
     "output_type": "stream",
     "text": [
      "WARNING:tensorflow:Given features: Tensor(\"input:0\", shape=(?, 10), dtype=int64), required signatures: TensorSignature(dtype=tf.int64, shape=TensorShape([Dimension(None), Dimension(10)]), is_sparse=False).\n",
      "WARNING:tensorflow:Given features: Tensor(\"input:0\", shape=(?, 10), dtype=int64), required signatures: TensorSignature(dtype=tf.int64, shape=TensorShape([Dimension(None), Dimension(10)]), is_sparse=False).\n",
      "WARNING:tensorflow:Given targets: Tensor(\"output:0\", shape=(?, 10, 1199), dtype=float32), required signatures: TensorSignature(dtype=tf.float32, shape=TensorShape([Dimension(None), Dimension(10), Dimension(1199)]), is_sparse=False).\n",
      "WARNING:tensorflow:Given targets: Tensor(\"output:0\", shape=(?, 10, 1199), dtype=float32), required signatures: TensorSignature(dtype=tf.float32, shape=TensorShape([Dimension(None), Dimension(10), Dimension(1199)]), is_sparse=False).\n"
     ]
    },
    {
     "name": "stdout",
     "output_type": "stream",
     "text": [
      "\n",
      "\n",
      "\n",
      " before: 아니다 <UNK> <UNK> <UNK> <UNK> <UNK> <UNK> <UNK> <UNK> <UNK>. \n",
      " A (pred): 아니 헤에 <UNK> <UNK> <UNK> <UNK> <UNK> <UNK> <UNK> <UNK> <UNK>,\n",
      " A (gold): 아니\n",
      "\n",
      "\n",
      " before: 자기 요리 만들다 하다 <UNK> <UNK> <UNK> <UNK> <UNK> <UNK>. \n",
      " A (pred): 그런 은 <UNK> <UNK> <UNK> <UNK> <UNK> <UNK> <UNK> <UNK> <UNK>,\n",
      " A (gold): 자기 만의 요리 를 만들어 내 려 한 다\n",
      "\n",
      "\n",
      " before: 학생 <UNK> <UNK> 하다 위해 <UNK> <UNK> <UNK> <UNK> <UNK>. \n",
      " A (pred): 더 더해서 <UNK> <UNK> <UNK> <UNK> <UNK> <UNK> <UNK> <UNK> <UNK>,\n",
      " A (gold): 학생 의 다툼 을 해결하기 위해"
     ]
    },
    {
     "name": "stderr",
     "output_type": "stream",
     "text": [
      "WARNING:tensorflow:Given features: Tensor(\"input:0\", shape=(?, 10), dtype=int64), required signatures: TensorSignature(dtype=tf.int64, shape=TensorShape([Dimension(None), Dimension(10)]), is_sparse=False).\n",
      "WARNING:tensorflow:Given features: Tensor(\"input:0\", shape=(?, 10), dtype=int64), required signatures: TensorSignature(dtype=tf.int64, shape=TensorShape([Dimension(None), Dimension(10)]), is_sparse=False).\n",
      "WARNING:tensorflow:Given targets: Tensor(\"output:0\", shape=(?, 10, 1199), dtype=float32), required signatures: TensorSignature(dtype=tf.float32, shape=TensorShape([Dimension(None), Dimension(10), Dimension(1199)]), is_sparse=False).\n",
      "WARNING:tensorflow:Given targets: Tensor(\"output:0\", shape=(?, 10, 1199), dtype=float32), required signatures: TensorSignature(dtype=tf.float32, shape=TensorShape([Dimension(None), Dimension(10), Dimension(1199)]), is_sparse=False).\n"
     ]
    },
    {
     "name": "stdout",
     "output_type": "stream",
     "text": [
      "\n",
      "\n",
      "\n",
      " before: 하다 하다 <UNK> <UNK> <UNK> <UNK> <UNK> <UNK> <UNK> <UNK>. \n",
      " A (pred): <UNK> 글쎄 글쎄 글쎄 글쎄 글쎄 글쎄 글쎄 글쎄 글쎄 글쎄,\n",
      " A (gold): 한 다 한 다\n",
      "\n",
      "\n",
      " before: 파 소금 양념 <UNK> 데 <UNK> <UNK> <UNK> <UNK> <UNK>. \n",
      " A (pred): 이 거기 <UNK> <UNK> <UNK> <UNK> <UNK> <UNK> <UNK> <UNK> <UNK>,\n",
      " A (gold): 파 소금 양념 을 무친 데 다가\n",
      "\n",
      "\n",
      " before: 이부 사키 <UNK> 실패 <UNK> 없다 <UNK> <UNK> <UNK> <UNK>. \n",
      " A (pred): 난 항상 <UNK> <UNK> <UNK> <UNK> <UNK> <UNK> <UNK> <UNK> <UNK>,\n",
      " A (gold): 이부 사키 의 작품 에 실패 작은 없지"
     ]
    },
    {
     "name": "stderr",
     "output_type": "stream",
     "text": [
      "WARNING:tensorflow:Given features: Tensor(\"input:0\", shape=(?, 10), dtype=int64), required signatures: TensorSignature(dtype=tf.int64, shape=TensorShape([Dimension(None), Dimension(10)]), is_sparse=False).\n",
      "WARNING:tensorflow:Given features: Tensor(\"input:0\", shape=(?, 10), dtype=int64), required signatures: TensorSignature(dtype=tf.int64, shape=TensorShape([Dimension(None), Dimension(10)]), is_sparse=False).\n",
      "WARNING:tensorflow:Given targets: Tensor(\"output:0\", shape=(?, 10, 1199), dtype=float32), required signatures: TensorSignature(dtype=tf.float32, shape=TensorShape([Dimension(None), Dimension(10), Dimension(1199)]), is_sparse=False).\n",
      "WARNING:tensorflow:Given targets: Tensor(\"output:0\", shape=(?, 10, 1199), dtype=float32), required signatures: TensorSignature(dtype=tf.float32, shape=TensorShape([Dimension(None), Dimension(10), Dimension(1199)]), is_sparse=False).\n"
     ]
    },
    {
     "name": "stdout",
     "output_type": "stream",
     "text": [
      "\n",
      "\n",
      "\n",
      " before: 지방 <UNK> 등 <UNK> <UNK> <UNK> <UNK> <UNK> <UNK> <UNK>. \n",
      " A (pred): <UNK> 씹 <UNK> <UNK> <UNK> <UNK> <UNK> <UNK> <UNK> <UNK> <UNK>,\n",
      " A (gold): 지방 의 광택 등\n",
      "\n",
      "\n",
      " before: <UNK> 닭고기 <UNK> <UNK> <UNK> <UNK> <UNK> <UNK> <UNK> <UNK>. \n",
      " A (pred): <UNK> 닥쳐 닥쳐 닥쳐 닥쳐 닥쳐 닥쳐 닥쳐 닥쳐 닥쳐 닥쳐,\n",
      " A (gold): 오야코동 도 닭고기\n",
      "\n",
      "\n",
      " before: <UNK> 하다 <UNK> <UNK> <UNK> <UNK> <UNK> <UNK> <UNK> <UNK>. \n",
      " A (pred): <UNK> 섹시 섹시 섹시 섹시 섹시 섹시 섹시 섹시 섹시 섹시,\n",
      " A (gold): 대답해 주 지"
     ]
    },
    {
     "name": "stderr",
     "output_type": "stream",
     "text": [
      "WARNING:tensorflow:Given features: Tensor(\"input:0\", shape=(?, 10), dtype=int64), required signatures: TensorSignature(dtype=tf.int64, shape=TensorShape([Dimension(None), Dimension(10)]), is_sparse=False).\n",
      "WARNING:tensorflow:Given features: Tensor(\"input:0\", shape=(?, 10), dtype=int64), required signatures: TensorSignature(dtype=tf.int64, shape=TensorShape([Dimension(None), Dimension(10)]), is_sparse=False).\n",
      "WARNING:tensorflow:Given targets: Tensor(\"output:0\", shape=(?, 10, 1199), dtype=float32), required signatures: TensorSignature(dtype=tf.float32, shape=TensorShape([Dimension(None), Dimension(10), Dimension(1199)]), is_sparse=False).\n",
      "WARNING:tensorflow:Given targets: Tensor(\"output:0\", shape=(?, 10, 1199), dtype=float32), required signatures: TensorSignature(dtype=tf.float32, shape=TensorShape([Dimension(None), Dimension(10), Dimension(1199)]), is_sparse=False).\n"
     ]
    },
    {
     "name": "stdout",
     "output_type": "stream",
     "text": [
      "\n",
      "\n",
      "\n",
      " before: <UNK> 요리 이다 <UNK> <UNK> <UNK> <UNK> <UNK> <UNK> <UNK>. \n",
      " A (pred): <UNK> 닥쳐 닥쳐 닥쳐 닥쳐 닥쳐 닥쳐 닥쳐 닥쳐 닥쳐 닥쳐,\n",
      " A (gold): 무난 한 요리 였 잖 아\n",
      "\n",
      "\n",
      " before: 호화 맛 내기 <UNK> <UNK> <UNK> <UNK> <UNK> <UNK> <UNK>. \n",
      " A (pred): 그런 <UNK> <UNK> <UNK> <UNK> <UNK> <UNK> <UNK> <UNK> <UNK> <UNK>,\n",
      " A (gold): 호화 로운 맛 내기 도\n",
      "\n",
      "\n",
      " before: 그렇다 <UNK> <UNK> <UNK> <UNK> <UNK> <UNK> <UNK> <UNK> <UNK>. \n",
      " A (pred): 그래 응 <UNK> <UNK> <UNK> <UNK> <UNK> <UNK> <UNK> <UNK> <UNK>,\n",
      " A (gold): 그렇 구나"
     ]
    },
    {
     "name": "stderr",
     "output_type": "stream",
     "text": [
      "WARNING:tensorflow:Given features: Tensor(\"input:0\", shape=(?, 10), dtype=int64), required signatures: TensorSignature(dtype=tf.int64, shape=TensorShape([Dimension(None), Dimension(10)]), is_sparse=False).\n",
      "WARNING:tensorflow:Given features: Tensor(\"input:0\", shape=(?, 10), dtype=int64), required signatures: TensorSignature(dtype=tf.int64, shape=TensorShape([Dimension(None), Dimension(10)]), is_sparse=False).\n",
      "WARNING:tensorflow:Given targets: Tensor(\"output:0\", shape=(?, 10, 1199), dtype=float32), required signatures: TensorSignature(dtype=tf.float32, shape=TensorShape([Dimension(None), Dimension(10), Dimension(1199)]), is_sparse=False).\n",
      "WARNING:tensorflow:Given targets: Tensor(\"output:0\", shape=(?, 10, 1199), dtype=float32), required signatures: TensorSignature(dtype=tf.float32, shape=TensorShape([Dimension(None), Dimension(10), Dimension(1199)]), is_sparse=False).\n"
     ]
    },
    {
     "name": "stdout",
     "output_type": "stream",
     "text": [
      "\n",
      "\n",
      "\n",
      " before: 네 <UNK> <UNK> <UNK> <UNK> <UNK> <UNK> <UNK> <UNK> <UNK>. \n",
      " A (pred): 네 기다리 <UNK> <UNK> <UNK> <UNK> <UNK> <UNK> <UNK> <UNK> <UNK>,\n",
      " A (gold): 네 생활비 는\n",
      "\n",
      "\n",
      " before: 우선 <UNK> <UNK> <UNK> <UNK> <UNK> <UNK> <UNK> <UNK> <UNK>. \n",
      " A (pred): 뭐 응 <UNK> <UNK> <UNK> <UNK> <UNK> <UNK> <UNK> <UNK> <UNK>,\n",
      " A (gold): 우선 금 닭새우\n",
      "\n",
      "\n",
      " before: 최고 저녁 이군 <UNK> <UNK> <UNK> <UNK> <UNK> <UNK> <UNK>. \n",
      " A (pred): <UNK> 언제 <UNK> <UNK> <UNK> <UNK> <UNK> <UNK> <UNK> <UNK> <UNK>,\n",
      " A (gold): 최고 의 저녁 이군"
     ]
    },
    {
     "name": "stderr",
     "output_type": "stream",
     "text": [
      "WARNING:tensorflow:Given features: Tensor(\"input:0\", shape=(?, 10), dtype=int64), required signatures: TensorSignature(dtype=tf.int64, shape=TensorShape([Dimension(None), Dimension(10)]), is_sparse=False).\n",
      "WARNING:tensorflow:Given features: Tensor(\"input:0\", shape=(?, 10), dtype=int64), required signatures: TensorSignature(dtype=tf.int64, shape=TensorShape([Dimension(None), Dimension(10)]), is_sparse=False).\n",
      "WARNING:tensorflow:Given targets: Tensor(\"output:0\", shape=(?, 10, 1199), dtype=float32), required signatures: TensorSignature(dtype=tf.float32, shape=TensorShape([Dimension(None), Dimension(10), Dimension(1199)]), is_sparse=False).\n",
      "WARNING:tensorflow:Given targets: Tensor(\"output:0\", shape=(?, 10, 1199), dtype=float32), required signatures: TensorSignature(dtype=tf.float32, shape=TensorShape([Dimension(None), Dimension(10), Dimension(1199)]), is_sparse=False).\n"
     ]
    },
    {
     "name": "stdout",
     "output_type": "stream",
     "text": [
      "\n",
      "\n",
      "\n",
      " before: 그 그렇다 수가 <UNK> <UNK> <UNK> <UNK> <UNK> <UNK> <UNK>. \n",
      " A (pred): 그럼 응 <UNK> <UNK> <UNK> <UNK> <UNK> <UNK> <UNK> <UNK> <UNK>,\n",
      " A (gold): 그 그럴 수가\n",
      "\n",
      "\n",
      " before: 그리고 씹다 때 <UNK> <UNK> <UNK> <UNK> <UNK> <UNK> <UNK>. \n",
      " A (pred): 그리고 항상 <UNK> <UNK> <UNK> <UNK> <UNK> <UNK> <UNK> <UNK> <UNK>,\n",
      " A (gold): 그리고 씹 을 때 마다\n",
      "\n",
      "\n",
      " before: 저런 대단하다 요리 완성 하다 <UNK> <UNK> <UNK> <UNK> <UNK>. \n",
      " A (pred): 아직 저런 <UNK> <UNK> <UNK> <UNK> <UNK> <UNK> <UNK> <UNK> <UNK>,\n",
      " A (gold): 저런 대단한 요리 를 완성하다 니"
     ]
    },
    {
     "name": "stderr",
     "output_type": "stream",
     "text": [
      "WARNING:tensorflow:Given features: Tensor(\"input:0\", shape=(?, 10), dtype=int64), required signatures: TensorSignature(dtype=tf.int64, shape=TensorShape([Dimension(None), Dimension(10)]), is_sparse=False).\n",
      "WARNING:tensorflow:Given features: Tensor(\"input:0\", shape=(?, 10), dtype=int64), required signatures: TensorSignature(dtype=tf.int64, shape=TensorShape([Dimension(None), Dimension(10)]), is_sparse=False).\n",
      "WARNING:tensorflow:Given targets: Tensor(\"output:0\", shape=(?, 10, 1199), dtype=float32), required signatures: TensorSignature(dtype=tf.float32, shape=TensorShape([Dimension(None), Dimension(10), Dimension(1199)]), is_sparse=False).\n",
      "WARNING:tensorflow:Given targets: Tensor(\"output:0\", shape=(?, 10, 1199), dtype=float32), required signatures: TensorSignature(dtype=tf.float32, shape=TensorShape([Dimension(None), Dimension(10), Dimension(1199)]), is_sparse=False).\n"
     ]
    },
    {
     "name": "stdout",
     "output_type": "stream",
     "text": [
      "\n",
      "\n",
      "\n",
      " before: 맛있다 <UNK> <UNK> <UNK> <UNK> <UNK> <UNK> <UNK> <UNK> <UNK>. \n",
      " A (pred): 네 응 <UNK> <UNK> <UNK> <UNK> <UNK> <UNK> <UNK> <UNK> <UNK>,\n",
      " A (gold): 맛있 군\n",
      "\n",
      "\n",
      " before: 유키 히 <UNK> <UNK> <UNK> <UNK> <UNK> <UNK> <UNK> <UNK>. \n",
      " A (pred): 유키 유키 <UNK> <UNK> <UNK> <UNK> <UNK> <UNK> <UNK> <UNK> <UNK>,\n",
      " A (gold): 유키 히 라\n",
      "\n",
      "\n",
      " before: <UNK> 않다 몰르다 <UNK> <UNK> <UNK> <UNK> <UNK> <UNK> <UNK>. \n",
      " A (pred): <UNK> 닥쳐 닥쳐 닥쳐 닥쳐 닥쳐 닥쳐 닥쳐 닥쳐 닥쳐 닥쳐,\n",
      " A (gold): 녹록 지 않 을지도 몰라"
     ]
    },
    {
     "name": "stderr",
     "output_type": "stream",
     "text": [
      "WARNING:tensorflow:Given features: Tensor(\"input:0\", shape=(?, 10), dtype=int64), required signatures: TensorSignature(dtype=tf.int64, shape=TensorShape([Dimension(None), Dimension(10)]), is_sparse=False).\n",
      "WARNING:tensorflow:Given features: Tensor(\"input:0\", shape=(?, 10), dtype=int64), required signatures: TensorSignature(dtype=tf.int64, shape=TensorShape([Dimension(None), Dimension(10)]), is_sparse=False).\n",
      "WARNING:tensorflow:Given targets: Tensor(\"output:0\", shape=(?, 10, 1199), dtype=float32), required signatures: TensorSignature(dtype=tf.float32, shape=TensorShape([Dimension(None), Dimension(10), Dimension(1199)]), is_sparse=False).\n",
      "WARNING:tensorflow:Given targets: Tensor(\"output:0\", shape=(?, 10, 1199), dtype=float32), required signatures: TensorSignature(dtype=tf.float32, shape=TensorShape([Dimension(None), Dimension(10), Dimension(1199)]), is_sparse=False).\n"
     ]
    },
    {
     "name": "stdout",
     "output_type": "stream",
     "text": [
      "\n",
      "\n",
      "\n",
      " before: 보이다 <UNK> <UNK> <UNK> <UNK> <UNK> <UNK> <UNK> <UNK> <UNK>. \n",
      " A (pred): <UNK> 대단해 은 은 은 은 은 속 속 속 속,\n",
      " A (gold): 보여 다오\n",
      "\n",
      "\n",
      " before: 과거 <UNK> <UNK> <UNK> <UNK> <UNK> <UNK> <UNK> <UNK> <UNK>. \n",
      " A (pred): 아직 저런 <UNK> <UNK> <UNK> <UNK> <UNK> <UNK> <UNK> <UNK> <UNK>,\n",
      " A (gold): 과거 의 영광 만\n",
      "\n",
      "\n",
      " before: 일식 <UNK> <UNK> 이다 <UNK> <UNK> <UNK> <UNK> <UNK> <UNK>. \n",
      " A (pred): 아직 저런 <UNK> <UNK> <UNK> <UNK> <UNK> <UNK> <UNK> <UNK> <UNK>,\n",
      " A (gold): 일식 살사 베르데 입니 다"
     ]
    },
    {
     "name": "stderr",
     "output_type": "stream",
     "text": [
      "WARNING:tensorflow:Given features: Tensor(\"input:0\", shape=(?, 10), dtype=int64), required signatures: TensorSignature(dtype=tf.int64, shape=TensorShape([Dimension(None), Dimension(10)]), is_sparse=False).\n",
      "WARNING:tensorflow:Given features: Tensor(\"input:0\", shape=(?, 10), dtype=int64), required signatures: TensorSignature(dtype=tf.int64, shape=TensorShape([Dimension(None), Dimension(10)]), is_sparse=False).\n",
      "WARNING:tensorflow:Given targets: Tensor(\"output:0\", shape=(?, 10, 1199), dtype=float32), required signatures: TensorSignature(dtype=tf.float32, shape=TensorShape([Dimension(None), Dimension(10), Dimension(1199)]), is_sparse=False).\n",
      "WARNING:tensorflow:Given targets: Tensor(\"output:0\", shape=(?, 10, 1199), dtype=float32), required signatures: TensorSignature(dtype=tf.float32, shape=TensorShape([Dimension(None), Dimension(10), Dimension(1199)]), is_sparse=False).\n"
     ]
    },
    {
     "name": "stdout",
     "output_type": "stream",
     "text": [
      "\n",
      "\n",
      "\n",
      " before: 눈물 맛 이제 <UNK> <UNK> <UNK> <UNK> <UNK> <UNK> <UNK>. \n",
      " A (pred): 자신 <UNK> 에서 에서 에서 에서 에서 에서 에서 에서 에서,\n",
      " A (gold): 눈물 의 맛 은 이제\n",
      "\n",
      "\n",
      " before: 내 <UNK> 조리 <UNK> <UNK> <UNK> <UNK> <UNK> <UNK> <UNK>. \n",
      " A (pred): 내 저런 <UNK> <UNK> <UNK> <UNK> <UNK> <UNK> <UNK> <UNK> <UNK>,\n",
      " A (gold): 내 전용 조리 동이 에요\n",
      "\n",
      "\n",
      " before: 모두 <UNK> <UNK> 힘내다 <UNK> <UNK> <UNK> <UNK> <UNK> <UNK>. \n",
      " A (pred): 이 거기 <UNK> <UNK> <UNK> <UNK> <UNK> <UNK> <UNK> <UNK> <UNK>,\n",
      " A (gold): 모두 뿔뿔이 흩어졌 지만 힘내자"
     ]
    },
    {
     "name": "stderr",
     "output_type": "stream",
     "text": [
      "WARNING:tensorflow:Given features: Tensor(\"input:0\", shape=(?, 10), dtype=int64), required signatures: TensorSignature(dtype=tf.int64, shape=TensorShape([Dimension(None), Dimension(10)]), is_sparse=False).\n",
      "WARNING:tensorflow:Given features: Tensor(\"input:0\", shape=(?, 10), dtype=int64), required signatures: TensorSignature(dtype=tf.int64, shape=TensorShape([Dimension(None), Dimension(10)]), is_sparse=False).\n",
      "WARNING:tensorflow:Given targets: Tensor(\"output:0\", shape=(?, 10, 1199), dtype=float32), required signatures: TensorSignature(dtype=tf.float32, shape=TensorShape([Dimension(None), Dimension(10), Dimension(1199)]), is_sparse=False).\n",
      "WARNING:tensorflow:Given targets: Tensor(\"output:0\", shape=(?, 10, 1199), dtype=float32), required signatures: TensorSignature(dtype=tf.float32, shape=TensorShape([Dimension(None), Dimension(10), Dimension(1199)]), is_sparse=False).\n"
     ]
    },
    {
     "name": "stdout",
     "output_type": "stream",
     "text": [
      "\n",
      "\n",
      "\n",
      " before: <UNK> 하다 <UNK> 해 <UNK> <UNK> <UNK> <UNK> <UNK> <UNK>. \n",
      " A (pred): <UNK> 대단해 대단해 대단해 대단해 대단해 대단해 대단해 대단해 대단해 대단해,\n",
      " A (gold): 평온 하게 가야 해\n",
      "\n",
      "\n",
      " before: 고맙다 히 사코 <UNK> <UNK> <UNK> <UNK> <UNK> <UNK> <UNK>. \n",
      " A (pred): 정말 응 <UNK> <UNK> <UNK> <UNK> <UNK> <UNK> <UNK> <UNK> <UNK>,\n",
      " A (gold): 고마워 히 사코\n",
      "\n",
      "\n",
      " before: 온갖 <UNK> <UNK> <UNK> <UNK> <UNK> <UNK> <UNK> <UNK> <UNK>. \n",
      " A (pred): 어 제길 <UNK> <UNK> <UNK> <UNK> <UNK> <UNK> <UNK> <UNK> <UNK>,\n",
      " A (gold): 온갖 조건 의"
     ]
    },
    {
     "name": "stderr",
     "output_type": "stream",
     "text": [
      "WARNING:tensorflow:Given features: Tensor(\"input:0\", shape=(?, 10), dtype=int64), required signatures: TensorSignature(dtype=tf.int64, shape=TensorShape([Dimension(None), Dimension(10)]), is_sparse=False).\n",
      "WARNING:tensorflow:Given features: Tensor(\"input:0\", shape=(?, 10), dtype=int64), required signatures: TensorSignature(dtype=tf.int64, shape=TensorShape([Dimension(None), Dimension(10)]), is_sparse=False).\n",
      "WARNING:tensorflow:Given targets: Tensor(\"output:0\", shape=(?, 10, 1199), dtype=float32), required signatures: TensorSignature(dtype=tf.float32, shape=TensorShape([Dimension(None), Dimension(10), Dimension(1199)]), is_sparse=False).\n",
      "WARNING:tensorflow:Given targets: Tensor(\"output:0\", shape=(?, 10, 1199), dtype=float32), required signatures: TensorSignature(dtype=tf.float32, shape=TensorShape([Dimension(None), Dimension(10), Dimension(1199)]), is_sparse=False).\n"
     ]
    },
    {
     "name": "stdout",
     "output_type": "stream",
     "text": [
      "\n",
      "\n",
      "\n",
      " before: <UNK> 하다 지금 <UNK> <UNK> <UNK> <UNK> <UNK> <UNK> <UNK>. \n",
      " A (pred): <UNK> 섹시 섹시 섹시 섹시 섹시 섹시 섹시 섹시 섹시 섹시,\n",
      " A (gold): 사퇴 하려 면 지금 …\n",
      "\n",
      "\n",
      " before: 고작 이 거 <UNK> <UNK> <UNK> <UNK> <UNK> <UNK> <UNK>. \n",
      " A (pred): 거기 거기 <UNK> <UNK> <UNK> <UNK> <UNK> <UNK> <UNK> <UNK> <UNK>,\n",
      " A (gold): 고작 이 거 …\n",
      "\n",
      "\n",
      " before: 반 <UNK> <UNK> <UNK> <UNK> <UNK> <UNK> <UNK> <UNK> <UNK>. \n",
      " A (pred): 자 제길 <UNK> <UNK> <UNK> <UNK> <UNK> <UNK> <UNK> <UNK> <UNK>,\n",
      " A (gold): 반 …"
     ]
    },
    {
     "name": "stderr",
     "output_type": "stream",
     "text": [
      "WARNING:tensorflow:Given features: Tensor(\"input:0\", shape=(?, 10), dtype=int64), required signatures: TensorSignature(dtype=tf.int64, shape=TensorShape([Dimension(None), Dimension(10)]), is_sparse=False).\n",
      "WARNING:tensorflow:Given features: Tensor(\"input:0\", shape=(?, 10), dtype=int64), required signatures: TensorSignature(dtype=tf.int64, shape=TensorShape([Dimension(None), Dimension(10)]), is_sparse=False).\n",
      "WARNING:tensorflow:Given targets: Tensor(\"output:0\", shape=(?, 10, 1199), dtype=float32), required signatures: TensorSignature(dtype=tf.float32, shape=TensorShape([Dimension(None), Dimension(10), Dimension(1199)]), is_sparse=False).\n",
      "WARNING:tensorflow:Given targets: Tensor(\"output:0\", shape=(?, 10, 1199), dtype=float32), required signatures: TensorSignature(dtype=tf.float32, shape=TensorShape([Dimension(None), Dimension(10), Dimension(1199)]), is_sparse=False).\n"
     ]
    },
    {
     "name": "stdout",
     "output_type": "stream",
     "text": [
      "\n",
      "\n",
      "\n",
      " before: 그렇다 <UNK> <UNK> <UNK> <UNK> <UNK> <UNK> <UNK> <UNK> <UNK>. \n",
      " A (pred): 그래 응 <UNK> <UNK> <UNK> <UNK> <UNK> <UNK> <UNK> <UNK> <UNK>,\n",
      " A (gold): 그래\n",
      "\n",
      "\n",
      " before: <UNK> 하다 만들다 <UNK> <UNK> <UNK> <UNK> <UNK> <UNK> <UNK>. \n",
      " A (pred): <UNK> 닥쳐 닥쳐 닥쳐 닥쳐 닥쳐 닥쳐 닥쳐 닥쳐 닥쳐 닥쳐,\n",
      " A (gold): 평온 하게 만들어 줘\n",
      "\n",
      "\n",
      " before: 아직 심사 <UNK> <UNK> <UNK> <UNK> <UNK> <UNK> <UNK> <UNK>. \n",
      " A (pred): 아직 저런 <UNK> <UNK> <UNK> <UNK> <UNK> <UNK> <UNK> <UNK> <UNK>,\n",
      " A (gold): 아직 심사 도중 이야"
     ]
    },
    {
     "name": "stderr",
     "output_type": "stream",
     "text": [
      "WARNING:tensorflow:Given features: Tensor(\"input:0\", shape=(?, 10), dtype=int64), required signatures: TensorSignature(dtype=tf.int64, shape=TensorShape([Dimension(None), Dimension(10)]), is_sparse=False).\n",
      "WARNING:tensorflow:Given features: Tensor(\"input:0\", shape=(?, 10), dtype=int64), required signatures: TensorSignature(dtype=tf.int64, shape=TensorShape([Dimension(None), Dimension(10)]), is_sparse=False).\n",
      "WARNING:tensorflow:Given targets: Tensor(\"output:0\", shape=(?, 10, 1199), dtype=float32), required signatures: TensorSignature(dtype=tf.float32, shape=TensorShape([Dimension(None), Dimension(10), Dimension(1199)]), is_sparse=False).\n",
      "WARNING:tensorflow:Given targets: Tensor(\"output:0\", shape=(?, 10, 1199), dtype=float32), required signatures: TensorSignature(dtype=tf.float32, shape=TensorShape([Dimension(None), Dimension(10), Dimension(1199)]), is_sparse=False).\n"
     ]
    },
    {
     "name": "stdout",
     "output_type": "stream",
     "text": [
      "\n",
      "\n",
      "\n",
      " before: <UNK> 떠나다 때 <UNK> <UNK> <UNK> <UNK> <UNK> <UNK> <UNK>. \n",
      " A (pred): <UNK> 섹시 섹시 섹시 섹시 섹시 섹시 섹시 섹시 섹시 섹시,\n",
      " A (gold): 여행 을 떠날 때 다\n",
      "\n",
      "\n",
      " before: <UNK> 않다 말 하다 <UNK> <UNK> <UNK> <UNK> <UNK> <UNK>. \n",
      " A (pred): <UNK> 닥쳐 닥쳐 닥쳐 닥쳐 닥쳐 닥쳐 닥쳐 닥쳐 닥쳐 닥쳐,\n",
      " A (gold): 더듬 지 않고 말했 네\n",
      "\n",
      "\n",
      " before: 저런 대단하다 요리 완성 하다 <UNK> <UNK> <UNK> <UNK> <UNK>. \n",
      " A (pred): 아직 저런 <UNK> <UNK> <UNK> <UNK> <UNK> <UNK> <UNK> <UNK> <UNK>,\n",
      " A (gold): 저런 대단한 요리 를 완성하다 니"
     ]
    },
    {
     "name": "stderr",
     "output_type": "stream",
     "text": [
      "WARNING:tensorflow:Given features: Tensor(\"input:0\", shape=(?, 10), dtype=int64), required signatures: TensorSignature(dtype=tf.int64, shape=TensorShape([Dimension(None), Dimension(10)]), is_sparse=False).\n",
      "WARNING:tensorflow:Given features: Tensor(\"input:0\", shape=(?, 10), dtype=int64), required signatures: TensorSignature(dtype=tf.int64, shape=TensorShape([Dimension(None), Dimension(10)]), is_sparse=False).\n",
      "WARNING:tensorflow:Given targets: Tensor(\"output:0\", shape=(?, 10, 1199), dtype=float32), required signatures: TensorSignature(dtype=tf.float32, shape=TensorShape([Dimension(None), Dimension(10), Dimension(1199)]), is_sparse=False).\n",
      "WARNING:tensorflow:Given targets: Tensor(\"output:0\", shape=(?, 10, 1199), dtype=float32), required signatures: TensorSignature(dtype=tf.float32, shape=TensorShape([Dimension(None), Dimension(10), Dimension(1199)]), is_sparse=False).\n"
     ]
    },
    {
     "name": "stdout",
     "output_type": "stream",
     "text": [
      "\n",
      "\n",
      "\n",
      " before: 어 <UNK> <UNK> <UNK> <UNK> <UNK> <UNK> <UNK> <UNK> <UNK>. \n",
      " A (pred): 어 시끄러워 없으 다 다 다 다 다 다 다 다,\n",
      " A (gold): 어\n",
      "\n",
      "\n",
      " before: <UNK> <UNK> <UNK> <UNK> <UNK> <UNK> <UNK> <UNK> <UNK> <UNK>. \n",
      " A (pred): <UNK> 섹시 섹시 섹시 섹시 섹시 섹시 섹시 섹시 섹시 섹시,\n",
      " A (gold): 강사 의 재량 으로\n",
      "\n",
      "\n",
      " before: 세 <UNK> 선배 <UNK> <UNK> <UNK> <UNK> <UNK> <UNK> <UNK>. \n",
      " A (pred): 세 거기 <UNK> <UNK> <UNK> <UNK> <UNK> <UNK> <UNK> <UNK> <UNK>,\n",
      " A (gold): 세 키모리 선배"
     ]
    },
    {
     "name": "stderr",
     "output_type": "stream",
     "text": [
      "WARNING:tensorflow:Given features: Tensor(\"input:0\", shape=(?, 10), dtype=int64), required signatures: TensorSignature(dtype=tf.int64, shape=TensorShape([Dimension(None), Dimension(10)]), is_sparse=False).\n",
      "WARNING:tensorflow:Given features: Tensor(\"input:0\", shape=(?, 10), dtype=int64), required signatures: TensorSignature(dtype=tf.int64, shape=TensorShape([Dimension(None), Dimension(10)]), is_sparse=False).\n",
      "WARNING:tensorflow:Given targets: Tensor(\"output:0\", shape=(?, 10, 1199), dtype=float32), required signatures: TensorSignature(dtype=tf.float32, shape=TensorShape([Dimension(None), Dimension(10), Dimension(1199)]), is_sparse=False).\n",
      "WARNING:tensorflow:Given targets: Tensor(\"output:0\", shape=(?, 10, 1199), dtype=float32), required signatures: TensorSignature(dtype=tf.float32, shape=TensorShape([Dimension(None), Dimension(10), Dimension(1199)]), is_sparse=False).\n"
     ]
    },
    {
     "name": "stdout",
     "output_type": "stream",
     "text": [
      "\n",
      "\n",
      "\n",
      " before: 이 바삭 식감 <UNK> <UNK> <UNK> <UNK> <UNK> <UNK> <UNK>. \n",
      " A (pred): 이 이건 <UNK> <UNK> <UNK> <UNK> <UNK> <UNK> <UNK> <UNK> <UNK>,\n",
      " A (gold): 이 바삭 한 식감\n",
      "\n",
      "\n",
      " before: 왜 <UNK> <UNK> <UNK> <UNK> <UNK> <UNK> <UNK> <UNK> <UNK>. \n",
      " A (pred): 아 헤에 <UNK> <UNK> <UNK> <UNK> <UNK> <UNK> <UNK> <UNK> <UNK>,\n",
      " A (gold): 왜\n",
      "\n",
      "\n",
      " before: <UNK> <UNK> <UNK> <UNK> <UNK> <UNK> <UNK> <UNK> <UNK> <UNK>. \n",
      " A (pred): <UNK> 섹시 섹시 섹시 섹시 섹시 섹시 섹시 섹시 섹시 섹시,\n",
      " A (gold): 호실"
     ]
    },
    {
     "name": "stderr",
     "output_type": "stream",
     "text": [
      "WARNING:tensorflow:Given features: Tensor(\"input:0\", shape=(?, 10), dtype=int64), required signatures: TensorSignature(dtype=tf.int64, shape=TensorShape([Dimension(None), Dimension(10)]), is_sparse=False).\n",
      "WARNING:tensorflow:Given features: Tensor(\"input:0\", shape=(?, 10), dtype=int64), required signatures: TensorSignature(dtype=tf.int64, shape=TensorShape([Dimension(None), Dimension(10)]), is_sparse=False).\n",
      "WARNING:tensorflow:Given targets: Tensor(\"output:0\", shape=(?, 10, 1199), dtype=float32), required signatures: TensorSignature(dtype=tf.float32, shape=TensorShape([Dimension(None), Dimension(10), Dimension(1199)]), is_sparse=False).\n",
      "WARNING:tensorflow:Given targets: Tensor(\"output:0\", shape=(?, 10, 1199), dtype=float32), required signatures: TensorSignature(dtype=tf.float32, shape=TensorShape([Dimension(None), Dimension(10), Dimension(1199)]), is_sparse=False).\n"
     ]
    },
    {
     "name": "stdout",
     "output_type": "stream",
     "text": [
      "\n",
      "\n",
      "\n",
      " before: 포기 하다 좋다 <UNK> <UNK> <UNK> <UNK> <UNK> <UNK> <UNK>. \n",
      " A (pred): 아니 글쎄 <UNK> <UNK> <UNK> <UNK> <UNK> <UNK> <UNK> <UNK> <UNK>,\n",
      " A (gold): 포기하면 좋 을 텐데\n",
      "\n",
      "\n",
      " before: <UNK> <UNK> <UNK> 지금 이다 <UNK> <UNK> <UNK> <UNK> <UNK>. \n",
      " A (pred): <UNK> 더 더 더 더 더 더 더 더 더 더,\n",
      " A (gold): 근데 은어 철 이 지금 이었 나\n",
      "\n",
      "\n",
      " before: 그렇다 놈 들 위해 <UNK> <UNK> <UNK> <UNK> <UNK> <UNK>. \n",
      " A (pred): 하지만 항상 <UNK> <UNK> <UNK> <UNK> <UNK> <UNK> <UNK> <UNK> <UNK>,\n",
      " A (gold): 그런 놈 들 을 위해"
     ]
    },
    {
     "name": "stderr",
     "output_type": "stream",
     "text": [
      "WARNING:tensorflow:Given features: Tensor(\"input:0\", shape=(?, 10), dtype=int64), required signatures: TensorSignature(dtype=tf.int64, shape=TensorShape([Dimension(None), Dimension(10)]), is_sparse=False).\n",
      "WARNING:tensorflow:Given features: Tensor(\"input:0\", shape=(?, 10), dtype=int64), required signatures: TensorSignature(dtype=tf.int64, shape=TensorShape([Dimension(None), Dimension(10)]), is_sparse=False).\n",
      "WARNING:tensorflow:Given targets: Tensor(\"output:0\", shape=(?, 10, 1199), dtype=float32), required signatures: TensorSignature(dtype=tf.float32, shape=TensorShape([Dimension(None), Dimension(10), Dimension(1199)]), is_sparse=False).\n",
      "WARNING:tensorflow:Given targets: Tensor(\"output:0\", shape=(?, 10, 1199), dtype=float32), required signatures: TensorSignature(dtype=tf.float32, shape=TensorShape([Dimension(None), Dimension(10), Dimension(1199)]), is_sparse=False).\n"
     ]
    },
    {
     "name": "stdout",
     "output_type": "stream",
     "text": [
      "\n",
      "\n",
      "\n",
      " before: 때 때 남자 자신 <UNK> <UNK> <UNK> <UNK> <UNK> <UNK>. \n",
      " A (pred): 두 은 화 화 화 화 화 화 화 화 화,\n",
      " A (gold): 때 때 로 남자 는 자신 의\n",
      "\n",
      "\n",
      " before: 웃 테 <UNK> <UNK> <UNK> <UNK> <UNK> <UNK> <UNK> <UNK>. \n",
      " A (pred): 웃 <UNK> 더해서 더해서 더해서 더해서 더해서 더해서 더해서 더해서 더해서,\n",
      " A (gold): 웃 을 테 니까\n",
      "\n",
      "\n",
      " before: 고기 <UNK> 정식 주다 <UNK> <UNK> <UNK> <UNK> <UNK> <UNK>. \n",
      " A (pred): 고기 언제 <UNK> <UNK> <UNK> <UNK> <UNK> <UNK> <UNK> <UNK> <UNK>,\n",
      " A (gold): 고기 두부 정식 주겠 나"
     ]
    },
    {
     "name": "stderr",
     "output_type": "stream",
     "text": [
      "WARNING:tensorflow:Given features: Tensor(\"input:0\", shape=(?, 10), dtype=int64), required signatures: TensorSignature(dtype=tf.int64, shape=TensorShape([Dimension(None), Dimension(10)]), is_sparse=False).\n",
      "WARNING:tensorflow:Given features: Tensor(\"input:0\", shape=(?, 10), dtype=int64), required signatures: TensorSignature(dtype=tf.int64, shape=TensorShape([Dimension(None), Dimension(10)]), is_sparse=False).\n",
      "WARNING:tensorflow:Given targets: Tensor(\"output:0\", shape=(?, 10, 1199), dtype=float32), required signatures: TensorSignature(dtype=tf.float32, shape=TensorShape([Dimension(None), Dimension(10), Dimension(1199)]), is_sparse=False).\n",
      "WARNING:tensorflow:Given targets: Tensor(\"output:0\", shape=(?, 10, 1199), dtype=float32), required signatures: TensorSignature(dtype=tf.float32, shape=TensorShape([Dimension(None), Dimension(10), Dimension(1199)]), is_sparse=False).\n"
     ]
    },
    {
     "name": "stdout",
     "output_type": "stream",
     "text": [
      "\n",
      "\n",
      "\n",
      " before: 어떻다 <UNK> <UNK> <UNK> <UNK> <UNK> <UNK> <UNK> <UNK> <UNK>. \n",
      " A (pred): 어 시끄러워 <UNK> <UNK> <UNK> <UNK> <UNK> <UNK> <UNK> <UNK> <UNK>,\n",
      " A (gold): 어떠 신 가요\n",
      "\n",
      "\n",
      " before: 너 정말 아 무것 모르다 <UNK> <UNK> <UNK> <UNK> <UNK>. \n",
      " A (pred): 오늘 <UNK> 에서 에서 에서 에서 에서 에서 에서 에서 에서,\n",
      " A (gold): 너 정말 아 무것 도 모르 면서\n",
      "\n",
      "\n",
      " before: 덮다 밥 인정 하다 하다 건 <UNK> <UNK> <UNK> <UNK>. \n",
      " A (pred): 덮 거기 <UNK> <UNK> <UNK> <UNK> <UNK> <UNK> <UNK> <UNK> <UNK>,\n",
      " A (gold): 덮 밥 을 인정하게 하는 건"
     ]
    },
    {
     "name": "stderr",
     "output_type": "stream",
     "text": [
      "WARNING:tensorflow:Given features: Tensor(\"input:0\", shape=(?, 10), dtype=int64), required signatures: TensorSignature(dtype=tf.int64, shape=TensorShape([Dimension(None), Dimension(10)]), is_sparse=False).\n",
      "WARNING:tensorflow:Given features: Tensor(\"input:0\", shape=(?, 10), dtype=int64), required signatures: TensorSignature(dtype=tf.int64, shape=TensorShape([Dimension(None), Dimension(10)]), is_sparse=False).\n",
      "WARNING:tensorflow:Given targets: Tensor(\"output:0\", shape=(?, 10, 1199), dtype=float32), required signatures: TensorSignature(dtype=tf.float32, shape=TensorShape([Dimension(None), Dimension(10), Dimension(1199)]), is_sparse=False).\n",
      "WARNING:tensorflow:Given targets: Tensor(\"output:0\", shape=(?, 10, 1199), dtype=float32), required signatures: TensorSignature(dtype=tf.float32, shape=TensorShape([Dimension(None), Dimension(10), Dimension(1199)]), is_sparse=False).\n"
     ]
    },
    {
     "name": "stdout",
     "output_type": "stream",
     "text": [
      "\n",
      "\n",
      "\n",
      " before: 지금 중요하다 생각 <UNK> <UNK> <UNK> <UNK> <UNK> <UNK> <UNK>. \n",
      " A (pred): 너 항상 <UNK> <UNK> <UNK> <UNK> <UNK> <UNK> <UNK> <UNK> <UNK>,\n",
      " A (gold): 지금 중요한 생각 을 …\n",
      "\n",
      "\n",
      " before: 자다 먹다 <UNK> <UNK> <UNK> <UNK> <UNK> <UNK> <UNK> <UNK>. \n",
      " A (pred): 정말 응 <UNK> <UNK> <UNK> <UNK> <UNK> <UNK> <UNK> <UNK> <UNK>,\n",
      " A (gold): 잘 먹겠 습니다\n",
      "\n",
      "\n",
      " before: 함께 <UNK> 흘리다 <UNK> <UNK> <UNK> <UNK> <UNK> <UNK> <UNK>. \n",
      " A (pred): 내 저런 <UNK> <UNK> <UNK> <UNK> <UNK> <UNK> <UNK> <UNK> <UNK>,\n",
      " A (gold): 함께 땀 흘리 자꾸나"
     ]
    },
    {
     "name": "stderr",
     "output_type": "stream",
     "text": [
      "WARNING:tensorflow:Given features: Tensor(\"input:0\", shape=(?, 10), dtype=int64), required signatures: TensorSignature(dtype=tf.int64, shape=TensorShape([Dimension(None), Dimension(10)]), is_sparse=False).\n",
      "WARNING:tensorflow:Given features: Tensor(\"input:0\", shape=(?, 10), dtype=int64), required signatures: TensorSignature(dtype=tf.int64, shape=TensorShape([Dimension(None), Dimension(10)]), is_sparse=False).\n",
      "WARNING:tensorflow:Given targets: Tensor(\"output:0\", shape=(?, 10, 1199), dtype=float32), required signatures: TensorSignature(dtype=tf.float32, shape=TensorShape([Dimension(None), Dimension(10), Dimension(1199)]), is_sparse=False).\n",
      "WARNING:tensorflow:Given targets: Tensor(\"output:0\", shape=(?, 10, 1199), dtype=float32), required signatures: TensorSignature(dtype=tf.float32, shape=TensorShape([Dimension(None), Dimension(10), Dimension(1199)]), is_sparse=False).\n"
     ]
    },
    {
     "name": "stdout",
     "output_type": "stream",
     "text": [
      "\n",
      "\n",
      "\n",
      " before: 요리사 <UNK> 중 하나 <UNK> <UNK> <UNK> <UNK> <UNK> <UNK>. \n",
      " A (pred): 이 마치 <UNK> <UNK> <UNK> <UNK> <UNK> <UNK> <UNK> <UNK> <UNK>,\n",
      " A (gold): 요리사 기량 중 하나 니까\n",
      "\n",
      "\n",
      " before: 사용 하다 것 안 돼다 <UNK> <UNK> <UNK> <UNK> <UNK>. \n",
      " A (pred): <UNK> 대단해 <UNK> <UNK> <UNK> <UNK> <UNK> <UNK> <UNK> <UNK> <UNK>,\n",
      " A (gold): 사용하는 것 도 안 돼\n",
      "\n",
      "\n",
      " before: 내 <UNK> <UNK> <UNK> <UNK> <UNK> <UNK> <UNK> <UNK> <UNK>. \n",
      " A (pred): 내 저런 <UNK> <UNK> <UNK> <UNK> <UNK> <UNK> <UNK> <UNK> <UNK>,\n",
      " A (gold): 내 생활비 에서"
     ]
    },
    {
     "name": "stderr",
     "output_type": "stream",
     "text": [
      "WARNING:tensorflow:Given features: Tensor(\"input:0\", shape=(?, 10), dtype=int64), required signatures: TensorSignature(dtype=tf.int64, shape=TensorShape([Dimension(None), Dimension(10)]), is_sparse=False).\n",
      "WARNING:tensorflow:Given features: Tensor(\"input:0\", shape=(?, 10), dtype=int64), required signatures: TensorSignature(dtype=tf.int64, shape=TensorShape([Dimension(None), Dimension(10)]), is_sparse=False).\n",
      "WARNING:tensorflow:Given targets: Tensor(\"output:0\", shape=(?, 10, 1199), dtype=float32), required signatures: TensorSignature(dtype=tf.float32, shape=TensorShape([Dimension(None), Dimension(10), Dimension(1199)]), is_sparse=False).\n",
      "WARNING:tensorflow:Given targets: Tensor(\"output:0\", shape=(?, 10, 1199), dtype=float32), required signatures: TensorSignature(dtype=tf.float32, shape=TensorShape([Dimension(None), Dimension(10), Dimension(1199)]), is_sparse=False).\n"
     ]
    },
    {
     "name": "stdout",
     "output_type": "stream",
     "text": [
      "\n",
      "\n",
      "\n",
      " before: <UNK> 개 버리다 <UNK> <UNK> <UNK> <UNK> <UNK> <UNK> <UNK>. \n",
      " A (pred): <UNK> 글쎄 글쎄 글쎄 글쎄 글쎄 글쎄 글쎄 글쎄 글쎄 글쎄,\n",
      " A (gold): 뭉 개 버렸 습니다\n",
      "\n",
      "\n",
      " before: 제 조리 <UNK> 실 <UNK> <UNK> <UNK> <UNK> <UNK> <UNK>. \n",
      " A (pred): 내 저런 <UNK> <UNK> <UNK> <UNK> <UNK> <UNK> <UNK> <UNK> <UNK>,\n",
      " A (gold): 제 조리 실습 실\n",
      "\n",
      "\n",
      " before: NAME 리나 <UNK> <UNK> <UNK> <UNK> <UNK> <UNK> <UNK> <UNK>. \n",
      " A (pred): NAME 다음 <UNK> <UNK> <UNK> <UNK> <UNK> <UNK> <UNK> <UNK> <UNK>,\n",
      " A (gold): NAME 에 리나 는"
     ]
    },
    {
     "name": "stderr",
     "output_type": "stream",
     "text": [
      "WARNING:tensorflow:Given features: Tensor(\"input:0\", shape=(?, 10), dtype=int64), required signatures: TensorSignature(dtype=tf.int64, shape=TensorShape([Dimension(None), Dimension(10)]), is_sparse=False).\n",
      "WARNING:tensorflow:Given features: Tensor(\"input:0\", shape=(?, 10), dtype=int64), required signatures: TensorSignature(dtype=tf.int64, shape=TensorShape([Dimension(None), Dimension(10)]), is_sparse=False).\n",
      "WARNING:tensorflow:Given targets: Tensor(\"output:0\", shape=(?, 10, 1199), dtype=float32), required signatures: TensorSignature(dtype=tf.float32, shape=TensorShape([Dimension(None), Dimension(10), Dimension(1199)]), is_sparse=False).\n",
      "WARNING:tensorflow:Given targets: Tensor(\"output:0\", shape=(?, 10, 1199), dtype=float32), required signatures: TensorSignature(dtype=tf.float32, shape=TensorShape([Dimension(None), Dimension(10), Dimension(1199)]), is_sparse=False).\n"
     ]
    },
    {
     "name": "stdout",
     "output_type": "stream",
     "text": [
      "\n",
      "\n",
      "\n",
      " before: 자기 말 꺼내다 <UNK> 하다 <UNK> <UNK> <UNK> <UNK> <UNK>. \n",
      " A (pred): 난 항상 <UNK> <UNK> <UNK> <UNK> <UNK> <UNK> <UNK> <UNK> <UNK>,\n",
      " A (gold): 자기 가 말 꺼내고 침울 해 하네 …\n",
      "\n",
      "\n",
      " before: <UNK> <UNK> <UNK> <UNK> <UNK> <UNK> <UNK> <UNK> <UNK> <UNK>. \n",
      " A (pred): <UNK> 섹시 섹시 섹시 섹시 섹시 섹시 섹시 섹시 섹시 섹시,\n",
      " A (gold): 아싸\n",
      "\n",
      "\n",
      " before: 아직 분 있다 <UNK> <UNK> <UNK> <UNK> <UNK> <UNK> <UNK>. \n",
      " A (pred): 아직 저런 <UNK> <UNK> <UNK> <UNK> <UNK> <UNK> <UNK> <UNK> <UNK>,\n",
      " A (gold): 아직 분 이나 있잖 아"
     ]
    },
    {
     "name": "stderr",
     "output_type": "stream",
     "text": [
      "WARNING:tensorflow:Given features: Tensor(\"input:0\", shape=(?, 10), dtype=int64), required signatures: TensorSignature(dtype=tf.int64, shape=TensorShape([Dimension(None), Dimension(10)]), is_sparse=False).\n",
      "WARNING:tensorflow:Given features: Tensor(\"input:0\", shape=(?, 10), dtype=int64), required signatures: TensorSignature(dtype=tf.int64, shape=TensorShape([Dimension(None), Dimension(10)]), is_sparse=False).\n",
      "WARNING:tensorflow:Given targets: Tensor(\"output:0\", shape=(?, 10, 1199), dtype=float32), required signatures: TensorSignature(dtype=tf.float32, shape=TensorShape([Dimension(None), Dimension(10), Dimension(1199)]), is_sparse=False).\n",
      "WARNING:tensorflow:Given targets: Tensor(\"output:0\", shape=(?, 10, 1199), dtype=float32), required signatures: TensorSignature(dtype=tf.float32, shape=TensorShape([Dimension(None), Dimension(10), Dimension(1199)]), is_sparse=False).\n"
     ]
    },
    {
     "name": "stdout",
     "output_type": "stream",
     "text": [
      "\n",
      "\n",
      "\n",
      " before: 정말 <UNK> <UNK> <UNK> <UNK> <UNK> <UNK> <UNK> <UNK> <UNK>. \n",
      " A (pred): 뭐 응 <UNK> <UNK> <UNK> <UNK> <UNK> <UNK> <UNK> <UNK> <UNK>,\n",
      " A (gold): 정말 이네\n",
      "\n",
      "\n",
      " before: 끝내다 <UNK> 자기 것 <UNK> <UNK> <UNK> <UNK> <UNK> <UNK>. \n",
      " A (pred): <UNK> 닥쳐 닥쳐 닥쳐 닥쳐 닥쳐 닥쳐 닥쳐 닥쳐 닥쳐 닥쳐,\n",
      " A (gold): 끝내는 통째 로 자기 것 으로 …\n",
      "\n",
      "\n",
      " before: 진심 내다 이기다 세다 <UNK> <UNK> <UNK> <UNK> <UNK> <UNK>. \n",
      " A (pred): 도망칠 씹 <UNK> <UNK> <UNK> <UNK> <UNK> <UNK> <UNK> <UNK> <UNK>,\n",
      " A (gold): 진심 으로 내게 이길 셈 이 냐"
     ]
    },
    {
     "name": "stderr",
     "output_type": "stream",
     "text": [
      "WARNING:tensorflow:Given features: Tensor(\"input:0\", shape=(?, 10), dtype=int64), required signatures: TensorSignature(dtype=tf.int64, shape=TensorShape([Dimension(None), Dimension(10)]), is_sparse=False).\n",
      "WARNING:tensorflow:Given features: Tensor(\"input:0\", shape=(?, 10), dtype=int64), required signatures: TensorSignature(dtype=tf.int64, shape=TensorShape([Dimension(None), Dimension(10)]), is_sparse=False).\n",
      "WARNING:tensorflow:Given targets: Tensor(\"output:0\", shape=(?, 10, 1199), dtype=float32), required signatures: TensorSignature(dtype=tf.float32, shape=TensorShape([Dimension(None), Dimension(10), Dimension(1199)]), is_sparse=False).\n",
      "WARNING:tensorflow:Given targets: Tensor(\"output:0\", shape=(?, 10, 1199), dtype=float32), required signatures: TensorSignature(dtype=tf.float32, shape=TensorShape([Dimension(None), Dimension(10), Dimension(1199)]), is_sparse=False).\n"
     ]
    },
    {
     "name": "stdout",
     "output_type": "stream",
     "text": [
      "\n",
      "\n",
      "\n",
      " before: 응 <UNK> <UNK> <UNK> <UNK> <UNK> <UNK> <UNK> <UNK> <UNK>. \n",
      " A (pred): 응 응 <UNK> <UNK> <UNK> <UNK> <UNK> <UNK> <UNK> <UNK> <UNK>,\n",
      " A (gold): 응\n",
      "\n",
      "\n",
      " before: 아 그렇다 <UNK> <UNK> <UNK> <UNK> <UNK> <UNK> <UNK> <UNK>. \n",
      " A (pred): 아 기다리 <UNK> <UNK> <UNK> <UNK> <UNK> <UNK> <UNK> <UNK> <UNK>,\n",
      " A (gold): 아 그래\n",
      "\n",
      "\n",
      " before: 잇다 시키다 선배 불다 <UNK> <UNK> <UNK> <UNK> <UNK> <UNK>. \n",
      " A (pred): 다음 다음 <UNK> <UNK> <UNK> <UNK> <UNK> <UNK> <UNK> <UNK> <UNK>,\n",
      " A (gold): 잇 시키 선배 라고 불러 줘"
     ]
    },
    {
     "name": "stderr",
     "output_type": "stream",
     "text": [
      "WARNING:tensorflow:Given features: Tensor(\"input:0\", shape=(?, 10), dtype=int64), required signatures: TensorSignature(dtype=tf.int64, shape=TensorShape([Dimension(None), Dimension(10)]), is_sparse=False).\n",
      "WARNING:tensorflow:Given features: Tensor(\"input:0\", shape=(?, 10), dtype=int64), required signatures: TensorSignature(dtype=tf.int64, shape=TensorShape([Dimension(None), Dimension(10)]), is_sparse=False).\n",
      "WARNING:tensorflow:Given targets: Tensor(\"output:0\", shape=(?, 10, 1199), dtype=float32), required signatures: TensorSignature(dtype=tf.float32, shape=TensorShape([Dimension(None), Dimension(10), Dimension(1199)]), is_sparse=False).\n",
      "WARNING:tensorflow:Given targets: Tensor(\"output:0\", shape=(?, 10, 1199), dtype=float32), required signatures: TensorSignature(dtype=tf.float32, shape=TensorShape([Dimension(None), Dimension(10), Dimension(1199)]), is_sparse=False).\n"
     ]
    },
    {
     "name": "stdout",
     "output_type": "stream",
     "text": [
      "\n",
      "\n",
      "\n",
      " before: 그렇다 <UNK> <UNK> <UNK> <UNK> <UNK> <UNK> <UNK> <UNK> <UNK>. \n",
      " A (pred): 그래 응 <UNK> <UNK> <UNK> <UNK> <UNK> <UNK> <UNK> <UNK> <UNK>,\n",
      " A (gold): 그래\n",
      "\n",
      "\n",
      " before: 나다 <UNK> 생각 <UNK> <UNK> <UNK> <UNK> <UNK> <UNK> <UNK>. \n",
      " A (pred): 나도 헤에 <UNK> <UNK> <UNK> <UNK> <UNK> <UNK> <UNK> <UNK> <UNK>,\n",
      " A (gold): 나도 차근차근 생각 해봤 어\n",
      "\n",
      "\n",
      " before: <UNK> 후추 사용 하다 <UNK> <UNK> <UNK> <UNK> <UNK> <UNK>. \n",
      " A (pred): <UNK> 글쎄 글쎄 글쎄 글쎄 글쎄 글쎄 글쎄 글쎄 글쎄 글쎄,\n",
      " A (gold): 유자 후추 를 사용해"
     ]
    },
    {
     "name": "stderr",
     "output_type": "stream",
     "text": [
      "WARNING:tensorflow:Given features: Tensor(\"input:0\", shape=(?, 10), dtype=int64), required signatures: TensorSignature(dtype=tf.int64, shape=TensorShape([Dimension(None), Dimension(10)]), is_sparse=False).\n",
      "WARNING:tensorflow:Given features: Tensor(\"input:0\", shape=(?, 10), dtype=int64), required signatures: TensorSignature(dtype=tf.int64, shape=TensorShape([Dimension(None), Dimension(10)]), is_sparse=False).\n",
      "WARNING:tensorflow:Given targets: Tensor(\"output:0\", shape=(?, 10, 1199), dtype=float32), required signatures: TensorSignature(dtype=tf.float32, shape=TensorShape([Dimension(None), Dimension(10), Dimension(1199)]), is_sparse=False).\n",
      "WARNING:tensorflow:Given targets: Tensor(\"output:0\", shape=(?, 10, 1199), dtype=float32), required signatures: TensorSignature(dtype=tf.float32, shape=TensorShape([Dimension(None), Dimension(10), Dimension(1199)]), is_sparse=False).\n"
     ]
    },
    {
     "name": "stdout",
     "output_type": "stream",
     "text": [
      "\n",
      "\n",
      "\n",
      " before: 그리고 <UNK> <UNK> <UNK> <UNK> <UNK> <UNK> <UNK> <UNK> <UNK>. \n",
      " A (pred): 그리고 항상 <UNK> <UNK> <UNK> <UNK> <UNK> <UNK> <UNK> <UNK> <UNK>,\n",
      " A (gold): 그리고 푸 알레 는\n",
      "\n",
      "\n",
      " before: 고기 부드럽다 거지 <UNK> <UNK> <UNK> <UNK> <UNK> <UNK> <UNK>. \n",
      " A (pred): 저 입실 <UNK> <UNK> <UNK> <UNK> <UNK> <UNK> <UNK> <UNK> <UNK>,\n",
      " A (gold): 고기 가 부드러워 지는 거지\n",
      "\n",
      "\n",
      " before: <UNK> <UNK> <UNK> <UNK> <UNK> <UNK> <UNK> <UNK> <UNK> <UNK>. \n",
      " A (pred): <UNK> 섹시 섹시 섹시 섹시 섹시 섹시 섹시 섹시 섹시 섹시,\n",
      " A (gold): 서부 로랜드고릴라 와"
     ]
    },
    {
     "name": "stderr",
     "output_type": "stream",
     "text": [
      "WARNING:tensorflow:Given features: Tensor(\"input:0\", shape=(?, 10), dtype=int64), required signatures: TensorSignature(dtype=tf.int64, shape=TensorShape([Dimension(None), Dimension(10)]), is_sparse=False).\n",
      "WARNING:tensorflow:Given features: Tensor(\"input:0\", shape=(?, 10), dtype=int64), required signatures: TensorSignature(dtype=tf.int64, shape=TensorShape([Dimension(None), Dimension(10)]), is_sparse=False).\n",
      "WARNING:tensorflow:Given targets: Tensor(\"output:0\", shape=(?, 10, 1199), dtype=float32), required signatures: TensorSignature(dtype=tf.float32, shape=TensorShape([Dimension(None), Dimension(10), Dimension(1199)]), is_sparse=False).\n",
      "WARNING:tensorflow:Given targets: Tensor(\"output:0\", shape=(?, 10, 1199), dtype=float32), required signatures: TensorSignature(dtype=tf.float32, shape=TensorShape([Dimension(None), Dimension(10), Dimension(1199)]), is_sparse=False).\n"
     ]
    },
    {
     "name": "stdout",
     "output_type": "stream",
     "text": [
      "\n",
      "\n",
      "\n",
      " before: 그렇다 고기 <UNK> <UNK> <UNK> <UNK> <UNK> <UNK> <UNK> <UNK>. \n",
      " A (pred): 그럼 응 <UNK> <UNK> <UNK> <UNK> <UNK> <UNK> <UNK> <UNK> <UNK>,\n",
      " A (gold): 그런 고기\n",
      "\n",
      "\n",
      " before: 사용 하다 것 안 돼다 <UNK> <UNK> <UNK> <UNK> <UNK>. \n",
      " A (pred): <UNK> 글쎄 <UNK> <UNK> <UNK> <UNK> <UNK> <UNK> <UNK> <UNK> <UNK>,\n",
      " A (gold): 사용하는 것 도 안 돼\n",
      "\n",
      "\n",
      " before: 요리 하나 만들다 <UNK> <UNK> <UNK> <UNK> <UNK> <UNK> <UNK>. \n",
      " A (pred): 요리 아까 <UNK> <UNK> <UNK> <UNK> <UNK> <UNK> <UNK> <UNK> <UNK>,\n",
      " A (gold): 요리 하나 를 만들 도록"
     ]
    },
    {
     "name": "stderr",
     "output_type": "stream",
     "text": [
      "WARNING:tensorflow:Given features: Tensor(\"input:0\", shape=(?, 10), dtype=int64), required signatures: TensorSignature(dtype=tf.int64, shape=TensorShape([Dimension(None), Dimension(10)]), is_sparse=False).\n",
      "WARNING:tensorflow:Given features: Tensor(\"input:0\", shape=(?, 10), dtype=int64), required signatures: TensorSignature(dtype=tf.int64, shape=TensorShape([Dimension(None), Dimension(10)]), is_sparse=False).\n",
      "WARNING:tensorflow:Given targets: Tensor(\"output:0\", shape=(?, 10, 1199), dtype=float32), required signatures: TensorSignature(dtype=tf.float32, shape=TensorShape([Dimension(None), Dimension(10), Dimension(1199)]), is_sparse=False).\n",
      "WARNING:tensorflow:Given targets: Tensor(\"output:0\", shape=(?, 10, 1199), dtype=float32), required signatures: TensorSignature(dtype=tf.float32, shape=TensorShape([Dimension(None), Dimension(10), Dimension(1199)]), is_sparse=False).\n"
     ]
    },
    {
     "name": "stdout",
     "output_type": "stream",
     "text": [
      "\n",
      "\n",
      "\n",
      " before: 걱정 말 <UNK> <UNK> <UNK> <UNK> <UNK> <UNK> <UNK> <UNK>. \n",
      " A (pred): <UNK> 대단해 대단해 대단해 대단해 대단해 대단해 대단해 대단해 대단해 대단해,\n",
      " A (gold): 걱정 말 랑께\n",
      "\n",
      "\n",
      " before: 말 해보다 <UNK> <UNK> <UNK> <UNK> <UNK> <UNK> <UNK> <UNK>. \n",
      " A (pred): 나 헤에 <UNK> <UNK> <UNK> <UNK> <UNK> <UNK> <UNK> <UNK> <UNK>,\n",
      " A (gold): 말 해봐\n",
      "\n",
      "\n",
      " before: <UNK> 후추 사용 하다 <UNK> <UNK> <UNK> <UNK> <UNK> <UNK>. \n",
      " A (pred): <UNK> 대단해 대단해 대단해 대단해 대단해 대단해 대단해 대단해 대단해 대단해,\n",
      " A (gold): 유자 후추 를 사용해"
     ]
    },
    {
     "name": "stderr",
     "output_type": "stream",
     "text": [
      "WARNING:tensorflow:Given features: Tensor(\"input:0\", shape=(?, 10), dtype=int64), required signatures: TensorSignature(dtype=tf.int64, shape=TensorShape([Dimension(None), Dimension(10)]), is_sparse=False).\n",
      "WARNING:tensorflow:Given features: Tensor(\"input:0\", shape=(?, 10), dtype=int64), required signatures: TensorSignature(dtype=tf.int64, shape=TensorShape([Dimension(None), Dimension(10)]), is_sparse=False).\n",
      "WARNING:tensorflow:Given targets: Tensor(\"output:0\", shape=(?, 10, 1199), dtype=float32), required signatures: TensorSignature(dtype=tf.float32, shape=TensorShape([Dimension(None), Dimension(10), Dimension(1199)]), is_sparse=False).\n",
      "WARNING:tensorflow:Given targets: Tensor(\"output:0\", shape=(?, 10, 1199), dtype=float32), required signatures: TensorSignature(dtype=tf.float32, shape=TensorShape([Dimension(None), Dimension(10), Dimension(1199)]), is_sparse=False).\n"
     ]
    },
    {
     "name": "stdout",
     "output_type": "stream",
     "text": [
      "\n",
      "\n",
      "\n",
      " before: 그 쪽 <UNK> <UNK> 없다 모양 <UNK> <UNK> <UNK> <UNK>. \n",
      " A (pred): 그 응 <UNK> <UNK> <UNK> <UNK> <UNK> <UNK> <UNK> <UNK> <UNK>,\n",
      " A (gold): 그 쪽 은 별다른 진척 이 없는 모양 인데\n",
      "\n",
      "\n",
      " before: 아직 <UNK> 설명 못 들다 <UNK> <UNK> <UNK> <UNK> <UNK>. \n",
      " A (pred): 아직 저런 <UNK> <UNK> <UNK> <UNK> <UNK> <UNK> <UNK> <UNK> <UNK>,\n",
      " A (gold): 아직 아무런 설명 도 못 들었 는 데요\n",
      "\n",
      "\n",
      " before: <UNK> <UNK> 않다 <UNK> <UNK> <UNK> <UNK> <UNK> <UNK> <UNK>. \n",
      " A (pred): <UNK> 대단해 대단해 대단해 대단해 대단해 대단해 대단해 대단해 대단해 대단해,\n",
      " A (gold): 추 춥 지 않아"
     ]
    },
    {
     "name": "stderr",
     "output_type": "stream",
     "text": [
      "WARNING:tensorflow:Given features: Tensor(\"input:0\", shape=(?, 10), dtype=int64), required signatures: TensorSignature(dtype=tf.int64, shape=TensorShape([Dimension(None), Dimension(10)]), is_sparse=False).\n",
      "WARNING:tensorflow:Given features: Tensor(\"input:0\", shape=(?, 10), dtype=int64), required signatures: TensorSignature(dtype=tf.int64, shape=TensorShape([Dimension(None), Dimension(10)]), is_sparse=False).\n",
      "WARNING:tensorflow:Given targets: Tensor(\"output:0\", shape=(?, 10, 1199), dtype=float32), required signatures: TensorSignature(dtype=tf.float32, shape=TensorShape([Dimension(None), Dimension(10), Dimension(1199)]), is_sparse=False).\n",
      "WARNING:tensorflow:Given targets: Tensor(\"output:0\", shape=(?, 10, 1199), dtype=float32), required signatures: TensorSignature(dtype=tf.float32, shape=TensorShape([Dimension(None), Dimension(10), Dimension(1199)]), is_sparse=False).\n"
     ]
    },
    {
     "name": "stdout",
     "output_type": "stream",
     "text": [
      "\n",
      "\n",
      "\n",
      " before: 남다 시간 이제 분 없다 <UNK> <UNK> <UNK> <UNK> <UNK>. \n",
      " A (pred): 인분 <UNK> <UNK> <UNK> <UNK> <UNK> <UNK> <UNK> <UNK> <UNK> <UNK>,\n",
      " A (gold): 남은 시간 은 이제 분 밖에 없다 고\n",
      "\n",
      "\n",
      " before: <UNK> 못 해 <UNK> <UNK> <UNK> <UNK> <UNK> <UNK> <UNK>. \n",
      " A (pred): <UNK> 글쎄 글쎄 글쎄 글쎄 글쎄 글쎄 글쎄 글쎄 글쎄 글쎄,\n",
      " A (gold): 용서 못 해\n",
      "\n",
      "\n",
      " before: 내 요리 시식 하다 <UNK> 원 하다 <UNK> <UNK> <UNK>. \n",
      " A (pred): 내 저런 <UNK> <UNK> <UNK> <UNK> <UNK> <UNK> <UNK> <UNK> <UNK>,\n",
      " A (gold): 내 요리 를 시식 할 권리 를 원해"
     ]
    },
    {
     "name": "stderr",
     "output_type": "stream",
     "text": [
      "WARNING:tensorflow:Given features: Tensor(\"input:0\", shape=(?, 10), dtype=int64), required signatures: TensorSignature(dtype=tf.int64, shape=TensorShape([Dimension(None), Dimension(10)]), is_sparse=False).\n",
      "WARNING:tensorflow:Given features: Tensor(\"input:0\", shape=(?, 10), dtype=int64), required signatures: TensorSignature(dtype=tf.int64, shape=TensorShape([Dimension(None), Dimension(10)]), is_sparse=False).\n",
      "WARNING:tensorflow:Given targets: Tensor(\"output:0\", shape=(?, 10, 1199), dtype=float32), required signatures: TensorSignature(dtype=tf.float32, shape=TensorShape([Dimension(None), Dimension(10), Dimension(1199)]), is_sparse=False).\n",
      "WARNING:tensorflow:Given targets: Tensor(\"output:0\", shape=(?, 10, 1199), dtype=float32), required signatures: TensorSignature(dtype=tf.float32, shape=TensorShape([Dimension(None), Dimension(10), Dimension(1199)]), is_sparse=False).\n"
     ]
    },
    {
     "name": "stdout",
     "output_type": "stream",
     "text": [
      "\n",
      "\n",
      "\n",
      " before: 네 <UNK> <UNK> <UNK> <UNK> <UNK> <UNK> <UNK> <UNK> <UNK>. \n",
      " A (pred): 네 기다리 <UNK> <UNK> <UNK> <UNK> <UNK> <UNK> <UNK> <UNK> <UNK>,\n",
      " A (gold): 네\n",
      "\n",
      "\n",
      " before: 응 <UNK> <UNK> <UNK> <UNK> <UNK> <UNK> <UNK> <UNK> <UNK>. \n",
      " A (pred): 응 응 <UNK> <UNK> <UNK> <UNK> <UNK> <UNK> <UNK> <UNK> <UNK>,\n",
      " A (gold): 응\n",
      "\n",
      "\n",
      " before: 괜찮다 <UNK> <UNK> <UNK> <UNK> <UNK> <UNK> <UNK> <UNK> <UNK>. \n",
      " A (pred): 아 잃기 <UNK> <UNK> <UNK> <UNK> <UNK> <UNK> <UNK> <UNK> <UNK>,\n",
      " A (gold): 괜찮 아"
     ]
    },
    {
     "name": "stderr",
     "output_type": "stream",
     "text": [
      "WARNING:tensorflow:Given features: Tensor(\"input:0\", shape=(?, 10), dtype=int64), required signatures: TensorSignature(dtype=tf.int64, shape=TensorShape([Dimension(None), Dimension(10)]), is_sparse=False).\n",
      "WARNING:tensorflow:Given features: Tensor(\"input:0\", shape=(?, 10), dtype=int64), required signatures: TensorSignature(dtype=tf.int64, shape=TensorShape([Dimension(None), Dimension(10)]), is_sparse=False).\n",
      "WARNING:tensorflow:Given targets: Tensor(\"output:0\", shape=(?, 10, 1199), dtype=float32), required signatures: TensorSignature(dtype=tf.float32, shape=TensorShape([Dimension(None), Dimension(10), Dimension(1199)]), is_sparse=False).\n",
      "WARNING:tensorflow:Given targets: Tensor(\"output:0\", shape=(?, 10, 1199), dtype=float32), required signatures: TensorSignature(dtype=tf.float32, shape=TensorShape([Dimension(None), Dimension(10), Dimension(1199)]), is_sparse=False).\n"
     ]
    },
    {
     "name": "stdout",
     "output_type": "stream",
     "text": [
      "\n",
      "\n",
      "\n",
      " before: 우리 <UNK> 식당 <UNK> <UNK> <UNK> <UNK> <UNK> <UNK> <UNK>. \n",
      " A (pred): 그 응 <UNK> <UNK> <UNK> <UNK> <UNK> <UNK> <UNK> <UNK> <UNK>,\n",
      " A (gold): 우리 집도 식당 이야\n",
      "\n",
      "\n",
      " before: 덮다 밥연 <UNK> <UNK> <UNK> <UNK> <UNK> <UNK> <UNK> <UNK>. \n",
      " A (pred): 유키 거기 <UNK> <UNK> <UNK> <UNK> <UNK> <UNK> <UNK> <UNK> <UNK>,\n",
      " A (gold): 덮 밥연 의 활동 비는\n",
      "\n",
      "\n",
      " before: 몇 년 <UNK> 합숙 <UNK> <UNK> <UNK> <UNK> <UNK> <UNK>. \n",
      " A (pred): 내 저런 <UNK> <UNK> <UNK> <UNK> <UNK> <UNK> <UNK> <UNK> <UNK>,\n",
      " A (gold): 몇 년 인가 전의 합숙 에서는"
     ]
    },
    {
     "name": "stderr",
     "output_type": "stream",
     "text": [
      "WARNING:tensorflow:Given features: Tensor(\"input:0\", shape=(?, 10), dtype=int64), required signatures: TensorSignature(dtype=tf.int64, shape=TensorShape([Dimension(None), Dimension(10)]), is_sparse=False).\n",
      "WARNING:tensorflow:Given features: Tensor(\"input:0\", shape=(?, 10), dtype=int64), required signatures: TensorSignature(dtype=tf.int64, shape=TensorShape([Dimension(None), Dimension(10)]), is_sparse=False).\n",
      "WARNING:tensorflow:Given targets: Tensor(\"output:0\", shape=(?, 10, 1199), dtype=float32), required signatures: TensorSignature(dtype=tf.float32, shape=TensorShape([Dimension(None), Dimension(10), Dimension(1199)]), is_sparse=False).\n",
      "WARNING:tensorflow:Given targets: Tensor(\"output:0\", shape=(?, 10, 1199), dtype=float32), required signatures: TensorSignature(dtype=tf.float32, shape=TensorShape([Dimension(None), Dimension(10), Dimension(1199)]), is_sparse=False).\n"
     ]
    },
    {
     "name": "stdout",
     "output_type": "stream",
     "text": [
      "\n",
      "\n",
      "\n",
      " before: <UNK> <UNK> <UNK> <UNK> <UNK> <UNK> <UNK> <UNK> <UNK> <UNK>. \n",
      " A (pred): <UNK> 섹시 섹시 섹시 섹시 섹시 섹시 섹시 섹시 섹시 섹시,\n",
      " A (gold): 저쪽 은 관동 전역 에 활어 를\n",
      "\n",
      "\n",
      " before: 그렇다 <UNK> <UNK> <UNK> <UNK> <UNK> <UNK> <UNK> <UNK> <UNK>. \n",
      " A (pred): 그래 응 <UNK> <UNK> <UNK> <UNK> <UNK> <UNK> <UNK> <UNK> <UNK>,\n",
      " A (gold): 그렇 다면\n",
      "\n",
      "\n",
      " before: 아직 유키 히 <UNK> <UNK> <UNK> <UNK> <UNK> <UNK> <UNK>. \n",
      " A (pred): 유키 유키 <UNK> <UNK> <UNK> <UNK> <UNK> <UNK> <UNK> <UNK> <UNK>,\n",
      " A (gold): 아직 도 유키 히 라는"
     ]
    },
    {
     "name": "stderr",
     "output_type": "stream",
     "text": [
      "WARNING:tensorflow:Given features: Tensor(\"input:0\", shape=(?, 10), dtype=int64), required signatures: TensorSignature(dtype=tf.int64, shape=TensorShape([Dimension(None), Dimension(10)]), is_sparse=False).\n",
      "WARNING:tensorflow:Given features: Tensor(\"input:0\", shape=(?, 10), dtype=int64), required signatures: TensorSignature(dtype=tf.int64, shape=TensorShape([Dimension(None), Dimension(10)]), is_sparse=False).\n",
      "WARNING:tensorflow:Given targets: Tensor(\"output:0\", shape=(?, 10, 1199), dtype=float32), required signatures: TensorSignature(dtype=tf.float32, shape=TensorShape([Dimension(None), Dimension(10), Dimension(1199)]), is_sparse=False).\n",
      "WARNING:tensorflow:Given targets: Tensor(\"output:0\", shape=(?, 10, 1199), dtype=float32), required signatures: TensorSignature(dtype=tf.float32, shape=TensorShape([Dimension(None), Dimension(10), Dimension(1199)]), is_sparse=False).\n"
     ]
    },
    {
     "name": "stdout",
     "output_type": "stream",
     "text": [
      "\n",
      "\n",
      "\n",
      " before: <UNK> <UNK> <UNK> <UNK> <UNK> <UNK> <UNK> <UNK> <UNK> <UNK>. \n",
      " A (pred): <UNK> 헤에 헤에 헤에 헤에 헤에 헤에 헤에 헤에 헤에 헤에,\n",
      " A (gold): 육질 의 탄력 과 결\n",
      "\n",
      "\n",
      " before: 가슴 살 <UNK> 하다 않다 <UNK> <UNK> <UNK> <UNK> <UNK>. \n",
      " A (pred): 이 저런 <UNK> <UNK> <UNK> <UNK> <UNK> <UNK> <UNK> <UNK> <UNK>,\n",
      " A (gold): 가슴 살 은 퍽퍽 하지 않고\n",
      "\n",
      "\n",
      " before: 스테이크 먹다 보다 적 있다 <UNK> <UNK> <UNK> <UNK> <UNK>. \n",
      " A (pred): 그 뭐라고 <UNK> <UNK> <UNK> <UNK> <UNK> <UNK> <UNK> <UNK> <UNK>,\n",
      " A (gold): 스테이크 를 먹어 본 적 이 있어"
     ]
    },
    {
     "name": "stderr",
     "output_type": "stream",
     "text": [
      "WARNING:tensorflow:Given features: Tensor(\"input:0\", shape=(?, 10), dtype=int64), required signatures: TensorSignature(dtype=tf.int64, shape=TensorShape([Dimension(None), Dimension(10)]), is_sparse=False).\n",
      "WARNING:tensorflow:Given features: Tensor(\"input:0\", shape=(?, 10), dtype=int64), required signatures: TensorSignature(dtype=tf.int64, shape=TensorShape([Dimension(None), Dimension(10)]), is_sparse=False).\n",
      "WARNING:tensorflow:Given targets: Tensor(\"output:0\", shape=(?, 10, 1199), dtype=float32), required signatures: TensorSignature(dtype=tf.float32, shape=TensorShape([Dimension(None), Dimension(10), Dimension(1199)]), is_sparse=False).\n",
      "WARNING:tensorflow:Given targets: Tensor(\"output:0\", shape=(?, 10, 1199), dtype=float32), required signatures: TensorSignature(dtype=tf.float32, shape=TensorShape([Dimension(None), Dimension(10), Dimension(1199)]), is_sparse=False).\n"
     ]
    },
    {
     "name": "stdout",
     "output_type": "stream",
     "text": [
      "\n",
      "\n",
      "\n",
      " before: 자기 말 꺼내다 <UNK> 하다 <UNK> <UNK> <UNK> <UNK> <UNK>. \n",
      " A (pred): 지금 헤에 <UNK> <UNK> <UNK> <UNK> <UNK> <UNK> <UNK> <UNK> <UNK>,\n",
      " A (gold): 자기 가 말 꺼내고 침울 해 하네 …\n",
      "\n",
      "\n",
      " before: 유키 히 <UNK> <UNK> <UNK> <UNK> <UNK> <UNK> <UNK> <UNK>. \n",
      " A (pred): 유키 흔들 <UNK> <UNK> <UNK> <UNK> <UNK> <UNK> <UNK> <UNK> <UNK>,\n",
      " A (gold): 유키 히 라\n",
      "\n",
      "\n",
      " before: 그렇다 <UNK> <UNK> <UNK> <UNK> <UNK> <UNK> <UNK> <UNK> <UNK>. \n",
      " A (pred): 그래 응 <UNK> <UNK> <UNK> <UNK> <UNK> <UNK> <UNK> <UNK> <UNK>,\n",
      " A (gold): 그럼 …"
     ]
    },
    {
     "name": "stderr",
     "output_type": "stream",
     "text": [
      "WARNING:tensorflow:Given features: Tensor(\"input:0\", shape=(?, 10), dtype=int64), required signatures: TensorSignature(dtype=tf.int64, shape=TensorShape([Dimension(None), Dimension(10)]), is_sparse=False).\n",
      "WARNING:tensorflow:Given features: Tensor(\"input:0\", shape=(?, 10), dtype=int64), required signatures: TensorSignature(dtype=tf.int64, shape=TensorShape([Dimension(None), Dimension(10)]), is_sparse=False).\n",
      "WARNING:tensorflow:Given targets: Tensor(\"output:0\", shape=(?, 10, 1199), dtype=float32), required signatures: TensorSignature(dtype=tf.float32, shape=TensorShape([Dimension(None), Dimension(10), Dimension(1199)]), is_sparse=False).\n",
      "WARNING:tensorflow:Given targets: Tensor(\"output:0\", shape=(?, 10, 1199), dtype=float32), required signatures: TensorSignature(dtype=tf.float32, shape=TensorShape([Dimension(None), Dimension(10), Dimension(1199)]), is_sparse=False).\n"
     ]
    },
    {
     "name": "stdout",
     "output_type": "stream",
     "text": [
      "\n",
      "\n",
      "\n",
      " before: 맛있다 <UNK> <UNK> <UNK> <UNK> <UNK> <UNK> <UNK> <UNK> <UNK>. \n",
      " A (pred): 맛있어 응 <UNK> <UNK> <UNK> <UNK> <UNK> <UNK> <UNK> <UNK> <UNK>,\n",
      " A (gold): 맛있어\n",
      "\n",
      "\n",
      " before: 아이디어 숨다 <UNK> <UNK> <UNK> <UNK> <UNK> <UNK> <UNK> <UNK>. \n",
      " A (pred): 저 입실 <UNK> <UNK> <UNK> <UNK> <UNK> <UNK> <UNK> <UNK> <UNK>,\n",
      " A (gold): 아이디어 가 숨어 있 어\n",
      "\n",
      "\n",
      " before: 우선 <UNK> <UNK> <UNK> <UNK> <UNK> <UNK> <UNK> <UNK> <UNK>. \n",
      " A (pred): 뭐 응 <UNK> <UNK> <UNK> <UNK> <UNK> <UNK> <UNK> <UNK> <UNK>,\n",
      " A (gold): 우선 금 닭새우"
     ]
    },
    {
     "name": "stderr",
     "output_type": "stream",
     "text": [
      "WARNING:tensorflow:Given features: Tensor(\"input:0\", shape=(?, 10), dtype=int64), required signatures: TensorSignature(dtype=tf.int64, shape=TensorShape([Dimension(None), Dimension(10)]), is_sparse=False).\n",
      "WARNING:tensorflow:Given features: Tensor(\"input:0\", shape=(?, 10), dtype=int64), required signatures: TensorSignature(dtype=tf.int64, shape=TensorShape([Dimension(None), Dimension(10)]), is_sparse=False).\n",
      "WARNING:tensorflow:Given targets: Tensor(\"output:0\", shape=(?, 10, 1199), dtype=float32), required signatures: TensorSignature(dtype=tf.float32, shape=TensorShape([Dimension(None), Dimension(10), Dimension(1199)]), is_sparse=False).\n",
      "WARNING:tensorflow:Given targets: Tensor(\"output:0\", shape=(?, 10, 1199), dtype=float32), required signatures: TensorSignature(dtype=tf.float32, shape=TensorShape([Dimension(None), Dimension(10), Dimension(1199)]), is_sparse=False).\n"
     ]
    },
    {
     "name": "stdout",
     "output_type": "stream",
     "text": [
      "\n",
      "\n",
      "\n",
      " before: <UNK> 자다 굽다 내다 <UNK> <UNK> <UNK> <UNK> <UNK> <UNK>. \n",
      " A (pred): <UNK> 글쎄 글쎄 글쎄 글쎄 글쎄 글쎄 글쎄 글쎄 글쎄 글쎄,\n",
      " A (gold): 오븐 에서 잘 구워 낸 다\n",
      "\n",
      "\n",
      " before: 우리 <UNK> 식당 <UNK> <UNK> <UNK> <UNK> <UNK> <UNK> <UNK>. \n",
      " A (pred): 우리 응 <UNK> <UNK> <UNK> <UNK> <UNK> <UNK> <UNK> <UNK> <UNK>,\n",
      " A (gold): 우리 집도 식당 이야\n",
      "\n",
      "\n",
      " before: <UNK> <UNK> 요리 <UNK> <UNK> 받다 <UNK> <UNK> <UNK> <UNK>. \n",
      " A (pred): <UNK> 더해서 더해서 더해서 더해서 더해서 더해서 더해서 더해서 더해서 더해서,\n",
      " A (gold): 매일 가혹 한 요리 시련 을 부과 받고"
     ]
    },
    {
     "name": "stderr",
     "output_type": "stream",
     "text": [
      "WARNING:tensorflow:Given features: Tensor(\"input:0\", shape=(?, 10), dtype=int64), required signatures: TensorSignature(dtype=tf.int64, shape=TensorShape([Dimension(None), Dimension(10)]), is_sparse=False).\n",
      "WARNING:tensorflow:Given features: Tensor(\"input:0\", shape=(?, 10), dtype=int64), required signatures: TensorSignature(dtype=tf.int64, shape=TensorShape([Dimension(None), Dimension(10)]), is_sparse=False).\n",
      "WARNING:tensorflow:Given targets: Tensor(\"output:0\", shape=(?, 10, 1199), dtype=float32), required signatures: TensorSignature(dtype=tf.float32, shape=TensorShape([Dimension(None), Dimension(10), Dimension(1199)]), is_sparse=False).\n",
      "WARNING:tensorflow:Given targets: Tensor(\"output:0\", shape=(?, 10, 1199), dtype=float32), required signatures: TensorSignature(dtype=tf.float32, shape=TensorShape([Dimension(None), Dimension(10), Dimension(1199)]), is_sparse=False).\n"
     ]
    },
    {
     "name": "stdout",
     "output_type": "stream",
     "text": [
      "\n",
      "\n",
      "\n",
      " before: 이 시간 오리 <UNK> <UNK> <UNK> <UNK> <UNK> <UNK> <UNK>. \n",
      " A (pred): 이 거기 <UNK> <UNK> <UNK> <UNK> <UNK> <UNK> <UNK> <UNK> <UNK>,\n",
      " A (gold): 이 시간 부터 오리 나\n",
      "\n",
      "\n",
      " before: 계란 <UNK> <UNK> <UNK> <UNK> <UNK> <UNK> <UNK> <UNK> <UNK>. \n",
      " A (pred): 뭐 응 <UNK> <UNK> <UNK> <UNK> <UNK> <UNK> <UNK> <UNK> <UNK>,\n",
      " A (gold): 계란\n",
      "\n",
      "\n",
      " before: 있다 <UNK> <UNK> <UNK> <UNK> <UNK> <UNK> <UNK> <UNK> <UNK>. \n",
      " A (pred): <UNK> 대단해 속 속 속 속 속 속 속 속 속,\n",
      " A (gold): 있다"
     ]
    },
    {
     "name": "stderr",
     "output_type": "stream",
     "text": [
      "WARNING:tensorflow:Given features: Tensor(\"input:0\", shape=(?, 10), dtype=int64), required signatures: TensorSignature(dtype=tf.int64, shape=TensorShape([Dimension(None), Dimension(10)]), is_sparse=False).\n",
      "WARNING:tensorflow:Given features: Tensor(\"input:0\", shape=(?, 10), dtype=int64), required signatures: TensorSignature(dtype=tf.int64, shape=TensorShape([Dimension(None), Dimension(10)]), is_sparse=False).\n",
      "WARNING:tensorflow:Given targets: Tensor(\"output:0\", shape=(?, 10, 1199), dtype=float32), required signatures: TensorSignature(dtype=tf.float32, shape=TensorShape([Dimension(None), Dimension(10), Dimension(1199)]), is_sparse=False).\n",
      "WARNING:tensorflow:Given targets: Tensor(\"output:0\", shape=(?, 10, 1199), dtype=float32), required signatures: TensorSignature(dtype=tf.float32, shape=TensorShape([Dimension(None), Dimension(10), Dimension(1199)]), is_sparse=False).\n"
     ]
    },
    {
     "name": "stdout",
     "output_type": "stream",
     "text": [
      "\n",
      "\n",
      "\n",
      " before: 내 감씨 <UNK> <UNK> <UNK> <UNK> <UNK> <UNK> <UNK> <UNK>. \n",
      " A (pred): 내 저런 <UNK> <UNK> <UNK> <UNK> <UNK> <UNK> <UNK> <UNK> <UNK>,\n",
      " A (gold): 내 감씨 …\n",
      "\n",
      "\n",
      " before: <UNK> 등급 <UNK> <UNK> <UNK> <UNK> <UNK> <UNK> <UNK> <UNK>. \n",
      " A (pred): <UNK> 시끄러워 시끄러워 시끄러워 시끄러워 시끄러워 시끄러워 시끄러워 시끄러워 시끄러워 시끄러워,\n",
      " A (gold): 육량 등급\n",
      "\n",
      "\n",
      " before: 우선 마음 안 들다 <UNK> <UNK> <UNK> <UNK> <UNK> <UNK>. \n",
      " A (pred): 너희 <UNK> <UNK> <UNK> <UNK> <UNK> <UNK> <UNK> <UNK> <UNK> <UNK>,\n",
      " A (gold): 우선 마음 에 안 드는 단체 의"
     ]
    },
    {
     "name": "stderr",
     "output_type": "stream",
     "text": [
      "WARNING:tensorflow:Given features: Tensor(\"input:0\", shape=(?, 10), dtype=int64), required signatures: TensorSignature(dtype=tf.int64, shape=TensorShape([Dimension(None), Dimension(10)]), is_sparse=False).\n",
      "WARNING:tensorflow:Given features: Tensor(\"input:0\", shape=(?, 10), dtype=int64), required signatures: TensorSignature(dtype=tf.int64, shape=TensorShape([Dimension(None), Dimension(10)]), is_sparse=False).\n",
      "WARNING:tensorflow:Given targets: Tensor(\"output:0\", shape=(?, 10, 1199), dtype=float32), required signatures: TensorSignature(dtype=tf.float32, shape=TensorShape([Dimension(None), Dimension(10), Dimension(1199)]), is_sparse=False).\n",
      "WARNING:tensorflow:Given targets: Tensor(\"output:0\", shape=(?, 10, 1199), dtype=float32), required signatures: TensorSignature(dtype=tf.float32, shape=TensorShape([Dimension(None), Dimension(10), Dimension(1199)]), is_sparse=False).\n"
     ]
    },
    {
     "name": "stdout",
     "output_type": "stream",
     "text": [
      "\n",
      "\n",
      "\n",
      " before: 그것 바로 이 곳 <UNK> <UNK> <UNK> <UNK> <UNK> <UNK>. \n",
      " A (pred): 그 뭐라고 <UNK> <UNK> <UNK> <UNK> <UNK> <UNK> <UNK> <UNK> <UNK>,\n",
      " A (gold): 그것 이 바로 이 곳\n",
      "\n",
      "\n",
      " before: <UNK> 들어가다 <UNK> <UNK> <UNK> <UNK> <UNK> <UNK> <UNK> <UNK>. \n",
      " A (pred): <UNK> 시끄러워 시끄러워 시끄러워 시끄러워 시끄러워 시끄러워 시끄러워 시끄러워 시끄러워 시끄러워,\n",
      " A (gold): 평의회 에 들어가면\n",
      "\n",
      "\n",
      " before: 이름 <UNK> 건 누구 <UNK> <UNK> <UNK> <UNK> <UNK> <UNK>. \n",
      " A (pred): <UNK> 씹 <UNK> <UNK> <UNK> <UNK> <UNK> <UNK> <UNK> <UNK> <UNK>,\n",
      " A (gold): 이름 붙인 건 누구 야"
     ]
    },
    {
     "name": "stderr",
     "output_type": "stream",
     "text": [
      "WARNING:tensorflow:Given features: Tensor(\"input:0\", shape=(?, 10), dtype=int64), required signatures: TensorSignature(dtype=tf.int64, shape=TensorShape([Dimension(None), Dimension(10)]), is_sparse=False).\n",
      "WARNING:tensorflow:Given features: Tensor(\"input:0\", shape=(?, 10), dtype=int64), required signatures: TensorSignature(dtype=tf.int64, shape=TensorShape([Dimension(None), Dimension(10)]), is_sparse=False).\n",
      "WARNING:tensorflow:Given targets: Tensor(\"output:0\", shape=(?, 10, 1199), dtype=float32), required signatures: TensorSignature(dtype=tf.float32, shape=TensorShape([Dimension(None), Dimension(10), Dimension(1199)]), is_sparse=False).\n",
      "WARNING:tensorflow:Given targets: Tensor(\"output:0\", shape=(?, 10, 1199), dtype=float32), required signatures: TensorSignature(dtype=tf.float32, shape=TensorShape([Dimension(None), Dimension(10), Dimension(1199)]), is_sparse=False).\n"
     ]
    },
    {
     "name": "stdout",
     "output_type": "stream",
     "text": [
      "\n",
      "\n",
      "\n",
      " before: 일본 <UNK> <UNK> 스테이크 <UNK> <UNK> <UNK> <UNK> <UNK> <UNK>. \n",
      " A (pred): 거기 게다가 <UNK> <UNK> <UNK> <UNK> <UNK> <UNK> <UNK> <UNK> <UNK>,\n",
      " A (gold): 일본 특유 의 변형 스테이크 다\n",
      "\n",
      "\n",
      " before: 웃 테 <UNK> <UNK> <UNK> <UNK> <UNK> <UNK> <UNK> <UNK>. \n",
      " A (pred): 웃 <UNK> <UNK> <UNK> <UNK> <UNK> <UNK> <UNK> <UNK> <UNK> <UNK>,\n",
      " A (gold): 웃 을 테 니까\n",
      "\n",
      "\n",
      " before: 여러분 다 들다 <UNK> <UNK> 군 <UNK> <UNK> <UNK> <UNK>. \n",
      " A (pred): 도지 <UNK> <UNK> <UNK> <UNK> <UNK> <UNK> <UNK> <UNK> <UNK> <UNK>,\n",
      " A (gold): 여러분 다 들 모이 셨 군 요"
     ]
    },
    {
     "name": "stderr",
     "output_type": "stream",
     "text": [
      "WARNING:tensorflow:Given features: Tensor(\"input:0\", shape=(?, 10), dtype=int64), required signatures: TensorSignature(dtype=tf.int64, shape=TensorShape([Dimension(None), Dimension(10)]), is_sparse=False).\n",
      "WARNING:tensorflow:Given features: Tensor(\"input:0\", shape=(?, 10), dtype=int64), required signatures: TensorSignature(dtype=tf.int64, shape=TensorShape([Dimension(None), Dimension(10)]), is_sparse=False).\n",
      "WARNING:tensorflow:Given targets: Tensor(\"output:0\", shape=(?, 10, 1199), dtype=float32), required signatures: TensorSignature(dtype=tf.float32, shape=TensorShape([Dimension(None), Dimension(10), Dimension(1199)]), is_sparse=False).\n",
      "WARNING:tensorflow:Given targets: Tensor(\"output:0\", shape=(?, 10, 1199), dtype=float32), required signatures: TensorSignature(dtype=tf.float32, shape=TensorShape([Dimension(None), Dimension(10), Dimension(1199)]), is_sparse=False).\n"
     ]
    },
    {
     "name": "stdout",
     "output_type": "stream",
     "text": [
      "\n",
      "\n",
      "\n",
      " before: 널 NAME <UNK> 하다 기회 <UNK> <UNK> <UNK> <UNK> <UNK>. \n",
      " A (pred): 하야 시끄러워 <UNK> <UNK> <UNK> <UNK> <UNK> <UNK> <UNK> <UNK> <UNK>,\n",
      " A (gold): 널 NAME 에서 추방 할 기회 가\n",
      "\n",
      "\n",
      " before: 덮다 밥연 <UNK> <UNK> <UNK> <UNK> <UNK> <UNK> <UNK> <UNK>. \n",
      " A (pred): 유키 거기 <UNK> <UNK> <UNK> <UNK> <UNK> <UNK> <UNK> <UNK> <UNK>,\n",
      " A (gold): 덮 밥연 의 활동 비는\n",
      "\n",
      "\n",
      " before: 또 만나다 <UNK> <UNK> <UNK> <UNK> <UNK> <UNK> <UNK> <UNK>. \n",
      " A (pred): 아니 응 <UNK> <UNK> <UNK> <UNK> <UNK> <UNK> <UNK> <UNK> <UNK>,\n",
      " A (gold): 또 만났 네"
     ]
    },
    {
     "name": "stderr",
     "output_type": "stream",
     "text": [
      "WARNING:tensorflow:Given features: Tensor(\"input:0\", shape=(?, 10), dtype=int64), required signatures: TensorSignature(dtype=tf.int64, shape=TensorShape([Dimension(None), Dimension(10)]), is_sparse=False).\n",
      "WARNING:tensorflow:Given features: Tensor(\"input:0\", shape=(?, 10), dtype=int64), required signatures: TensorSignature(dtype=tf.int64, shape=TensorShape([Dimension(None), Dimension(10)]), is_sparse=False).\n",
      "WARNING:tensorflow:Given targets: Tensor(\"output:0\", shape=(?, 10, 1199), dtype=float32), required signatures: TensorSignature(dtype=tf.float32, shape=TensorShape([Dimension(None), Dimension(10), Dimension(1199)]), is_sparse=False).\n",
      "WARNING:tensorflow:Given targets: Tensor(\"output:0\", shape=(?, 10, 1199), dtype=float32), required signatures: TensorSignature(dtype=tf.float32, shape=TensorShape([Dimension(None), Dimension(10), Dimension(1199)]), is_sparse=False).\n"
     ]
    },
    {
     "name": "stdout",
     "output_type": "stream",
     "text": [
      "\n",
      "\n",
      "\n",
      " before: 네 <UNK> <UNK> <UNK> <UNK> <UNK> <UNK> <UNK> <UNK> <UNK>. \n",
      " A (pred): 네 기다리 <UNK> <UNK> <UNK> <UNK> <UNK> <UNK> <UNK> <UNK> <UNK>,\n",
      " A (gold): 네\n",
      "\n",
      "\n",
      " before: 왜 네 프랑스 요리 <UNK> <UNK> <UNK> <UNK> <UNK> <UNK>. \n",
      " A (pred): 오늘 글쎄 <UNK> <UNK> <UNK> <UNK> <UNK> <UNK> <UNK> <UNK> <UNK>,\n",
      " A (gold): 왜 네 가 프랑스 요리 의\n",
      "\n",
      "\n",
      " before: 이 곳 교쿠세 <UNK> <UNK> <UNK> <UNK> <UNK> <UNK> <UNK>. \n",
      " A (pred): 이 거기 <UNK> <UNK> <UNK> <UNK> <UNK> <UNK> <UNK> <UNK> <UNK>,\n",
      " A (gold): 이 곳 은 교쿠세 이 밭"
     ]
    },
    {
     "name": "stderr",
     "output_type": "stream",
     "text": [
      "WARNING:tensorflow:Given features: Tensor(\"input:0\", shape=(?, 10), dtype=int64), required signatures: TensorSignature(dtype=tf.int64, shape=TensorShape([Dimension(None), Dimension(10)]), is_sparse=False).\n",
      "WARNING:tensorflow:Given features: Tensor(\"input:0\", shape=(?, 10), dtype=int64), required signatures: TensorSignature(dtype=tf.int64, shape=TensorShape([Dimension(None), Dimension(10)]), is_sparse=False).\n",
      "WARNING:tensorflow:Given targets: Tensor(\"output:0\", shape=(?, 10, 1199), dtype=float32), required signatures: TensorSignature(dtype=tf.float32, shape=TensorShape([Dimension(None), Dimension(10), Dimension(1199)]), is_sparse=False).\n",
      "WARNING:tensorflow:Given targets: Tensor(\"output:0\", shape=(?, 10, 1199), dtype=float32), required signatures: TensorSignature(dtype=tf.float32, shape=TensorShape([Dimension(None), Dimension(10), Dimension(1199)]), is_sparse=False).\n"
     ]
    },
    {
     "name": "stdout",
     "output_type": "stream",
     "text": [
      "\n",
      "\n",
      "\n",
      " before: 어이 어이 이 거 어쩌다 <UNK> <UNK> <UNK> <UNK> <UNK>. \n",
      " A (pred): 그럼 응 <UNK> <UNK> <UNK> <UNK> <UNK> <UNK> <UNK> <UNK> <UNK>,\n",
      " A (gold): 어이 어이 이 거 어쩔 거야\n",
      "\n",
      "\n",
      " before: 이탈리아 요리 <UNK> 요 <UNK> <UNK> <UNK> <UNK> <UNK> <UNK>. \n",
      " A (pred): 거기 게다가 <UNK> <UNK> <UNK> <UNK> <UNK> <UNK> <UNK> <UNK> <UNK>,\n",
      " A (gold): 이탈리아 요리 의 매력 이니까 요\n",
      "\n",
      "\n",
      " before: 처음 칼 잡다 건 살 때 이다 <UNK> <UNK> <UNK>. \n",
      " A (pred): 지금 <UNK> <UNK> <UNK> <UNK> <UNK> <UNK> <UNK> <UNK> <UNK> <UNK>,\n",
      " A (gold): 처음 칼 을 잡았 던 건 살 때 였 지"
     ]
    },
    {
     "name": "stderr",
     "output_type": "stream",
     "text": [
      "WARNING:tensorflow:Given features: Tensor(\"input:0\", shape=(?, 10), dtype=int64), required signatures: TensorSignature(dtype=tf.int64, shape=TensorShape([Dimension(None), Dimension(10)]), is_sparse=False).\n",
      "WARNING:tensorflow:Given features: Tensor(\"input:0\", shape=(?, 10), dtype=int64), required signatures: TensorSignature(dtype=tf.int64, shape=TensorShape([Dimension(None), Dimension(10)]), is_sparse=False).\n",
      "WARNING:tensorflow:Given targets: Tensor(\"output:0\", shape=(?, 10, 1199), dtype=float32), required signatures: TensorSignature(dtype=tf.float32, shape=TensorShape([Dimension(None), Dimension(10), Dimension(1199)]), is_sparse=False).\n",
      "WARNING:tensorflow:Given targets: Tensor(\"output:0\", shape=(?, 10, 1199), dtype=float32), required signatures: TensorSignature(dtype=tf.float32, shape=TensorShape([Dimension(None), Dimension(10), Dimension(1199)]), is_sparse=False).\n"
     ]
    },
    {
     "name": "stdout",
     "output_type": "stream",
     "text": [
      "\n",
      "\n",
      "\n",
      " before: 보이다 <UNK> <UNK> <UNK> <UNK> <UNK> <UNK> <UNK> <UNK> <UNK>. \n",
      " A (pred): <UNK> 시끄러워 시끄러워 시끄러워 시끄러워 시끄러워 시끄러워 시끄러워 시끄러워 시끄러워 시끄러워,\n",
      " A (gold): 보여 다오\n",
      "\n",
      "\n",
      " before: <UNK> <UNK> 내기 <UNK> <UNK> <UNK> <UNK> <UNK> <UNK> <UNK>. \n",
      " A (pred): <UNK> 대단해 대단해 대단해 대단해 대단해 대단해 대단해 대단해 대단해 대단해,\n",
      " A (gold): 무정 한 솎 아 내기 숙박 연수 야\n",
      "\n",
      "\n",
      " before: <UNK> 같다 걸 <UNK> 얹다 <UNK> <UNK> <UNK> <UNK> <UNK>. \n",
      " A (pred): <UNK> 글쎄 글쎄 글쎄 글쎄 글쎄 글쎄 글쎄 글쎄 글쎄 글쎄,\n",
      " A (gold): 오일 같은 걸 끼 얹어 서"
     ]
    },
    {
     "name": "stderr",
     "output_type": "stream",
     "text": [
      "WARNING:tensorflow:Given features: Tensor(\"input:0\", shape=(?, 10), dtype=int64), required signatures: TensorSignature(dtype=tf.int64, shape=TensorShape([Dimension(None), Dimension(10)]), is_sparse=False).\n",
      "WARNING:tensorflow:Given features: Tensor(\"input:0\", shape=(?, 10), dtype=int64), required signatures: TensorSignature(dtype=tf.int64, shape=TensorShape([Dimension(None), Dimension(10)]), is_sparse=False).\n",
      "WARNING:tensorflow:Given targets: Tensor(\"output:0\", shape=(?, 10, 1199), dtype=float32), required signatures: TensorSignature(dtype=tf.float32, shape=TensorShape([Dimension(None), Dimension(10), Dimension(1199)]), is_sparse=False).\n",
      "WARNING:tensorflow:Given targets: Tensor(\"output:0\", shape=(?, 10, 1199), dtype=float32), required signatures: TensorSignature(dtype=tf.float32, shape=TensorShape([Dimension(None), Dimension(10), Dimension(1199)]), is_sparse=False).\n"
     ]
    },
    {
     "name": "stdout",
     "output_type": "stream",
     "text": [
      "\n",
      "\n",
      "\n",
      " before: NAME 리나 <UNK> <UNK> <UNK> <UNK> <UNK> <UNK> <UNK> <UNK>. \n",
      " A (pred): NAME 다음 <UNK> <UNK> <UNK> <UNK> <UNK> <UNK> <UNK> <UNK> <UNK>,\n",
      " A (gold): NAME 에 리나 는\n",
      "\n",
      "\n",
      " before: 역시 지옥 <UNK> <UNK> <UNK> <UNK> <UNK> <UNK> <UNK> <UNK>. \n",
      " A (pred): 그럼 응 <UNK> <UNK> <UNK> <UNK> <UNK> <UNK> <UNK> <UNK> <UNK>,\n",
      " A (gold): 역시 지옥 이야\n",
      "\n",
      "\n",
      " before: <UNK> <UNK> <UNK> <UNK> <UNK> <UNK> <UNK> <UNK> <UNK> <UNK>. \n",
      " A (pred): <UNK> 헤에 헤에 헤에 헤에 헤에 헤에 헤에 헤에 헤에 헤에,\n",
      " A (gold): 포상"
     ]
    },
    {
     "name": "stderr",
     "output_type": "stream",
     "text": [
      "WARNING:tensorflow:Given features: Tensor(\"input:0\", shape=(?, 10), dtype=int64), required signatures: TensorSignature(dtype=tf.int64, shape=TensorShape([Dimension(None), Dimension(10)]), is_sparse=False).\n",
      "WARNING:tensorflow:Given features: Tensor(\"input:0\", shape=(?, 10), dtype=int64), required signatures: TensorSignature(dtype=tf.int64, shape=TensorShape([Dimension(None), Dimension(10)]), is_sparse=False).\n",
      "WARNING:tensorflow:Given targets: Tensor(\"output:0\", shape=(?, 10, 1199), dtype=float32), required signatures: TensorSignature(dtype=tf.float32, shape=TensorShape([Dimension(None), Dimension(10), Dimension(1199)]), is_sparse=False).\n",
      "WARNING:tensorflow:Given targets: Tensor(\"output:0\", shape=(?, 10, 1199), dtype=float32), required signatures: TensorSignature(dtype=tf.float32, shape=TensorShape([Dimension(None), Dimension(10), Dimension(1199)]), is_sparse=False).\n"
     ]
    },
    {
     "name": "stdout",
     "output_type": "stream",
     "text": [
      "\n",
      "\n",
      "\n",
      " before: 멈추다 않다 <UNK> <UNK> <UNK> <UNK> <UNK> <UNK> <UNK> <UNK>. \n",
      " A (pred): <UNK> 대단해 대단해 대단해 대단해 대단해 대단해 대단해 대단해 대단해 대단해,\n",
      " A (gold): 멈추지 않아\n",
      "\n",
      "\n",
      " before: 너 정말 아 무것 모르다 <UNK> <UNK> <UNK> <UNK> <UNK>. \n",
      " A (pred): 오늘 <UNK> <UNK> <UNK> <UNK> <UNK> <UNK> <UNK> <UNK> <UNK> <UNK>,\n",
      " A (gold): 너 정말 아 무것 도 모르 면서\n",
      "\n",
      "\n",
      " before: 싫다 <UNK> <UNK> <UNK> <UNK> <UNK> <UNK> <UNK> <UNK> <UNK>. \n",
      " A (pred): 어 입실 <UNK> <UNK> <UNK> <UNK> <UNK> <UNK> <UNK> <UNK> <UNK>,\n",
      " A (gold): 싫어"
     ]
    },
    {
     "name": "stderr",
     "output_type": "stream",
     "text": [
      "WARNING:tensorflow:Given features: Tensor(\"input:0\", shape=(?, 10), dtype=int64), required signatures: TensorSignature(dtype=tf.int64, shape=TensorShape([Dimension(None), Dimension(10)]), is_sparse=False).\n",
      "WARNING:tensorflow:Given features: Tensor(\"input:0\", shape=(?, 10), dtype=int64), required signatures: TensorSignature(dtype=tf.int64, shape=TensorShape([Dimension(None), Dimension(10)]), is_sparse=False).\n",
      "WARNING:tensorflow:Given targets: Tensor(\"output:0\", shape=(?, 10, 1199), dtype=float32), required signatures: TensorSignature(dtype=tf.float32, shape=TensorShape([Dimension(None), Dimension(10), Dimension(1199)]), is_sparse=False).\n",
      "WARNING:tensorflow:Given targets: Tensor(\"output:0\", shape=(?, 10, 1199), dtype=float32), required signatures: TensorSignature(dtype=tf.float32, shape=TensorShape([Dimension(None), Dimension(10), Dimension(1199)]), is_sparse=False).\n"
     ]
    },
    {
     "name": "stdout",
     "output_type": "stream",
     "text": [
      "\n",
      "\n",
      "\n",
      " before: 몸 쓰다 <UNK> <UNK> <UNK> <UNK> <UNK> <UNK> <UNK> <UNK>. \n",
      " A (pred): 시 바삭바삭 <UNK> <UNK> <UNK> <UNK> <UNK> <UNK> <UNK> <UNK> <UNK>,\n",
      " A (gold): 몸 을 쓰 면 짠맛 이 땡기니 까\n",
      "\n",
      "\n",
      " before: 하다 하다 <UNK> <UNK> <UNK> <UNK> <UNK> <UNK> <UNK> <UNK>. \n",
      " A (pred): <UNK> 글쎄 글쎄 글쎄 글쎄 글쎄 글쎄 글쎄 글쎄 글쎄 글쎄,\n",
      " A (gold): 한 다 한 다\n",
      "\n",
      "\n",
      " before: 곤들매기 <UNK> <UNK> <UNK> <UNK> <UNK> <UNK> <UNK> <UNK> <UNK>. \n",
      " A (pred): 그럼 응 <UNK> <UNK> <UNK> <UNK> <UNK> <UNK> <UNK> <UNK> <UNK>,\n",
      " A (gold): 곤들매기 나"
     ]
    },
    {
     "name": "stderr",
     "output_type": "stream",
     "text": [
      "WARNING:tensorflow:Given features: Tensor(\"input:0\", shape=(?, 10), dtype=int64), required signatures: TensorSignature(dtype=tf.int64, shape=TensorShape([Dimension(None), Dimension(10)]), is_sparse=False).\n",
      "WARNING:tensorflow:Given features: Tensor(\"input:0\", shape=(?, 10), dtype=int64), required signatures: TensorSignature(dtype=tf.int64, shape=TensorShape([Dimension(None), Dimension(10)]), is_sparse=False).\n",
      "WARNING:tensorflow:Given targets: Tensor(\"output:0\", shape=(?, 10, 1199), dtype=float32), required signatures: TensorSignature(dtype=tf.float32, shape=TensorShape([Dimension(None), Dimension(10), Dimension(1199)]), is_sparse=False).\n",
      "WARNING:tensorflow:Given targets: Tensor(\"output:0\", shape=(?, 10, 1199), dtype=float32), required signatures: TensorSignature(dtype=tf.float32, shape=TensorShape([Dimension(None), Dimension(10), Dimension(1199)]), is_sparse=False).\n"
     ]
    },
    {
     "name": "stdout",
     "output_type": "stream",
     "text": [
      "\n",
      "\n",
      "\n",
      " before: <UNK> 말 하다 <UNK> <UNK> <UNK> <UNK> <UNK> <UNK> <UNK>. \n",
      " A (pred): <UNK> 글쎄 글쎄 글쎄 글쎄 글쎄 글쎄 글쎄 글쎄 글쎄 글쎄,\n",
      " A (gold): 솔직하게 말해\n",
      "\n",
      "\n",
      " before: <UNK> <UNK> 호텔 <UNK> <UNK> <UNK> <UNK> <UNK> <UNK> <UNK>. \n",
      " A (pred): <UNK> 글쎄 글쎄 글쎄 글쎄 글쎄 글쎄 글쎄 글쎄 글쎄 글쎄,\n",
      " A (gold): 맨허튼 로열 호텔\n",
      "\n",
      "\n",
      " before: 밑 간 하다 때 넣다 보다 <UNK> <UNK> <UNK> <UNK>. \n",
      " A (pred): 두 <UNK> 더해서 더해서 더해서 더해서 더해서 더해서 더해서 더해서 더해서,\n",
      " A (gold): 밑 간 을 할 때 도 넣어 봤 습니다"
     ]
    },
    {
     "name": "stderr",
     "output_type": "stream",
     "text": [
      "WARNING:tensorflow:Given features: Tensor(\"input:0\", shape=(?, 10), dtype=int64), required signatures: TensorSignature(dtype=tf.int64, shape=TensorShape([Dimension(None), Dimension(10)]), is_sparse=False).\n",
      "WARNING:tensorflow:Given features: Tensor(\"input:0\", shape=(?, 10), dtype=int64), required signatures: TensorSignature(dtype=tf.int64, shape=TensorShape([Dimension(None), Dimension(10)]), is_sparse=False).\n",
      "WARNING:tensorflow:Given targets: Tensor(\"output:0\", shape=(?, 10, 1199), dtype=float32), required signatures: TensorSignature(dtype=tf.float32, shape=TensorShape([Dimension(None), Dimension(10), Dimension(1199)]), is_sparse=False).\n",
      "WARNING:tensorflow:Given targets: Tensor(\"output:0\", shape=(?, 10, 1199), dtype=float32), required signatures: TensorSignature(dtype=tf.float32, shape=TensorShape([Dimension(None), Dimension(10), Dimension(1199)]), is_sparse=False).\n"
     ]
    },
    {
     "name": "stdout",
     "output_type": "stream",
     "text": [
      "\n",
      "\n",
      "\n",
      " before: 내 <UNK> 급 고기 못 이기 <UNK> <UNK> <UNK> <UNK>. \n",
      " A (pred): 내 도망칠 <UNK> <UNK> <UNK> <UNK> <UNK> <UNK> <UNK> <UNK> <UNK>,\n",
      " A (gold): 내 초고 급 고기 는 못 이기 지\n",
      "\n",
      "\n",
      " before: 이 것 좀 <UNK> <UNK> <UNK> <UNK> <UNK> <UNK> <UNK>. \n",
      " A (pred): 이 거기 <UNK> <UNK> <UNK> <UNK> <UNK> <UNK> <UNK> <UNK> <UNK>,\n",
      " A (gold): 이건 좀 …\n",
      "\n",
      "\n",
      " before: 네 <UNK> <UNK> <UNK> <UNK> <UNK> <UNK> <UNK> <UNK> <UNK>. \n",
      " A (pred): 네 글쎄 텐데 텐데 텐데 텐데 텐데 텐데 텐데 텐데 텐데,\n",
      " A (gold): 네"
     ]
    },
    {
     "name": "stderr",
     "output_type": "stream",
     "text": [
      "WARNING:tensorflow:Given features: Tensor(\"input:0\", shape=(?, 10), dtype=int64), required signatures: TensorSignature(dtype=tf.int64, shape=TensorShape([Dimension(None), Dimension(10)]), is_sparse=False).\n",
      "WARNING:tensorflow:Given features: Tensor(\"input:0\", shape=(?, 10), dtype=int64), required signatures: TensorSignature(dtype=tf.int64, shape=TensorShape([Dimension(None), Dimension(10)]), is_sparse=False).\n",
      "WARNING:tensorflow:Given targets: Tensor(\"output:0\", shape=(?, 10, 1199), dtype=float32), required signatures: TensorSignature(dtype=tf.float32, shape=TensorShape([Dimension(None), Dimension(10), Dimension(1199)]), is_sparse=False).\n",
      "WARNING:tensorflow:Given targets: Tensor(\"output:0\", shape=(?, 10, 1199), dtype=float32), required signatures: TensorSignature(dtype=tf.float32, shape=TensorShape([Dimension(None), Dimension(10), Dimension(1199)]), is_sparse=False).\n"
     ]
    },
    {
     "name": "stdout",
     "output_type": "stream",
     "text": [
      "\n",
      "\n",
      "\n",
      " before: 뭐 <UNK> <UNK> <UNK> <UNK> <UNK> <UNK> <UNK> <UNK> <UNK>. \n",
      " A (pred): 뭐 응 텐데 텐데 텐데 텐데 텐데 텐데 텐데 텐데 텐데,\n",
      " A (gold): 뭐\n",
      "\n",
      "\n",
      " before: 어떻다 돼다 먹다 <UNK> 이 <UNK> <UNK> <UNK> <UNK> <UNK>. \n",
      " A (pred): 네 뭐라고 텐데 텐데 텐데 텐데 텐데 텐데 텐데 텐데 텐데,\n",
      " A (gold): 어떻 게 돼 먹은 부드러움 이 냐\n",
      "\n",
      "\n",
      " before: 몸 쓰다 <UNK> <UNK> <UNK> <UNK> <UNK> <UNK> <UNK> <UNK>. \n",
      " A (pred): 시 바삭바삭 <UNK> <UNK> <UNK> <UNK> <UNK> <UNK> <UNK> <UNK> <UNK>,\n",
      " A (gold): 몸 을 쓰 면 짠맛 이 땡기니 까"
     ]
    },
    {
     "name": "stderr",
     "output_type": "stream",
     "text": [
      "WARNING:tensorflow:Given features: Tensor(\"input:0\", shape=(?, 10), dtype=int64), required signatures: TensorSignature(dtype=tf.int64, shape=TensorShape([Dimension(None), Dimension(10)]), is_sparse=False).\n",
      "WARNING:tensorflow:Given features: Tensor(\"input:0\", shape=(?, 10), dtype=int64), required signatures: TensorSignature(dtype=tf.int64, shape=TensorShape([Dimension(None), Dimension(10)]), is_sparse=False).\n",
      "WARNING:tensorflow:Given targets: Tensor(\"output:0\", shape=(?, 10, 1199), dtype=float32), required signatures: TensorSignature(dtype=tf.float32, shape=TensorShape([Dimension(None), Dimension(10), Dimension(1199)]), is_sparse=False).\n",
      "WARNING:tensorflow:Given targets: Tensor(\"output:0\", shape=(?, 10, 1199), dtype=float32), required signatures: TensorSignature(dtype=tf.float32, shape=TensorShape([Dimension(None), Dimension(10), Dimension(1199)]), is_sparse=False).\n"
     ]
    },
    {
     "name": "stdout",
     "output_type": "stream",
     "text": [
      "\n",
      "\n",
      "\n",
      " before: <UNK> 먹다 <UNK> <UNK> <UNK> <UNK> <UNK> <UNK> <UNK> <UNK>. \n",
      " A (pred): <UNK> 글쎄 글쎄 글쎄 글쎄 글쎄 글쎄 글쎄 글쎄 글쎄 글쎄,\n",
      " A (gold): 느긋하 게 먹어\n",
      "\n",
      "\n",
      " before: <UNK> 하나 <UNK> <UNK> <UNK> <UNK> <UNK> <UNK> <UNK> <UNK>. \n",
      " A (pred): <UNK> 글쎄 글쎄 글쎄 글쎄 글쎄 글쎄 글쎄 글쎄 글쎄 글쎄,\n",
      " A (gold): 일일 하나\n",
      "\n",
      "\n",
      " before: 마지막 요리 이다 <UNK> <UNK> <UNK> <UNK> <UNK> <UNK> <UNK>. \n",
      " A (pred): 정말 <UNK> <UNK> <UNK> <UNK> <UNK> <UNK> <UNK> <UNK> <UNK> <UNK>,\n",
      " A (gold): ﻿ 마지막 요리 입니 다"
     ]
    },
    {
     "name": "stderr",
     "output_type": "stream",
     "text": [
      "WARNING:tensorflow:Given features: Tensor(\"input:0\", shape=(?, 10), dtype=int64), required signatures: TensorSignature(dtype=tf.int64, shape=TensorShape([Dimension(None), Dimension(10)]), is_sparse=False).\n",
      "WARNING:tensorflow:Given features: Tensor(\"input:0\", shape=(?, 10), dtype=int64), required signatures: TensorSignature(dtype=tf.int64, shape=TensorShape([Dimension(None), Dimension(10)]), is_sparse=False).\n",
      "WARNING:tensorflow:Given targets: Tensor(\"output:0\", shape=(?, 10, 1199), dtype=float32), required signatures: TensorSignature(dtype=tf.float32, shape=TensorShape([Dimension(None), Dimension(10), Dimension(1199)]), is_sparse=False).\n",
      "WARNING:tensorflow:Given targets: Tensor(\"output:0\", shape=(?, 10, 1199), dtype=float32), required signatures: TensorSignature(dtype=tf.float32, shape=TensorShape([Dimension(None), Dimension(10), Dimension(1199)]), is_sparse=False).\n"
     ]
    },
    {
     "name": "stdout",
     "output_type": "stream",
     "text": [
      "\n",
      "\n",
      "\n",
      " before: 그야말로 봄 <UNK> 그 자체 <UNK> <UNK> <UNK> <UNK> <UNK>. \n",
      " A (pred): 지금 은 알 알 기뻤 기뻤 기뻤 기뻤 기뻤 기뻤 기뻤,\n",
      " A (gold): 그야말로 봄 의 생명력 그 자체\n",
      "\n",
      "\n",
      " before: <UNK> 안 닭 <UNK> 있다 <UNK> <UNK> <UNK> <UNK> <UNK>. \n",
      " A (pred): <UNK> 글쎄 글쎄 글쎄 글쎄 글쎄 글쎄 글쎄 글쎄 글쎄 글쎄,\n",
      " A (gold): 범위 안 에는 닭 이나 토끼 도 있었 지\n",
      "\n",
      "\n",
      " before: <UNK> <UNK> 없다 <UNK> <UNK> <UNK> <UNK> <UNK> <UNK> <UNK>. \n",
      " A (pred): <UNK> 시끄러워 시끄러워 시끄러워 시끄러워 시끄러워 시끄러워 시끄러워 시끄러워 시끄러워 시끄러워,\n",
      " A (gold): g 조차 없었 을 텐데"
     ]
    },
    {
     "name": "stderr",
     "output_type": "stream",
     "text": [
      "WARNING:tensorflow:Given features: Tensor(\"input:0\", shape=(?, 10), dtype=int64), required signatures: TensorSignature(dtype=tf.int64, shape=TensorShape([Dimension(None), Dimension(10)]), is_sparse=False).\n",
      "WARNING:tensorflow:Given features: Tensor(\"input:0\", shape=(?, 10), dtype=int64), required signatures: TensorSignature(dtype=tf.int64, shape=TensorShape([Dimension(None), Dimension(10)]), is_sparse=False).\n",
      "WARNING:tensorflow:Given targets: Tensor(\"output:0\", shape=(?, 10, 1199), dtype=float32), required signatures: TensorSignature(dtype=tf.float32, shape=TensorShape([Dimension(None), Dimension(10), Dimension(1199)]), is_sparse=False).\n",
      "WARNING:tensorflow:Given targets: Tensor(\"output:0\", shape=(?, 10, 1199), dtype=float32), required signatures: TensorSignature(dtype=tf.float32, shape=TensorShape([Dimension(None), Dimension(10), Dimension(1199)]), is_sparse=False).\n"
     ]
    },
    {
     "name": "stdout",
     "output_type": "stream",
     "text": [
      "\n",
      "\n",
      "\n",
      " before: 내 지금 해주다 하다 게 뭐 <UNK> <UNK> <UNK> <UNK>. \n",
      " A (pred): 내 저런 <UNK> <UNK> <UNK> <UNK> <UNK> <UNK> <UNK> <UNK> <UNK>,\n",
      " A (gold): 내 가 지금 해줬 으면 하는 게 뭔 지 …\n",
      "\n",
      "\n",
      " before: 저 저기 <UNK> <UNK> <UNK> <UNK> <UNK> <UNK> <UNK> <UNK>. \n",
      " A (pred): 저기 응 텐데 텐데 텐데 텐데 텐데 텐데 텐데 텐데 텐데,\n",
      " A (gold): 저 저기 …\n",
      "\n",
      "\n",
      " before: 다음 화 <UNK> <UNK> <UNK> <UNK> <UNK> <UNK> <UNK> <UNK>. \n",
      " A (pred): 다음 다음 <UNK> <UNK> <UNK> <UNK> <UNK> <UNK> <UNK> <UNK> <UNK>,\n",
      " A (gold): 다음 화"
     ]
    },
    {
     "name": "stderr",
     "output_type": "stream",
     "text": [
      "WARNING:tensorflow:Given features: Tensor(\"input:0\", shape=(?, 10), dtype=int64), required signatures: TensorSignature(dtype=tf.int64, shape=TensorShape([Dimension(None), Dimension(10)]), is_sparse=False).\n",
      "WARNING:tensorflow:Given features: Tensor(\"input:0\", shape=(?, 10), dtype=int64), required signatures: TensorSignature(dtype=tf.int64, shape=TensorShape([Dimension(None), Dimension(10)]), is_sparse=False).\n",
      "WARNING:tensorflow:Given targets: Tensor(\"output:0\", shape=(?, 10, 1199), dtype=float32), required signatures: TensorSignature(dtype=tf.float32, shape=TensorShape([Dimension(None), Dimension(10), Dimension(1199)]), is_sparse=False).\n",
      "WARNING:tensorflow:Given targets: Tensor(\"output:0\", shape=(?, 10, 1199), dtype=float32), required signatures: TensorSignature(dtype=tf.float32, shape=TensorShape([Dimension(None), Dimension(10), Dimension(1199)]), is_sparse=False).\n"
     ]
    },
    {
     "name": "stdout",
     "output_type": "stream",
     "text": [
      "\n",
      "\n",
      "\n",
      " before: <UNK> <UNK> 부르다 오다 건 <UNK> <UNK> <UNK> <UNK> <UNK>. \n",
      " A (pred): <UNK> 시끄러워 시끄러워 시끄러워 시끄러워 시끄러워 시끄러워 시끄러워 시끄러워 시끄러워 시끄러워,\n",
      " A (gold): 천장 을 통해 부르 러 오는 건\n",
      "\n",
      "\n",
      " before: 자 슬슬 나오다 <UNK> <UNK> <UNK> <UNK> <UNK> <UNK> <UNK>. \n",
      " A (pred): 자 응 텐데 텐데 텐데 텐데 텐데 텐데 텐데 텐데 텐데,\n",
      " A (gold): 자 슬슬 나옵 니다\n",
      "\n",
      "\n",
      " before: 밑 간 하다 때 넣다 보다 <UNK> <UNK> <UNK> <UNK>. \n",
      " A (pred): 두 <UNK> 더해서 더해서 더해서 더해서 더해서 더해서 더해서 더해서 더해서,\n",
      " A (gold): 밑 간 을 할 때 도 넣어 봤 습니다"
     ]
    },
    {
     "name": "stderr",
     "output_type": "stream",
     "text": [
      "WARNING:tensorflow:Given features: Tensor(\"input:0\", shape=(?, 10), dtype=int64), required signatures: TensorSignature(dtype=tf.int64, shape=TensorShape([Dimension(None), Dimension(10)]), is_sparse=False).\n",
      "WARNING:tensorflow:Given features: Tensor(\"input:0\", shape=(?, 10), dtype=int64), required signatures: TensorSignature(dtype=tf.int64, shape=TensorShape([Dimension(None), Dimension(10)]), is_sparse=False).\n",
      "WARNING:tensorflow:Given targets: Tensor(\"output:0\", shape=(?, 10, 1199), dtype=float32), required signatures: TensorSignature(dtype=tf.float32, shape=TensorShape([Dimension(None), Dimension(10), Dimension(1199)]), is_sparse=False).\n",
      "WARNING:tensorflow:Given targets: Tensor(\"output:0\", shape=(?, 10, 1199), dtype=float32), required signatures: TensorSignature(dtype=tf.float32, shape=TensorShape([Dimension(None), Dimension(10), Dimension(1199)]), is_sparse=False).\n"
     ]
    },
    {
     "name": "stdout",
     "output_type": "stream",
     "text": [
      "\n",
      "\n",
      "\n",
      " before: <UNK> <UNK> <UNK> <UNK> <UNK> <UNK> <UNK> <UNK> <UNK> <UNK>. \n",
      " A (pred): <UNK> 헤에 헤에 헤에 헤에 헤에 헤에 헤에 헤에 헤에 헤에,\n",
      " A (gold): 근데\n",
      "\n",
      "\n",
      " before: 이 학교 그렇다 <UNK> <UNK> <UNK> <UNK> <UNK> <UNK> <UNK>. \n",
      " A (pred): 이 거기 <UNK> <UNK> <UNK> <UNK> <UNK> <UNK> <UNK> <UNK> <UNK>,\n",
      " A (gold): 이 학교 에 그런 행사 도\n",
      "\n",
      "\n",
      " before: <UNK> 않다 <UNK> <UNK> <UNK> <UNK> <UNK> <UNK> <UNK> <UNK>. \n",
      " A (pred): <UNK> 글쎄 글쎄 글쎄 글쎄 글쎄 글쎄 글쎄 글쎄 글쎄 글쎄,\n",
      " A (gold): 두려워하지 않고"
     ]
    },
    {
     "name": "stderr",
     "output_type": "stream",
     "text": [
      "WARNING:tensorflow:Given features: Tensor(\"input:0\", shape=(?, 10), dtype=int64), required signatures: TensorSignature(dtype=tf.int64, shape=TensorShape([Dimension(None), Dimension(10)]), is_sparse=False).\n",
      "WARNING:tensorflow:Given features: Tensor(\"input:0\", shape=(?, 10), dtype=int64), required signatures: TensorSignature(dtype=tf.int64, shape=TensorShape([Dimension(None), Dimension(10)]), is_sparse=False).\n",
      "WARNING:tensorflow:Given targets: Tensor(\"output:0\", shape=(?, 10, 1199), dtype=float32), required signatures: TensorSignature(dtype=tf.float32, shape=TensorShape([Dimension(None), Dimension(10), Dimension(1199)]), is_sparse=False).\n",
      "WARNING:tensorflow:Given targets: Tensor(\"output:0\", shape=(?, 10, 1199), dtype=float32), required signatures: TensorSignature(dtype=tf.float32, shape=TensorShape([Dimension(None), Dimension(10), Dimension(1199)]), is_sparse=False).\n"
     ]
    },
    {
     "name": "stdout",
     "output_type": "stream",
     "text": [
      "\n",
      "\n",
      "\n",
      " before: 완성 <UNK> <UNK> <UNK> <UNK> <UNK> <UNK> <UNK> <UNK> <UNK>. \n",
      " A (pred): 완성 어이 텐데 텐데 텐데 텐데 텐데 텐데 텐데 텐데 텐데,\n",
      " A (gold): 완성 이다\n",
      "\n",
      "\n",
      " before: <UNK> <UNK> 편입 생 <UNK> <UNK> <UNK> <UNK> <UNK> <UNK>. \n",
      " A (pred): <UNK> 더해서 더해서 더해서 더해서 더해서 더해서 더해서 더해서 더해서 더해서,\n",
      " A (gold): 바깥 출신 편입 생 따윈\n",
      "\n",
      "\n",
      " before: 그리고 <UNK> <UNK> <UNK> <UNK> <UNK> <UNK> <UNK> <UNK> <UNK>. \n",
      " A (pred): 그리고 헤에 텐데 텐데 텐데 텐데 텐데 텐데 텐데 텐데 텐데,\n",
      " A (gold): 그리고"
     ]
    },
    {
     "name": "stderr",
     "output_type": "stream",
     "text": [
      "WARNING:tensorflow:Given features: Tensor(\"input:0\", shape=(?, 10), dtype=int64), required signatures: TensorSignature(dtype=tf.int64, shape=TensorShape([Dimension(None), Dimension(10)]), is_sparse=False).\n",
      "WARNING:tensorflow:Given features: Tensor(\"input:0\", shape=(?, 10), dtype=int64), required signatures: TensorSignature(dtype=tf.int64, shape=TensorShape([Dimension(None), Dimension(10)]), is_sparse=False).\n",
      "WARNING:tensorflow:Given targets: Tensor(\"output:0\", shape=(?, 10, 1199), dtype=float32), required signatures: TensorSignature(dtype=tf.float32, shape=TensorShape([Dimension(None), Dimension(10), Dimension(1199)]), is_sparse=False).\n",
      "WARNING:tensorflow:Given targets: Tensor(\"output:0\", shape=(?, 10, 1199), dtype=float32), required signatures: TensorSignature(dtype=tf.float32, shape=TensorShape([Dimension(None), Dimension(10), Dimension(1199)]), is_sparse=False).\n"
     ]
    },
    {
     "name": "stdout",
     "output_type": "stream",
     "text": [
      "\n",
      "\n",
      "\n",
      " before: 밥 <UNK> 자다 어울리다 <UNK> <UNK> <UNK> <UNK> <UNK> <UNK>. \n",
      " A (pred): 이 더해서 <UNK> <UNK> <UNK> <UNK> <UNK> <UNK> <UNK> <UNK> <UNK>,\n",
      " A (gold): 밥 이랑 아주 잘 어울리니 까\n",
      "\n",
      "\n",
      " before: 저기 아 무것 필요 없다 <UNK> <UNK> <UNK> <UNK> <UNK>. \n",
      " A (pred): 저기 응 텐데 텐데 텐데 텐데 텐데 텐데 텐데 텐데 텐데,\n",
      " A (gold): 저기 아 무것 도 필요 없어\n",
      "\n",
      "\n",
      " before: <UNK> 오다 <UNK> <UNK> <UNK> <UNK> <UNK> <UNK> <UNK> <UNK>. \n",
      " A (pred): <UNK> 글쎄 글쎄 글쎄 글쎄 글쎄 글쎄 글쎄 글쎄 글쎄 글쎄,\n",
      " A (gold): ﻿ 올해 도 왔 군요"
     ]
    },
    {
     "name": "stderr",
     "output_type": "stream",
     "text": [
      "WARNING:tensorflow:Given features: Tensor(\"input:0\", shape=(?, 10), dtype=int64), required signatures: TensorSignature(dtype=tf.int64, shape=TensorShape([Dimension(None), Dimension(10)]), is_sparse=False).\n",
      "WARNING:tensorflow:Given features: Tensor(\"input:0\", shape=(?, 10), dtype=int64), required signatures: TensorSignature(dtype=tf.int64, shape=TensorShape([Dimension(None), Dimension(10)]), is_sparse=False).\n",
      "WARNING:tensorflow:Given targets: Tensor(\"output:0\", shape=(?, 10, 1199), dtype=float32), required signatures: TensorSignature(dtype=tf.float32, shape=TensorShape([Dimension(None), Dimension(10), Dimension(1199)]), is_sparse=False).\n",
      "WARNING:tensorflow:Given targets: Tensor(\"output:0\", shape=(?, 10, 1199), dtype=float32), required signatures: TensorSignature(dtype=tf.float32, shape=TensorShape([Dimension(None), Dimension(10), Dimension(1199)]), is_sparse=False).\n"
     ]
    },
    {
     "name": "stdout",
     "output_type": "stream",
     "text": [
      "\n",
      "\n",
      "\n",
      " before: 하지만 NAME <UNK> <UNK> <UNK> <UNK> <UNK> <UNK> <UNK> <UNK>. \n",
      " A (pred): 그리고 어이 텐데 텐데 텐데 텐데 텐데 텐데 텐데 텐데 텐데,\n",
      " A (gold): 하지만 NAME 는\n",
      "\n",
      "\n",
      " before: 내 감씨 <UNK> <UNK> <UNK> <UNK> <UNK> <UNK> <UNK> <UNK>. \n",
      " A (pred): 내 저런 <UNK> <UNK> <UNK> <UNK> <UNK> <UNK> <UNK> <UNK> <UNK>,\n",
      " A (gold): 내 감씨 …\n",
      "\n",
      "\n",
      " before: 싫다 <UNK> <UNK> <UNK> <UNK> <UNK> <UNK> <UNK> <UNK> <UNK>. \n",
      " A (pred): 어 향해 텐데 텐데 텐데 텐데 텐데 텐데 텐데 텐데 텐데,\n",
      " A (gold): 싫어"
     ]
    },
    {
     "name": "stderr",
     "output_type": "stream",
     "text": [
      "WARNING:tensorflow:Given features: Tensor(\"input:0\", shape=(?, 10), dtype=int64), required signatures: TensorSignature(dtype=tf.int64, shape=TensorShape([Dimension(None), Dimension(10)]), is_sparse=False).\n",
      "WARNING:tensorflow:Given features: Tensor(\"input:0\", shape=(?, 10), dtype=int64), required signatures: TensorSignature(dtype=tf.int64, shape=TensorShape([Dimension(None), Dimension(10)]), is_sparse=False).\n",
      "WARNING:tensorflow:Given targets: Tensor(\"output:0\", shape=(?, 10, 1199), dtype=float32), required signatures: TensorSignature(dtype=tf.float32, shape=TensorShape([Dimension(None), Dimension(10), Dimension(1199)]), is_sparse=False).\n",
      "WARNING:tensorflow:Given targets: Tensor(\"output:0\", shape=(?, 10, 1199), dtype=float32), required signatures: TensorSignature(dtype=tf.float32, shape=TensorShape([Dimension(None), Dimension(10), Dimension(1199)]), is_sparse=False).\n"
     ]
    },
    {
     "name": "stdout",
     "output_type": "stream",
     "text": [
      "\n",
      "\n",
      "\n",
      " before: 어떻다 돼다 먹다 <UNK> 이 <UNK> <UNK> <UNK> <UNK> <UNK>. \n",
      " A (pred): 네 뭐라고 텐데 텐데 텐데 텐데 텐데 텐데 텐데 텐데 텐데,\n",
      " A (gold): 어떻 게 돼 먹은 부드러움 이 냐\n",
      "\n",
      "\n",
      " before: A 늘다 분명 쇠고기 <UNK> <UNK> <UNK> <UNK> <UNK> <UNK>. \n",
      " A (pred): 후미 의 를 를 를 를 를 를 를 를 를,\n",
      " A (gold): A 는 분명 쇠고기 의 품질 을\n",
      "\n",
      "\n",
      " before: 어 <UNK> <UNK> <UNK> <UNK> <UNK> <UNK> <UNK> <UNK> <UNK>. \n",
      " A (pred): 어 시끄러워 텐데 텐데 텐데 텐데 텐데 텐데 텐데 텐데 텐데,\n",
      " A (gold): 어"
     ]
    },
    {
     "name": "stderr",
     "output_type": "stream",
     "text": [
      "WARNING:tensorflow:Given features: Tensor(\"input:0\", shape=(?, 10), dtype=int64), required signatures: TensorSignature(dtype=tf.int64, shape=TensorShape([Dimension(None), Dimension(10)]), is_sparse=False).\n",
      "WARNING:tensorflow:Given features: Tensor(\"input:0\", shape=(?, 10), dtype=int64), required signatures: TensorSignature(dtype=tf.int64, shape=TensorShape([Dimension(None), Dimension(10)]), is_sparse=False).\n",
      "WARNING:tensorflow:Given targets: Tensor(\"output:0\", shape=(?, 10, 1199), dtype=float32), required signatures: TensorSignature(dtype=tf.float32, shape=TensorShape([Dimension(None), Dimension(10), Dimension(1199)]), is_sparse=False).\n",
      "WARNING:tensorflow:Given targets: Tensor(\"output:0\", shape=(?, 10, 1199), dtype=float32), required signatures: TensorSignature(dtype=tf.float32, shape=TensorShape([Dimension(None), Dimension(10), Dimension(1199)]), is_sparse=False).\n"
     ]
    },
    {
     "name": "stdout",
     "output_type": "stream",
     "text": [
      "\n",
      "\n",
      "\n",
      " before: 그리고 씹다 때 <UNK> <UNK> <UNK> <UNK> <UNK> <UNK> <UNK>. \n",
      " A (pred): 그리고 헤에 텐데 텐데 텐데 텐데 텐데 텐데 텐데 텐데 텐데,\n",
      " A (gold): 그리고 씹 을 때 마다\n",
      "\n",
      "\n",
      " before: 그렇다 <UNK> <UNK> <UNK> <UNK> <UNK> <UNK> <UNK> <UNK> <UNK>. \n",
      " A (pred): 그래 응 텐데 텐데 텐데 텐데 텐데 텐데 텐데 텐데 텐데,\n",
      " A (gold): 그래\n",
      "\n",
      "\n",
      " before: 이누이 선배 <UNK> <UNK> <UNK> <UNK> <UNK> <UNK> <UNK> <UNK>. \n",
      " A (pred): 이누이 응 텐데 텐데 텐데 텐데 텐데 텐데 텐데 텐데 텐데,\n",
      " A (gold): 이누이 선배"
     ]
    },
    {
     "name": "stderr",
     "output_type": "stream",
     "text": [
      "WARNING:tensorflow:Given features: Tensor(\"input:0\", shape=(?, 10), dtype=int64), required signatures: TensorSignature(dtype=tf.int64, shape=TensorShape([Dimension(None), Dimension(10)]), is_sparse=False).\n",
      "WARNING:tensorflow:Given features: Tensor(\"input:0\", shape=(?, 10), dtype=int64), required signatures: TensorSignature(dtype=tf.int64, shape=TensorShape([Dimension(None), Dimension(10)]), is_sparse=False).\n",
      "WARNING:tensorflow:Given targets: Tensor(\"output:0\", shape=(?, 10, 1199), dtype=float32), required signatures: TensorSignature(dtype=tf.float32, shape=TensorShape([Dimension(None), Dimension(10), Dimension(1199)]), is_sparse=False).\n",
      "WARNING:tensorflow:Given targets: Tensor(\"output:0\", shape=(?, 10, 1199), dtype=float32), required signatures: TensorSignature(dtype=tf.float32, shape=TensorShape([Dimension(None), Dimension(10), Dimension(1199)]), is_sparse=False).\n"
     ]
    },
    {
     "name": "stdout",
     "output_type": "stream",
     "text": [
      "\n",
      "\n",
      "\n",
      " before: 정식 집 분 <UNK> <UNK> <UNK> <UNK> <UNK> <UNK> <UNK>. \n",
      " A (pred): 손님 바삭바삭 <UNK> <UNK> <UNK> <UNK> <UNK> <UNK> <UNK> <UNK> <UNK>,\n",
      " A (gold): 정식 집 에서 분 이나\n",
      "\n",
      "\n",
      " before: 다시 자기 소개 하다 <UNK> <UNK> <UNK> <UNK> <UNK> <UNK>. \n",
      " A (pred): 그리고 어이 텐데 텐데 텐데 텐데 텐데 텐데 텐데 텐데 텐데,\n",
      " A (gold): 다시 자기 소개 하지\n",
      "\n",
      "\n",
      " before: 전 여기 앉다 테 <UNK> <UNK> <UNK> <UNK> <UNK> <UNK>. \n",
      " A (pred): 너 <UNK> <UNK> <UNK> <UNK> <UNK> <UNK> <UNK> <UNK> <UNK> <UNK>,\n",
      " A (gold): 전 여기 앉아 있 을 테 니까"
     ]
    },
    {
     "name": "stderr",
     "output_type": "stream",
     "text": [
      "WARNING:tensorflow:Given features: Tensor(\"input:0\", shape=(?, 10), dtype=int64), required signatures: TensorSignature(dtype=tf.int64, shape=TensorShape([Dimension(None), Dimension(10)]), is_sparse=False).\n",
      "WARNING:tensorflow:Given features: Tensor(\"input:0\", shape=(?, 10), dtype=int64), required signatures: TensorSignature(dtype=tf.int64, shape=TensorShape([Dimension(None), Dimension(10)]), is_sparse=False).\n",
      "WARNING:tensorflow:Given targets: Tensor(\"output:0\", shape=(?, 10, 1199), dtype=float32), required signatures: TensorSignature(dtype=tf.float32, shape=TensorShape([Dimension(None), Dimension(10), Dimension(1199)]), is_sparse=False).\n",
      "WARNING:tensorflow:Given targets: Tensor(\"output:0\", shape=(?, 10, 1199), dtype=float32), required signatures: TensorSignature(dtype=tf.float32, shape=TensorShape([Dimension(None), Dimension(10), Dimension(1199)]), is_sparse=False).\n"
     ]
    },
    {
     "name": "stdout",
     "output_type": "stream",
     "text": [
      "\n",
      "\n",
      "\n",
      " before: 생각 하다 <UNK> <UNK> <UNK> <UNK> <UNK> <UNK> <UNK> <UNK>. \n",
      " A (pred): 어 시끄러워 텐데 텐데 텐데 텐데 텐데 텐데 텐데 텐데 텐데,\n",
      " A (gold): 생각해 라\n",
      "\n",
      "\n",
      " before: 날 <UNK> <UNK> <UNK> <UNK> <UNK> <UNK> <UNK> <UNK> <UNK>. \n",
      " A (pred): 아 응 텐데 텐데 텐데 텐데 텐데 텐데 텐데 텐데 텐데,\n",
      " A (gold): 날 넘어서겠 지\n",
      "\n",
      "\n",
      " before: 아 그래도 <UNK> <UNK> <UNK> <UNK> <UNK> <UNK> <UNK> <UNK>. \n",
      " A (pred): 좋 기다리 텐데 텐데 텐데 텐데 텐데 텐데 텐데 텐데 텐데,\n",
      " A (gold): 아 그래도"
     ]
    },
    {
     "name": "stderr",
     "output_type": "stream",
     "text": [
      "WARNING:tensorflow:Given features: Tensor(\"input:0\", shape=(?, 10), dtype=int64), required signatures: TensorSignature(dtype=tf.int64, shape=TensorShape([Dimension(None), Dimension(10)]), is_sparse=False).\n",
      "WARNING:tensorflow:Given features: Tensor(\"input:0\", shape=(?, 10), dtype=int64), required signatures: TensorSignature(dtype=tf.int64, shape=TensorShape([Dimension(None), Dimension(10)]), is_sparse=False).\n",
      "WARNING:tensorflow:Given targets: Tensor(\"output:0\", shape=(?, 10, 1199), dtype=float32), required signatures: TensorSignature(dtype=tf.float32, shape=TensorShape([Dimension(None), Dimension(10), Dimension(1199)]), is_sparse=False).\n",
      "WARNING:tensorflow:Given targets: Tensor(\"output:0\", shape=(?, 10, 1199), dtype=float32), required signatures: TensorSignature(dtype=tf.float32, shape=TensorShape([Dimension(None), Dimension(10), Dimension(1199)]), is_sparse=False).\n"
     ]
    },
    {
     "name": "stdout",
     "output_type": "stream",
     "text": [
      "\n",
      "\n",
      "\n",
      " before: 어디 상관없다 <UNK> <UNK> <UNK> <UNK> <UNK> <UNK> <UNK> <UNK>. \n",
      " A (pred): 오늘 응 텐데 텐데 텐데 텐데 텐데 텐데 텐데 텐데 텐데,\n",
      " A (gold): 어디 든 상관없 으니까\n",
      "\n",
      "\n",
      " before: <UNK> 하다 <UNK> 들다 <UNK> <UNK> <UNK> <UNK> <UNK> <UNK>. \n",
      " A (pred): <UNK> 시끄러워 시끄러워 시끄러워 시끄러워 시끄러워 시끄러워 시끄러워 시끄러워 시끄러워 시끄러워,\n",
      " A (gold): 희희낙락 하며 먹이 려 드니 까\n",
      "\n",
      "\n",
      " before: 양파 같다 채소 <UNK> <UNK> <UNK> <UNK> <UNK> <UNK> <UNK>. \n",
      " A (pred): 아직 의 잃기 잃기 잃기 잃기 잃기 잃기 잃기 잃기 잃기,\n",
      " A (gold): 양파 같은 채소 가 약간 하고"
     ]
    },
    {
     "name": "stderr",
     "output_type": "stream",
     "text": [
      "WARNING:tensorflow:Given features: Tensor(\"input:0\", shape=(?, 10), dtype=int64), required signatures: TensorSignature(dtype=tf.int64, shape=TensorShape([Dimension(None), Dimension(10)]), is_sparse=False).\n",
      "WARNING:tensorflow:Given features: Tensor(\"input:0\", shape=(?, 10), dtype=int64), required signatures: TensorSignature(dtype=tf.int64, shape=TensorShape([Dimension(None), Dimension(10)]), is_sparse=False).\n",
      "WARNING:tensorflow:Given targets: Tensor(\"output:0\", shape=(?, 10, 1199), dtype=float32), required signatures: TensorSignature(dtype=tf.float32, shape=TensorShape([Dimension(None), Dimension(10), Dimension(1199)]), is_sparse=False).\n",
      "WARNING:tensorflow:Given targets: Tensor(\"output:0\", shape=(?, 10, 1199), dtype=float32), required signatures: TensorSignature(dtype=tf.float32, shape=TensorShape([Dimension(None), Dimension(10), Dimension(1199)]), is_sparse=False).\n"
     ]
    },
    {
     "name": "stdout",
     "output_type": "stream",
     "text": [
      "\n",
      "\n",
      "\n",
      " before: 나다 최대한 <UNK> <UNK> <UNK> <UNK> <UNK> <UNK> <UNK> <UNK>. \n",
      " A (pred): 나도 헤에 텐데 텐데 텐데 텐데 텐데 텐데 텐데 텐데 텐데,\n",
      " A (gold): 나도 최대한 돕겠 지만\n",
      "\n",
      "\n",
      " before: <UNK> 들어가다 <UNK> <UNK> <UNK> <UNK> <UNK> <UNK> <UNK> <UNK>. \n",
      " A (pred): <UNK> 시끄러워 시끄러워 시끄러워 시끄러워 시끄러워 시끄러워 시끄러워 시끄러워 시끄러워 시끄러워,\n",
      " A (gold): 평의회 에 들어가면\n",
      "\n",
      "\n",
      " before: 가게 자체 <UNK> <UNK> <UNK> <UNK> <UNK> <UNK> <UNK> <UNK>. \n",
      " A (pred): 맛 거기 <UNK> <UNK> <UNK> <UNK> <UNK> <UNK> <UNK> <UNK> <UNK>,\n",
      " A (gold): 가게 자체 도"
     ]
    },
    {
     "name": "stderr",
     "output_type": "stream",
     "text": [
      "WARNING:tensorflow:Given features: Tensor(\"input:0\", shape=(?, 10), dtype=int64), required signatures: TensorSignature(dtype=tf.int64, shape=TensorShape([Dimension(None), Dimension(10)]), is_sparse=False).\n",
      "WARNING:tensorflow:Given features: Tensor(\"input:0\", shape=(?, 10), dtype=int64), required signatures: TensorSignature(dtype=tf.int64, shape=TensorShape([Dimension(None), Dimension(10)]), is_sparse=False).\n",
      "WARNING:tensorflow:Given targets: Tensor(\"output:0\", shape=(?, 10, 1199), dtype=float32), required signatures: TensorSignature(dtype=tf.float32, shape=TensorShape([Dimension(None), Dimension(10), Dimension(1199)]), is_sparse=False).\n",
      "WARNING:tensorflow:Given targets: Tensor(\"output:0\", shape=(?, 10, 1199), dtype=float32), required signatures: TensorSignature(dtype=tf.float32, shape=TensorShape([Dimension(None), Dimension(10), Dimension(1199)]), is_sparse=False).\n"
     ]
    },
    {
     "name": "stdout",
     "output_type": "stream",
     "text": [
      "\n",
      "\n",
      "\n",
      " before: 자다 부탁 하다 <UNK> <UNK> <UNK> <UNK> <UNK> <UNK> <UNK>. \n",
      " A (pred): 아 뭐라고 텐데 텐데 텐데 텐데 텐데 텐데 텐데 텐데 텐데,\n",
      " A (gold): 잘 부탁해\n",
      "\n",
      "\n",
      " before: 원 하다 <UNK> <UNK> <UNK> <UNK> <UNK> <UNK> <UNK> <UNK>. \n",
      " A (pred): <UNK> 시끄러워 시끄러워 시끄러워 시끄러워 시끄러워 시끄러워 시끄러워 시끄러워 시끄러워 시끄러워,\n",
      " A (gold): 원해 여\n",
      "\n",
      "\n",
      " before: 유키 히 NAME 구나 <UNK> <UNK> <UNK> <UNK> <UNK> <UNK>. \n",
      " A (pred): 유키 흔들 텐데 텐데 텐데 텐데 텐데 텐데 텐데 텐데 텐데,\n",
      " A (gold): 유키 히 라 NAME 구나"
     ]
    },
    {
     "name": "stderr",
     "output_type": "stream",
     "text": [
      "WARNING:tensorflow:Given features: Tensor(\"input:0\", shape=(?, 10), dtype=int64), required signatures: TensorSignature(dtype=tf.int64, shape=TensorShape([Dimension(None), Dimension(10)]), is_sparse=False).\n",
      "WARNING:tensorflow:Given features: Tensor(\"input:0\", shape=(?, 10), dtype=int64), required signatures: TensorSignature(dtype=tf.int64, shape=TensorShape([Dimension(None), Dimension(10)]), is_sparse=False).\n",
      "WARNING:tensorflow:Given targets: Tensor(\"output:0\", shape=(?, 10, 1199), dtype=float32), required signatures: TensorSignature(dtype=tf.float32, shape=TensorShape([Dimension(None), Dimension(10), Dimension(1199)]), is_sparse=False).\n",
      "WARNING:tensorflow:Given targets: Tensor(\"output:0\", shape=(?, 10, 1199), dtype=float32), required signatures: TensorSignature(dtype=tf.float32, shape=TensorShape([Dimension(None), Dimension(10), Dimension(1199)]), is_sparse=False).\n"
     ]
    },
    {
     "name": "stdout",
     "output_type": "stream",
     "text": [
      "\n",
      "\n",
      "\n",
      " before: <UNK> <UNK> <UNK> 안 되다 <UNK> <UNK> <UNK> <UNK> <UNK>. \n",
      " A (pred): <UNK> 시끄러워 시끄러워 시끄러워 시끄러워 시끄러워 시끄러워 시끄러워 시끄러워 시끄러워 시끄러워,\n",
      " A (gold): 휴대 용 게임기 는 안 된 다 라\n",
      "\n",
      "\n",
      " before: 에리 님 <UNK> <UNK> <UNK> <UNK> <UNK> <UNK> <UNK> <UNK>. \n",
      " A (pred): 에리 어이 텐데 텐데 텐데 텐데 텐데 텐데 텐데 텐데 텐데,\n",
      " A (gold): 에리 나 님\n",
      "\n",
      "\n",
      " before: <UNK> 않다 <UNK> <UNK> <UNK> <UNK> <UNK> <UNK> <UNK> <UNK>. \n",
      " A (pred): <UNK> 글쎄 글쎄 글쎄 글쎄 글쎄 글쎄 글쎄 글쎄 글쎄 글쎄,\n",
      " A (gold): 머 지 않아 미식축구 부랑 레슬링 부도"
     ]
    },
    {
     "name": "stderr",
     "output_type": "stream",
     "text": [
      "WARNING:tensorflow:Given features: Tensor(\"input:0\", shape=(?, 10), dtype=int64), required signatures: TensorSignature(dtype=tf.int64, shape=TensorShape([Dimension(None), Dimension(10)]), is_sparse=False).\n",
      "WARNING:tensorflow:Given features: Tensor(\"input:0\", shape=(?, 10), dtype=int64), required signatures: TensorSignature(dtype=tf.int64, shape=TensorShape([Dimension(None), Dimension(10)]), is_sparse=False).\n",
      "WARNING:tensorflow:Given targets: Tensor(\"output:0\", shape=(?, 10, 1199), dtype=float32), required signatures: TensorSignature(dtype=tf.float32, shape=TensorShape([Dimension(None), Dimension(10), Dimension(1199)]), is_sparse=False).\n",
      "WARNING:tensorflow:Given targets: Tensor(\"output:0\", shape=(?, 10, 1199), dtype=float32), required signatures: TensorSignature(dtype=tf.float32, shape=TensorShape([Dimension(None), Dimension(10), Dimension(1199)]), is_sparse=False).\n"
     ]
    },
    {
     "name": "stdout",
     "output_type": "stream",
     "text": [
      "\n",
      "\n",
      "\n",
      " before: 듬뿍 <UNK> <UNK> <UNK> <UNK> <UNK> <UNK> <UNK> <UNK> <UNK>. \n",
      " A (pred): 네 글쎄 텐데 텐데 텐데 텐데 텐데 텐데 텐데 텐데 텐데,\n",
      " A (gold): 듬뿍 쏟아져 …\n",
      "\n",
      "\n",
      " before: <UNK> <UNK> <UNK> <UNK> <UNK> <UNK> <UNK> <UNK> <UNK> <UNK>. \n",
      " A (pred): <UNK> 헤에 헤에 헤에 헤에 헤에 헤에 헤에 헤에 헤에 헤에,\n",
      " A (gold): 그런고로\n",
      "\n",
      "\n",
      " before: 십걸 제 석 걸다 <UNK> <UNK> <UNK> <UNK> <UNK> <UNK>. \n",
      " A (pred): NAME 둘 뱅글 텐데 텐데 텐데 텐데 텐데 텐데 텐데 텐데,\n",
      " A (gold): 십걸 제 석 을 걸고"
     ]
    },
    {
     "name": "stderr",
     "output_type": "stream",
     "text": [
      "WARNING:tensorflow:Given features: Tensor(\"input:0\", shape=(?, 10), dtype=int64), required signatures: TensorSignature(dtype=tf.int64, shape=TensorShape([Dimension(None), Dimension(10)]), is_sparse=False).\n",
      "WARNING:tensorflow:Given features: Tensor(\"input:0\", shape=(?, 10), dtype=int64), required signatures: TensorSignature(dtype=tf.int64, shape=TensorShape([Dimension(None), Dimension(10)]), is_sparse=False).\n",
      "WARNING:tensorflow:Given targets: Tensor(\"output:0\", shape=(?, 10, 1199), dtype=float32), required signatures: TensorSignature(dtype=tf.float32, shape=TensorShape([Dimension(None), Dimension(10), Dimension(1199)]), is_sparse=False).\n",
      "WARNING:tensorflow:Given targets: Tensor(\"output:0\", shape=(?, 10, 1199), dtype=float32), required signatures: TensorSignature(dtype=tf.float32, shape=TensorShape([Dimension(None), Dimension(10), Dimension(1199)]), is_sparse=False).\n"
     ]
    },
    {
     "name": "stdout",
     "output_type": "stream",
     "text": [
      "\n",
      "\n",
      "\n",
      " before: <UNK> 하다 <UNK> 들다 <UNK> <UNK> <UNK> <UNK> <UNK> <UNK>. \n",
      " A (pred): <UNK> 시끄러워 시끄러워 시끄러워 시끄러워 시끄러워 시끄러워 시끄러워 시끄러워 시끄러워 시끄러워,\n",
      " A (gold): 희희낙락 하며 먹이 려 드니 까\n",
      "\n",
      "\n",
      " before: 이다 이상 알다 <UNK> <UNK> <UNK> <UNK> <UNK> <UNK> <UNK>. \n",
      " A (pred): 이 바삭바삭 <UNK> <UNK> <UNK> <UNK> <UNK> <UNK> <UNK> <UNK> <UNK>,\n",
      " A (gold): 임 하 는 이상 아시 겠 죠\n",
      "\n",
      "\n",
      " before: 자 <UNK> <UNK> <UNK> <UNK> <UNK> <UNK> <UNK> <UNK> <UNK>. \n",
      " A (pred): 자 응 텐데 텐데 텐데 텐데 텐데 텐데 텐데 텐데 텐데,\n",
      " A (gold): 자"
     ]
    },
    {
     "name": "stderr",
     "output_type": "stream",
     "text": [
      "WARNING:tensorflow:Given features: Tensor(\"input:0\", shape=(?, 10), dtype=int64), required signatures: TensorSignature(dtype=tf.int64, shape=TensorShape([Dimension(None), Dimension(10)]), is_sparse=False).\n",
      "WARNING:tensorflow:Given features: Tensor(\"input:0\", shape=(?, 10), dtype=int64), required signatures: TensorSignature(dtype=tf.int64, shape=TensorShape([Dimension(None), Dimension(10)]), is_sparse=False).\n",
      "WARNING:tensorflow:Given targets: Tensor(\"output:0\", shape=(?, 10, 1199), dtype=float32), required signatures: TensorSignature(dtype=tf.float32, shape=TensorShape([Dimension(None), Dimension(10), Dimension(1199)]), is_sparse=False).\n",
      "WARNING:tensorflow:Given targets: Tensor(\"output:0\", shape=(?, 10, 1199), dtype=float32), required signatures: TensorSignature(dtype=tf.float32, shape=TensorShape([Dimension(None), Dimension(10), Dimension(1199)]), is_sparse=False).\n"
     ]
    },
    {
     "name": "stdout",
     "output_type": "stream",
     "text": [
      "\n",
      "\n",
      "\n",
      " before: NAME 실패 <UNK> <UNK> <UNK> <UNK> <UNK> <UNK> <UNK> <UNK>. \n",
      " A (pred): NAME 저런 텐데 텐데 텐데 텐데 텐데 텐데 텐데 텐데 텐데,\n",
      " A (gold): NAME 는 실패 작 까지\n",
      "\n",
      "\n",
      " before: 자다 부탁 하다 <UNK> <UNK> <UNK> <UNK> <UNK> <UNK> <UNK>. \n",
      " A (pred): 잘 뭐라고 텐데 텐데 텐데 텐데 텐데 텐데 텐데 텐데 텐데,\n",
      " A (gold): 잘 부탁해\n",
      "\n",
      "\n",
      " before: <UNK> 뜨겁다 <UNK> 같다 <UNK> <UNK> <UNK> <UNK> <UNK> <UNK>. \n",
      " A (pred): <UNK> 시끄러워 시끄러워 시끄러워 시끄러워 시끄러워 시끄러워 시끄러워 시끄러워 시끄러워 시끄러워,\n",
      " A (gold): 가득한 뜨거운 포옹 과도 같은 …"
     ]
    },
    {
     "name": "stderr",
     "output_type": "stream",
     "text": [
      "WARNING:tensorflow:Given features: Tensor(\"input:0\", shape=(?, 10), dtype=int64), required signatures: TensorSignature(dtype=tf.int64, shape=TensorShape([Dimension(None), Dimension(10)]), is_sparse=False).\n",
      "WARNING:tensorflow:Given features: Tensor(\"input:0\", shape=(?, 10), dtype=int64), required signatures: TensorSignature(dtype=tf.int64, shape=TensorShape([Dimension(None), Dimension(10)]), is_sparse=False).\n",
      "WARNING:tensorflow:Given targets: Tensor(\"output:0\", shape=(?, 10, 1199), dtype=float32), required signatures: TensorSignature(dtype=tf.float32, shape=TensorShape([Dimension(None), Dimension(10), Dimension(1199)]), is_sparse=False).\n",
      "WARNING:tensorflow:Given targets: Tensor(\"output:0\", shape=(?, 10, 1199), dtype=float32), required signatures: TensorSignature(dtype=tf.float32, shape=TensorShape([Dimension(None), Dimension(10), Dimension(1199)]), is_sparse=False).\n"
     ]
    },
    {
     "name": "stdout",
     "output_type": "stream",
     "text": [
      "\n",
      "\n",
      "\n",
      " before: 반드시 <UNK> <UNK> <UNK> <UNK> <UNK> <UNK> <UNK> <UNK> <UNK>. \n",
      " A (pred): <UNK> 헤에 텐데 텐데 텐데 텐데 텐데 텐데 텐데 텐데 텐데,\n",
      " A (gold): 반드시\n",
      "\n",
      "\n",
      " before: 손님 원 하다 요리 <UNK> <UNK> <UNK> <UNK> <UNK> <UNK>. \n",
      " A (pred): 요리 바삭바삭 텐데 텐데 텐데 텐데 텐데 텐데 텐데 텐데 텐데,\n",
      " A (gold): 손님 이 원하는 요리 를\n",
      "\n",
      "\n",
      " before: 난 오늘 바로 자다 <UNK> <UNK> <UNK> <UNK> <UNK> <UNK>. \n",
      " A (pred): 그럼 응 텐데 텐데 텐데 텐데 텐데 텐데 텐데 텐데 텐데,\n",
      " A (gold): 난 오늘 은 바로 자려 고 …"
     ]
    },
    {
     "name": "stderr",
     "output_type": "stream",
     "text": [
      "WARNING:tensorflow:Given features: Tensor(\"input:0\", shape=(?, 10), dtype=int64), required signatures: TensorSignature(dtype=tf.int64, shape=TensorShape([Dimension(None), Dimension(10)]), is_sparse=False).\n",
      "WARNING:tensorflow:Given features: Tensor(\"input:0\", shape=(?, 10), dtype=int64), required signatures: TensorSignature(dtype=tf.int64, shape=TensorShape([Dimension(None), Dimension(10)]), is_sparse=False).\n",
      "WARNING:tensorflow:Given targets: Tensor(\"output:0\", shape=(?, 10, 1199), dtype=float32), required signatures: TensorSignature(dtype=tf.float32, shape=TensorShape([Dimension(None), Dimension(10), Dimension(1199)]), is_sparse=False).\n",
      "WARNING:tensorflow:Given targets: Tensor(\"output:0\", shape=(?, 10, 1199), dtype=float32), required signatures: TensorSignature(dtype=tf.float32, shape=TensorShape([Dimension(None), Dimension(10), Dimension(1199)]), is_sparse=False).\n"
     ]
    },
    {
     "name": "stdout",
     "output_type": "stream",
     "text": [
      "\n",
      "\n",
      "\n",
      " before: <UNK> 소스 <UNK> <UNK> <UNK> <UNK> <UNK> <UNK> <UNK> <UNK>. \n",
      " A (pred): <UNK> 글쎄 글쎄 글쎄 글쎄 글쎄 글쎄 글쎄 글쎄 글쎄 글쎄,\n",
      " A (gold): 이탈리안 소스 를\n",
      "\n",
      "\n",
      " before: <UNK> 뜨겁다 <UNK> 같다 <UNK> <UNK> <UNK> <UNK> <UNK> <UNK>. \n",
      " A (pred): <UNK> 시끄러워 시끄러워 시끄러워 시끄러워 시끄러워 시끄러워 시끄러워 시끄러워 시끄러워 시끄러워,\n",
      " A (gold): 가득한 뜨거운 포옹 과도 같은 …\n",
      "\n",
      "\n",
      " before: <UNK> <UNK> <UNK> <UNK> <UNK> <UNK> <UNK> <UNK> <UNK> <UNK>. \n",
      " A (pred): <UNK> 글쎄 글쎄 글쎄 글쎄 글쎄 글쎄 글쎄 글쎄 글쎄 글쎄,\n",
      " A (gold): 근데"
     ]
    },
    {
     "name": "stderr",
     "output_type": "stream",
     "text": [
      "WARNING:tensorflow:Given features: Tensor(\"input:0\", shape=(?, 10), dtype=int64), required signatures: TensorSignature(dtype=tf.int64, shape=TensorShape([Dimension(None), Dimension(10)]), is_sparse=False).\n",
      "WARNING:tensorflow:Given features: Tensor(\"input:0\", shape=(?, 10), dtype=int64), required signatures: TensorSignature(dtype=tf.int64, shape=TensorShape([Dimension(None), Dimension(10)]), is_sparse=False).\n",
      "WARNING:tensorflow:Given targets: Tensor(\"output:0\", shape=(?, 10, 1199), dtype=float32), required signatures: TensorSignature(dtype=tf.float32, shape=TensorShape([Dimension(None), Dimension(10), Dimension(1199)]), is_sparse=False).\n",
      "WARNING:tensorflow:Given targets: Tensor(\"output:0\", shape=(?, 10, 1199), dtype=float32), required signatures: TensorSignature(dtype=tf.float32, shape=TensorShape([Dimension(None), Dimension(10), Dimension(1199)]), is_sparse=False).\n"
     ]
    },
    {
     "name": "stdout",
     "output_type": "stream",
     "text": [
      "\n",
      "\n",
      "\n",
      " before: 몇 년 <UNK> 합숙 <UNK> <UNK> <UNK> <UNK> <UNK> <UNK>. \n",
      " A (pred): 식 그때 텐데 텐데 텐데 텐데 텐데 텐데 텐데 텐데 텐데,\n",
      " A (gold): 몇 년 인가 전의 합숙 에서는\n",
      "\n",
      "\n",
      " before: 최고 <UNK> <UNK> 쇠고기 <UNK> <UNK> <UNK> <UNK> <UNK> <UNK>. \n",
      " A (pred): <UNK> 시끄러워 <UNK> <UNK> <UNK> <UNK> <UNK> <UNK> <UNK> <UNK> <UNK>,\n",
      " A (gold): 최고 랭크 를 획득 한 쇠고기\n",
      "\n",
      "\n",
      " before: <UNK> 무사하다 살아나다 <UNK> <UNK> <UNK> <UNK> <UNK> <UNK> <UNK>. \n",
      " A (pred): <UNK> 글쎄 글쎄 글쎄 글쎄 글쎄 글쎄 글쎄 글쎄 글쎄 글쎄,\n",
      " A (gold): 첫날 을 무사히 살아남 았 대"
     ]
    },
    {
     "name": "stderr",
     "output_type": "stream",
     "text": [
      "WARNING:tensorflow:Given features: Tensor(\"input:0\", shape=(?, 10), dtype=int64), required signatures: TensorSignature(dtype=tf.int64, shape=TensorShape([Dimension(None), Dimension(10)]), is_sparse=False).\n",
      "WARNING:tensorflow:Given features: Tensor(\"input:0\", shape=(?, 10), dtype=int64), required signatures: TensorSignature(dtype=tf.int64, shape=TensorShape([Dimension(None), Dimension(10)]), is_sparse=False).\n",
      "WARNING:tensorflow:Given targets: Tensor(\"output:0\", shape=(?, 10, 1199), dtype=float32), required signatures: TensorSignature(dtype=tf.float32, shape=TensorShape([Dimension(None), Dimension(10), Dimension(1199)]), is_sparse=False).\n",
      "WARNING:tensorflow:Given targets: Tensor(\"output:0\", shape=(?, 10, 1199), dtype=float32), required signatures: TensorSignature(dtype=tf.float32, shape=TensorShape([Dimension(None), Dimension(10), Dimension(1199)]), is_sparse=False).\n"
     ]
    },
    {
     "name": "stdout",
     "output_type": "stream",
     "text": [
      "\n",
      "\n",
      "\n",
      " before: 양파 같다 채소 <UNK> <UNK> <UNK> <UNK> <UNK> <UNK> <UNK>. \n",
      " A (pred): 에리 <UNK> 에서 에서 에서 에서 에서 에서 에서 에서 에서,\n",
      " A (gold): 양파 같은 채소 가 약간 하고\n",
      "\n",
      "\n",
      " before: <UNK> 접시 째 <UNK> <UNK> <UNK> <UNK> <UNK> <UNK> <UNK>. \n",
      " A (pred): <UNK> 글쎄 글쎄 글쎄 글쎄 글쎄 글쎄 글쎄 글쎄 글쎄 글쎄,\n",
      " A (gold): 일곱 접시 째 다\n",
      "\n",
      "\n",
      " before: 일단 진정 <UNK> <UNK> <UNK> <UNK> <UNK> <UNK> <UNK> <UNK>. \n",
      " A (pred): 이제 응 텐데 텐데 텐데 텐데 텐데 텐데 텐데 텐데 텐데,\n",
      " A (gold): 일단 진정 해"
     ]
    },
    {
     "name": "stderr",
     "output_type": "stream",
     "text": [
      "WARNING:tensorflow:Given features: Tensor(\"input:0\", shape=(?, 10), dtype=int64), required signatures: TensorSignature(dtype=tf.int64, shape=TensorShape([Dimension(None), Dimension(10)]), is_sparse=False).\n",
      "WARNING:tensorflow:Given features: Tensor(\"input:0\", shape=(?, 10), dtype=int64), required signatures: TensorSignature(dtype=tf.int64, shape=TensorShape([Dimension(None), Dimension(10)]), is_sparse=False).\n",
      "WARNING:tensorflow:Given targets: Tensor(\"output:0\", shape=(?, 10, 1199), dtype=float32), required signatures: TensorSignature(dtype=tf.float32, shape=TensorShape([Dimension(None), Dimension(10), Dimension(1199)]), is_sparse=False).\n",
      "WARNING:tensorflow:Given targets: Tensor(\"output:0\", shape=(?, 10, 1199), dtype=float32), required signatures: TensorSignature(dtype=tf.float32, shape=TensorShape([Dimension(None), Dimension(10), Dimension(1199)]), is_sparse=False).\n"
     ]
    },
    {
     "name": "stdout",
     "output_type": "stream",
     "text": [
      "\n",
      "\n",
      "\n",
      " before: <UNK> 않다 <UNK> <UNK> <UNK> <UNK> <UNK> <UNK> <UNK> <UNK>. \n",
      " A (pred): <UNK> 글쎄 글쎄 글쎄 글쎄 글쎄 글쎄 글쎄 글쎄 글쎄 글쎄,\n",
      " A (gold): 머 지 않아 미식축구 부랑 레슬링 부도\n",
      "\n",
      "\n",
      " before: <UNK> 냄새 나다 <UNK> <UNK> <UNK> <UNK> <UNK> <UNK> <UNK>. \n",
      " A (pred): <UNK> 글쎄 글쎄 글쎄 글쎄 글쎄 글쎄 글쎄 글쎄 글쎄 글쎄,\n",
      " A (gold): 동물 냄새 난 다고\n",
      "\n",
      "\n",
      " before: 삶다 전 고기 <UNK> 두다 <UNK> <UNK> <UNK> <UNK> <UNK>. \n",
      " A (pred): <UNK> 시끄러워 이 이 이 이 이 이 이 이 이,\n",
      " A (gold): 삶기 전 고기 에 주물러 두고"
     ]
    },
    {
     "name": "stderr",
     "output_type": "stream",
     "text": [
      "WARNING:tensorflow:Given features: Tensor(\"input:0\", shape=(?, 10), dtype=int64), required signatures: TensorSignature(dtype=tf.int64, shape=TensorShape([Dimension(None), Dimension(10)]), is_sparse=False).\n",
      "WARNING:tensorflow:Given features: Tensor(\"input:0\", shape=(?, 10), dtype=int64), required signatures: TensorSignature(dtype=tf.int64, shape=TensorShape([Dimension(None), Dimension(10)]), is_sparse=False).\n",
      "WARNING:tensorflow:Given targets: Tensor(\"output:0\", shape=(?, 10, 1199), dtype=float32), required signatures: TensorSignature(dtype=tf.float32, shape=TensorShape([Dimension(None), Dimension(10), Dimension(1199)]), is_sparse=False).\n",
      "WARNING:tensorflow:Given targets: Tensor(\"output:0\", shape=(?, 10, 1199), dtype=float32), required signatures: TensorSignature(dtype=tf.float32, shape=TensorShape([Dimension(None), Dimension(10), Dimension(1199)]), is_sparse=False).\n"
     ]
    },
    {
     "name": "stdout",
     "output_type": "stream",
     "text": [
      "\n",
      "\n",
      "\n",
      " before: 그 그렇다 건 이기다 수 있다 리 없다 <UNK> <UNK>. \n",
      " A (pred): 그 텐데 텐데 텐데 텐데 텐데 텐데 텐데 텐데 텐데 텐데,\n",
      " A (gold): 그 그런 건 이길 수 있 을 리 없어\n",
      "\n",
      "\n",
      " before: 닭 <UNK> 있다 건 <UNK> <UNK> <UNK> <UNK> <UNK> <UNK>. \n",
      " A (pred): 한 입실 텐데 텐데 텐데 텐데 텐데 텐데 텐데 텐데 텐데,\n",
      " A (gold): 닭 이 풀어져 있 단 건\n",
      "\n",
      "\n",
      " before: 호화 맛 내기 <UNK> <UNK> <UNK> <UNK> <UNK> <UNK> <UNK>. \n",
      " A (pred): 호화 <UNK> <UNK> <UNK> <UNK> <UNK> <UNK> <UNK> <UNK> <UNK> <UNK>,\n",
      " A (gold): 호화 로운 맛 내기 도"
     ]
    },
    {
     "name": "stderr",
     "output_type": "stream",
     "text": [
      "WARNING:tensorflow:Given features: Tensor(\"input:0\", shape=(?, 10), dtype=int64), required signatures: TensorSignature(dtype=tf.int64, shape=TensorShape([Dimension(None), Dimension(10)]), is_sparse=False).\n",
      "WARNING:tensorflow:Given features: Tensor(\"input:0\", shape=(?, 10), dtype=int64), required signatures: TensorSignature(dtype=tf.int64, shape=TensorShape([Dimension(None), Dimension(10)]), is_sparse=False).\n",
      "WARNING:tensorflow:Given targets: Tensor(\"output:0\", shape=(?, 10, 1199), dtype=float32), required signatures: TensorSignature(dtype=tf.float32, shape=TensorShape([Dimension(None), Dimension(10), Dimension(1199)]), is_sparse=False).\n",
      "WARNING:tensorflow:Given targets: Tensor(\"output:0\", shape=(?, 10, 1199), dtype=float32), required signatures: TensorSignature(dtype=tf.float32, shape=TensorShape([Dimension(None), Dimension(10), Dimension(1199)]), is_sparse=False).\n"
     ]
    },
    {
     "name": "stdout",
     "output_type": "stream",
     "text": [
      "\n",
      "\n",
      "\n",
      " before: <UNK> 일 <UNK> 없다 <UNK> <UNK> <UNK> <UNK> <UNK> <UNK>. \n",
      " A (pred): <UNK> 시끄러워 시끄러워 시끄러워 시끄러워 시끄러워 시끄러워 시끄러워 시끄러워 시끄러워 시끄러워,\n",
      " A (gold): 합의 일 리가 없잖 아\n",
      "\n",
      "\n",
      " before: 하다 <UNK> 밥 먹다 <UNK> <UNK> <UNK> <UNK> <UNK> <UNK>. \n",
      " A (pred): <UNK> 글쎄 글쎄 글쎄 글쎄 글쎄 글쎄 글쎄 글쎄 글쎄 글쎄,\n",
      " A (gold): 한 솥 밥 을 먹는 다\n",
      "\n",
      "\n",
      " before: 아 자다 부탁 <UNK> <UNK> <UNK> <UNK> <UNK> <UNK> <UNK>. \n",
      " A (pred): 아 잃기 텐데 텐데 텐데 텐데 텐데 텐데 텐데 텐데 텐데,\n",
      " A (gold): 아 잘 부탁 …"
     ]
    },
    {
     "name": "stderr",
     "output_type": "stream",
     "text": [
      "WARNING:tensorflow:Given features: Tensor(\"input:0\", shape=(?, 10), dtype=int64), required signatures: TensorSignature(dtype=tf.int64, shape=TensorShape([Dimension(None), Dimension(10)]), is_sparse=False).\n",
      "WARNING:tensorflow:Given features: Tensor(\"input:0\", shape=(?, 10), dtype=int64), required signatures: TensorSignature(dtype=tf.int64, shape=TensorShape([Dimension(None), Dimension(10)]), is_sparse=False).\n",
      "WARNING:tensorflow:Given targets: Tensor(\"output:0\", shape=(?, 10, 1199), dtype=float32), required signatures: TensorSignature(dtype=tf.float32, shape=TensorShape([Dimension(None), Dimension(10), Dimension(1199)]), is_sparse=False).\n",
      "WARNING:tensorflow:Given targets: Tensor(\"output:0\", shape=(?, 10, 1199), dtype=float32), required signatures: TensorSignature(dtype=tf.float32, shape=TensorShape([Dimension(None), Dimension(10), Dimension(1199)]), is_sparse=False).\n"
     ]
    },
    {
     "name": "stdout",
     "output_type": "stream",
     "text": [
      "\n",
      "\n",
      "\n",
      " before: 어이 어이 이 거 어쩌다 <UNK> <UNK> <UNK> <UNK> <UNK>. \n",
      " A (pred): 그럼 응 텐데 텐데 텐데 텐데 텐데 텐데 텐데 텐데 텐데,\n",
      " A (gold): 어이 어이 이 거 어쩔 거야\n",
      "\n",
      "\n",
      " before: 뭐 년 간 <UNK> 와 <UNK> <UNK> <UNK> <UNK> <UNK>. \n",
      " A (pred): 오늘 <UNK> <UNK> <UNK> <UNK> <UNK> <UNK> <UNK> <UNK> <UNK> <UNK>,\n",
      " A (gold): 뭐 년 간 공부 하고 와 라\n",
      "\n",
      "\n",
      " before: 계란 맛 <UNK> 하다 <UNK> <UNK> <UNK> <UNK> <UNK> <UNK>. \n",
      " A (pred): 그 뭐라고 텐데 텐데 텐데 텐데 텐데 텐데 텐데 텐데 텐데,\n",
      " A (gold): 계란 의 맛 을 월등 하게"
     ]
    },
    {
     "name": "stderr",
     "output_type": "stream",
     "text": [
      "WARNING:tensorflow:Given features: Tensor(\"input:0\", shape=(?, 10), dtype=int64), required signatures: TensorSignature(dtype=tf.int64, shape=TensorShape([Dimension(None), Dimension(10)]), is_sparse=False).\n",
      "WARNING:tensorflow:Given features: Tensor(\"input:0\", shape=(?, 10), dtype=int64), required signatures: TensorSignature(dtype=tf.int64, shape=TensorShape([Dimension(None), Dimension(10)]), is_sparse=False).\n",
      "WARNING:tensorflow:Given targets: Tensor(\"output:0\", shape=(?, 10, 1199), dtype=float32), required signatures: TensorSignature(dtype=tf.float32, shape=TensorShape([Dimension(None), Dimension(10), Dimension(1199)]), is_sparse=False).\n",
      "WARNING:tensorflow:Given targets: Tensor(\"output:0\", shape=(?, 10, 1199), dtype=float32), required signatures: TensorSignature(dtype=tf.float32, shape=TensorShape([Dimension(None), Dimension(10), Dimension(1199)]), is_sparse=False).\n"
     ]
    },
    {
     "name": "stdout",
     "output_type": "stream",
     "text": [
      "\n",
      "\n",
      "\n",
      " before: 삶다 전 고기 <UNK> 두다 <UNK> <UNK> <UNK> <UNK> <UNK>. \n",
      " A (pred): <UNK> 시끄러워 만나서 만나서 만나서 만나서 만나서 만나서 만나서 만나서 만나서,\n",
      " A (gold): 삶기 전 고기 에 주물러 두고\n",
      "\n",
      "\n",
      " before: 의 <UNK> <UNK> 하다 위 하다 <UNK> <UNK> <UNK> <UNK>. \n",
      " A (pred): <UNK> 시끄러워 시끄러워 시끄러워 시끄러워 시끄러워 시끄러워 시끄러워 시끄러워 시끄러워 시끄러워,\n",
      " A (gold): 의 옥 을 연마 하기 위한\n",
      "\n",
      "\n",
      " before: 타도 코로 짱 <UNK> <UNK> <UNK> <UNK> <UNK> <UNK> <UNK>. \n",
      " A (pred): 타도 변변 텐데 텐데 텐데 텐데 텐데 텐데 텐데 텐데 텐데,\n",
      " A (gold): 타도 코로 짱 …"
     ]
    },
    {
     "name": "stderr",
     "output_type": "stream",
     "text": [
      "WARNING:tensorflow:Given features: Tensor(\"input:0\", shape=(?, 10), dtype=int64), required signatures: TensorSignature(dtype=tf.int64, shape=TensorShape([Dimension(None), Dimension(10)]), is_sparse=False).\n",
      "WARNING:tensorflow:Given features: Tensor(\"input:0\", shape=(?, 10), dtype=int64), required signatures: TensorSignature(dtype=tf.int64, shape=TensorShape([Dimension(None), Dimension(10)]), is_sparse=False).\n",
      "WARNING:tensorflow:Given targets: Tensor(\"output:0\", shape=(?, 10, 1199), dtype=float32), required signatures: TensorSignature(dtype=tf.float32, shape=TensorShape([Dimension(None), Dimension(10), Dimension(1199)]), is_sparse=False).\n",
      "WARNING:tensorflow:Given targets: Tensor(\"output:0\", shape=(?, 10, 1199), dtype=float32), required signatures: TensorSignature(dtype=tf.float32, shape=TensorShape([Dimension(None), Dimension(10), Dimension(1199)]), is_sparse=False).\n"
     ]
    },
    {
     "name": "stdout",
     "output_type": "stream",
     "text": [
      "\n",
      "\n",
      "\n",
      " before: NAME 군 내 제 석 <UNK> <UNK> <UNK> <UNK> <UNK>. \n",
      " A (pred): NAME 저런 텐데 텐데 텐데 텐데 텐데 텐데 텐데 텐데 텐데,\n",
      " A (gold): NAME 군 이 내 제 석 을\n",
      "\n",
      "\n",
      " before: <UNK> <UNK> 이 불리다 <UNK> <UNK> <UNK> <UNK> <UNK> <UNK>. \n",
      " A (pred): <UNK> 시끄러워 시끄러워 시끄러워 시끄러워 시끄러워 시끄러워 시끄러워 시끄러워 시끄러워 시끄러워,\n",
      " A (gold): 신의 미각 이 라고까지 불리는\n",
      "\n",
      "\n",
      " before: 좀 더 긴장 <UNK> 조리 해보다 <UNK> <UNK> <UNK> <UNK>. \n",
      " A (pred): 이 아까 텐데 텐데 텐데 텐데 텐데 텐데 텐데 텐데 텐데,\n",
      " A (gold): 좀 더 긴장 을 풀 고 조리 해보 렴"
     ]
    },
    {
     "name": "stderr",
     "output_type": "stream",
     "text": [
      "WARNING:tensorflow:Given features: Tensor(\"input:0\", shape=(?, 10), dtype=int64), required signatures: TensorSignature(dtype=tf.int64, shape=TensorShape([Dimension(None), Dimension(10)]), is_sparse=False).\n",
      "WARNING:tensorflow:Given features: Tensor(\"input:0\", shape=(?, 10), dtype=int64), required signatures: TensorSignature(dtype=tf.int64, shape=TensorShape([Dimension(None), Dimension(10)]), is_sparse=False).\n",
      "WARNING:tensorflow:Given targets: Tensor(\"output:0\", shape=(?, 10, 1199), dtype=float32), required signatures: TensorSignature(dtype=tf.float32, shape=TensorShape([Dimension(None), Dimension(10), Dimension(1199)]), is_sparse=False).\n",
      "WARNING:tensorflow:Given targets: Tensor(\"output:0\", shape=(?, 10, 1199), dtype=float32), required signatures: TensorSignature(dtype=tf.float32, shape=TensorShape([Dimension(None), Dimension(10), Dimension(1199)]), is_sparse=False).\n"
     ]
    },
    {
     "name": "stdout",
     "output_type": "stream",
     "text": [
      "\n",
      "\n",
      "\n",
      " before: 전부 시험 버리다 <UNK> <UNK> <UNK> <UNK> <UNK> <UNK> <UNK>. \n",
      " A (pred): 도 향해 텐데 텐데 텐데 텐데 텐데 텐데 텐데 텐데 텐데,\n",
      " A (gold): 전부 시험 해 버렸 어\n",
      "\n",
      "\n",
      " before: 하다 번 더 그렇다 <UNK> <UNK> <UNK> <UNK> <UNK> <UNK>. \n",
      " A (pred): 한 향해 텐데 텐데 텐데 텐데 텐데 텐데 텐데 텐데 텐데,\n",
      " A (gold): 한 번 더 그랬 다간\n",
      "\n",
      "\n",
      " before: 정식 집 분 <UNK> <UNK> <UNK> <UNK> <UNK> <UNK> <UNK>. \n",
      " A (pred): 손님 바삭바삭 텐데 텐데 텐데 텐데 텐데 텐데 텐데 텐데 텐데,\n",
      " A (gold): 정식 집 에서 분 이나"
     ]
    },
    {
     "name": "stderr",
     "output_type": "stream",
     "text": [
      "WARNING:tensorflow:Given features: Tensor(\"input:0\", shape=(?, 10), dtype=int64), required signatures: TensorSignature(dtype=tf.int64, shape=TensorShape([Dimension(None), Dimension(10)]), is_sparse=False).\n",
      "WARNING:tensorflow:Given features: Tensor(\"input:0\", shape=(?, 10), dtype=int64), required signatures: TensorSignature(dtype=tf.int64, shape=TensorShape([Dimension(None), Dimension(10)]), is_sparse=False).\n",
      "WARNING:tensorflow:Given targets: Tensor(\"output:0\", shape=(?, 10, 1199), dtype=float32), required signatures: TensorSignature(dtype=tf.float32, shape=TensorShape([Dimension(None), Dimension(10), Dimension(1199)]), is_sparse=False).\n",
      "WARNING:tensorflow:Given targets: Tensor(\"output:0\", shape=(?, 10, 1199), dtype=float32), required signatures: TensorSignature(dtype=tf.float32, shape=TensorShape([Dimension(None), Dimension(10), Dimension(1199)]), is_sparse=False).\n"
     ]
    },
    {
     "name": "stdout",
     "output_type": "stream",
     "text": [
      "\n",
      "\n",
      "\n",
      " before: 저 <UNK> 게다가 <UNK> <UNK> <UNK> <UNK> <UNK> <UNK> <UNK>. \n",
      " A (pred): 저 뭐라고 텐데 텐데 텐데 텐데 텐데 텐데 텐데 텐데 텐데,\n",
      " A (gold): 저 미모 에 게다가 수석 …\n",
      "\n",
      "\n",
      " before: 이 요리 진정 <UNK> <UNK> <UNK> <UNK> <UNK> <UNK> <UNK>. \n",
      " A (pred): 이 거기 텐데 텐데 텐데 텐데 텐데 텐데 텐데 텐데 텐데,\n",
      " A (gold): 이 요리 의 진정 한\n",
      "\n",
      "\n",
      " before: <UNK> 저녁 요 <UNK> <UNK> <UNK> <UNK> <UNK> <UNK> <UNK>. \n",
      " A (pred): <UNK> 글쎄 글쎄 글쎄 글쎄 글쎄 글쎄 글쎄 글쎄 글쎄 글쎄,\n",
      " A (gold): 저희 의 저녁 은 요"
     ]
    },
    {
     "name": "stderr",
     "output_type": "stream",
     "text": [
      "WARNING:tensorflow:Given features: Tensor(\"input:0\", shape=(?, 10), dtype=int64), required signatures: TensorSignature(dtype=tf.int64, shape=TensorShape([Dimension(None), Dimension(10)]), is_sparse=False).\n",
      "WARNING:tensorflow:Given features: Tensor(\"input:0\", shape=(?, 10), dtype=int64), required signatures: TensorSignature(dtype=tf.int64, shape=TensorShape([Dimension(None), Dimension(10)]), is_sparse=False).\n",
      "WARNING:tensorflow:Given targets: Tensor(\"output:0\", shape=(?, 10, 1199), dtype=float32), required signatures: TensorSignature(dtype=tf.float32, shape=TensorShape([Dimension(None), Dimension(10), Dimension(1199)]), is_sparse=False).\n",
      "WARNING:tensorflow:Given targets: Tensor(\"output:0\", shape=(?, 10, 1199), dtype=float32), required signatures: TensorSignature(dtype=tf.float32, shape=TensorShape([Dimension(None), Dimension(10), Dimension(1199)]), is_sparse=False).\n"
     ]
    },
    {
     "name": "stdout",
     "output_type": "stream",
     "text": [
      "\n",
      "\n",
      "\n",
      " before: 파 소금 양념 <UNK> 데 <UNK> <UNK> <UNK> <UNK> <UNK>. \n",
      " A (pred): 거기 게다가 텐데 텐데 텐데 텐데 텐데 텐데 텐데 텐데 텐데,\n",
      " A (gold): 파 소금 양념 을 무친 데 다가\n",
      "\n",
      "\n",
      " before: 그렇다 엄청나다 고기 뛰어넘다 <UNK> <UNK> <UNK> <UNK> <UNK> <UNK>. \n",
      " A (pred): 그럼 응 텐데 텐데 텐데 텐데 텐데 텐데 텐데 텐데 텐데,\n",
      " A (gold): 그런 엄청난 고기 를 뛰어넘 다니\n",
      "\n",
      "\n",
      " before: 말 걸다 마 <UNK> <UNK> <UNK> <UNK> <UNK> <UNK> <UNK>. \n",
      " A (pred): 나 글쎄 텐데 텐데 텐데 텐데 텐데 텐데 텐데 텐데 텐데,\n",
      " A (gold): 말 걸지 마"
     ]
    },
    {
     "name": "stderr",
     "output_type": "stream",
     "text": [
      "WARNING:tensorflow:Given features: Tensor(\"input:0\", shape=(?, 10), dtype=int64), required signatures: TensorSignature(dtype=tf.int64, shape=TensorShape([Dimension(None), Dimension(10)]), is_sparse=False).\n",
      "WARNING:tensorflow:Given features: Tensor(\"input:0\", shape=(?, 10), dtype=int64), required signatures: TensorSignature(dtype=tf.int64, shape=TensorShape([Dimension(None), Dimension(10)]), is_sparse=False).\n",
      "WARNING:tensorflow:Given targets: Tensor(\"output:0\", shape=(?, 10, 1199), dtype=float32), required signatures: TensorSignature(dtype=tf.float32, shape=TensorShape([Dimension(None), Dimension(10), Dimension(1199)]), is_sparse=False).\n",
      "WARNING:tensorflow:Given targets: Tensor(\"output:0\", shape=(?, 10, 1199), dtype=float32), required signatures: TensorSignature(dtype=tf.float32, shape=TensorShape([Dimension(None), Dimension(10), Dimension(1199)]), is_sparse=False).\n"
     ]
    },
    {
     "name": "stdout",
     "output_type": "stream",
     "text": [
      "\n",
      "\n",
      "\n",
      " before: 이누이 히 나코 <UNK> <UNK> <UNK> <UNK> <UNK> <UNK> <UNK>. \n",
      " A (pred): 이누이 응 텐데 텐데 텐데 텐데 텐데 텐데 텐데 텐데 텐데,\n",
      " A (gold): 이누이 히 나코\n",
      "\n",
      "\n",
      " before: 나쁘다 맛 <UNK> <UNK> <UNK> <UNK> <UNK> <UNK> <UNK> <UNK>. \n",
      " A (pred): 맛 그때 텐데 텐데 텐데 텐데 텐데 텐데 텐데 텐데 텐데,\n",
      " A (gold): 나쁜 맛 도\n",
      "\n",
      "\n",
      " before: 전 세계 고급 식당 <UNK> <UNK> <UNK> <UNK> <UNK> <UNK>. \n",
      " A (pred): 넌 의 를 를 를 를 를 를 를 를 를,\n",
      " A (gold): 전 세계 의 고급 식당 의 제의 를"
     ]
    },
    {
     "name": "stderr",
     "output_type": "stream",
     "text": [
      "WARNING:tensorflow:Given features: Tensor(\"input:0\", shape=(?, 10), dtype=int64), required signatures: TensorSignature(dtype=tf.int64, shape=TensorShape([Dimension(None), Dimension(10)]), is_sparse=False).\n",
      "WARNING:tensorflow:Given features: Tensor(\"input:0\", shape=(?, 10), dtype=int64), required signatures: TensorSignature(dtype=tf.int64, shape=TensorShape([Dimension(None), Dimension(10)]), is_sparse=False).\n",
      "WARNING:tensorflow:Given targets: Tensor(\"output:0\", shape=(?, 10, 1199), dtype=float32), required signatures: TensorSignature(dtype=tf.float32, shape=TensorShape([Dimension(None), Dimension(10), Dimension(1199)]), is_sparse=False).\n",
      "WARNING:tensorflow:Given targets: Tensor(\"output:0\", shape=(?, 10, 1199), dtype=float32), required signatures: TensorSignature(dtype=tf.float32, shape=TensorShape([Dimension(None), Dimension(10), Dimension(1199)]), is_sparse=False).\n"
     ]
    },
    {
     "name": "stdout",
     "output_type": "stream",
     "text": [
      "\n",
      "\n",
      "\n",
      " before: <UNK> <UNK> 편입 생 <UNK> <UNK> <UNK> <UNK> <UNK> <UNK>. \n",
      " A (pred): <UNK> 시끄러워 시끄러워 시끄러워 시끄러워 시끄러워 시끄러워 시끄러워 시끄러워 시끄러워 시끄러워,\n",
      " A (gold): 바깥 출신 편입 생 따윈\n",
      "\n",
      "\n",
      " before: 응 <UNK> <UNK> <UNK> <UNK> <UNK> <UNK> <UNK> <UNK> <UNK>. \n",
      " A (pred): 응 응 텐데 텐데 텐데 텐데 텐데 텐데 텐데 텐데 텐데,\n",
      " A (gold): 응\n",
      "\n",
      "\n",
      " before: 널 NAME <UNK> 하다 기회 <UNK> <UNK> <UNK> <UNK> <UNK>. \n",
      " A (pred): 하야 헤에 텐데 텐데 텐데 텐데 텐데 텐데 텐데 텐데 텐데,\n",
      " A (gold): 널 NAME 에서 추방 할 기회 가"
     ]
    },
    {
     "name": "stderr",
     "output_type": "stream",
     "text": [
      "WARNING:tensorflow:Given features: Tensor(\"input:0\", shape=(?, 10), dtype=int64), required signatures: TensorSignature(dtype=tf.int64, shape=TensorShape([Dimension(None), Dimension(10)]), is_sparse=False).\n",
      "WARNING:tensorflow:Given features: Tensor(\"input:0\", shape=(?, 10), dtype=int64), required signatures: TensorSignature(dtype=tf.int64, shape=TensorShape([Dimension(None), Dimension(10)]), is_sparse=False).\n",
      "WARNING:tensorflow:Given targets: Tensor(\"output:0\", shape=(?, 10, 1199), dtype=float32), required signatures: TensorSignature(dtype=tf.float32, shape=TensorShape([Dimension(None), Dimension(10), Dimension(1199)]), is_sparse=False).\n",
      "WARNING:tensorflow:Given targets: Tensor(\"output:0\", shape=(?, 10, 1199), dtype=float32), required signatures: TensorSignature(dtype=tf.float32, shape=TensorShape([Dimension(None), Dimension(10), Dimension(1199)]), is_sparse=False).\n"
     ]
    },
    {
     "name": "stdout",
     "output_type": "stream",
     "text": [
      "\n",
      "\n",
      "\n",
      " before: 고기 감칠맛 <UNK> <UNK> 하다 <UNK> <UNK> <UNK> <UNK> <UNK>. \n",
      " A (pred): 고기 게다가 텐데 텐데 텐데 텐데 텐데 텐데 텐데 텐데 텐데,\n",
      " A (gold): 고기 가 감칠맛 덩어리 로 변화하고\n",
      "\n",
      "\n",
      " before: 아니다 정말 <UNK> <UNK> <UNK> <UNK> <UNK> <UNK> <UNK> <UNK>. \n",
      " A (pred): 아 응 텐데 텐데 텐데 텐데 텐데 텐데 텐데 텐데 텐데,\n",
      " A (gold): 아니 정말\n",
      "\n",
      "\n",
      " before: 네 방 주변 <UNK> <UNK> <UNK> <UNK> <UNK> <UNK> <UNK>. \n",
      " A (pred): 네 뭐라고 텐데 텐데 텐데 텐데 텐데 텐데 텐데 텐데 텐데,\n",
      " A (gold): 네 방 주변"
     ]
    },
    {
     "name": "stderr",
     "output_type": "stream",
     "text": [
      "WARNING:tensorflow:Given features: Tensor(\"input:0\", shape=(?, 10), dtype=int64), required signatures: TensorSignature(dtype=tf.int64, shape=TensorShape([Dimension(None), Dimension(10)]), is_sparse=False).\n",
      "WARNING:tensorflow:Given features: Tensor(\"input:0\", shape=(?, 10), dtype=int64), required signatures: TensorSignature(dtype=tf.int64, shape=TensorShape([Dimension(None), Dimension(10)]), is_sparse=False).\n",
      "WARNING:tensorflow:Given targets: Tensor(\"output:0\", shape=(?, 10, 1199), dtype=float32), required signatures: TensorSignature(dtype=tf.float32, shape=TensorShape([Dimension(None), Dimension(10), Dimension(1199)]), is_sparse=False).\n",
      "WARNING:tensorflow:Given targets: Tensor(\"output:0\", shape=(?, 10, 1199), dtype=float32), required signatures: TensorSignature(dtype=tf.float32, shape=TensorShape([Dimension(None), Dimension(10), Dimension(1199)]), is_sparse=False).\n"
     ]
    },
    {
     "name": "stdout",
     "output_type": "stream",
     "text": [
      "\n",
      "\n",
      "\n",
      " before: 네 요리 말 이지 <UNK> <UNK> <UNK> <UNK> <UNK> <UNK>. \n",
      " A (pred): 네 뭐라고 텐데 텐데 텐데 텐데 텐데 텐데 텐데 텐데 텐데,\n",
      " A (gold): 네 요리 도 말 이지\n",
      "\n",
      "\n",
      " before: 그 그렇다 수가 <UNK> <UNK> <UNK> <UNK> <UNK> <UNK> <UNK>. \n",
      " A (pred): 그 응 텐데 텐데 텐데 텐데 텐데 텐데 텐데 텐데 텐데,\n",
      " A (gold): 그 그럴 수가\n",
      "\n",
      "\n",
      " before: 저건 <UNK> <UNK> <UNK> <UNK> <UNK> <UNK> <UNK> <UNK> <UNK>. \n",
      " A (pred): 헤에 헤에 텐데 텐데 텐데 텐데 텐데 텐데 텐데 텐데 텐데,\n",
      " A (gold): 저건 …"
     ]
    },
    {
     "name": "stderr",
     "output_type": "stream",
     "text": [
      "WARNING:tensorflow:Given features: Tensor(\"input:0\", shape=(?, 10), dtype=int64), required signatures: TensorSignature(dtype=tf.int64, shape=TensorShape([Dimension(None), Dimension(10)]), is_sparse=False).\n",
      "WARNING:tensorflow:Given features: Tensor(\"input:0\", shape=(?, 10), dtype=int64), required signatures: TensorSignature(dtype=tf.int64, shape=TensorShape([Dimension(None), Dimension(10)]), is_sparse=False).\n",
      "WARNING:tensorflow:Given targets: Tensor(\"output:0\", shape=(?, 10, 1199), dtype=float32), required signatures: TensorSignature(dtype=tf.float32, shape=TensorShape([Dimension(None), Dimension(10), Dimension(1199)]), is_sparse=False).\n",
      "WARNING:tensorflow:Given targets: Tensor(\"output:0\", shape=(?, 10, 1199), dtype=float32), required signatures: TensorSignature(dtype=tf.float32, shape=TensorShape([Dimension(None), Dimension(10), Dimension(1199)]), is_sparse=False).\n"
     ]
    },
    {
     "name": "stdout",
     "output_type": "stream",
     "text": [
      "\n",
      "\n",
      "\n",
      " before: 엄청나다 <UNK> <UNK> <UNK> <UNK> <UNK> <UNK> <UNK> <UNK> <UNK>. \n",
      " A (pred): <UNK> 글쎄 향해 향해 향해 향해 향해 향해 향해 향해 향해,\n",
      " A (gold): 엄청나다\n",
      "\n",
      "\n",
      " before: <UNK> 싶다 <UNK> <UNK> <UNK> <UNK> <UNK> <UNK> <UNK> <UNK>. \n",
      " A (pred): <UNK> 글쎄 글쎄 글쎄 글쎄 글쎄 글쎄 글쎄 글쎄 글쎄 글쎄,\n",
      " A (gold): 안기 고 싶어\n",
      "\n",
      "\n",
      " before: 우리 <UNK> <UNK> 연구 회 <UNK> <UNK> <UNK> <UNK> <UNK>. \n",
      " A (pred): 그 게다가 텐데 텐데 텐데 텐데 텐데 텐데 텐데 텐데 텐데,\n",
      " A (gold): 우리 창코 나 베 연구 회 는"
     ]
    },
    {
     "name": "stderr",
     "output_type": "stream",
     "text": [
      "WARNING:tensorflow:Given features: Tensor(\"input:0\", shape=(?, 10), dtype=int64), required signatures: TensorSignature(dtype=tf.int64, shape=TensorShape([Dimension(None), Dimension(10)]), is_sparse=False).\n",
      "WARNING:tensorflow:Given features: Tensor(\"input:0\", shape=(?, 10), dtype=int64), required signatures: TensorSignature(dtype=tf.int64, shape=TensorShape([Dimension(None), Dimension(10)]), is_sparse=False).\n",
      "WARNING:tensorflow:Given targets: Tensor(\"output:0\", shape=(?, 10, 1199), dtype=float32), required signatures: TensorSignature(dtype=tf.float32, shape=TensorShape([Dimension(None), Dimension(10), Dimension(1199)]), is_sparse=False).\n",
      "WARNING:tensorflow:Given targets: Tensor(\"output:0\", shape=(?, 10, 1199), dtype=float32), required signatures: TensorSignature(dtype=tf.float32, shape=TensorShape([Dimension(None), Dimension(10), Dimension(1199)]), is_sparse=False).\n"
     ]
    },
    {
     "name": "stdout",
     "output_type": "stream",
     "text": [
      "\n",
      "\n",
      "\n",
      " before: 짜다 걸 알다 <UNK> <UNK> <UNK> <UNK> <UNK> <UNK> <UNK>. \n",
      " A (pred): 짜다 밥연 대단해 대단해 대단해 대단해 대단해 대단해 대단해 대단해 대단해,\n",
      " A (gold): 짜다 는 걸 알 았 어도\n",
      "\n",
      "\n",
      " before: <UNK> <UNK> <UNK> <UNK> <UNK> <UNK> <UNK> <UNK> <UNK> <UNK>. \n",
      " A (pred): <UNK> 글쎄 글쎄 글쎄 글쎄 글쎄 글쎄 글쎄 글쎄 글쎄 글쎄,\n",
      " A (gold): 도련님\n",
      "\n",
      "\n",
      " before: 좋다 <UNK> <UNK> <UNK> <UNK> <UNK> <UNK> <UNK> <UNK> <UNK>. \n",
      " A (pred): 좋 기다리 텐데 텐데 텐데 텐데 텐데 텐데 텐데 텐데 텐데,\n",
      " A (gold): 좋 아"
     ]
    },
    {
     "name": "stderr",
     "output_type": "stream",
     "text": [
      "WARNING:tensorflow:Given features: Tensor(\"input:0\", shape=(?, 10), dtype=int64), required signatures: TensorSignature(dtype=tf.int64, shape=TensorShape([Dimension(None), Dimension(10)]), is_sparse=False).\n",
      "WARNING:tensorflow:Given features: Tensor(\"input:0\", shape=(?, 10), dtype=int64), required signatures: TensorSignature(dtype=tf.int64, shape=TensorShape([Dimension(None), Dimension(10)]), is_sparse=False).\n",
      "WARNING:tensorflow:Given targets: Tensor(\"output:0\", shape=(?, 10, 1199), dtype=float32), required signatures: TensorSignature(dtype=tf.float32, shape=TensorShape([Dimension(None), Dimension(10), Dimension(1199)]), is_sparse=False).\n",
      "WARNING:tensorflow:Given targets: Tensor(\"output:0\", shape=(?, 10, 1199), dtype=float32), required signatures: TensorSignature(dtype=tf.float32, shape=TensorShape([Dimension(None), Dimension(10), Dimension(1199)]), is_sparse=False).\n"
     ]
    },
    {
     "name": "stdout",
     "output_type": "stream",
     "text": [
      "\n",
      "\n",
      "\n",
      " before: 오징어 <UNK> 버터 있다 어떻다 <UNK> <UNK> <UNK> <UNK> <UNK>. \n",
      " A (pred): 내 도망칠 텐데 텐데 텐데 텐데 텐데 텐데 텐데 텐데 텐데,\n",
      " A (gold): 오징어 땅콩 버터 도 있는 데 어때\n",
      "\n",
      "\n",
      " before: 자다 먹다 <UNK> <UNK> <UNK> <UNK> <UNK> <UNK> <UNK> <UNK>. \n",
      " A (pred): 잘 뭐라고 텐데 텐데 텐데 텐데 텐데 텐데 텐데 텐데 텐데,\n",
      " A (gold): 잘 먹겠 습니다\n",
      "\n",
      "\n",
      " before: 맛 <UNK> <UNK> <UNK> <UNK> <UNK> <UNK> <UNK> <UNK> <UNK>. \n",
      " A (pred): 맛 그때 텐데 텐데 텐데 텐데 텐데 텐데 텐데 텐데 텐데,\n",
      " A (gold): 맛"
     ]
    },
    {
     "name": "stderr",
     "output_type": "stream",
     "text": [
      "WARNING:tensorflow:Given features: Tensor(\"input:0\", shape=(?, 10), dtype=int64), required signatures: TensorSignature(dtype=tf.int64, shape=TensorShape([Dimension(None), Dimension(10)]), is_sparse=False).\n",
      "WARNING:tensorflow:Given features: Tensor(\"input:0\", shape=(?, 10), dtype=int64), required signatures: TensorSignature(dtype=tf.int64, shape=TensorShape([Dimension(None), Dimension(10)]), is_sparse=False).\n",
      "WARNING:tensorflow:Given targets: Tensor(\"output:0\", shape=(?, 10, 1199), dtype=float32), required signatures: TensorSignature(dtype=tf.float32, shape=TensorShape([Dimension(None), Dimension(10), Dimension(1199)]), is_sparse=False).\n",
      "WARNING:tensorflow:Given targets: Tensor(\"output:0\", shape=(?, 10, 1199), dtype=float32), required signatures: TensorSignature(dtype=tf.float32, shape=TensorShape([Dimension(None), Dimension(10), Dimension(1199)]), is_sparse=False).\n"
     ]
    },
    {
     "name": "stdout",
     "output_type": "stream",
     "text": [
      "\n",
      "\n",
      "\n",
      " before: <UNK> <UNK> <UNK> <UNK> <UNK> <UNK> <UNK> <UNK> <UNK> <UNK>. \n",
      " A (pred): <UNK> 글쎄 글쎄 글쎄 글쎄 글쎄 글쎄 글쎄 글쎄 글쎄 글쎄,\n",
      " A (gold): 숙박 연수\n",
      "\n",
      "\n",
      " before: 어떻다 돼다 먹다 <UNK> 이 <UNK> <UNK> <UNK> <UNK> <UNK>. \n",
      " A (pred): 네 뭐라고 텐데 텐데 텐데 텐데 텐데 텐데 텐데 텐데 텐데,\n",
      " A (gold): 어떻 게 돼 먹은 부드러움 이 냐\n",
      "\n",
      "\n",
      " before: <UNK> <UNK> 하다 수 있다 <UNK> <UNK> <UNK> <UNK> <UNK>. \n",
      " A (pred): <UNK> 시끄러워 시끄러워 시끄러워 시끄러워 시끄러워 시끄러워 시끄러워 시끄러워 시끄러워 시끄러워,\n",
      " A (gold): 학위 도 이수 할 수 있으 니까"
     ]
    },
    {
     "name": "stderr",
     "output_type": "stream",
     "text": [
      "WARNING:tensorflow:Given features: Tensor(\"input:0\", shape=(?, 10), dtype=int64), required signatures: TensorSignature(dtype=tf.int64, shape=TensorShape([Dimension(None), Dimension(10)]), is_sparse=False).\n",
      "WARNING:tensorflow:Given features: Tensor(\"input:0\", shape=(?, 10), dtype=int64), required signatures: TensorSignature(dtype=tf.int64, shape=TensorShape([Dimension(None), Dimension(10)]), is_sparse=False).\n",
      "WARNING:tensorflow:Given targets: Tensor(\"output:0\", shape=(?, 10, 1199), dtype=float32), required signatures: TensorSignature(dtype=tf.float32, shape=TensorShape([Dimension(None), Dimension(10), Dimension(1199)]), is_sparse=False).\n",
      "WARNING:tensorflow:Given targets: Tensor(\"output:0\", shape=(?, 10, 1199), dtype=float32), required signatures: TensorSignature(dtype=tf.float32, shape=TensorShape([Dimension(None), Dimension(10), Dimension(1199)]), is_sparse=False).\n"
     ]
    },
    {
     "name": "stdout",
     "output_type": "stream",
     "text": [
      "\n",
      "\n",
      "\n",
      " before: <UNK> <UNK> 돼다 <UNK> <UNK> <UNK> <UNK> <UNK> <UNK> <UNK>. \n",
      " A (pred): <UNK> 시끄러워 시끄러워 시끄러워 시끄러워 시끄러워 시끄러워 시끄러워 시끄러워 시끄러워 시끄러워,\n",
      " A (gold): 마침 잘 됐 잖 아\n",
      "\n",
      "\n",
      " before: 그렇다 <UNK> <UNK> <UNK> <UNK> <UNK> <UNK> <UNK> <UNK> <UNK>. \n",
      " A (pred): 그래 응 텐데 텐데 텐데 텐데 텐데 텐데 텐데 텐데 텐데,\n",
      " A (gold): 그래\n",
      "\n",
      "\n",
      " before: 튀김 옷 되다 한 건 <UNK> <UNK> <UNK> <UNK> <UNK>. \n",
      " A (pred): 저 <UNK> <UNK> <UNK> <UNK> <UNK> <UNK> <UNK> <UNK> <UNK> <UNK>,\n",
      " A (gold): 튀김 옷 이 될 만 한 건"
     ]
    },
    {
     "name": "stderr",
     "output_type": "stream",
     "text": [
      "WARNING:tensorflow:Given features: Tensor(\"input:0\", shape=(?, 10), dtype=int64), required signatures: TensorSignature(dtype=tf.int64, shape=TensorShape([Dimension(None), Dimension(10)]), is_sparse=False).\n",
      "WARNING:tensorflow:Given features: Tensor(\"input:0\", shape=(?, 10), dtype=int64), required signatures: TensorSignature(dtype=tf.int64, shape=TensorShape([Dimension(None), Dimension(10)]), is_sparse=False).\n",
      "WARNING:tensorflow:Given targets: Tensor(\"output:0\", shape=(?, 10, 1199), dtype=float32), required signatures: TensorSignature(dtype=tf.float32, shape=TensorShape([Dimension(None), Dimension(10), Dimension(1199)]), is_sparse=False).\n",
      "WARNING:tensorflow:Given targets: Tensor(\"output:0\", shape=(?, 10, 1199), dtype=float32), required signatures: TensorSignature(dtype=tf.float32, shape=TensorShape([Dimension(None), Dimension(10), Dimension(1199)]), is_sparse=False).\n"
     ]
    },
    {
     "name": "stdout",
     "output_type": "stream",
     "text": [
      "\n",
      "\n",
      "\n",
      " before: 미소 있다 아 무것 필요 없다 <UNK> <UNK> <UNK> <UNK>. \n",
      " A (pred): 미소 <UNK> 텐데 텐데 텐데 텐데 텐데 텐데 텐데 텐데 텐데,\n",
      " A (gold): 미소 가 있으 면 아 무것 도 필요 없어\n",
      "\n",
      "\n",
      " before: NAME 리나 <UNK> <UNK> <UNK> <UNK> <UNK> <UNK> <UNK> <UNK>. \n",
      " A (pred): NAME 다음 텐데 텐데 텐데 텐데 텐데 텐데 텐데 텐데 텐데,\n",
      " A (gold): NAME 에 리나 는\n",
      "\n",
      "\n",
      " before: 살리다 <UNK> 스테이크 <UNK> <UNK> <UNK> <UNK> <UNK> <UNK> <UNK>. \n",
      " A (pred): <UNK> 더해서 더해서 더해서 더해서 더해서 더해서 더해서 더해서 더해서 더해서,\n",
      " A (gold): 살리 아 핀 스테이크"
     ]
    },
    {
     "name": "stderr",
     "output_type": "stream",
     "text": [
      "WARNING:tensorflow:Given features: Tensor(\"input:0\", shape=(?, 10), dtype=int64), required signatures: TensorSignature(dtype=tf.int64, shape=TensorShape([Dimension(None), Dimension(10)]), is_sparse=False).\n",
      "WARNING:tensorflow:Given features: Tensor(\"input:0\", shape=(?, 10), dtype=int64), required signatures: TensorSignature(dtype=tf.int64, shape=TensorShape([Dimension(None), Dimension(10)]), is_sparse=False).\n",
      "WARNING:tensorflow:Given targets: Tensor(\"output:0\", shape=(?, 10, 1199), dtype=float32), required signatures: TensorSignature(dtype=tf.float32, shape=TensorShape([Dimension(None), Dimension(10), Dimension(1199)]), is_sparse=False).\n",
      "WARNING:tensorflow:Given targets: Tensor(\"output:0\", shape=(?, 10, 1199), dtype=float32), required signatures: TensorSignature(dtype=tf.float32, shape=TensorShape([Dimension(None), Dimension(10), Dimension(1199)]), is_sparse=False).\n"
     ]
    },
    {
     "name": "stdout",
     "output_type": "stream",
     "text": [
      "\n",
      "\n",
      "\n",
      " before: 되다 <UNK> 메뉴 <UNK> <UNK> <UNK> <UNK> <UNK> <UNK> <UNK>. \n",
      " A (pred): <UNK> 향해 텐데 텐데 텐데 텐데 텐데 텐데 텐데 텐데 텐데,\n",
      " A (gold): 되 도록 별종 메뉴 인가\n",
      "\n",
      "\n",
      " before: 아 그 전 <UNK> <UNK> <UNK> <UNK> <UNK> <UNK> <UNK>. \n",
      " A (pred): 정말 <UNK> 에서도 에서도 에서도 에서도 에서도 에서도 에서도 에서도 에서도,\n",
      " A (gold): 아 그 전 에\n",
      "\n",
      "\n",
      " before: 요리사 <UNK> 중 하나 <UNK> <UNK> <UNK> <UNK> <UNK> <UNK>. \n",
      " A (pred): <UNK> 도망칠 텐데 텐데 텐데 텐데 텐데 텐데 텐데 텐데 텐데,\n",
      " A (gold): 요리사 기량 중 하나 니까"
     ]
    },
    {
     "name": "stderr",
     "output_type": "stream",
     "text": [
      "WARNING:tensorflow:Given features: Tensor(\"input:0\", shape=(?, 10), dtype=int64), required signatures: TensorSignature(dtype=tf.int64, shape=TensorShape([Dimension(None), Dimension(10)]), is_sparse=False).\n",
      "WARNING:tensorflow:Given features: Tensor(\"input:0\", shape=(?, 10), dtype=int64), required signatures: TensorSignature(dtype=tf.int64, shape=TensorShape([Dimension(None), Dimension(10)]), is_sparse=False).\n",
      "WARNING:tensorflow:Given targets: Tensor(\"output:0\", shape=(?, 10, 1199), dtype=float32), required signatures: TensorSignature(dtype=tf.float32, shape=TensorShape([Dimension(None), Dimension(10), Dimension(1199)]), is_sparse=False).\n",
      "WARNING:tensorflow:Given targets: Tensor(\"output:0\", shape=(?, 10, 1199), dtype=float32), required signatures: TensorSignature(dtype=tf.float32, shape=TensorShape([Dimension(None), Dimension(10), Dimension(1199)]), is_sparse=False).\n"
     ]
    },
    {
     "name": "stdout",
     "output_type": "stream",
     "text": [
      "\n",
      "\n",
      "\n",
      " before: <UNK> 두다 <UNK> <UNK> <UNK> <UNK> <UNK> <UNK> <UNK> <UNK>. \n",
      " A (pred): <UNK> 글쎄 글쎄 글쎄 글쎄 글쎄 글쎄 글쎄 글쎄 글쎄 글쎄,\n",
      " A (gold): 사고 가 둔 해 지고\n",
      "\n",
      "\n",
      " before: 필요 없다 <UNK> <UNK> <UNK> <UNK> <UNK> <UNK> <UNK> <UNK>. \n",
      " A (pred): 필요 무지개 텐데 텐데 텐데 텐데 텐데 텐데 텐데 텐데 텐데,\n",
      " A (gold): 필요 없으 니까\n",
      "\n",
      "\n",
      " before: 저런 편입 생 요리 <UNK> <UNK> <UNK> <UNK> <UNK> <UNK>. \n",
      " A (pred): 처음 <UNK> <UNK> <UNK> <UNK> <UNK> <UNK> <UNK> <UNK> <UNK> <UNK>,\n",
      " A (gold): 저런 편입 생 의 요리 가"
     ]
    },
    {
     "name": "stderr",
     "output_type": "stream",
     "text": [
      "WARNING:tensorflow:Given features: Tensor(\"input:0\", shape=(?, 10), dtype=int64), required signatures: TensorSignature(dtype=tf.int64, shape=TensorShape([Dimension(None), Dimension(10)]), is_sparse=False).\n",
      "WARNING:tensorflow:Given features: Tensor(\"input:0\", shape=(?, 10), dtype=int64), required signatures: TensorSignature(dtype=tf.int64, shape=TensorShape([Dimension(None), Dimension(10)]), is_sparse=False).\n",
      "WARNING:tensorflow:Given targets: Tensor(\"output:0\", shape=(?, 10, 1199), dtype=float32), required signatures: TensorSignature(dtype=tf.float32, shape=TensorShape([Dimension(None), Dimension(10), Dimension(1199)]), is_sparse=False).\n",
      "WARNING:tensorflow:Given targets: Tensor(\"output:0\", shape=(?, 10, 1199), dtype=float32), required signatures: TensorSignature(dtype=tf.float32, shape=TensorShape([Dimension(None), Dimension(10), Dimension(1199)]), is_sparse=False).\n"
     ]
    },
    {
     "name": "stdout",
     "output_type": "stream",
     "text": [
      "\n",
      "\n",
      "\n",
      " before: 그 요리사 웃다 않다 <UNK> <UNK> <UNK> <UNK> <UNK> <UNK>. \n",
      " A (pred): 그 게다가 텐데 텐데 텐데 텐데 텐데 텐데 텐데 텐데 텐데,\n",
      " A (gold): 그 요리사 는 웃지 않는 다\n",
      "\n",
      "\n",
      " before: <UNK> <UNK> 나오다 사람 들 뿐 <UNK> <UNK> <UNK> <UNK>. \n",
      " A (pred): <UNK> 시끄러워 시끄러워 시끄러워 시끄러워 시끄러워 시끄러워 시끄러워 시끄러워 시끄러워 시끄러워,\n",
      " A (gold): 매달 잡지 에 나오는 사람 들 뿐 이야\n",
      "\n",
      "\n",
      " before: 다지다 양파 고기 <UNK> <UNK> <UNK> <UNK> <UNK> <UNK> <UNK>. \n",
      " A (pred): <UNK> 향해 텐데 텐데 텐데 텐데 텐데 텐데 텐데 텐데 텐데,\n",
      " A (gold): 다진 양파 로 고기 양면 을"
     ]
    },
    {
     "name": "stderr",
     "output_type": "stream",
     "text": [
      "WARNING:tensorflow:Given features: Tensor(\"input:0\", shape=(?, 10), dtype=int64), required signatures: TensorSignature(dtype=tf.int64, shape=TensorShape([Dimension(None), Dimension(10)]), is_sparse=False).\n",
      "WARNING:tensorflow:Given features: Tensor(\"input:0\", shape=(?, 10), dtype=int64), required signatures: TensorSignature(dtype=tf.int64, shape=TensorShape([Dimension(None), Dimension(10)]), is_sparse=False).\n",
      "WARNING:tensorflow:Given targets: Tensor(\"output:0\", shape=(?, 10, 1199), dtype=float32), required signatures: TensorSignature(dtype=tf.float32, shape=TensorShape([Dimension(None), Dimension(10), Dimension(1199)]), is_sparse=False).\n",
      "WARNING:tensorflow:Given targets: Tensor(\"output:0\", shape=(?, 10, 1199), dtype=float32), required signatures: TensorSignature(dtype=tf.float32, shape=TensorShape([Dimension(None), Dimension(10), Dimension(1199)]), is_sparse=False).\n"
     ]
    },
    {
     "name": "stdout",
     "output_type": "stream",
     "text": [
      "\n",
      "\n",
      "\n",
      " before: <UNK> <UNK> 요리 <UNK> <UNK> 받다 <UNK> <UNK> <UNK> <UNK>. \n",
      " A (pred): <UNK> 시끄러워 시끄러워 시끄러워 시끄러워 시끄러워 시끄러워 시끄러워 시끄러워 시끄러워 시끄러워,\n",
      " A (gold): 매일 가혹 한 요리 시련 을 부과 받고\n",
      "\n",
      "\n",
      " before: <UNK> <UNK> <UNK> 하다 <UNK> <UNK> <UNK> <UNK> <UNK> <UNK>. \n",
      " A (pred): <UNK> 시끄러워 시끄러워 시끄러워 시끄러워 시끄러워 시끄러워 시끄러워 시끄러워 시끄러워 시끄러워,\n",
      " A (gold): 가든 레지던스 를 콘셉트 로 한\n",
      "\n",
      "\n",
      " before: 재료 <UNK> 만족 하다 <UNK> <UNK> <UNK> <UNK> <UNK> <UNK>. \n",
      " A (pred): 내 향해 텐데 텐데 텐데 텐데 텐데 텐데 텐데 텐데 텐데,\n",
      " A (gold): 재료 의 가격 만으로 만족해서 야"
     ]
    },
    {
     "name": "stderr",
     "output_type": "stream",
     "text": [
      "WARNING:tensorflow:Given features: Tensor(\"input:0\", shape=(?, 10), dtype=int64), required signatures: TensorSignature(dtype=tf.int64, shape=TensorShape([Dimension(None), Dimension(10)]), is_sparse=False).\n",
      "WARNING:tensorflow:Given features: Tensor(\"input:0\", shape=(?, 10), dtype=int64), required signatures: TensorSignature(dtype=tf.int64, shape=TensorShape([Dimension(None), Dimension(10)]), is_sparse=False).\n",
      "WARNING:tensorflow:Given targets: Tensor(\"output:0\", shape=(?, 10, 1199), dtype=float32), required signatures: TensorSignature(dtype=tf.float32, shape=TensorShape([Dimension(None), Dimension(10), Dimension(1199)]), is_sparse=False).\n",
      "WARNING:tensorflow:Given targets: Tensor(\"output:0\", shape=(?, 10, 1199), dtype=float32), required signatures: TensorSignature(dtype=tf.float32, shape=TensorShape([Dimension(None), Dimension(10), Dimension(1199)]), is_sparse=False).\n"
     ]
    },
    {
     "name": "stdout",
     "output_type": "stream",
     "text": [
      "\n",
      "\n",
      "\n",
      " before: 더 잃어버리다 않다 <UNK> <UNK> <UNK> <UNK> <UNK> <UNK> <UNK>. \n",
      " A (pred): 더 히라가 텐데 텐데 텐데 텐데 텐데 텐데 텐데 텐데 텐데,\n",
      " A (gold): 더 는 잃어버리 지 않겠 어\n",
      "\n",
      "\n",
      " before: 십걸 제 석 걸다 <UNK> <UNK> <UNK> <UNK> <UNK> <UNK>. \n",
      " A (pred): 제 의 섹시 섹시 섹시 섹시 섹시 섹시 섹시 섹시 섹시,\n",
      " A (gold): 십걸 제 석 을 걸고\n",
      "\n",
      "\n",
      " before: 벌꿀 쓸다 수 있다 걸 알다 <UNK> <UNK> <UNK> <UNK>. \n",
      " A (pred): 내 도망칠 텐데 텐데 텐데 텐데 텐데 텐데 텐데 텐데 텐데,\n",
      " A (gold): 벌꿀 을 쓸 수 있는 걸 알 았 어"
     ]
    },
    {
     "name": "stderr",
     "output_type": "stream",
     "text": [
      "WARNING:tensorflow:Given features: Tensor(\"input:0\", shape=(?, 10), dtype=int64), required signatures: TensorSignature(dtype=tf.int64, shape=TensorShape([Dimension(None), Dimension(10)]), is_sparse=False).\n",
      "WARNING:tensorflow:Given features: Tensor(\"input:0\", shape=(?, 10), dtype=int64), required signatures: TensorSignature(dtype=tf.int64, shape=TensorShape([Dimension(None), Dimension(10)]), is_sparse=False).\n",
      "WARNING:tensorflow:Given targets: Tensor(\"output:0\", shape=(?, 10, 1199), dtype=float32), required signatures: TensorSignature(dtype=tf.float32, shape=TensorShape([Dimension(None), Dimension(10), Dimension(1199)]), is_sparse=False).\n",
      "WARNING:tensorflow:Given targets: Tensor(\"output:0\", shape=(?, 10, 1199), dtype=float32), required signatures: TensorSignature(dtype=tf.float32, shape=TensorShape([Dimension(None), Dimension(10), Dimension(1199)]), is_sparse=False).\n"
     ]
    },
    {
     "name": "stdout",
     "output_type": "stream",
     "text": [
      "\n",
      "\n",
      "\n",
      " before: 손님 원 하다 요리 <UNK> 하다 <UNK> <UNK> <UNK> <UNK>. \n",
      " A (pred): 고기 게다가 텐데 텐데 텐데 텐데 텐데 텐데 텐데 텐데 텐데,\n",
      " A (gold): 손님 이 원하는 요리 를 제공합 니다\n",
      "\n",
      "\n",
      " before: <UNK> <UNK> 이 사람과 하다 <UNK> 되다 <UNK> <UNK> <UNK>. \n",
      " A (pred): <UNK> 시끄러워 시끄러워 시끄러워 시끄러워 시끄러워 시끄러워 시끄러워 시끄러워 시끄러워 시끄러워,\n",
      " A (gold): 하필 이면 이 사람과 한 조가 되 다니 …\n",
      "\n",
      "\n",
      " before: <UNK> 버터 더 맛없다 <UNK> <UNK> <UNK> <UNK> <UNK> <UNK>. \n",
      " A (pred): <UNK> 글쎄 글쎄 글쎄 글쎄 글쎄 글쎄 글쎄 글쎄 글쎄 글쎄,\n",
      " A (gold): 땅콩 버터 가 더 맛없 지"
     ]
    },
    {
     "name": "stderr",
     "output_type": "stream",
     "text": [
      "WARNING:tensorflow:Given features: Tensor(\"input:0\", shape=(?, 10), dtype=int64), required signatures: TensorSignature(dtype=tf.int64, shape=TensorShape([Dimension(None), Dimension(10)]), is_sparse=False).\n",
      "WARNING:tensorflow:Given features: Tensor(\"input:0\", shape=(?, 10), dtype=int64), required signatures: TensorSignature(dtype=tf.int64, shape=TensorShape([Dimension(None), Dimension(10)]), is_sparse=False).\n",
      "WARNING:tensorflow:Given targets: Tensor(\"output:0\", shape=(?, 10, 1199), dtype=float32), required signatures: TensorSignature(dtype=tf.float32, shape=TensorShape([Dimension(None), Dimension(10), Dimension(1199)]), is_sparse=False).\n",
      "WARNING:tensorflow:Given targets: Tensor(\"output:0\", shape=(?, 10, 1199), dtype=float32), required signatures: TensorSignature(dtype=tf.float32, shape=TensorShape([Dimension(None), Dimension(10), Dimension(1199)]), is_sparse=False).\n"
     ]
    },
    {
     "name": "stdout",
     "output_type": "stream",
     "text": [
      "\n",
      "\n",
      "\n",
      " before: <UNK> <UNK> <UNK> 넣다 <UNK> <UNK> <UNK> <UNK> <UNK> <UNK>. \n",
      " A (pred): <UNK> 시끄러워 시끄러워 시끄러워 시끄러워 시끄러워 시끄러워 시끄러워 시끄러워 시끄러워 시끄러워,\n",
      " A (gold): 격자 무늬 칼집 을 넣고\n",
      "\n",
      "\n",
      " before: 에리 아가씨 <UNK> <UNK> <UNK> <UNK> <UNK> <UNK> <UNK> <UNK>. \n",
      " A (pred): 에리 어이 텐데 텐데 텐데 텐데 텐데 텐데 텐데 텐데 텐데,\n",
      " A (gold): 에리 나 아가씨\n",
      "\n",
      "\n"
     ]
    },
    {
     "ename": "KeyboardInterrupt",
     "evalue": "",
     "output_type": "error",
     "traceback": [
      "\u001b[1;31m---------------------------------------------------------------------------\u001b[0m",
      "\u001b[1;31mKeyboardInterrupt\u001b[0m                         Traceback (most recent call last)",
      "\u001b[1;32m<ipython-input-19-1f71f6896396>\u001b[0m in \u001b[0;36m<module>\u001b[1;34m()\u001b[0m\n\u001b[0;32m      1\u001b[0m \u001b[1;32mwhile\u001b[0m \u001b[0mTrue\u001b[0m\u001b[1;33m:\u001b[0m\u001b[1;33m\u001b[0m\u001b[0m\n\u001b[1;32m----> 2\u001b[1;33m     \u001b[0mtranslator\u001b[0m\u001b[1;33m.\u001b[0m\u001b[0mfit\u001b[0m\u001b[1;33m(\u001b[0m\u001b[0mX_train\u001b[0m\u001b[1;33m,\u001b[0m \u001b[0my_train\u001b[0m\u001b[1;33m,\u001b[0m \u001b[0mlogdir\u001b[0m\u001b[1;33m=\u001b[0m\u001b[0mPATH\u001b[0m\u001b[1;33m)\u001b[0m\u001b[1;33m\u001b[0m\u001b[0m\n\u001b[0m\u001b[0;32m      3\u001b[0m     \u001b[0mtranslator\u001b[0m\u001b[1;33m.\u001b[0m\u001b[0msave\u001b[0m\u001b[1;33m(\u001b[0m\u001b[0mPATH\u001b[0m\u001b[1;33m)\u001b[0m\u001b[1;33m\u001b[0m\u001b[0m\n\u001b[0;32m      4\u001b[0m \u001b[1;33m\u001b[0m\u001b[0m\n\u001b[0;32m      5\u001b[0m     \u001b[0mxpred\u001b[0m\u001b[1;33m,\u001b[0m \u001b[0mygold\u001b[0m \u001b[1;33m=\u001b[0m \u001b[1;33m[\u001b[0m\u001b[1;33m]\u001b[0m\u001b[1;33m,\u001b[0m \u001b[1;33m[\u001b[0m\u001b[1;33m]\u001b[0m\u001b[1;33m\u001b[0m\u001b[0m\n",
      "\u001b[1;32m/usr/local/lib/python2.7/dist-packages/tensorflow/contrib/learn/python/learn/estimators/base.pyc\u001b[0m in \u001b[0;36mfit\u001b[1;34m(self, x, y, steps, monitors, logdir)\u001b[0m\n\u001b[0;32m    255\u001b[0m                       \u001b[0mfeed_fn\u001b[0m\u001b[1;33m=\u001b[0m\u001b[0mself\u001b[0m\u001b[1;33m.\u001b[0m\u001b[0m_data_feeder\u001b[0m\u001b[1;33m.\u001b[0m\u001b[0mget_feed_dict_fn\u001b[0m\u001b[1;33m(\u001b[0m\u001b[1;33m)\u001b[0m\u001b[1;33m,\u001b[0m\u001b[1;33m\u001b[0m\u001b[0m\n\u001b[0;32m    256\u001b[0m                       \u001b[0msteps\u001b[0m\u001b[1;33m=\u001b[0m\u001b[0msteps\u001b[0m \u001b[1;32mor\u001b[0m \u001b[0mself\u001b[0m\u001b[1;33m.\u001b[0m\u001b[0msteps\u001b[0m\u001b[1;33m,\u001b[0m\u001b[1;33m\u001b[0m\u001b[0m\n\u001b[1;32m--> 257\u001b[1;33m                       monitors=monitors)\n\u001b[0m\u001b[0;32m    258\u001b[0m     \u001b[1;32mreturn\u001b[0m \u001b[0mself\u001b[0m\u001b[1;33m\u001b[0m\u001b[0m\n\u001b[0;32m    259\u001b[0m \u001b[1;33m\u001b[0m\u001b[0m\n",
      "\u001b[1;32m/usr/local/lib/python2.7/dist-packages/tensorflow/contrib/learn/python/learn/estimators/estimator.pyc\u001b[0m in \u001b[0;36m_train_model\u001b[1;34m(self, input_fn, steps, feed_fn, init_op, init_feed_fn, init_fn, device_fn, monitors, log_every_steps, fail_on_nan_loss, max_steps)\u001b[0m\n\u001b[0;32m    660\u001b[0m       \u001b[0mfeatures\u001b[0m\u001b[1;33m,\u001b[0m \u001b[0mtargets\u001b[0m \u001b[1;33m=\u001b[0m \u001b[0minput_fn\u001b[0m\u001b[1;33m(\u001b[0m\u001b[1;33m)\u001b[0m\u001b[1;33m\u001b[0m\u001b[0m\n\u001b[0;32m    661\u001b[0m       \u001b[0mself\u001b[0m\u001b[1;33m.\u001b[0m\u001b[0m_check_inputs\u001b[0m\u001b[1;33m(\u001b[0m\u001b[0mfeatures\u001b[0m\u001b[1;33m,\u001b[0m \u001b[0mtargets\u001b[0m\u001b[1;33m)\u001b[0m\u001b[1;33m\u001b[0m\u001b[0m\n\u001b[1;32m--> 662\u001b[1;33m       \u001b[0mtrain_op\u001b[0m\u001b[1;33m,\u001b[0m \u001b[0mloss_op\u001b[0m \u001b[1;33m=\u001b[0m \u001b[0mself\u001b[0m\u001b[1;33m.\u001b[0m\u001b[0m_get_train_ops\u001b[0m\u001b[1;33m(\u001b[0m\u001b[0mfeatures\u001b[0m\u001b[1;33m,\u001b[0m \u001b[0mtargets\u001b[0m\u001b[1;33m)\u001b[0m\u001b[1;33m\u001b[0m\u001b[0m\n\u001b[0m\u001b[0;32m    663\u001b[0m \u001b[1;33m\u001b[0m\u001b[0m\n\u001b[0;32m    664\u001b[0m       \u001b[1;31m# Add default monitors.\u001b[0m\u001b[1;33m\u001b[0m\u001b[1;33m\u001b[0m\u001b[0m\n",
      "\u001b[1;32m/usr/local/lib/python2.7/dist-packages/tensorflow/contrib/learn/python/learn/estimators/estimator.pyc\u001b[0m in \u001b[0;36m_get_train_ops\u001b[1;34m(self, features, targets)\u001b[0m\n\u001b[0;32m    961\u001b[0m       \u001b[0mTuple\u001b[0m \u001b[0mof\u001b[0m \u001b[0mtrain\u001b[0m \u001b[1;33m`\u001b[0m\u001b[0mOperation\u001b[0m\u001b[1;33m`\u001b[0m \u001b[1;32mand\u001b[0m \u001b[0mloss\u001b[0m \u001b[1;33m`\u001b[0m\u001b[0mTensor\u001b[0m\u001b[1;33m`\u001b[0m\u001b[1;33m.\u001b[0m\u001b[1;33m\u001b[0m\u001b[0m\n\u001b[0;32m    962\u001b[0m     \"\"\"\n\u001b[1;32m--> 963\u001b[1;33m     \u001b[0m_\u001b[0m\u001b[1;33m,\u001b[0m \u001b[0mloss\u001b[0m\u001b[1;33m,\u001b[0m \u001b[0mtrain_op\u001b[0m \u001b[1;33m=\u001b[0m \u001b[0mself\u001b[0m\u001b[1;33m.\u001b[0m\u001b[0m_call_model_fn\u001b[0m\u001b[1;33m(\u001b[0m\u001b[0mfeatures\u001b[0m\u001b[1;33m,\u001b[0m \u001b[0mtargets\u001b[0m\u001b[1;33m,\u001b[0m \u001b[0mModeKeys\u001b[0m\u001b[1;33m.\u001b[0m\u001b[0mTRAIN\u001b[0m\u001b[1;33m)\u001b[0m\u001b[1;33m\u001b[0m\u001b[0m\n\u001b[0m\u001b[0;32m    964\u001b[0m     \u001b[1;32mreturn\u001b[0m \u001b[0mtrain_op\u001b[0m\u001b[1;33m,\u001b[0m \u001b[0mloss\u001b[0m\u001b[1;33m\u001b[0m\u001b[0m\n\u001b[0;32m    965\u001b[0m \u001b[1;33m\u001b[0m\u001b[0m\n",
      "\u001b[1;32m/usr/local/lib/python2.7/dist-packages/tensorflow/contrib/learn/python/learn/estimators/estimator.pyc\u001b[0m in \u001b[0;36m_call_model_fn\u001b[1;34m(self, features, targets, mode)\u001b[0m\n\u001b[0;32m    944\u001b[0m         \u001b[1;32mreturn\u001b[0m \u001b[0mself\u001b[0m\u001b[1;33m.\u001b[0m\u001b[0m_model_fn\u001b[0m\u001b[1;33m(\u001b[0m\u001b[0mfeatures\u001b[0m\u001b[1;33m,\u001b[0m \u001b[0mtargets\u001b[0m\u001b[1;33m,\u001b[0m \u001b[0mmode\u001b[0m\u001b[1;33m=\u001b[0m\u001b[0mmode\u001b[0m\u001b[1;33m,\u001b[0m \u001b[0mparams\u001b[0m\u001b[1;33m=\u001b[0m\u001b[0mself\u001b[0m\u001b[1;33m.\u001b[0m\u001b[0mparams\u001b[0m\u001b[1;33m)\u001b[0m\u001b[1;33m\u001b[0m\u001b[0m\n\u001b[0;32m    945\u001b[0m       \u001b[1;32melse\u001b[0m\u001b[1;33m:\u001b[0m\u001b[1;33m\u001b[0m\u001b[0m\n\u001b[1;32m--> 946\u001b[1;33m         \u001b[1;32mreturn\u001b[0m \u001b[0mself\u001b[0m\u001b[1;33m.\u001b[0m\u001b[0m_model_fn\u001b[0m\u001b[1;33m(\u001b[0m\u001b[0mfeatures\u001b[0m\u001b[1;33m,\u001b[0m \u001b[0mtargets\u001b[0m\u001b[1;33m,\u001b[0m \u001b[0mmode\u001b[0m\u001b[1;33m=\u001b[0m\u001b[0mmode\u001b[0m\u001b[1;33m)\u001b[0m\u001b[1;33m\u001b[0m\u001b[0m\n\u001b[0m\u001b[0;32m    947\u001b[0m     \u001b[1;32mreturn\u001b[0m \u001b[0mself\u001b[0m\u001b[1;33m.\u001b[0m\u001b[0m_model_fn\u001b[0m\u001b[1;33m(\u001b[0m\u001b[0mfeatures\u001b[0m\u001b[1;33m,\u001b[0m \u001b[0mtargets\u001b[0m\u001b[1;33m)\u001b[0m\u001b[1;33m\u001b[0m\u001b[0m\n\u001b[0;32m    948\u001b[0m \u001b[1;33m\u001b[0m\u001b[0m\n",
      "\u001b[1;32m/usr/local/lib/python2.7/dist-packages/tensorflow/contrib/learn/python/learn/estimators/base.pyc\u001b[0m in \u001b[0;36m_model_fn\u001b[1;34m(features, targets, mode)\u001b[0m\n\u001b[0;32m    505\u001b[0m           \u001b[0mlearning_rate\u001b[0m\u001b[1;33m=\u001b[0m\u001b[0mlearning_rate\u001b[0m\u001b[1;33m,\u001b[0m\u001b[1;33m\u001b[0m\u001b[0m\n\u001b[0;32m    506\u001b[0m           \u001b[0moptimizer\u001b[0m\u001b[1;33m=\u001b[0m\u001b[0moptimizer\u001b[0m\u001b[1;33m,\u001b[0m\u001b[1;33m\u001b[0m\u001b[0m\n\u001b[1;32m--> 507\u001b[1;33m           clip_gradients=self.clip_gradients)\n\u001b[0m\u001b[0;32m    508\u001b[0m       \u001b[1;32mreturn\u001b[0m \u001b[0mpredictions\u001b[0m\u001b[1;33m,\u001b[0m \u001b[0mloss\u001b[0m\u001b[1;33m,\u001b[0m \u001b[0mtrain_op\u001b[0m\u001b[1;33m\u001b[0m\u001b[0m\n\u001b[0;32m    509\u001b[0m     \u001b[1;32mreturn\u001b[0m \u001b[0m_model_fn\u001b[0m\u001b[1;33m\u001b[0m\u001b[0m\n",
      "\u001b[1;32m/usr/local/lib/python2.7/dist-packages/tensorflow/contrib/layers/python/layers/optimizers.pyc\u001b[0m in \u001b[0;36moptimize_loss\u001b[1;34m(loss, global_step, learning_rate, optimizer, gradient_noise_scale, gradient_multipliers, clip_gradients, learning_rate_decay_fn, update_ops, variables, name, summaries)\u001b[0m\n\u001b[0;32m    185\u001b[0m \u001b[1;33m\u001b[0m\u001b[0m\n\u001b[0;32m    186\u001b[0m     \u001b[1;31m# Compute gradients.\u001b[0m\u001b[1;33m\u001b[0m\u001b[1;33m\u001b[0m\u001b[0m\n\u001b[1;32m--> 187\u001b[1;33m     \u001b[0mgradients\u001b[0m \u001b[1;33m=\u001b[0m \u001b[0mopt\u001b[0m\u001b[1;33m.\u001b[0m\u001b[0mcompute_gradients\u001b[0m\u001b[1;33m(\u001b[0m\u001b[0mloss\u001b[0m\u001b[1;33m,\u001b[0m \u001b[0mvariables\u001b[0m\u001b[1;33m)\u001b[0m\u001b[1;33m\u001b[0m\u001b[0m\n\u001b[0m\u001b[0;32m    188\u001b[0m \u001b[1;33m\u001b[0m\u001b[0m\n\u001b[0;32m    189\u001b[0m     \u001b[1;31m# Optionally add gradient noise.\u001b[0m\u001b[1;33m\u001b[0m\u001b[1;33m\u001b[0m\u001b[0m\n",
      "\u001b[1;32m/usr/local/lib/python2.7/dist-packages/tensorflow/python/training/optimizer.pyc\u001b[0m in \u001b[0;36mcompute_gradients\u001b[1;34m(self, loss, var_list, gate_gradients, aggregation_method, colocate_gradients_with_ops, grad_loss)\u001b[0m\n\u001b[0;32m    251\u001b[0m         \u001b[0mgate_gradients\u001b[0m\u001b[1;33m=\u001b[0m\u001b[1;33m(\u001b[0m\u001b[0mgate_gradients\u001b[0m \u001b[1;33m==\u001b[0m \u001b[0mOptimizer\u001b[0m\u001b[1;33m.\u001b[0m\u001b[0mGATE_OP\u001b[0m\u001b[1;33m)\u001b[0m\u001b[1;33m,\u001b[0m\u001b[1;33m\u001b[0m\u001b[0m\n\u001b[0;32m    252\u001b[0m         \u001b[0maggregation_method\u001b[0m\u001b[1;33m=\u001b[0m\u001b[0maggregation_method\u001b[0m\u001b[1;33m,\u001b[0m\u001b[1;33m\u001b[0m\u001b[0m\n\u001b[1;32m--> 253\u001b[1;33m         colocate_gradients_with_ops=colocate_gradients_with_ops)\n\u001b[0m\u001b[0;32m    254\u001b[0m     \u001b[1;32mif\u001b[0m \u001b[0mgate_gradients\u001b[0m \u001b[1;33m==\u001b[0m \u001b[0mOptimizer\u001b[0m\u001b[1;33m.\u001b[0m\u001b[0mGATE_GRAPH\u001b[0m\u001b[1;33m:\u001b[0m\u001b[1;33m\u001b[0m\u001b[0m\n\u001b[0;32m    255\u001b[0m       \u001b[0mgrads\u001b[0m \u001b[1;33m=\u001b[0m \u001b[0mcontrol_flow_ops\u001b[0m\u001b[1;33m.\u001b[0m\u001b[0mtuple\u001b[0m\u001b[1;33m(\u001b[0m\u001b[0mgrads\u001b[0m\u001b[1;33m)\u001b[0m\u001b[1;33m\u001b[0m\u001b[0m\n",
      "\u001b[1;32m/usr/local/lib/python2.7/dist-packages/tensorflow/python/ops/gradients.pyc\u001b[0m in \u001b[0;36mgradients\u001b[1;34m(ys, xs, grad_ys, name, colocate_gradients_with_ops, gate_gradients, aggregation_method)\u001b[0m\n\u001b[0;32m    480\u001b[0m               if gate_gradients and len(\n\u001b[0;32m    481\u001b[0m                   [x for x in in_grads if x is not None]) > 1:\n\u001b[1;32m--> 482\u001b[1;33m                 \u001b[0min_grads\u001b[0m \u001b[1;33m=\u001b[0m \u001b[0mcontrol_flow_ops\u001b[0m\u001b[1;33m.\u001b[0m\u001b[0mtuple\u001b[0m\u001b[1;33m(\u001b[0m\u001b[0min_grads\u001b[0m\u001b[1;33m)\u001b[0m\u001b[1;33m\u001b[0m\u001b[0m\n\u001b[0m\u001b[0;32m    483\u001b[0m           \u001b[0m_LogOpGradients\u001b[0m\u001b[1;33m(\u001b[0m\u001b[0mop\u001b[0m\u001b[1;33m,\u001b[0m \u001b[0mout_grads\u001b[0m\u001b[1;33m,\u001b[0m \u001b[0min_grads\u001b[0m\u001b[1;33m)\u001b[0m\u001b[1;33m\u001b[0m\u001b[0m\n\u001b[0;32m    484\u001b[0m         \u001b[1;32melse\u001b[0m\u001b[1;33m:\u001b[0m\u001b[1;33m\u001b[0m\u001b[0m\n",
      "\u001b[1;32m/usr/local/lib/python2.7/dist-packages/tensorflow/python/ops/control_flow_ops.pyc\u001b[0m in \u001b[0;36mtuple\u001b[1;34m(tensors, name, control_inputs)\u001b[0m\n\u001b[0;32m   2708\u001b[0m     \u001b[1;32mfor\u001b[0m \u001b[0mt\u001b[0m \u001b[1;32min\u001b[0m \u001b[0mtensors\u001b[0m\u001b[1;33m:\u001b[0m\u001b[1;33m\u001b[0m\u001b[0m\n\u001b[0;32m   2709\u001b[0m       \u001b[1;32mif\u001b[0m \u001b[0mt\u001b[0m \u001b[1;32mis\u001b[0m \u001b[1;32mnot\u001b[0m \u001b[0mNone\u001b[0m\u001b[1;33m:\u001b[0m\u001b[1;33m\u001b[0m\u001b[0m\n\u001b[1;32m-> 2710\u001b[1;33m         \u001b[0mtpl\u001b[0m\u001b[1;33m.\u001b[0m\u001b[0mappend\u001b[0m\u001b[1;33m(\u001b[0m\u001b[0mwith_dependencies\u001b[0m\u001b[1;33m(\u001b[0m\u001b[1;33m[\u001b[0m\u001b[0mgate\u001b[0m\u001b[1;33m]\u001b[0m\u001b[1;33m,\u001b[0m \u001b[0mt\u001b[0m\u001b[1;33m)\u001b[0m\u001b[1;33m)\u001b[0m\u001b[1;33m\u001b[0m\u001b[0m\n\u001b[0m\u001b[0;32m   2711\u001b[0m       \u001b[1;32melse\u001b[0m\u001b[1;33m:\u001b[0m\u001b[1;33m\u001b[0m\u001b[0m\n\u001b[0;32m   2712\u001b[0m         \u001b[0mtpl\u001b[0m\u001b[1;33m.\u001b[0m\u001b[0mappend\u001b[0m\u001b[1;33m(\u001b[0m\u001b[0mNone\u001b[0m\u001b[1;33m)\u001b[0m\u001b[1;33m\u001b[0m\u001b[0m\n",
      "\u001b[1;32m/usr/local/lib/python2.7/dist-packages/tensorflow/python/ops/control_flow_ops.pyc\u001b[0m in \u001b[0;36mwith_dependencies\u001b[1;34m(dependencies, output_tensor, name)\u001b[0m\n\u001b[0;32m   2588\u001b[0m         \u001b[0moutput_tensor\u001b[0m \u001b[1;33m=\u001b[0m \u001b[0mops\u001b[0m\u001b[1;33m.\u001b[0m\u001b[0mconvert_to_tensor_or_indexed_slices\u001b[0m\u001b[1;33m(\u001b[0m\u001b[0moutput_tensor\u001b[0m\u001b[1;33m)\u001b[0m\u001b[1;33m\u001b[0m\u001b[0m\n\u001b[0;32m   2589\u001b[0m         \u001b[1;32mif\u001b[0m \u001b[0misinstance\u001b[0m\u001b[1;33m(\u001b[0m\u001b[0moutput_tensor\u001b[0m\u001b[1;33m,\u001b[0m \u001b[0mops\u001b[0m\u001b[1;33m.\u001b[0m\u001b[0mTensor\u001b[0m\u001b[1;33m)\u001b[0m\u001b[1;33m:\u001b[0m\u001b[1;33m\u001b[0m\u001b[0m\n\u001b[1;32m-> 2590\u001b[1;33m           \u001b[1;32mreturn\u001b[0m \u001b[0m_Identity\u001b[0m\u001b[1;33m(\u001b[0m\u001b[0moutput_tensor\u001b[0m\u001b[1;33m,\u001b[0m \u001b[0mname\u001b[0m\u001b[1;33m=\u001b[0m\u001b[0mname\u001b[0m\u001b[1;33m)\u001b[0m\u001b[1;33m\u001b[0m\u001b[0m\n\u001b[0m\u001b[0;32m   2591\u001b[0m         \u001b[1;32melse\u001b[0m\u001b[1;33m:\u001b[0m\u001b[1;33m\u001b[0m\u001b[0m\n\u001b[0;32m   2592\u001b[0m           return ops.IndexedSlices(_Identity(output_tensor.values, name=name),\n",
      "\u001b[1;32m/usr/local/lib/python2.7/dist-packages/tensorflow/python/ops/control_flow_ops.pyc\u001b[0m in \u001b[0;36m_Identity\u001b[1;34m(data, name)\u001b[0m\n\u001b[0;32m    157\u001b[0m       \u001b[1;32mreturn\u001b[0m \u001b[0mgen_array_ops\u001b[0m\u001b[1;33m.\u001b[0m\u001b[0m_ref_identity\u001b[0m\u001b[1;33m(\u001b[0m\u001b[0mdata\u001b[0m\u001b[1;33m,\u001b[0m \u001b[0mname\u001b[0m\u001b[1;33m=\u001b[0m\u001b[0mname\u001b[0m\u001b[1;33m)\u001b[0m\u001b[1;33m\u001b[0m\u001b[0m\n\u001b[0;32m    158\u001b[0m     \u001b[1;32melse\u001b[0m\u001b[1;33m:\u001b[0m\u001b[1;33m\u001b[0m\u001b[0m\n\u001b[1;32m--> 159\u001b[1;33m       \u001b[1;32mreturn\u001b[0m \u001b[0marray_ops\u001b[0m\u001b[1;33m.\u001b[0m\u001b[0midentity\u001b[0m\u001b[1;33m(\u001b[0m\u001b[0mdata\u001b[0m\u001b[1;33m,\u001b[0m \u001b[0mname\u001b[0m\u001b[1;33m=\u001b[0m\u001b[0mname\u001b[0m\u001b[1;33m)\u001b[0m\u001b[1;33m\u001b[0m\u001b[0m\n\u001b[0m\u001b[0;32m    160\u001b[0m   \u001b[1;32melse\u001b[0m\u001b[1;33m:\u001b[0m\u001b[1;33m\u001b[0m\u001b[0m\n\u001b[0;32m    161\u001b[0m     \u001b[1;32mif\u001b[0m \u001b[1;32mnot\u001b[0m \u001b[0misinstance\u001b[0m\u001b[1;33m(\u001b[0m\u001b[0mdata\u001b[0m\u001b[1;33m,\u001b[0m \u001b[1;33m(\u001b[0m\u001b[0mops\u001b[0m\u001b[1;33m.\u001b[0m\u001b[0mIndexedSlices\u001b[0m\u001b[1;33m,\u001b[0m \u001b[0mops\u001b[0m\u001b[1;33m.\u001b[0m\u001b[0mSparseTensor\u001b[0m\u001b[1;33m)\u001b[0m\u001b[1;33m)\u001b[0m\u001b[1;33m:\u001b[0m\u001b[1;33m\u001b[0m\u001b[0m\n",
      "\u001b[1;32m/usr/local/lib/python2.7/dist-packages/tensorflow/python/ops/gen_array_ops.pyc\u001b[0m in \u001b[0;36midentity\u001b[1;34m(input, name)\u001b[0m\n\u001b[0;32m   1126\u001b[0m     \u001b[0mA\u001b[0m \u001b[1;33m`\u001b[0m\u001b[0mTensor\u001b[0m\u001b[1;33m`\u001b[0m\u001b[1;33m.\u001b[0m \u001b[0mHas\u001b[0m \u001b[0mthe\u001b[0m \u001b[0msame\u001b[0m \u001b[0mtype\u001b[0m \u001b[1;32mas\u001b[0m \u001b[1;33m`\u001b[0m\u001b[0minput\u001b[0m\u001b[1;33m`\u001b[0m\u001b[1;33m.\u001b[0m\u001b[1;33m\u001b[0m\u001b[0m\n\u001b[0;32m   1127\u001b[0m   \"\"\"\n\u001b[1;32m-> 1128\u001b[1;33m   \u001b[0mresult\u001b[0m \u001b[1;33m=\u001b[0m \u001b[0m_op_def_lib\u001b[0m\u001b[1;33m.\u001b[0m\u001b[0mapply_op\u001b[0m\u001b[1;33m(\u001b[0m\u001b[1;34m\"Identity\"\u001b[0m\u001b[1;33m,\u001b[0m \u001b[0minput\u001b[0m\u001b[1;33m=\u001b[0m\u001b[0minput\u001b[0m\u001b[1;33m,\u001b[0m \u001b[0mname\u001b[0m\u001b[1;33m=\u001b[0m\u001b[0mname\u001b[0m\u001b[1;33m)\u001b[0m\u001b[1;33m\u001b[0m\u001b[0m\n\u001b[0m\u001b[0;32m   1129\u001b[0m   \u001b[1;32mreturn\u001b[0m \u001b[0mresult\u001b[0m\u001b[1;33m\u001b[0m\u001b[0m\n\u001b[0;32m   1130\u001b[0m \u001b[1;33m\u001b[0m\u001b[0m\n",
      "\u001b[1;32m/usr/local/lib/python2.7/dist-packages/tensorflow/python/framework/op_def_library.pyc\u001b[0m in \u001b[0;36mapply_op\u001b[1;34m(self, op_type_name, name, **keywords)\u001b[0m\n\u001b[0;32m    747\u001b[0m           op = g.create_op(op_type_name, inputs, output_types, name=scope,\n\u001b[0;32m    748\u001b[0m                            \u001b[0minput_types\u001b[0m\u001b[1;33m=\u001b[0m\u001b[0minput_types\u001b[0m\u001b[1;33m,\u001b[0m \u001b[0mattrs\u001b[0m\u001b[1;33m=\u001b[0m\u001b[0mattr_protos\u001b[0m\u001b[1;33m,\u001b[0m\u001b[1;33m\u001b[0m\u001b[0m\n\u001b[1;32m--> 749\u001b[1;33m                            op_def=op_def)\n\u001b[0m\u001b[0;32m    750\u001b[0m           \u001b[0moutputs\u001b[0m \u001b[1;33m=\u001b[0m \u001b[0mop\u001b[0m\u001b[1;33m.\u001b[0m\u001b[0moutputs\u001b[0m\u001b[1;33m\u001b[0m\u001b[0m\n\u001b[0;32m    751\u001b[0m           return _Restructure(ops.convert_n_to_tensor(outputs),\n",
      "\u001b[1;32m/usr/local/lib/python2.7/dist-packages/tensorflow/python/framework/ops.pyc\u001b[0m in \u001b[0;36mcreate_op\u001b[1;34m(self, op_type, inputs, dtypes, input_types, name, attrs, op_def, compute_shapes, compute_device)\u001b[0m\n\u001b[0;32m   2380\u001b[0m                     original_op=self._default_original_op, op_def=op_def)\n\u001b[0;32m   2381\u001b[0m     \u001b[1;32mif\u001b[0m \u001b[0mcompute_shapes\u001b[0m\u001b[1;33m:\u001b[0m\u001b[1;33m\u001b[0m\u001b[0m\n\u001b[1;32m-> 2382\u001b[1;33m       \u001b[0mset_shapes_for_outputs\u001b[0m\u001b[1;33m(\u001b[0m\u001b[0mret\u001b[0m\u001b[1;33m)\u001b[0m\u001b[1;33m\u001b[0m\u001b[0m\n\u001b[0m\u001b[0;32m   2383\u001b[0m     \u001b[0mself\u001b[0m\u001b[1;33m.\u001b[0m\u001b[0m_add_op\u001b[0m\u001b[1;33m(\u001b[0m\u001b[0mret\u001b[0m\u001b[1;33m)\u001b[0m\u001b[1;33m\u001b[0m\u001b[0m\n\u001b[0;32m   2384\u001b[0m     \u001b[0mself\u001b[0m\u001b[1;33m.\u001b[0m\u001b[0m_record_op_seen_by_control_dependencies\u001b[0m\u001b[1;33m(\u001b[0m\u001b[0mret\u001b[0m\u001b[1;33m)\u001b[0m\u001b[1;33m\u001b[0m\u001b[0m\n",
      "\u001b[1;32m/usr/local/lib/python2.7/dist-packages/tensorflow/python/framework/ops.pyc\u001b[0m in \u001b[0;36mset_shapes_for_outputs\u001b[1;34m(op)\u001b[0m\n\u001b[0;32m   1781\u001b[0m       raise RuntimeError(\"No shape function registered for standard op: %s\"\n\u001b[0;32m   1782\u001b[0m                          % op.type)\n\u001b[1;32m-> 1783\u001b[1;33m   \u001b[0mshapes\u001b[0m \u001b[1;33m=\u001b[0m \u001b[0mshape_func\u001b[0m\u001b[1;33m(\u001b[0m\u001b[0mop\u001b[0m\u001b[1;33m)\u001b[0m\u001b[1;33m\u001b[0m\u001b[0m\n\u001b[0m\u001b[0;32m   1784\u001b[0m   \u001b[1;32mif\u001b[0m \u001b[0mshapes\u001b[0m \u001b[1;32mis\u001b[0m \u001b[0mNone\u001b[0m\u001b[1;33m:\u001b[0m\u001b[1;33m\u001b[0m\u001b[0m\n\u001b[0;32m   1785\u001b[0m     raise RuntimeError(\n",
      "\u001b[1;32m/usr/local/lib/python2.7/dist-packages/tensorflow/python/framework/common_shapes.pyc\u001b[0m in \u001b[0;36mcall_cpp_shape_fn\u001b[1;34m(op, input_tensors_needed, debug_python_shape_fn)\u001b[0m\n\u001b[0;32m    576\u001b[0m     according to the shape function).\n\u001b[0;32m    577\u001b[0m   \"\"\"\n\u001b[1;32m--> 578\u001b[1;33m   \u001b[0mnode_def_str\u001b[0m \u001b[1;33m=\u001b[0m \u001b[0mop\u001b[0m\u001b[1;33m.\u001b[0m\u001b[0mnode_def\u001b[0m\u001b[1;33m.\u001b[0m\u001b[0mSerializeToString\u001b[0m\u001b[1;33m(\u001b[0m\u001b[1;33m)\u001b[0m\u001b[1;33m\u001b[0m\u001b[0m\n\u001b[0m\u001b[0;32m    579\u001b[0m   input_shapes = [i.get_shape().as_proto().SerializeToString() for i in\n\u001b[0;32m    580\u001b[0m                   op.inputs]\n",
      "\u001b[1;32m/usr/local/lib/python2.7/dist-packages/google/protobuf/internal/python_message.pyc\u001b[0m in \u001b[0;36mSerializeToString\u001b[1;34m(self)\u001b[0m\n\u001b[0;32m   1053\u001b[0m           'Message %s is missing required fields: %s' % (\n\u001b[0;32m   1054\u001b[0m           self.DESCRIPTOR.full_name, ','.join(self.FindInitializationErrors())))\n\u001b[1;32m-> 1055\u001b[1;33m     \u001b[1;32mreturn\u001b[0m \u001b[0mself\u001b[0m\u001b[1;33m.\u001b[0m\u001b[0mSerializePartialToString\u001b[0m\u001b[1;33m(\u001b[0m\u001b[1;33m)\u001b[0m\u001b[1;33m\u001b[0m\u001b[0m\n\u001b[0m\u001b[0;32m   1056\u001b[0m   \u001b[0mcls\u001b[0m\u001b[1;33m.\u001b[0m\u001b[0mSerializeToString\u001b[0m \u001b[1;33m=\u001b[0m \u001b[0mSerializeToString\u001b[0m\u001b[1;33m\u001b[0m\u001b[0m\n\u001b[0;32m   1057\u001b[0m \u001b[1;33m\u001b[0m\u001b[0m\n",
      "\u001b[1;32m/usr/local/lib/python2.7/dist-packages/google/protobuf/internal/python_message.pyc\u001b[0m in \u001b[0;36mSerializePartialToString\u001b[1;34m(self)\u001b[0m\n\u001b[0;32m   1062\u001b[0m   \u001b[1;32mdef\u001b[0m \u001b[0mSerializePartialToString\u001b[0m\u001b[1;33m(\u001b[0m\u001b[0mself\u001b[0m\u001b[1;33m)\u001b[0m\u001b[1;33m:\u001b[0m\u001b[1;33m\u001b[0m\u001b[0m\n\u001b[0;32m   1063\u001b[0m     \u001b[0mout\u001b[0m \u001b[1;33m=\u001b[0m \u001b[0mBytesIO\u001b[0m\u001b[1;33m(\u001b[0m\u001b[1;33m)\u001b[0m\u001b[1;33m\u001b[0m\u001b[0m\n\u001b[1;32m-> 1064\u001b[1;33m     \u001b[0mself\u001b[0m\u001b[1;33m.\u001b[0m\u001b[0m_InternalSerialize\u001b[0m\u001b[1;33m(\u001b[0m\u001b[0mout\u001b[0m\u001b[1;33m.\u001b[0m\u001b[0mwrite\u001b[0m\u001b[1;33m)\u001b[0m\u001b[1;33m\u001b[0m\u001b[0m\n\u001b[0m\u001b[0;32m   1065\u001b[0m     \u001b[1;32mreturn\u001b[0m \u001b[0mout\u001b[0m\u001b[1;33m.\u001b[0m\u001b[0mgetvalue\u001b[0m\u001b[1;33m(\u001b[0m\u001b[1;33m)\u001b[0m\u001b[1;33m\u001b[0m\u001b[0m\n\u001b[0;32m   1066\u001b[0m   \u001b[0mcls\u001b[0m\u001b[1;33m.\u001b[0m\u001b[0mSerializePartialToString\u001b[0m \u001b[1;33m=\u001b[0m \u001b[0mSerializePartialToString\u001b[0m\u001b[1;33m\u001b[0m\u001b[0m\n",
      "\u001b[1;32m/usr/local/lib/python2.7/dist-packages/google/protobuf/internal/python_message.pyc\u001b[0m in \u001b[0;36mInternalSerialize\u001b[1;34m(self, write_bytes)\u001b[0m\n\u001b[0;32m   1068\u001b[0m   \u001b[1;32mdef\u001b[0m \u001b[0mInternalSerialize\u001b[0m\u001b[1;33m(\u001b[0m\u001b[0mself\u001b[0m\u001b[1;33m,\u001b[0m \u001b[0mwrite_bytes\u001b[0m\u001b[1;33m)\u001b[0m\u001b[1;33m:\u001b[0m\u001b[1;33m\u001b[0m\u001b[0m\n\u001b[0;32m   1069\u001b[0m     \u001b[1;32mfor\u001b[0m \u001b[0mfield_descriptor\u001b[0m\u001b[1;33m,\u001b[0m \u001b[0mfield_value\u001b[0m \u001b[1;32min\u001b[0m \u001b[0mself\u001b[0m\u001b[1;33m.\u001b[0m\u001b[0mListFields\u001b[0m\u001b[1;33m(\u001b[0m\u001b[1;33m)\u001b[0m\u001b[1;33m:\u001b[0m\u001b[1;33m\u001b[0m\u001b[0m\n\u001b[1;32m-> 1070\u001b[1;33m       \u001b[0mfield_descriptor\u001b[0m\u001b[1;33m.\u001b[0m\u001b[0m_encoder\u001b[0m\u001b[1;33m(\u001b[0m\u001b[0mwrite_bytes\u001b[0m\u001b[1;33m,\u001b[0m \u001b[0mfield_value\u001b[0m\u001b[1;33m)\u001b[0m\u001b[1;33m\u001b[0m\u001b[0m\n\u001b[0m\u001b[0;32m   1071\u001b[0m     \u001b[1;32mfor\u001b[0m \u001b[0mtag_bytes\u001b[0m\u001b[1;33m,\u001b[0m \u001b[0mvalue_bytes\u001b[0m \u001b[1;32min\u001b[0m \u001b[0mself\u001b[0m\u001b[1;33m.\u001b[0m\u001b[0m_unknown_fields\u001b[0m\u001b[1;33m:\u001b[0m\u001b[1;33m\u001b[0m\u001b[0m\n\u001b[0;32m   1072\u001b[0m       \u001b[0mwrite_bytes\u001b[0m\u001b[1;33m(\u001b[0m\u001b[0mtag_bytes\u001b[0m\u001b[1;33m)\u001b[0m\u001b[1;33m\u001b[0m\u001b[0m\n",
      "\u001b[1;32m/usr/local/lib/python2.7/dist-packages/google/protobuf/internal/encoder.pyc\u001b[0m in \u001b[0;36mEncodeRepeatedField\u001b[1;34m(write, value)\u001b[0m\n\u001b[0;32m    687\u001b[0m     \u001b[1;32mdef\u001b[0m \u001b[0mEncodeRepeatedField\u001b[0m\u001b[1;33m(\u001b[0m\u001b[0mwrite\u001b[0m\u001b[1;33m,\u001b[0m \u001b[0mvalue\u001b[0m\u001b[1;33m)\u001b[0m\u001b[1;33m:\u001b[0m\u001b[1;33m\u001b[0m\u001b[0m\n\u001b[0;32m    688\u001b[0m       \u001b[1;32mfor\u001b[0m \u001b[0melement\u001b[0m \u001b[1;32min\u001b[0m \u001b[0mvalue\u001b[0m\u001b[1;33m:\u001b[0m\u001b[1;33m\u001b[0m\u001b[0m\n\u001b[1;32m--> 689\u001b[1;33m         \u001b[0mencoded\u001b[0m \u001b[1;33m=\u001b[0m \u001b[0melement\u001b[0m\u001b[1;33m.\u001b[0m\u001b[0mencode\u001b[0m\u001b[1;33m(\u001b[0m\u001b[1;34m'utf-8'\u001b[0m\u001b[1;33m)\u001b[0m\u001b[1;33m\u001b[0m\u001b[0m\n\u001b[0m\u001b[0;32m    690\u001b[0m         \u001b[0mwrite\u001b[0m\u001b[1;33m(\u001b[0m\u001b[0mtag\u001b[0m\u001b[1;33m)\u001b[0m\u001b[1;33m\u001b[0m\u001b[0m\n\u001b[0;32m    691\u001b[0m         \u001b[0mlocal_EncodeVarint\u001b[0m\u001b[1;33m(\u001b[0m\u001b[0mwrite\u001b[0m\u001b[1;33m,\u001b[0m \u001b[0mlocal_len\u001b[0m\u001b[1;33m(\u001b[0m\u001b[0mencoded\u001b[0m\u001b[1;33m)\u001b[0m\u001b[1;33m)\u001b[0m\u001b[1;33m\u001b[0m\u001b[0m\n",
      "\u001b[1;31mKeyboardInterrupt\u001b[0m: "
     ]
    }
   ],
   "source": [
    "while True:\n",
    "    translator.fit(X_train, y_train, logdir=PATH)\n",
    "    translator.save(PATH)\n",
    "\n",
    "    xpred, ygold = [], []\n",
    "    for _ in range(3):\n",
    "        idx = random.randint(0, len(X_test) - 1)\n",
    "        xpred.append(X_test[idx])\n",
    "        ygold.append(y_test[idx])\n",
    "    xpred = np.array(xpred)\n",
    "    predictions = translator.predict(xpred, axis=2)\n",
    "    xpred_inp = X_vocab_processor.reverse(xpred)\n",
    "    text_outputs = y_vocab_processor.reverse(predictions)\n",
    "    for inp_data, input_text, pred, output_text, gold in zip(xpred, xpred_inp,\n",
    "          predictions, text_outputs, ygold):\n",
    "        print(' before: %s. \\n A (pred): %s,\\n A (gold): %s' %\n",
    "            (input_text, output_text, gold))\n",
    "        print('\\n')\n",
    "        #print(inp_data, pred)"
   ]
  },
  {
   "cell_type": "code",
   "execution_count": null,
   "metadata": {
    "collapsed": true
   },
   "outputs": [],
   "source": []
  }
 ],
 "metadata": {
  "kernelspec": {
   "display_name": "Python 2",
   "language": "python",
   "name": "python2"
  },
  "language_info": {
   "codemirror_mode": {
    "name": "ipython",
    "version": 2
   },
   "file_extension": ".py",
   "mimetype": "text/x-python",
   "name": "python",
   "nbconvert_exporter": "python",
   "pygments_lexer": "ipython2",
   "version": "2.7.6"
  }
 },
 "nbformat": 4,
 "nbformat_minor": 0
}
