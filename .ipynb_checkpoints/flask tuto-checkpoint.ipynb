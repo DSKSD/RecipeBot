{
 "cells": [
  {
   "cell_type": "markdown",
   "metadata": {},
   "source": [
    "# Flask : Quick Start "
   ]
  },
  {
   "cell_type": "markdown",
   "metadata": {},
   "source": [
    "플라스크는 장고가 너무 복잡하고 무겁다고 생각하는 사람들을 위한 가벼운 웹 프레임워크이다. 대부분의 딥러닝 코드는 파이썬에 의해 작성되고 있고(원작자의 경우), Seq2Seq 아키텍처를 이용하여 다이얼로그 시스템을 만들려고 한다. <br>\n",
    "게다가 챗봇이 여러 명의 클라이언트들을 상대하게 만들고 싶다..! 하지만 웹에 대해 그렇게 깊게 알고 싶진 않다 ㅠㅠ <br>\n",
    "따라서 Flask는 이러한 상황에서 아주 이상적인 툴이다."
   ]
  },
  {
   "cell_type": "markdown",
   "metadata": {},
   "source": [
    "# 목차 "
   ]
  },
  {
   "cell_type": "markdown",
   "metadata": {},
   "source": [
    "1. Getting the Hello World Application running\n",
    "2. Serving statc files\n",
    "3. Rendering Templates\n",
    "4. Receiving URL encoded parameters\n",
    "5. Basic Authentication System"
   ]
  },
  {
   "cell_type": "markdown",
   "metadata": {},
   "source": [
    "# Hello World! "
   ]
  },
  {
   "cell_type": "code",
   "execution_count": 10,
   "metadata": {
    "collapsed": false
   },
   "outputs": [
    {
     "name": "stderr",
     "output_type": "stream",
     "text": [
      " * Running on http://127.0.0.1:5001/ (Press CTRL+C to quit)\n",
      "[2016-11-08 14:29:56,617] ERROR in app: Exception on / [GET]\n",
      "Traceback (most recent call last):\n",
      "  File \"/usr/local/lib/python2.7/dist-packages/flask/app.py\", line 1988, in wsgi_app\n",
      "    response = self.full_dispatch_request()\n",
      "  File \"/usr/local/lib/python2.7/dist-packages/flask/app.py\", line 1641, in full_dispatch_request\n",
      "    rv = self.handle_user_exception(e)\n",
      "  File \"/usr/local/lib/python2.7/dist-packages/flask/app.py\", line 1544, in handle_user_exception\n",
      "    reraise(exc_type, exc_value, tb)\n",
      "  File \"/usr/local/lib/python2.7/dist-packages/flask/app.py\", line 1639, in full_dispatch_request\n",
      "    rv = self.dispatch_request()\n",
      "  File \"/usr/local/lib/python2.7/dist-packages/flask/app.py\", line 1625, in dispatch_request\n",
      "    return self.view_functions[rule.endpoint](**req.view_args)\n",
      "  File \"<ipython-input-10-b698587815e9>\", line 7, in Hello\n",
      "    return render_template(\"index.html\")\n",
      "  File \"/usr/local/lib/python2.7/dist-packages/flask/templating.py\", line 133, in render_template\n",
      "    return _render(ctx.app.jinja_env.get_or_select_template(template_name_or_list),\n",
      "  File \"/usr/lib/python2.7/dist-packages/jinja2/environment.py\", line 830, in get_or_select_template\n",
      "    return self.get_template(template_name_or_list, parent, globals)\n",
      "  File \"/usr/lib/python2.7/dist-packages/jinja2/environment.py\", line 791, in get_template\n",
      "    return self._load_template(name, self.make_globals(globals))\n",
      "  File \"/usr/lib/python2.7/dist-packages/jinja2/environment.py\", line 765, in _load_template\n",
      "    template = self.loader.load(self, name, globals)\n",
      "  File \"/usr/lib/python2.7/dist-packages/jinja2/loaders.py\", line 113, in load\n",
      "    source, filename, uptodate = self.get_source(environment, name)\n",
      "  File \"/usr/local/lib/python2.7/dist-packages/flask/templating.py\", line 57, in get_source\n",
      "    return self._get_source_fast(environment, template)\n",
      "  File \"/usr/local/lib/python2.7/dist-packages/flask/templating.py\", line 85, in _get_source_fast\n",
      "    raise TemplateNotFound(template)\n",
      "TemplateNotFound: index.html\n",
      "127.0.0.1 - - [08/Nov/2016 14:29:56] \"GET / HTTP/1.1\" 500 -\n",
      "[2016-11-08 14:29:57,346] ERROR in app: Exception on / [GET]\n",
      "Traceback (most recent call last):\n",
      "  File \"/usr/local/lib/python2.7/dist-packages/flask/app.py\", line 1988, in wsgi_app\n",
      "    response = self.full_dispatch_request()\n",
      "  File \"/usr/local/lib/python2.7/dist-packages/flask/app.py\", line 1641, in full_dispatch_request\n",
      "    rv = self.handle_user_exception(e)\n",
      "  File \"/usr/local/lib/python2.7/dist-packages/flask/app.py\", line 1544, in handle_user_exception\n",
      "    reraise(exc_type, exc_value, tb)\n",
      "  File \"/usr/local/lib/python2.7/dist-packages/flask/app.py\", line 1639, in full_dispatch_request\n",
      "    rv = self.dispatch_request()\n",
      "  File \"/usr/local/lib/python2.7/dist-packages/flask/app.py\", line 1625, in dispatch_request\n",
      "    return self.view_functions[rule.endpoint](**req.view_args)\n",
      "  File \"<ipython-input-10-b698587815e9>\", line 7, in Hello\n",
      "    return render_template(\"index.html\")\n",
      "  File \"/usr/local/lib/python2.7/dist-packages/flask/templating.py\", line 133, in render_template\n",
      "    return _render(ctx.app.jinja_env.get_or_select_template(template_name_or_list),\n",
      "  File \"/usr/lib/python2.7/dist-packages/jinja2/environment.py\", line 830, in get_or_select_template\n",
      "    return self.get_template(template_name_or_list, parent, globals)\n",
      "  File \"/usr/lib/python2.7/dist-packages/jinja2/environment.py\", line 791, in get_template\n",
      "    return self._load_template(name, self.make_globals(globals))\n",
      "  File \"/usr/lib/python2.7/dist-packages/jinja2/environment.py\", line 765, in _load_template\n",
      "    template = self.loader.load(self, name, globals)\n",
      "  File \"/usr/lib/python2.7/dist-packages/jinja2/loaders.py\", line 113, in load\n",
      "    source, filename, uptodate = self.get_source(environment, name)\n",
      "  File \"/usr/local/lib/python2.7/dist-packages/flask/templating.py\", line 57, in get_source\n",
      "    return self._get_source_fast(environment, template)\n",
      "  File \"/usr/local/lib/python2.7/dist-packages/flask/templating.py\", line 85, in _get_source_fast\n",
      "    raise TemplateNotFound(template)\n",
      "TemplateNotFound: index.html\n",
      "127.0.0.1 - - [08/Nov/2016 14:29:57] \"GET / HTTP/1.1\" 500 -\n",
      "[2016-11-08 14:30:55,319] ERROR in app: Exception on / [GET]\n",
      "Traceback (most recent call last):\n",
      "  File \"/usr/local/lib/python2.7/dist-packages/flask/app.py\", line 1988, in wsgi_app\n",
      "    response = self.full_dispatch_request()\n",
      "  File \"/usr/local/lib/python2.7/dist-packages/flask/app.py\", line 1641, in full_dispatch_request\n",
      "    rv = self.handle_user_exception(e)\n",
      "  File \"/usr/local/lib/python2.7/dist-packages/flask/app.py\", line 1544, in handle_user_exception\n",
      "    reraise(exc_type, exc_value, tb)\n",
      "  File \"/usr/local/lib/python2.7/dist-packages/flask/app.py\", line 1639, in full_dispatch_request\n",
      "    rv = self.dispatch_request()\n",
      "  File \"/usr/local/lib/python2.7/dist-packages/flask/app.py\", line 1625, in dispatch_request\n",
      "    return self.view_functions[rule.endpoint](**req.view_args)\n",
      "  File \"<ipython-input-10-b698587815e9>\", line 7, in Hello\n",
      "    return render_template(\"index.html\")\n",
      "  File \"/usr/local/lib/python2.7/dist-packages/flask/templating.py\", line 133, in render_template\n",
      "    return _render(ctx.app.jinja_env.get_or_select_template(template_name_or_list),\n",
      "  File \"/usr/lib/python2.7/dist-packages/jinja2/environment.py\", line 830, in get_or_select_template\n",
      "    return self.get_template(template_name_or_list, parent, globals)\n",
      "  File \"/usr/lib/python2.7/dist-packages/jinja2/environment.py\", line 791, in get_template\n",
      "    return self._load_template(name, self.make_globals(globals))\n",
      "  File \"/usr/lib/python2.7/dist-packages/jinja2/environment.py\", line 765, in _load_template\n",
      "    template = self.loader.load(self, name, globals)\n",
      "  File \"/usr/lib/python2.7/dist-packages/jinja2/loaders.py\", line 113, in load\n",
      "    source, filename, uptodate = self.get_source(environment, name)\n",
      "  File \"/usr/local/lib/python2.7/dist-packages/flask/templating.py\", line 57, in get_source\n",
      "    return self._get_source_fast(environment, template)\n",
      "  File \"/usr/local/lib/python2.7/dist-packages/flask/templating.py\", line 85, in _get_source_fast\n",
      "    raise TemplateNotFound(template)\n",
      "TemplateNotFound: index.html\n",
      "127.0.0.1 - - [08/Nov/2016 14:30:55] \"GET / HTTP/1.1\" 500 -\n",
      "127.0.0.1 - - [08/Nov/2016 14:31:49] \"GET / HTTP/1.1\" 200 -\n"
     ]
    }
   ],
   "source": [
    "from flask import Flask, render_template\n",
    "\n",
    "app = Flask(__name__, static_url_path=\"/static\")\n",
    "\n",
    "@app.route(\"/\")\n",
    "def Hello():\n",
    "    return render_template(\"index.html\")\n",
    "\n",
    "if (__name__ == \"__main__\"):\n",
    "    app.run(port = 5001)"
   ]
  },
  {
   "cell_type": "markdown",
   "metadata": {},
   "source": [
    "이 코드는 아주 심플하다. 임포트 해오고, 메인 함수를 정의한 후 flask app을 초기화하고 라우팅 한다. <br>\n",
    "<br>\n",
    "@app.rout(\"/\") 은 localhost:5001/ (가장 루트)일 때 아래 함수를 실행한다."
   ]
  },
  {
   "cell_type": "markdown",
   "metadata": {},
   "source": [
    "# Receiving URL encoded parameters "
   ]
  },
  {
   "cell_type": "markdown",
   "metadata": {},
   "source": [
    "## Get "
   ]
  },
  {
   "cell_type": "code",
   "execution_count": null,
   "metadata": {
    "collapsed": false
   },
   "outputs": [
    {
     "name": "stderr",
     "output_type": "stream",
     "text": [
      " * Running on http://127.0.0.1:5001/ (Press CTRL+C to quit)\n",
      "127.0.0.1 - - [08/Nov/2016 15:34:15] \"GET / HTTP/1.1\" 200 -\n",
      "127.0.0.1 - - [08/Nov/2016 15:34:24] \"POST /message HTTP/1.1\" 200 -\n",
      "127.0.0.1 - - [08/Nov/2016 15:34:28] \"POST /message HTTP/1.1\" 200 -\n",
      "127.0.0.1 - - [08/Nov/2016 15:34:36] \"POST /message HTTP/1.1\" 200 -\n",
      "127.0.0.1 - - [08/Nov/2016 15:36:30] \"POST /message HTTP/1.1\" 200 -\n",
      "Traceback (most recent call last):\n",
      "  File \"/usr/lib/python2.7/logging/__init__.py\", line 851, in emit\n",
      "    msg = self.format(record)\n",
      "  File \"/usr/lib/python2.7/logging/__init__.py\", line 724, in format\n",
      "    return fmt.format(record)\n",
      "  File \"/usr/lib/python2.7/logging/__init__.py\", line 472, in format\n",
      "    record.exc_text = self.formatException(record.exc_info)\n",
      "  File \"/usr/lib/python2.7/logging/__init__.py\", line 438, in formatException\n",
      "    traceback.print_exception(ei[0], ei[1], ei[2], None, sio)\n",
      "  File \"/usr/lib/python2.7/traceback.py\", line 125, in print_exception\n",
      "    print_tb(tb, limit, file)\n",
      "  File \"/usr/lib/python2.7/traceback.py\", line 70, in print_tb\n",
      "    if line: _print(file, '    ' + line.strip())\n",
      "  File \"/usr/lib/python2.7/traceback.py\", line 13, in _print\n",
      "    file.write(str+terminator)\n",
      "UnicodeEncodeError: 'ascii' codec can't encode characters in position 72-75: ordinal not in range(128)\n",
      "Logged from file app.py, line 1587\n",
      "127.0.0.1 - - [08/Nov/2016 15:38:28] \"POST /message HTTP/1.1\" 500 -\n",
      "127.0.0.1 - - [08/Nov/2016 15:38:33] \"POST /message HTTP/1.1\" 200 -\n",
      "127.0.0.1 - - [08/Nov/2016 15:38:40] \"POST /message HTTP/1.1\" 200 -\n",
      "127.0.0.1 - - [08/Nov/2016 15:38:48] \"POST /message HTTP/1.1\" 200 -\n",
      "127.0.0.1 - - [08/Nov/2016 15:38:50] \"POST /message HTTP/1.1\" 200 -\n",
      "127.0.0.1 - - [08/Nov/2016 15:38:58] \"POST /message HTTP/1.1\" 200 -\n",
      "127.0.0.1 - - [08/Nov/2016 15:39:00] \"POST /message HTTP/1.1\" 200 -\n",
      "127.0.0.1 - - [08/Nov/2016 15:39:02] \"POST /message HTTP/1.1\" 200 -\n",
      "127.0.0.1 - - [08/Nov/2016 15:39:52] \"POST /message HTTP/1.1\" 200 -\n",
      "127.0.0.1 - - [08/Nov/2016 15:39:59] \"POST /message HTTP/1.1\" 200 -\n",
      "127.0.0.1 - - [08/Nov/2016 15:40:40] \"POST /message HTTP/1.1\" 200 -\n",
      "127.0.0.1 - - [08/Nov/2016 15:40:55] \"POST /message HTTP/1.1\" 200 -\n",
      "127.0.0.1 - - [08/Nov/2016 15:40:59] \"POST /message HTTP/1.1\" 200 -\n",
      "127.0.0.1 - - [08/Nov/2016 15:41:07] \"POST /message HTTP/1.1\" 200 -\n",
      "127.0.0.1 - - [08/Nov/2016 15:42:00] \"POST /message HTTP/1.1\" 200 -\n",
      "127.0.0.1 - - [08/Nov/2016 15:42:06] \"POST /message HTTP/1.1\" 200 -\n",
      "127.0.0.1 - - [08/Nov/2016 15:42:28] \"POST /message HTTP/1.1\" 200 -\n",
      "127.0.0.1 - - [08/Nov/2016 15:42:32] \"POST /message HTTP/1.1\" 200 -\n",
      "127.0.0.1 - - [08/Nov/2016 15:42:38] \"POST /message HTTP/1.1\" 200 -\n"
     ]
    }
   ],
   "source": [
    "from flask import Flask, render_template, request\n",
    "from flask import jsonify\n",
    "from INTENTS import getWeather, entities\n",
    "\n",
    "\n",
    "app = Flask(__name__, static_url_path=\"/static\")\n",
    "\n",
    "@app.route('/message', methods=['POST'])\n",
    "def reply():\n",
    "    _, ent = entities.disintegrate(request.form['msg'] ,['DATE']) # DAY 단위로만,,,,\n",
    "    reply = getWeather.getWeather(ent)\n",
    "    return jsonify( { 'text':  reply} )\n",
    "\n",
    "\n",
    "@app.route(\"/\")\n",
    "def index():\n",
    "    return render_template(\"index.html\")\n",
    "\n",
    "\n",
    "\n",
    "\n",
    "if (__name__ == \"__main__\"):\n",
    "    app.run(port = 5001)"
   ]
  },
  {
   "cell_type": "markdown",
   "metadata": {},
   "source": [
    "# Basic Authentication System "
   ]
  },
  {
   "cell_type": "code",
   "execution_count": 12,
   "metadata": {
    "collapsed": false
   },
   "outputs": [
    {
     "name": "stderr",
     "output_type": "stream",
     "text": [
      " * Running on http://127.0.0.1:5000/ (Press CTRL+C to quit)\n",
      "127.0.0.1 - - [08/Nov/2016 14:39:19] \"GET / HTTP/1.1\" 401 -\n",
      "127.0.0.1 - - [08/Nov/2016 14:39:26] \"GET / HTTP/1.1\" 401 -\n",
      "127.0.0.1 - - [08/Nov/2016 14:39:30] \"GET / HTTP/1.1\" 401 -\n"
     ]
    }
   ],
   "source": [
    "from flask import Flask, render_template, request, Response\n",
    "from functools import wraps\n",
    "\n",
    "app = Flask(__name__,static_url_path=\"/static\") \n",
    "\n",
    "def check_auth(username, password):\n",
    "    return username == 'admin' and password == 'secret'\n",
    "\n",
    "def authenticate():\n",
    "    # 401 response\n",
    "    return Response('Could not verify your access level for that URL; \\n You have to login with proper credentials',\n",
    "            401,{'WWW-Authenticate': 'Basic realm=\"Login Required\"'})\n",
    "\n",
    "def requires_auth(f):\n",
    "    @wraps(f)\n",
    "    # f -> function being decorated\n",
    "    def decorated(*args, **kwargs):\n",
    "        auth = request.authorization\n",
    "        if not auth or not check_auth(auth.username, auth.password):\n",
    "            return authenticate()\n",
    "        return f(*args,**kwargs)\n",
    "    return decorated\n",
    "\n",
    "@app.route(\"/\") \n",
    "@requires_auth\n",
    "def secret_page(): \n",
    "    return render_template('index.html')\n",
    "\n",
    "\n",
    "if (__name__ == \"__main__\"): \n",
    "    app.run(port = 5000) \n",
    "\n",
    "## Reference\n",
    "# 1. http://flask.pocoo.org/snippets/8/\n",
    "##"
   ]
  },
  {
   "cell_type": "code",
   "execution_count": null,
   "metadata": {
    "collapsed": true
   },
   "outputs": [],
   "source": []
  }
 ],
 "metadata": {
  "kernelspec": {
   "display_name": "Python 2",
   "language": "python",
   "name": "python2"
  },
  "language_info": {
   "codemirror_mode": {
    "name": "ipython",
    "version": 2
   },
   "file_extension": ".py",
   "mimetype": "text/x-python",
   "name": "python",
   "nbconvert_exporter": "python",
   "pygments_lexer": "ipython2",
   "version": "2.7.6"
  }
 },
 "nbformat": 4,
 "nbformat_minor": 1
}
